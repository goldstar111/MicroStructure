{
 "cells": [
  {
   "cell_type": "markdown",
   "metadata": {
    "slideshow": {
     "slide_type": "slide"
    }
   },
   "source": [
    "## MTH 9879 Market Microstructure Models,    Spring 2016 \n",
    "\n",
    "<P>\n",
    "\n",
    "### Lecture 5: Price formation under asymmetric information: The Kyle model\n",
    "\n",
    "<p>\n",
    "Jim Gatheral   \n",
    "Department of Mathematics   \n",
    "  \n",
    "  \n",
    "<h3><img src=\"http://mfe.baruch.cuny.edu/wp-content/uploads/2014/07/BaruchLogo2.png\" align = \"left\" width=160></h3>  \n",
    "\n",
    "\n",
    "<h3><img src=\"http://mfe.baruch.cuny.edu/wp-content/uploads/2014/07/MFElogo.png\" align = \"right\" width=100></h3>\n",
    "\n",
    "\n",
    "$$\n",
    "\\newcommand{\\bea}{\\begin{eqnarray}}\n",
    "\\newcommand{\\eea}{\\end{eqnarray}}\n",
    "\\newcommand{\\supp}{\\mathrm{supp}}\n",
    "\\newcommand{\\F}{\\mathcal{F} }\n",
    "\\newcommand{\\cF}{\\mathcal{F} }\n",
    "\\newcommand{\\E}{\\mathbb{E} }\n",
    "\\newcommand{\\Eof}[1]{\\mathbb{E}\\left[ #1 \\right]}\n",
    "\\def\\Cov{{ \\mbox{Cov} }}\n",
    "\\def\\Var{{ \\mbox{Var} }}\n",
    "\\newcommand{\\1}{\\mathbf{1} }\n",
    "\\newcommand{\\p}{\\partial}\n",
    "\\newcommand{\\PP}{\\mathbb{P} }\n",
    "\\newcommand{\\Pof}[1]{\\mathbb{P}\\left[ #1 \\right]}\n",
    "\\newcommand{\\QQ}{\\mathbb{Q} }\n",
    "\\newcommand{\\R}{\\mathbb{R} }\n",
    "\\newcommand{\\DD}{\\mathbb{D} }\n",
    "\\newcommand{\\HH}{\\mathbb{H} }\n",
    "\\newcommand{\\spn}{\\mathrm{span} }\n",
    "\\newcommand{\\cov}{\\mathrm{cov} }\n",
    "\\newcommand{\\HS}{\\mathcal{L}_{\\mathrm{HS}} }\n",
    "\\newcommand{\\Hess}{\\mathrm{Hess} }\n",
    "\\newcommand{\\trace}{\\mathrm{trace} }\n",
    "\\newcommand{\\cL}{\\mathcal{L} }\n",
    "\\newcommand{\\cG}{\\mathcal{G} }\n",
    "\\newcommand{\\Xv}{X^{(v)}}\n",
    "\\newcommand{\\s}{\\mathcal{S} }\n",
    "\\newcommand{\\cE}{\\mathcal{E} }\n",
    "\\newcommand{\\ff}{\\mathcal{F} }\n",
    "\\newcommand{\\hh}{\\mathcal{H} }\n",
    "\\newcommand{\\bb}{\\mathcal{B} }\n",
    "\\newcommand{\\dd}{\\mathcal{D} }\n",
    "\\newcommand{\\g}{\\mathcal{G} }\n",
    "\\newcommand{\\half}{\\frac{1}{2} }\n",
    "\\newcommand{\\T}{\\mathcal{T} }\n",
    "\\newcommand{\\bit}{\\begin{itemize}}\n",
    "\\newcommand{\\eit}{\\end{itemize}}\n",
    "\\newcommand{\\beq}{\\begin{equation}}\n",
    "\\newcommand{\\eeq}{\\end{equation}}\n",
    "\\newcommand{\\beas}{\\begin{eqnarray*}}\n",
    "\\newcommand{\\eeas}{\\end{eqnarray*}}\n",
    "\\newcommand{\\tr}{\\mbox{tr}}\n",
    "\\newcommand{\\ee}[1]{{\\mathbb{E}\\left[{#1}\\right]}}\n",
    "\\newcommand{\\eef}[1]{{\\mathbb{E}\\left[\\left.{#1}\\right|\\cF_t\\right]}}\n",
    "\\newcommand{\\eefm}[2]{{\\mathbb{E}^{#2}\\left[\\left.{#1}\\right|\\cF_t\\right]}}\n",
    "\\newcommand{\\angl}[1]{{\\langle{#1}\\rangle}}\n",
    "$$\n",
    "\n"
   ]
  },
  {
   "cell_type": "markdown",
   "metadata": {
    "slideshow": {
     "slide_type": "slide"
    }
   },
   "source": [
    "## Outline of Lecture 5\n",
    "\n",
    "-   Bayesian learning\n",
    "\n",
    "-   Asymmetric information\n",
    "\n",
    "-   Equilibrium price under naïve expectations\n",
    "\n",
    "-   Asymmetric information under perfect competition: The\n",
    "    Grossman-Stiglitz (1980) model\n",
    "\n",
    "-   Rational expectations with strategic traders under imperfect\n",
    "    competition: The Kyle model\n",
    "\n",
    "-   Linear regression and rational expectations\n",
    "\n"
   ]
  },
  {
   "cell_type": "markdown",
   "metadata": {
    "slideshow": {
     "slide_type": "slide"
    }
   },
   "source": [
    "### Price formation\n",
    "\n",
    "-   According to classical economics, supply and demand are matched at\n",
    "    the efficient price (though the mechanism is unclear). Information\n",
    "    is symmetric.\n",
    "\n",
    "\n",
    "-   In reality, some traders have more or better information than\n",
    "    others. That is, information is asymmetric.\n",
    "\n",
    "    -   Even in a purely mechanical model such as ZI, there are trading\n",
    "        signals. Faster and better traders have an advantage.\n",
    "\n",
    "    -   This informational advantage requires investment. For example,\n",
    "        gaining a latency advantage requires collocation.\n",
    "\n",
    "\n",
    "-   How does this information get impounded into prices?\n",
    "\n"
   ]
  },
  {
   "cell_type": "markdown",
   "metadata": {
    "slideshow": {
     "slide_type": "slide"
    }
   },
   "source": [
    "### CARA utility again\n",
    "\n",
    "-   <span>CARA stands for *<span>Constant Absolute Risk\n",
    "    Aversion</span>*</span>.\n",
    "\n",
    "\n",
    "-   <span>The utility function is $$U(W)=-e^{-\\lambda\\,W}$$ </span>\n",
    "\n",
    "\n",
    "-   <span>If $W$ is normally distributed,\n",
    "    $$\\mathbb{E} \\left[U(W)\\right]=\\mathbb{E} \\left[-e^{-\\alpha\\,W}\\right]=-\\exp\\left\\{-\\alpha\\,\\left(\\mathbb{E} [W]-\\alpha/2\\,\\mbox{Var}[W]\\right)\\right\\}$$\n",
    "    so maximizing CARA utility is equivalent to maximizing\n",
    "    $$\\mathcal{L} (W)=\\mathbb{E} [W]-\\alpha/2\\,\\mbox{Var}[W]$$ which is just\n",
    "    mean-variance optimization. </span>\n",
    "\n",
    "\n",
    "-   <span>$\\mathbb{E} [W]-\\alpha/2\\,\\mbox{Var}[W]$ is called the\n",
    "    <span>*certainty equivalent*</span> of $W$.</span>\n",
    "\n"
   ]
  },
  {
   "cell_type": "markdown",
   "metadata": {
    "slideshow": {
     "slide_type": "slide"
    }
   },
   "source": [
    "### Trader demand under CARA utility\n",
    "\n",
    "Let $p$ be the current asset price and $\\tilde S$ be the terminal asset\n",
    "price with $\\tilde S \\sim N(\\mu,\\sigma^2)$.\n",
    "\n",
    "The trader is assumed to maximize utility of terminal wealth\n",
    "$W=y\\,(\\tilde S-p)$:\n",
    "\n",
    "\\begin{eqnarray*}\n",
    "0&=&\\partial_y\\,\\left\\{\\mathbb{E} [y\\,(\\tilde S-p)]-\\frac 12\\,\\alpha\\,\\mbox{Var}[y\\,\\tilde S]\\right\\}\\\\\n",
    "&=&\\partial_y\\,\\left\\{y\\,(\\mu-p)-\\frac 12\\,\\alpha\\,y^2\\,\\sigma^2\\right\\}\\\\\n",
    "&=&\\mu-p-\\alpha\\,y\\,\\sigma^2\\end{eqnarray*}"
   ]
  },
  {
   "cell_type": "markdown",
   "metadata": {
    "slideshow": {
     "slide_type": "subslide"
    }
   },
   "source": [
    "Then the optimal trader demand $y$ is given by\n",
    "$$y=\\frac{\\mathbb{E} [\\tilde S]-p}{\\alpha\\,\\sigma^2}=\\frac{\\mu-p}{\\alpha\\,\\sigma^2}.$$"
   ]
  },
  {
   "cell_type": "markdown",
   "metadata": {
    "slideshow": {
     "slide_type": "slide"
    }
   },
   "source": [
    "### Bayes’ Rule for continuous random variables\n",
    "\n",
    "-   Suppose the trader has a prior belief on the parameter $ y$\n",
    "    described by the distribution $g( y)$.\n",
    "\n",
    "\n",
    "-   This trader then makes an observation $x$ (such as a trade price).\n",
    "\n",
    "    -   Denote the conditional density of $x$ by $f(x| y)$.\n",
    "\n",
    "\n",
    "-   Then because $$g( y|x)\\,f(x)=f(x| y)\\,g( y),$$ we have"
   ]
  },
  {
   "cell_type": "markdown",
   "metadata": {
    "slideshow": {
     "slide_type": "subslide"
    }
   },
   "source": [
    "#### <font color=\"red\">Bayes’ Rule\n",
    "    \n",
    "<font color=\"red\"><a name=\"eq:BayesCts\"></a>(1)\n",
    "    $$g( y|x)=\\frac{f(x| y)\\,g( y)}{f(x)}=\\frac{f(x| y)\\,g( y)}{\\int\\,f(x| y)\\,g( y)\\,d y}$$"
   ]
  },
  {
   "cell_type": "markdown",
   "metadata": {
    "slideshow": {
     "slide_type": "slide"
    }
   },
   "source": [
    "### Bayes’ Rule for normal random variables\n",
    "\n",
    "Suppose\n",
    "\n",
    "$$g( y)=\\frac{1}{\\sqrt{2\\,\\pi}\\,\\sigma_ y}\\,\\exp\\left\\{-\\frac{( y-\\bar y)^2}{2\\,\\sigma_ y^2}\\right\\}$$\n",
    "\n",
    "and\n",
    "\n",
    "$$f(x| y)=\\frac{1}{\\sqrt{2\\,\\pi}\\,\\sigma_x}\\,\\exp\\left\\{-\\frac{(x- y)^2}{2\\,\\sigma_x^2}\\right\\}.$$"
   ]
  },
  {
   "cell_type": "markdown",
   "metadata": {
    "slideshow": {
     "slide_type": "subslide"
    }
   },
   "source": [
    "Substituting into [(1)](#eq:BayesCts) gives\n",
    "\n",
    "$$g( y|x)=\\sqrt{\\frac{\\tau_ y+\\tau_x}{2\\,\\pi}}\\,\\exp\\left\\{-\\frac{\\left( y - \\beta \\,x - (1-\\beta)\\,\\bar y\\right)^2}{2\\,(1-\\beta)\\,\\sigma_ y^2}\\right\\}$$\n",
    "\n",
    "where $\\tau_i={1}/{\\sigma_i^2}$ is <span>*precision*</span> and\n",
    "\n",
    "$$\\beta=\\frac{\\tau_x}{\\tau_ y+\\tau_x}.$$"
   ]
  },
  {
   "cell_type": "markdown",
   "metadata": {
    "slideshow": {
     "slide_type": "slide"
    }
   },
   "source": [
    "### The filter (a simple Kalman filter)\n",
    "\n",
    "<p>\n",
    "\n",
    "<font color=\"red\">So, if $ y \\sim N(\\bar y,\\sigma_ y^2)$ and $x| y \\sim N( y,\\sigma_x^2)$,</font>\n",
    "<br>\n",
    "\n",
    "<font color=\"red\"><a name=\"eq:normalFilter\"></a>\n",
    "(2)\n",
    "$$y|x \\sim N(\\beta\\,x+(1-\\beta)\\,\\bar y,(1-\\beta)\\,\\sigma_ y^2)$$\n",
    "</font>"
   ]
  },
  {
   "cell_type": "markdown",
   "metadata": {
    "slideshow": {
     "slide_type": "subslide"
    }
   },
   "source": [
    "-   If both prior and observation distributions are normal, the\n",
    "    posterior distribution will also be normal.\n",
    "\n",
    "    -   The mean of the posterior distribution is a linear combination\n",
    "        of the prior mean and the observation, with weights proportional\n",
    "        to their precisions.\n",
    "\n",
    "    -   The variance of the posterior is lower than both the variance of\n",
    "        the prior and the variance of the measurement.\n",
    "\n",
    "\n",
    "-   As we make more observations, the true value of the variable of\n",
    "    interest is progressively revealed."
   ]
  },
  {
   "cell_type": "markdown",
   "metadata": {
    "slideshow": {
     "slide_type": "slide"
    }
   },
   "source": [
    "### A model with asymmetric information\n",
    "\n",
    "-   Consider a model with a single risky asset (a stock).\n",
    "\n",
    "\n",
    "-   There are $N_i$ informed traders, $N_u$ uninformed traders, and\n",
    "    $N_z$ noise traders. They have demand functions $y_i$, $y_u$ and\n",
    "    $y_z$ respectively with $$y_z \\sim N(0,\\sigma_z^2).$$\n",
    "\n",
    "\n",
    "-   Agents hold a prior distribution on the expected future value\n",
    "    $\\tilde S$ of the asset: $$\\tilde S \\sim N(\\mu,\\sigma^2).$$"
   ]
  },
  {
   "cell_type": "markdown",
   "metadata": {
    "slideshow": {
     "slide_type": "subslide"
    }
   },
   "source": [
    "-   Agents do not take into account market impact when trading.\n",
    "\n",
    "\n",
    "-   At time $t=0$, informed traders receive a signal $x$ on $\\tilde S$ which\n",
    "    is drawn from the distribution\n",
    "    $$x|\\tilde S \\sim N(\\tilde S,\\sigma_x^2)$$"
   ]
  },
  {
   "cell_type": "markdown",
   "metadata": {
    "slideshow": {
     "slide_type": "slide"
    }
   },
   "source": [
    "### Computation of trader demands for the asset\n",
    "\n",
    "-   As above, an application of Bayes’ Rule then shows that\n",
    "    $$\\tilde S|x \\sim N(\\beta\\,x+(1-\\beta)\\,\\mu,(1-\\beta)\\,\\sigma^2)$$\n",
    "    with $$\\beta=\\frac{\\tau_x}{\\tau_S+\\tau_x}$$\n",
    "\n",
    "\n",
    "-   At $t=1$, trading takes place."
   ]
  },
  {
   "cell_type": "markdown",
   "metadata": {
    "slideshow": {
     "slide_type": "subslide"
    }
   },
   "source": [
    "-   Optimal trader demand assuming CARA utility (see above) is given by\n",
    "    $$y_u=\\frac{\\mathbb{E} [\\tilde S]-p}{\\alpha\\,\\mbox{Var}[\\tilde S]};\\,y_i=\\frac{\\mathbb{E} [\\tilde S|x]-p}{\\alpha\\,\\mbox{Var}[\\tilde S|x]}$$\n",
    "\n",
    "\n",
    "-   At $t=2$, the value of the asset is revealed and becomes public\n",
    "    information."
   ]
  },
  {
   "cell_type": "markdown",
   "metadata": {
    "slideshow": {
     "slide_type": "slide"
    }
   },
   "source": [
    "### Equilibrium price under naïve expectations\n",
    "\n",
    "The market clearing condition is just \n",
    "\n",
    "$$N_i\\,y_i+N_u\\,y_u+N_z\\,y_z=0$$\n",
    "\n",
    "so\n",
    "\n",
    "$$N_i\\,\\frac{\\mathbb{E} [\\tilde S|x]-p}{\\alpha\\,\\mbox{Var}[\\tilde S|x]}+N_u\\,\\frac{\\mathbb{E} [\\tilde S]-p}{\\alpha\\,\\mbox{Var}[\\tilde S]}+N_z\\,y_z=0$$"
   ]
  },
  {
   "cell_type": "markdown",
   "metadata": {
    "slideshow": {
     "slide_type": "subslide"
    }
   },
   "source": [
    "Solving for $p$ gives an expression of the form\n",
    "\n",
    "$$p=\\theta\\,\\mathbb{E} [\\tilde S|x]+(1-\\theta)\\,\\mu+\\lambda\\,y_z$$\n",
    "\n",
    "Substituting $\n",
    "\\mathbb{E} [\\tilde S|x]=\\beta\\,x+(1-\\beta)\\,\\mu=\\mu+\\beta\\,(x-\\mu)\n",
    "$ gives\n",
    "\n",
    "<a name=\"eq:pNaive\"></a>(3)\n",
    "$$p=\\mu+\\beta\\,\\theta\\,(x-\\mu)+\\lambda\\,y_z$$"
   ]
  },
  {
   "cell_type": "markdown",
   "metadata": {
    "slideshow": {
     "slide_type": "subslide"
    }
   },
   "source": [
    "\n",
    "\n",
    "The last term in [(3)](#eq:pNaive) is just noise and the product $\\beta\\,\\theta \\leq 1$ so\n",
    "the equilibrium price $p$ is a noisy version of the signal $x$.\n",
    "\n",
    "-   If there are only informed traders, $p=\\mathbb{E} [\\tilde S|x]$.\n",
    "\n",
    "-   If there are only uninformed traders, $p=\\mathbb{E} [\\tilde S]=\\mu$.\n",
    "\n",
    "-   If there are only noise traders, the price is undetermined.\n",
    "\n",
    "In this version of the model, uninformed traders don’t update their\n",
    "prior using information contained in the market price. That’s why this\n",
    "equilibrium is termed <span>*naïve*</span>.\n",
    "\n",
    "-   Let’s now see what happens under rational expectations.\n",
    "\n"
   ]
  },
  {
   "cell_type": "markdown",
   "metadata": {
    "slideshow": {
     "slide_type": "slide"
    }
   },
   "source": [
    "### Grossman and Stiglitz (1980)\n",
    "\n",
    "-   The setup is as before: Both $\\mathcal{I} $ and $\\mathcal{U} $ have\n",
    "    CARA utility, $\\tilde S \\sim N(\\mu,\\sigma^2)$ is unknown, and\n",
    "    $\\mathcal{I} $ receives a signal $x \\sim N(\\tilde S, \\sigma_x^2)$.\n",
    "\n",
    "\n",
    "-   In contrast to the naïve equilibrium case however, $\\mathcal{U} $\n",
    "    updates his prior after observing the market price. Quoting Grossman\n",
    "    and Stiglitz (but with our notation),\n",
    "\n",
    "    > If over time uninformed traders observe many realizations of\n",
    "    > $\\{\\tilde S, p\\}$, then they learn the joint distribution of\n",
    "    > $\\{\\tilde S, p\\}$. After all learning about the joint distribution\n",
    "    > of $\\{\\tilde S, p\\}$ ceases, all traders will make allocations and\n",
    "    > form expectations such that this joint distribution persists over\n",
    "    > time.\n",
    "\n"
   ]
  },
  {
   "cell_type": "markdown",
   "metadata": {
    "slideshow": {
     "slide_type": "slide"
    }
   },
   "source": [
    "### Fully revealing rational expectations equilibrium (REE)\n",
    "\n",
    "-   From equation [(3)](#eq:pNaive), with no noise trading ($y_z=0$),\n",
    "    $$p=\\mu+\\beta\\,\\theta\\,(x-\\mu)$$ so $\\mathcal{U} $ can obtain the\n",
    "    value of $x$ by regression.\n",
    "\n",
    "-   The informed trader $\\mathcal I$’s signal $x$ can be perfectly inferred by\n",
    "    $\\mathcal{U} $ from the price $p$.\n",
    "\n",
    "    -   Thus the equilibrium is <span>*fully revealing*</span>.\n",
    "\n",
    "    -   $y_i=y_u=0$ and there is no trading."
   ]
  },
  {
   "cell_type": "markdown",
   "metadata": {
    "slideshow": {
     "slide_type": "subslide"
    }
   },
   "source": [
    "-   The equilibrium price is given by\n",
    "\n",
    "    <a name=\"eq:pREE\"></a>(4)\n",
    "    $$p=\\mathbb{E} [\\tilde S|x].$$\n",
    "\n",
    "\n",
    "-   Prices are strong-form efficient because they fully incorporate\n",
    "    public and private information."
   ]
  },
  {
   "cell_type": "markdown",
   "metadata": {
    "slideshow": {
     "slide_type": "slide"
    }
   },
   "source": [
    "### The need for noise traders\n",
    "\n",
    "-   The realization that under the Efficient Markets hypothesis,\n",
    "    uninformed traders can learn the signal at zero cost from the market\n",
    "    price was the motivation for Grossman and Stiglitz (1980) to\n",
    "    introduce a random noise trader demand $y_z$.\n",
    "\n",
    "    -   If all information is fully impounded in the price, informed\n",
    "        traders conclude they should pay nothing for information. But\n",
    "        then there are no informed traders and there is no equilibrium.\n",
    "\n",
    "    -   Having no one informed is also not an equilibrium, because then\n",
    "        each trader, taking the price as given, feels that there are\n",
    "        profits to be made from becoming informed."
   ]
  },
  {
   "cell_type": "markdown",
   "metadata": {
    "slideshow": {
     "slide_type": "subslide"
    }
   },
   "source": [
    "-   With the random demand $y_z$, the market clearing condition becomes\n",
    "\n",
    "    <a name=\"eq:GS80-2\"></a>(5)\n",
    "    $$y_u+y_i+y_z=0$$\n",
    "\n",
    "    and $x$ can no longer be inferred perfectly from $p$."
   ]
  },
  {
   "cell_type": "markdown",
   "metadata": {
    "slideshow": {
     "slide_type": "slide"
    }
   },
   "source": [
    "### Another quote from Grossman and Stiglitz\n",
    "\n",
    "> The only way informed traders can earn a return on their activity of\n",
    "> information gathering, is if they can use their information to take\n",
    "> positions in the market which are “better” than the positions of\n",
    "> uninformed traders. “Efficient Markets” theorists have claimed that\n",
    "> “at any time prices fully reflect all available information” (see\n",
    "> Eugene Fama, p. 383). If this were so then informed traders could not\n",
    "> earn a return on their information.\n",
    "\n"
   ]
  },
  {
   "cell_type": "markdown",
   "metadata": {
    "slideshow": {
     "slide_type": "slide"
    }
   },
   "source": [
    "### Imperfect vs perfect competition\n",
    "\n",
    "Grossman and Stiglitz assume perfect competition. Under this assumption,\n",
    "traders are schizophrenic:\n",
    "\n",
    "-   They don’t consider the effect of their own trades on the market\n",
    "    price.\n",
    "\n",
    "Kyle addressed this problem by introducing the notion of\n",
    "<span>*imperfect competition*</span>. With this assumption\n",
    "\n",
    "-   Traders do factor in the effect of their trading on the market\n",
    "    price.\n",
    "\n",
    "-   Prices cannot reveal more than half the information available to\n",
    "    insiders (at least in the one-step model)."
   ]
  },
  {
   "cell_type": "markdown",
   "metadata": {
    "slideshow": {
     "slide_type": "subslide"
    }
   },
   "source": [
    "To quote Kyle:\n",
    "\n",
    "> ...the competitive rational expectations concept requires each trader\n",
    "> to behave “schizophrenically” by taking the equilibrium price as given\n",
    "> when making his trading decision, even though he influences that price\n",
    "> when he trades."
   ]
  },
  {
   "cell_type": "markdown",
   "metadata": {
    "slideshow": {
     "slide_type": "slide"
    }
   },
   "source": [
    "### Kyle (1985)\n",
    "\n",
    "-   There is a single informed trader who trades strategically.\n",
    "\n",
    "    -   When computing his optimal course of action, this trader takes\n",
    "        into account the rational reactions of other traders.\n",
    "\n",
    "\n",
    "-   This informed trader sets his trade sizes taking cost of execution\n",
    "    into account."
   ]
  },
  {
   "cell_type": "markdown",
   "metadata": {
    "slideshow": {
     "slide_type": "subslide"
    }
   },
   "source": [
    "-   In the multiperiod version, the trader can return to the market,\n",
    "    spreading out his trades over time.\n",
    "\n",
    "    -   This feature of the model is particularly relevant now with\n",
    "        small ticks and fragmented markets leading to only very small\n",
    "        size typically available on each side of the market.\n",
    "\n",
    "    -   A trader with large size to trade must split the trade into\n",
    "        smaller pieces."
   ]
  },
  {
   "cell_type": "markdown",
   "metadata": {
    "slideshow": {
     "slide_type": "slide"
    }
   },
   "source": [
    "### Kyle model setup\n",
    "\n",
    "-   One asset economy.\n",
    "\n",
    "\n",
    "-   One informed trader, a group of risk-neutral market makers, and a\n",
    "    group of uninformed (liquidity) traders.\n",
    "\n",
    "\n",
    "-   At time $t=0$, the informed trader (insider) discovers what the\n",
    "    final price $\\tilde S$ will be.\n",
    "\n",
    "\n",
    "-   All traders know the distribution of $\\tilde S$:\n",
    "    $$\\tilde S \\sim N(\\mu,\\sigma^2).$$\n",
    "\n",
    "\n",
    "-   At time $t=1$, uninformed (liquidity) traders submit a random net\n",
    "    demand $y_u \\sim N(0,\\sigma_u^2)$, independent of $\\tilde S$.\n",
    "\n"
   ]
  },
  {
   "cell_type": "markdown",
   "metadata": {
    "slideshow": {
     "slide_type": "subslide"
    }
   },
   "source": [
    "\n",
    "-   Competition drives market makers to offer the price function\n",
    "    $$p(y)=\\mathbb{E} [\\tilde S|y]$$ so that expected profits are\n",
    "    $$\\mathbb{E} [(p(y)-\\tilde S)\\,y|y]=0.$$\n",
    "\n",
    "    -   The market makers know that there are informed traders.\n",
    "\n",
    "    -   However, they see only the aggregate order flow $y=y_i+y_u$.\n",
    "        They cannot distinguish between informed and uninformed flow."
   ]
  },
  {
   "cell_type": "markdown",
   "metadata": {
    "slideshow": {
     "slide_type": "subslide"
    }
   },
   "source": [
    "-   If there were no informed traders, the price function would be\n",
    "    $$p(y)=\\mathbb{E} [\\tilde S|y_u]=\\mathbb{E} [\\tilde S]=\\mu$$ which\n",
    "    is independent of size so the market would be infinitely deep."
   ]
  },
  {
   "cell_type": "markdown",
   "metadata": {
    "slideshow": {
     "slide_type": "slide"
    }
   },
   "source": [
    "### A market mechanism\n",
    "\n",
    "-   In the above, we just assume that the market mechanism will drive\n",
    "    market maker profits to zero (<span>*perfect competition*</span>).\n",
    "\n",
    "\n",
    "-   On page 137 of [Foucault, Pagano and Röell]<sup id=\"cite_ref-FPR\" class=\"reference\"><a href=\"#cite_note-FPR\"><span>[</span>2<span>]</span></a></sup>, there is a nice explanation of a possible\n",
    "    mechanism by which perfect competition might be achieved:\n",
    "\n",
    "    -   The entire order flow $y = y_i+y_u$ is displayed to the market\n",
    "        makers.\n",
    "\n",
    "    -   Each market maker responds with his price for executing the\n",
    "        order in full. The entire flow will be routed to the market\n",
    "        maker with the best price.\n",
    "\n",
    "    -   Market makers undercut each other until the zero-profit price\n",
    "        $p(y)=\\mathbb{E} [\\tilde S|y]$ is reached."
   ]
  },
  {
   "cell_type": "markdown",
   "metadata": {
    "slideshow": {
     "slide_type": "subslide"
    }
   },
   "source": [
    "-   Note that the price achieved depends in general on the market\n",
    "    mechanism."
   ]
  },
  {
   "cell_type": "markdown",
   "metadata": {
    "slideshow": {
     "slide_type": "slide"
    }
   },
   "source": [
    "### Characterization of equilibrium\n",
    "\n",
    "Traders are risk-neutral. In equilibrium,\n",
    "\n",
    "-   Market makers ($\\mathcal{M} $) maximize expected profits (in fact, market makers \"set price\" because under perfect competition they have zero expected profit) conditional\n",
    "    on the observed order flow.\n",
    "\n",
    "    -   The order flow has an informed component so $\\mathcal{M} $ can\n",
    "        extract information about the price.\n",
    "\n",
    "\n",
    "-   The informed trader ($\\mathcal{I} $) sets $y_i$ so as to maximize\n",
    "    his expected profit given his rational expectation of the impact of\n",
    "    his order on the market price.\n",
    "\n",
    "    -   $\\mathcal{I} $ knows that his order flow will end up giving\n",
    "        information to $\\mathcal{M} $.\n",
    "\n"
   ]
  },
  {
   "cell_type": "markdown",
   "metadata": {
    "slideshow": {
     "slide_type": "subslide"
    }
   },
   "source": [
    "### The informed trader’s strategy\n",
    "\n",
    "-   $\\mathcal{I} $ chooses his demand function $y_i$ so as to maximize\n",
    "    his expected profit $$\\mathbb{E} [y_i\\,(\\tilde S-p(y))|\\tilde S].$$\n",
    "    His optimal strategy thus depends on $p(y)$.\n",
    "\n",
    "\n",
    "-   $\\mathcal{I} $ conjectures that the pricing function set by\n",
    "    $\\mathcal{M} $ is of the form $$p(y)=\\mu+\\lambda\\,y, $$\n",
    "    i.e., half spread is proportional to the total demand. "
   ]
  },
  {
   "cell_type": "markdown",
   "metadata": {
    "slideshow": {
     "slide_type": "subslide"
    }
   },
   "source": [
    "-   $\\mathcal{I} $’s expected profit is then\n",
    "    $$\\mathbb{E} [y_i\\,(\\tilde S-p(y))|\\tilde S] = \\mathbb{E} [y_i\\,(\\tilde S- \\mu - \\lambda(y_i + y_u))|\\tilde S]\\\\ = y_i\\,(\\tilde S-\\mu-\\lambda\\,y_i)$$\n",
    "    since the uninformed demand $y_u$ is independent of $\\tilde S$ and has mean 0.\n",
    "\n",
    "\n",
    "-   Maximizing with respect to $y_i$ then gives $\\mathcal{I} $’s optimal demand as\n",
    "    $$y_i=\\frac{\\tilde S-\\mu}{2\\,\\lambda}.$$"
   ]
  },
  {
   "cell_type": "markdown",
   "metadata": {
    "slideshow": {
     "slide_type": "slide"
    }
   },
   "source": [
    "### The Kyle lambda\n",
    "\n",
    "-   Recall that $$p(y)=\\mu+\\lambda\\,y.$$\n",
    "\n",
    "\n",
    "-   The <span>*Kyle lambda*</span> $\\lambda$ is a measure of market\n",
    "    liquidity;\n",
    "\n",
    "    -   The lower $\\lambda$ is, the more liquid the market.\n",
    "\n",
    "    -   Equivalently, $\\lambda$ is a market impact coefficient in a\n",
    "        linear model of market impact. The higher $\\lambda$ is, the\n",
    "        greater the market impact of a trade.\n",
    "\n",
    "    -   The Kyle lambda may be viewed as the definition of a market\n",
    "        statistic. Empirically, $\\lambda$ is the slope in a linear\n",
    "        regression of $p$ against $y$."
   ]
  },
  {
   "cell_type": "markdown",
   "metadata": {
    "slideshow": {
     "slide_type": "subslide"
    }
   },
   "source": [
    "Quote from Kyle (1985)\n",
    "\n",
    "> Roughly speaking, Black defines a liquid market as one which is almost infinitely tight, which is not infinitely deep, and which is resilient enough so that prices eventually tend to their underlying value. \n",
    "\n",
    "> Our continuous auction equilibrium has exactly the characteristics described by Black. Furthermore, these aspects of market liquidity acquire a new prominence in our model because the insider, who does not trade as a perfect competitor, must make rational conjectures about tightness, depth, and resiliency in choosing his optimal quantity to trade. "
   ]
  },
  {
   "cell_type": "markdown",
   "metadata": {
    "slideshow": {
     "slide_type": "slide"
    }
   },
   "source": [
    "### The market markers’ pricing strategy\n",
    "\n",
    "-   $\\mathcal{M} $ conjectures that $\\mathcal{I} $’s demand function is\n",
    "    of the form $$y_i=a+b\\,\\tilde S.$$\n",
    "\n",
    "\n",
    "-   Knowing the optimization process followed by $\\mathcal{I} $,\n",
    "    $\\mathcal{M} $ can solve for $a$ and $b$:\n",
    "    $$y_i=\\frac{\\tilde S-\\mu}{2\\,\\lambda}=a+b\\,\\tilde S \\quad \\forall \\tilde S$$\n",
    "    So\n",
    "\n",
    "    <a name=\"eq:mConjecture\"></a>(6)\n",
    "    $$a= -\\frac{\\mu}{2\\,\\lambda} \\text { and } b= \\frac{1}{2\\,\\lambda}.$$\n",
    "\n",
    "    In particular, $\\mathcal{I} $ trades less as $\\lambda$ increases."
   ]
  },
  {
   "cell_type": "markdown",
   "metadata": {
    "slideshow": {
     "slide_type": "subslide"
    }
   },
   "source": [
    "-   $\\mathcal{M} $ sets the pricing function as\n",
    "    $$p(y)=\\mu+\\lambda\\,y=\\mathbb{E} [\\tilde S|y]$$ so we need to\n",
    "    compute $\\mathbb{E} [\\tilde S|y]$."
   ]
  },
  {
   "cell_type": "markdown",
   "metadata": {
    "slideshow": {
     "slide_type": "slide"
    }
   },
   "source": [
    "### Bivariate normal projection\n",
    "\n",
    "Let $x$ and $y$ be bivariate normally distributed and consider the\n",
    "regression \n",
    "\n",
    "$$y-\\ee{y} = \\beta\\,\\left( x - \\ee{x}\\right)+\\epsilon \\text{ with } x \\perp \\epsilon.$$\n",
    "\n",
    "Then \n",
    "\n",
    "$$\\beta  = \\frac{\\mbox{Cov}[ y,x]}{\\mbox{Var}[x]}$$ \n",
    "\n",
    "and we obtain"
   ]
  },
  {
   "cell_type": "markdown",
   "metadata": {
    "slideshow": {
     "slide_type": "subslide"
    }
   },
   "source": [
    "#### <font color=\"red\"> Normal regression\n",
    "<font color=\"red\">\n",
    "<a name=\"eq:regression\"></a>(7)\n",
    "\\begin{eqnarray*}\n",
    "\\mathbb{E} [y| x]&=&\\mathbb{E} [y]+\\beta\\,\\left(x-\\mathbb{E} [x]\\right)\\nonumber\\\\\n",
    "\\mbox{Var}[y|x]&=&\\mbox{Var}[y]-\\beta^2\\,\\mbox{Var}[x].\n",
    "\\end{eqnarray*}"
   ]
  },
  {
   "cell_type": "markdown",
   "metadata": {
    "slideshow": {
     "slide_type": "slide"
    }
   },
   "source": [
    "### Regression of $\\tilde S$ against $y$\n",
    "\n",
    "-   Recall that $\\tilde S \\sim N(\\mu,\\sigma^2)$ and\n",
    "    $y_u\\sim N(0,\\sigma_u^2)$.\n",
    "\n",
    "\n",
    "-   Also, $y_i=a+b\\,\\tilde S$ must be normal.\n",
    "\n",
    "\n",
    "-   To compute $\\mathbb{E} [\\tilde S|y]$, we regress $\\tilde S$ against\n",
    "    $y$ using [(7)](#eq:regression):\n",
    "    \n",
    "    <font color=\"red\">\n",
    "    <a name=\"eq:normalProjection\"></a>(8)\n",
    "    $$\\mathbb{E} [\\tilde S|y]=\\mathbb{E} [\\tilde S]+\\frac{\\mbox{Cov}[\\tilde S,y]}{\\mbox{Var}[y]}\\left(y-\\mathbb{E} [y]\\right)$$\n",
    "    </font>\n",
    "\n",
    "\n",
    "-   The variance and covariance are given by\n",
    "    $$\\mbox{Var}[y]=\\sigma_u^2+b^2\\,\\sigma^2 \\text{ and } \\mbox{Cov}[\\tilde S,y]=b\\,\\sigma^2.$$"
   ]
  },
  {
   "cell_type": "markdown",
   "metadata": {
    "slideshow": {
     "slide_type": "slide"
    }
   },
   "source": [
    "### Computation of equilibrium\n",
    "\n",
    "Substituting back into [(8)](#eq:normalProjection) gives\n",
    "\n",
    "<a name=\"eq:eq1\"></a>(9)\n",
    "$$\\mathbb{E} [\\tilde S|y]=\\mu+\\frac{b\\,\\sigma^2}{\\sigma_u^2+b^2\\,\\sigma^2}\\,y$$\n",
    "\n",
    "Also\n",
    "\n",
    "<a name=\"eq:eq2\"></a>(10)\n",
    "$$p(y)=\\mu+\\lambda\\,y=\\mathbb{E} [\\tilde S|y]$$"
   ]
  },
  {
   "cell_type": "markdown",
   "metadata": {
    "slideshow": {
     "slide_type": "subslide"
    }
   },
   "source": [
    "Equating [(9)](#eq:eq1) and [(10)](#eq:eq2) and solving for all $y$ gives\n",
    "\n",
    "$$\\lambda = \\frac{b\\,\\sigma^2}{\\sigma_u^2+b^2\\,\\sigma^2}.$$ \n",
    "\n",
    "Also, recall\n",
    "that $\\mathcal{M} $’s conjecture [(6)](#eq:mConjecture) about $\\mathcal{I} $’s demand gives\n",
    "\n",
    "$$b=\\frac{1}{2\\,\\lambda}$$"
   ]
  },
  {
   "cell_type": "markdown",
   "metadata": {
    "slideshow": {
     "slide_type": "slide"
    }
   },
   "source": [
    "### Final result and intuition\n",
    "\n",
    "Equating these last two and solving for $b$ and $\\lambda$ gives\n",
    "\n",
    "<p>\n",
    "\n",
    "#### <font color=\"red\">Optimal choice of $\\lambda$\n",
    "\n",
    "<font color=\"red\">$$b = \\frac{\\sigma_u}{\\sigma} \\text{ and } \\lambda=\\frac{1}{2}\\,\\frac{\\sigma}{\\sigma_u}$$</font>\n",
    "\n",
    "\n",
    "Intuition is as follows:\n",
    "\n",
    "-   The greater the demand of uninformed traders (as proxied by\n",
    "    $\\sigma_u$), the smaller the proportion of informed trading on\n",
    "    average and the less the adverse selection faced by $\\mathcal{M} $.\n",
    "\n"
   ]
  },
  {
   "cell_type": "markdown",
   "metadata": {
    "slideshow": {
     "slide_type": "slide"
    }
   },
   "source": [
    "### Informed trader’s profit\n",
    "\n",
    "The informed trader’s expected profit is\n",
    "\n",
    "$$\\mathbb{E} [y_i\\,(\\tilde S-p)|\\tilde S]=\\frac{(\\tilde S-\\mu)^2}{4\\,\\lambda}=\\frac{(\\tilde S-\\mu)^2}{2}\\,\\frac{\\sigma_u}{\\sigma}$$\n",
    "\n",
    "Profit is increasing in $\\sigma_u$:\n",
    "\n",
    "-   The more liquidity trading there is, the more $\\mathcal{I} $ can\n",
    "    hide his intentions.\n",
    "\n",
    "    -   Note that $\\sigma_u$ is the typical magnitude of $y_u$\n",
    "        ($\\mathbb{E} [|y_u|]=\\sqrt{\\frac 2 \\pi}\\,\\sigma_u$).\n",
    "\n",
    "\n",
    "-   The more liquid the stock, the easier it is to trade!"
   ]
  },
  {
   "cell_type": "markdown",
   "metadata": {
    "slideshow": {
     "slide_type": "subslide"
    }
   },
   "source": [
    "The unconditional expectation of the informed trader’s profit is\n",
    "\n",
    "$$\\mathbb{E} [y_i\\,(\\tilde S-p)]=\\frac{\\mathbb{E}\\left[{(\\tilde S-\\mu)^2}\\right]}{2}\\,\\frac{\\sigma_u}{\\sigma}=\\frac 12 \\sigma\\,\\sigma_u.$$"
   ]
  },
  {
   "cell_type": "markdown",
   "metadata": {
    "slideshow": {
     "slide_type": "slide"
    }
   },
   "source": [
    "### The market makers’ posterior distribution\n",
    "\n",
    "-   $\\mathcal{M} $’s posterior distribution is $\\tilde S|y$.\n",
    "\n",
    "\n",
    "-   If for example there was big demand from liquidity traders, the mean\n",
    "    $p=\\mathbb{E} [\\tilde S|y]$ may be further away from the true value\n",
    "    $\\tilde S$ than the mean $\\mu$ of the prior.\n",
    "\n",
    "\n",
    "-   The variance of the posterior distribution is of course much smaller\n",
    "    than the variance of the prior.\n",
    "\n",
    "\n",
    "-   We now compute the mean and variance of the posterior distribution.\n",
    "\n"
   ]
  },
  {
   "cell_type": "markdown",
   "metadata": {
    "slideshow": {
     "slide_type": "slide"
    }
   },
   "source": [
    "### Net order flow $y$ as a signal for $\\tilde S$\n",
    "\n",
    "The order flow $y$ is a signal for $\\tilde S$. In fact, from [(9)](#eq:eq1) and [(10)](#eq:eq2),\n",
    "\n",
    "$$\n",
    "\\tilde S = \\mu + \\lambda\\,y + \\epsilon.\n",
    "$$\n",
    "\n",
    "where $\\epsilon$ is independent noise.  "
   ]
  },
  {
   "cell_type": "markdown",
   "metadata": {
    "slideshow": {
     "slide_type": "subslide"
    }
   },
   "source": [
    "Thus\n",
    "\n",
    "$$\n",
    "\\beas\n",
    "\\Var[\\tilde S|y] &=& \\Var[\\epsilon] \\\\\n",
    "&=& \\sigma^2 - \\lambda^2\\, \\Var[y]\\\\\n",
    "&=& \\sigma^2 - \\lambda^2\\, \\left( \\sigma_u^2 + b^2\\,\\sigma^2  \\right)\\\\\n",
    "&=&  \\sigma^2 - \\frac14 \\frac{\\sigma^2}{\\sigma_u^2}\\, \\left( \\sigma_u^2 + \\frac {\\sigma_u^2}{ \\sigma^2}\\,\\sigma^2  \\right)\\\\\n",
    "&=& \\frac12\\,\\sigma^2.\n",
    "\\eeas\n",
    "$$ "
   ]
  },
  {
   "cell_type": "markdown",
   "metadata": {
    "slideshow": {
     "slide_type": "subslide"
    }
   },
   "source": [
    "-   No matter what the trade outcome is, the posterior variance is\n",
    "    exactly half of the prior variance.\n",
    "\n",
    "-   Since $\\sigma$ proxies the information that $\\mathcal{I} $ holds\n",
    "    (inside information), we can say following Kyle that\n",
    "    $\\mathcal{I} $’s optimal strategy will result in half\n",
    "    of his information being revealed by the market price.\n",
    "\n",
    "-   The mean of the posterior distribution is\n",
    "    $$\\mathbb{E} [\\tilde S|y]=\\mu+\\lambda\\,y$$\n",
    "    which is $\\mathcal{M} $’s pricing rule."
   ]
  },
  {
   "cell_type": "markdown",
   "metadata": {
    "slideshow": {
     "slide_type": "slide"
    }
   },
   "source": [
    "### Extension to noisy signal\n",
    "\n",
    "-   In this extension of the model, $\\mathcal{I} $ receives imperfect\n",
    "    (as opposed to perfect) information at $t=0$.\n",
    "\n",
    "\n",
    "-   The signal $x=\\tilde S+\\epsilon$ where\n",
    "    $\\epsilon \\sim N(0,\\sigma_\\epsilon^2)$ is independent of everything\n",
    "    else."
   ]
  },
  {
   "cell_type": "markdown",
   "metadata": {
    "slideshow": {
     "slide_type": "subslide"
    }
   },
   "source": [
    "-   In this case, we can show (see HW5 problem 1) that\n",
    "\n",
    "    <a name=\"eq:lamdaNoisy\"></a>(11)\n",
    "    $$\\lambda=\\frac{\\sigma}{2\\,\\sigma_u}\\,\\sqrt{\\phi}$$\n",
    "\n",
    "    with $$\\phi = \\frac{\\sigma^2}{\\sigma^2+\\sigma_\\epsilon^2}$$\n",
    "\n",
    "\n",
    "-   This clearly has the right limit as $\\sigma_\\epsilon \\to 0$."
   ]
  },
  {
   "cell_type": "markdown",
   "metadata": {
    "slideshow": {
     "slide_type": "slide"
    }
   },
   "source": [
    "### Extension to multiple informed traders\n",
    "\n",
    "-   The solution for $k$ traders can be shown to be:\n",
    "    $$\\lambda_k=\\frac{1}{k+1}\\,\\frac{\\sigma\\,\\sqrt{k}}{\\sigma_u};\\,b_k=\\frac{\\sigma_u}{\\sigma\\,\\sqrt{k}}$$\n",
    "\n",
    "\n",
    "-   The greater the number $k$ of informed traders, the lower the value\n",
    "    of information each holds and so the smaller the $b_k$ (recall that\n",
    "    $y_i=a+b\\,\\tilde S$).\n",
    "\n",
    "\n",
    "-   Competition between informed traders drives down the optimal\n",
    "    $\\lambda$, decreasing market impact and increasing liquidity.\n",
    "\n",
    "    -   This contrasts with the piggybacking case explored in HW5\n",
    "        Problem 3."
   ]
  },
  {
   "cell_type": "markdown",
   "metadata": {
    "slideshow": {
     "slide_type": "subslide"
    }
   },
   "source": [
    "### Imperfect competition\n",
    "\n",
    "- In the above, we assumed perfect competition between market makers so that $p = \\ee{\\tilde S|y}$.\n",
    "\n",
    "\n",
    "-   On page 144 of [Foucault, Pagano and Röell]<sup id=\"cite_ref-FPR\" class=\"reference\"><a href=\"#cite_note-FPR\"><span>[</span>2<span>]</span></a></sup>, an alternative market mechanism is explored with imperfect competition between $K$ dealers.\n",
    "\n",
    "    -   The $k$th market maker $\\mathcal{M} _k$ must taken into account the strategic behavior\n",
    "        of the other market markers when setting a price schedule.\n",
    "\n",
    "    -   The price $p^\\star$ thus depends in particular on the number $K$ of\n",
    "        competing market makers."
   ]
  },
  {
   "cell_type": "markdown",
   "metadata": {
    "slideshow": {
     "slide_type": "slide"
    }
   },
   "source": [
    "### The cost of imperfect competition\n",
    "\n",
    "-   With this market mechanism and with $K$ market\n",
    "    makers, each $\\mathcal{M} _k$ posts less quantity than that in the case of\n",
    "    perfect competition, by a factor\n",
    "    \n",
    "    $$\\frac{K-2}{K-1}.$$\n",
    "\n",
    "\n",
    "-   Relative to the case of perfect competition, market impact with $K$ market makers is given by\n",
    "    \n",
    "    $$\\lambda_K =  \\lambda\\,\\frac{K-1}{K-2} = \\lambda +\\frac{\\lambda}{K-2}$$\n",
    "    \n",
    "    so relative to the perfect competition case, the Kyle lambda\n",
    "    increases by the factor $(K-1)/(K-2)$."
   ]
  },
  {
   "cell_type": "markdown",
   "metadata": {
    "slideshow": {
     "slide_type": "subslide"
    }
   },
   "source": [
    "-   As $K \\to \\infty$, we retrieve the perfect competition case.\n",
    "\n",
    "\n",
    "-   We also see that the cost of trading depends on market structure.\n",
    "\n",
    "    -   Different auction mechanisms lead to different market maker\n",
    "        rents."
   ]
  },
  {
   "cell_type": "markdown",
   "metadata": {
    "slideshow": {
     "slide_type": "slide"
    }
   },
   "source": [
    "### Extension to multiple trading periods\n",
    "\n",
    "Suppose there are $N$ auctions at intervals $\\Delta t=1/N$ and indexed\n",
    "by $t \\in \\{1,...,N\\}$.\n",
    "\n",
    "The equilibrium has the following properties:\n",
    "\n",
    "-   $\\mathcal{I} $’s demand is\n",
    "    $\\Delta {y_i}_t=b_t\\,(\\tilde S- p_{t-1})\\,\\Delta t$ where $b_t$ is\n",
    "    trading intensity at time $t$.\n",
    "\n",
    "\n",
    "-   The price change at the $t$th auction is given by\n",
    "\n",
    "    $$\\Delta p_t=\\lambda_t\\,(\\Delta {y_i}_t+\\Delta {y_u}_t)$$\n",
    "\n",
    "\n",
    "-   Market efficiency gives\n",
    "\n",
    "    $$p_t=\\mathbb{E} [\\tilde S|y_t]$$\n",
    "    \n",
    "    where\n",
    "    $y_t$ is cumulative order flow up to time $t$.\n",
    "\n"
   ]
  },
  {
   "cell_type": "markdown",
   "metadata": {
    "slideshow": {
     "slide_type": "slide"
    }
   },
   "source": [
    "### Properties of the solution\n",
    "\n",
    "-   $\\mathcal{I} $ slices and dices his order flow, just like real\n",
    "    traders splitting orders.\n",
    "\n",
    "\n",
    "-   $\\mathcal{I} $’s optimal trade sizes change over time with the\n",
    "    random uninformed demand $y_u$.\n",
    "\n",
    "    -   $\\mathcal{I} $ hides behind the uninformed order flow in such a\n",
    "        way that $\\mathcal{M} $ cannot predict on the basis of net order\n",
    "        flow what $\\mathcal{I} $ will do next.\n",
    "\n",
    "    -   There is no autocorrelation in the total order flow $y$. If\n",
    "        there were, it would induce autocorrelation in prices and that\n",
    "        is ruled out by market efficiency.  \n",
    "        \n",
    "        - Note that this is unlike sequential trader models like Glosten and Milgrom where there is autocorrelation of order flow.\n",
    "\n",
    "\n",
    "-   In the limit $N \\to \\infty$, the volatility of the price process\n",
    "    tends to a constant.\n",
    "\n"
   ]
  },
  {
   "cell_type": "markdown",
   "metadata": {
    "slideshow": {
     "slide_type": "slide"
    }
   },
   "source": [
    "### More properties of the solution\n",
    "\n",
    "-   As time progresses, information is progressively revealed.\n",
    "\n",
    "-   The Kyle model shows how information can be incorporated into\n",
    "    prices.\n",
    "\n",
    "-   In the Kyle model, the process of price formation is explicit.\n",
    "\n",
    "-   In the perfect competition version, market makers get zero profits,\n",
    "    informed traders make profits and liquidity traders face transaction\n",
    "    costs.\n",
    "\n"
   ]
  },
  {
   "cell_type": "markdown",
   "metadata": {
    "slideshow": {
     "slide_type": "slide"
    }
   },
   "source": [
    "### Price manipulation\n",
    "\n",
    "-   One might wonder whether traders could manipulate the market price.\n",
    "\n",
    "    -   A potential strategy would be to submit a large buy order,\n",
    "        driving the price up then selling back slowly at newer higher\n",
    "        prices.\n",
    "\n",
    "\n",
    "-   [Huberman and Stanzl]<sup id=\"cite_ref-HubermanStanzl\" class=\"reference\"><a href=\"#cite_note-HubermanStanzl\"><span>[</span>4<span>]</span></a></sup>\n",
    "     showed manipulation is not possible with the linear\n",
    "    market impact function in the Kyle model and in fact that\n",
    "    <span>*only*</span> linear models of this type have this property.\n",
    "\n",
    "\n",
    "-   We will revisit price manipulation later in this lecture series.\n",
    "\n"
   ]
  },
  {
   "cell_type": "markdown",
   "metadata": {
    "slideshow": {
     "slide_type": "slide"
    }
   },
   "source": [
    "### Correlation of order flow\n",
    "\n",
    "-   In real markets, order flow is in fact highly autocorrelated.\n",
    "\n",
    "\n",
    "-   However, to a very accurate approximation, price changes are\n",
    "    unpredictable.\n",
    "\n",
    "\n",
    "-   In subsequent lectures we will try to understand how this can be so.\n",
    "\n"
   ]
  },
  {
   "cell_type": "markdown",
   "metadata": {
    "slideshow": {
     "slide_type": "slide"
    }
   },
   "source": [
    "### The econophysics critique of Kyle\n",
    "\n",
    "Amongst other things, [Bouchaud, Farmer, Lillo]<sup id=\"cite_ref-BouchaudFarmerLillo\" class=\"reference\"><a href=\"#cite_note-BouchaudFarmerLillo\"><span>[</span>1<span>]</span></a></sup> complain that:\n",
    "\n",
    "> The rational investors, in contrast, are assumed to correspond to\n",
    "> skilled professionals. Their trading is perfect, in the sense that\n",
    "> they know everything. Examples of what they must know includes the\n",
    "> strategies of all the noise traders, and the fraction of capital\n",
    "> traded by noise traders as opposed to rational investors. In such\n",
    "> models prices can deviate from fundamental values due to the action of\n",
    "> the noise traders and the desire of the rational agents to exploit\n",
    "> them as much as possible, but the rational agents always keep them\n",
    "> from deviating too much.\n",
    "\n",
    "The following simulations suggest that perhaps all an agent needs to do to be\n",
    "considered as acting rationally, is to perform linear regression.\n",
    "\n"
   ]
  },
  {
   "cell_type": "markdown",
   "metadata": {
    "slideshow": {
     "slide_type": "slide"
    }
   },
   "source": [
    "### Kyle model simulation with Bayesian learning\n",
    "\n",
    "#### Simulation pseudo code\n",
    "\n",
    "-   $\\mathcal{M} $ assumes some prior $\\lambda$ with some (low)\n",
    "    precision\n",
    "\n",
    "\n",
    "-   $\\mathcal{I} $ determines his optimal demand $y_i$.\n",
    "\n",
    "\n",
    "-   The true value $\\tilde S$ is revealed.\n",
    "\n",
    "\n",
    "-   $\\mathcal{M} $ regresses $\\tilde S$ against $y$ to get a new\n",
    "    observation of $\\lambda$ and computes its precision."
   ]
  },
  {
   "cell_type": "markdown",
   "metadata": {
    "slideshow": {
     "slide_type": "subslide"
    }
   },
   "source": [
    "-   This new observation is combined with the prior to generate a new\n",
    "    posterior estimate of $\\lambda$.\n",
    "    \n",
    "    $$\n",
    "    \\lambda_2 = \\frac{\\tau_0\\,\\lambda_0+ \\tau_1\\,\\lambda_1}{\\tau_0+\\tau_1}.\n",
    "    $$"
   ]
  },
  {
   "cell_type": "code",
   "execution_count": 1,
   "metadata": {
    "collapsed": true,
    "slideshow": {
     "slide_type": "subslide"
    }
   },
   "outputs": [],
   "source": [
    "sigu <- .5\n",
    "sig <- .5\n",
    "mu <- 1\n",
    "nTrials <- 1\n",
    "\n",
    "#Initialize vectors\n",
    "numRuns <- 2000\n",
    "sTildeVec <- numeric(numRuns)\n",
    "yVec <- numeric(numRuns)\n",
    "lamVec <- numeric(numRuns)"
   ]
  },
  {
   "cell_type": "markdown",
   "metadata": {
    "slideshow": {
     "slide_type": "subslide"
    }
   },
   "source": [
    "- Suppose the market maker $\\mathcal{M}$'s prior is such that he sets the Kyle lambda to $1/3$."
   ]
  },
  {
   "cell_type": "code",
   "execution_count": 2,
   "metadata": {
    "collapsed": true,
    "slideshow": {
     "slide_type": "fragment"
    }
   },
   "outputs": [],
   "source": [
    "lam0 <- 1/3\n",
    "sd0 <- 1 # Std error of prior\n",
    "tau0 <-1 # Precision of prior\n",
    "\n",
    "lamK <- lam0\n",
    "lam2 <- 0"
   ]
  },
  {
   "cell_type": "code",
   "execution_count": 3,
   "metadata": {
    "collapsed": false,
    "slideshow": {
     "slide_type": "subslide"
    }
   },
   "outputs": [],
   "source": [
    "for(count in 1:numRuns){\n",
    "    \n",
    "    # Generate a true value \n",
    "    sTilde <- rnorm(nTrials,mean=mu,sd=sig)\n",
    "\n",
    "    # Generate uninformed demand\n",
    "    yu <- rnorm(nTrials,mean=0,sd=sigu)\n",
    "\n",
    "    # Generate informed demand\n",
    "    yi <- (sTilde-mu)/(2*lamK)\n",
    "\n",
    "    # Get updated value of lamK from regression\n",
    "    y <- yi+yu\n",
    "    sTildeVec[count] <- sTilde\n",
    "    yVec[count] <- y\n",
    "    lamVec[count] <- lamK\n",
    "    if(count>2) {\n",
    "        \n",
    "        tmp <- coef(summary(lm(sTildeVec[1:count]~yVec[1:count])))\n",
    "        lam1 <- tmp[2,1]\n",
    "        stderr <- tmp[2,2]\n",
    "        tau1 <- 1/stderr^2\n",
    "        lam2 <- (lam0*tau0 + lam1*tau1) / (tau0+tau1)\n",
    "        if (lam2 >.001) {lamK <- lam2}\n",
    "        \n",
    "    }\n",
    "    lamVec[count] <- lamK\n",
    "}"
   ]
  },
  {
   "cell_type": "markdown",
   "metadata": {
    "slideshow": {
     "slide_type": "slide"
    }
   },
   "source": [
    "### Convergence plot"
   ]
  },
  {
   "cell_type": "code",
   "execution_count": 4,
   "metadata": {
    "collapsed": false,
    "slideshow": {
     "slide_type": "fragment"
    }
   },
   "outputs": [
    {
     "data": {
      "image/png": "[encoded data removed]",
      "image/svg+xml": [
       "<?xml version=\"1.0\" encoding=\"UTF-8\"?>\n",
       "<svg xmlns=\"http://www.w3.org/2000/svg\" xmlns:xlink=\"http://www.w3.org/1999/xlink\" width=\"504pt\" height=\"504pt\" viewBox=\"0 0 504 504\" version=\"1.1\">\n",
       "<defs>\n",
       "<g>\n",
       "<symbol overflow=\"visible\" id=\"glyph0-0\">\n",
       "<path style=\"stroke:none;\" d=\"M 0.390625 0 L 0.390625 -8.609375 L 7.21875 -8.609375 L 7.21875 0 Z M 6.140625 -1.078125 L 6.140625 -7.53125 L 1.46875 -7.53125 L 1.46875 -1.078125 Z M 6.140625 -1.078125 \"/>\n",
       "</symbol>\n",
       "<symbol overflow=\"visible\" id=\"glyph0-1\">\n",
       "<path style=\"stroke:none;\" d=\"M 3.25 -8.390625 C 4.332031 -8.390625 5.117188 -7.941406 5.609375 -7.046875 C 5.984375 -6.359375 6.171875 -5.410156 6.171875 -4.203125 C 6.171875 -3.066406 6 -2.125 5.65625 -1.375 C 5.164062 -0.300781 4.359375 0.234375 3.234375 0.234375 C 2.234375 0.234375 1.484375 -0.203125 0.984375 -1.078125 C 0.578125 -1.816406 0.375 -2.800781 0.375 -4.03125 C 0.375 -4.976562 0.5 -5.796875 0.75 -6.484375 C 1.207031 -7.753906 2.039062 -8.390625 3.25 -8.390625 Z M 3.234375 -0.734375 C 3.785156 -0.734375 4.222656 -0.972656 4.546875 -1.453125 C 4.867188 -1.941406 5.03125 -2.847656 5.03125 -4.171875 C 5.03125 -5.117188 4.910156 -5.898438 4.671875 -6.515625 C 4.441406 -7.128906 3.988281 -7.4375 3.3125 -7.4375 C 2.6875 -7.4375 2.226562 -7.144531 1.9375 -6.5625 C 1.65625 -5.976562 1.515625 -5.117188 1.515625 -3.984375 C 1.515625 -3.128906 1.609375 -2.441406 1.796875 -1.921875 C 2.078125 -1.128906 2.554688 -0.734375 3.234375 -0.734375 Z M 3.234375 -0.734375 \"/>\n",
       "</symbol>\n",
       "<symbol overflow=\"visible\" id=\"glyph0-2\">\n",
       "<path style=\"stroke:none;\" d=\"M 1.484375 -2.140625 C 1.554688 -1.535156 1.835938 -1.117188 2.328125 -0.890625 C 2.578125 -0.773438 2.863281 -0.71875 3.1875 -0.71875 C 3.8125 -0.71875 4.273438 -0.914062 4.578125 -1.3125 C 4.878906 -1.707031 5.03125 -2.148438 5.03125 -2.640625 C 5.03125 -3.222656 4.847656 -3.675781 4.484375 -4 C 4.128906 -4.320312 3.703125 -4.484375 3.203125 -4.484375 C 2.835938 -4.484375 2.523438 -4.410156 2.265625 -4.265625 C 2.003906 -4.128906 1.785156 -3.9375 1.609375 -3.6875 L 0.6875 -3.734375 L 1.328125 -8.25 L 5.6875 -8.25 L 5.6875 -7.234375 L 2.125 -7.234375 L 1.765625 -4.90625 C 1.960938 -5.050781 2.148438 -5.160156 2.328125 -5.234375 C 2.640625 -5.359375 3 -5.421875 3.40625 -5.421875 C 4.175781 -5.421875 4.828125 -5.171875 5.359375 -4.671875 C 5.898438 -4.179688 6.171875 -3.554688 6.171875 -2.796875 C 6.171875 -2.003906 5.921875 -1.300781 5.421875 -0.6875 C 4.929688 -0.0820312 4.148438 0.21875 3.078125 0.21875 C 2.398438 0.21875 1.796875 0.0234375 1.265625 -0.359375 C 0.742188 -0.742188 0.453125 -1.335938 0.390625 -2.140625 Z M 1.484375 -2.140625 \"/>\n",
       "</symbol>\n",
       "<symbol overflow=\"visible\" id=\"glyph0-3\">\n",
       "<path style=\"stroke:none;\" d=\"M 1.15625 -5.9375 L 1.15625 -6.75 C 1.914062 -6.820312 2.441406 -6.945312 2.734375 -7.125 C 3.035156 -7.300781 3.265625 -7.710938 3.421875 -8.359375 L 4.25 -8.359375 L 4.25 0 L 3.125 0 L 3.125 -5.9375 Z M 1.15625 -5.9375 \"/>\n",
       "</symbol>\n",
       "<symbol overflow=\"visible\" id=\"glyph0-4\">\n",
       "<path style=\"stroke:none;\" d=\"M 0.375 0 C 0.414062 -0.71875 0.566406 -1.34375 0.828125 -1.875 C 1.085938 -2.414062 1.59375 -2.90625 2.34375 -3.34375 L 3.46875 -4 C 3.96875 -4.289062 4.320312 -4.539062 4.53125 -4.75 C 4.851562 -5.070312 5.015625 -5.441406 5.015625 -5.859375 C 5.015625 -6.347656 4.863281 -6.734375 4.5625 -7.015625 C 4.269531 -7.304688 3.882812 -7.453125 3.40625 -7.453125 C 2.675781 -7.453125 2.175781 -7.179688 1.90625 -6.640625 C 1.75 -6.335938 1.664062 -5.929688 1.65625 -5.421875 L 0.578125 -5.421875 C 0.585938 -6.148438 0.722656 -6.742188 0.984375 -7.203125 C 1.441406 -8.015625 2.25 -8.421875 3.40625 -8.421875 C 4.363281 -8.421875 5.0625 -8.160156 5.5 -7.640625 C 5.945312 -7.117188 6.171875 -6.539062 6.171875 -5.90625 C 6.171875 -5.238281 5.9375 -4.664062 5.46875 -4.1875 C 5.195312 -3.90625 4.707031 -3.566406 4 -3.171875 L 3.1875 -2.734375 C 2.8125 -2.523438 2.515625 -2.320312 2.296875 -2.125 C 1.898438 -1.789062 1.648438 -1.414062 1.546875 -1 L 6.140625 -1 L 6.140625 0 Z M 0.375 0 \"/>\n",
       "</symbol>\n",
       "<symbol overflow=\"visible\" id=\"glyph0-5\">\n",
       "<path style=\"stroke:none;\" d=\"M 0.171875 -3.28125 L 1.546875 -3.28125 L 2.09375 -5.296875 L 0.734375 -5.296875 L 0.921875 -5.984375 L 2.28125 -5.984375 L 2.96875 -8.609375 L 3.84375 -8.609375 L 3.140625 -5.984375 L 4.4375 -5.984375 L 5.15625 -8.609375 L 6.015625 -8.609375 L 5.296875 -5.984375 L 6.65625 -5.984375 L 6.484375 -5.296875 L 5.125 -5.296875 L 4.5625 -3.28125 L 5.9375 -3.28125 L 5.75 -2.609375 L 4.40625 -2.609375 L 3.6875 0 L 2.8125 0 L 3.53125 -2.609375 L 2.21875 -2.609375 L 1.53125 0 L 0.65625 0 L 1.359375 -2.609375 L 0 -2.609375 Z M 3.6875 -3.28125 L 4.25 -5.296875 L 2.953125 -5.296875 L 2.421875 -3.28125 Z M 3.6875 -3.28125 \"/>\n",
       "</symbol>\n",
       "<symbol overflow=\"visible\" id=\"glyph0-6\">\n",
       "<path style=\"stroke:none;\" d=\"\"/>\n",
       "</symbol>\n",
       "<symbol overflow=\"visible\" id=\"glyph0-7\">\n",
       "<path style=\"stroke:none;\" d=\"M 3.265625 -0.6875 C 3.960938 -0.6875 4.441406 -0.945312 4.703125 -1.46875 C 4.960938 -2 5.09375 -2.585938 5.09375 -3.234375 C 5.09375 -3.828125 5 -4.304688 4.8125 -4.671875 C 4.507812 -5.242188 4 -5.53125 3.28125 -5.53125 C 2.632812 -5.53125 2.164062 -5.285156 1.875 -4.796875 C 1.582031 -4.304688 1.4375 -3.710938 1.4375 -3.015625 C 1.4375 -2.347656 1.582031 -1.789062 1.875 -1.34375 C 2.164062 -0.90625 2.628906 -0.6875 3.265625 -0.6875 Z M 3.3125 -6.453125 C 4.113281 -6.453125 4.789062 -6.179688 5.34375 -5.640625 C 5.90625 -5.109375 6.1875 -4.316406 6.1875 -3.265625 C 6.1875 -2.253906 5.941406 -1.414062 5.453125 -0.75 C 4.960938 -0.09375 4.203125 0.234375 3.171875 0.234375 C 2.304688 0.234375 1.617188 -0.0546875 1.109375 -0.640625 C 0.597656 -1.234375 0.34375 -2.019531 0.34375 -3 C 0.34375 -4.050781 0.609375 -4.890625 1.140625 -5.515625 C 1.679688 -6.140625 2.40625 -6.453125 3.3125 -6.453125 Z M 3.265625 -6.421875 Z M 3.265625 -6.421875 \"/>\n",
       "</symbol>\n",
       "<symbol overflow=\"visible\" id=\"glyph0-8\">\n",
       "<path style=\"stroke:none;\" d=\"M 1.03125 -7.234375 C 1.050781 -7.671875 1.128906 -7.988281 1.265625 -8.1875 C 1.515625 -8.550781 1.988281 -8.734375 2.6875 -8.734375 C 2.757812 -8.734375 2.828125 -8.726562 2.890625 -8.71875 C 2.960938 -8.71875 3.046875 -8.710938 3.140625 -8.703125 L 3.140625 -7.75 C 3.023438 -7.757812 2.941406 -7.765625 2.890625 -7.765625 C 2.847656 -7.765625 2.804688 -7.765625 2.765625 -7.765625 C 2.441406 -7.765625 2.25 -7.679688 2.1875 -7.515625 C 2.125 -7.347656 2.09375 -6.925781 2.09375 -6.25 L 3.140625 -6.25 L 3.140625 -5.421875 L 2.078125 -5.421875 L 2.078125 0 L 1.03125 0 L 1.03125 -5.421875 L 0.171875 -5.421875 L 0.171875 -6.25 L 1.03125 -6.25 Z M 1.03125 -7.234375 \"/>\n",
       "</symbol>\n",
       "<symbol overflow=\"visible\" id=\"glyph0-9\">\n",
       "<path style=\"stroke:none;\" d=\"M 0.984375 -8.03125 L 2.046875 -8.03125 L 2.046875 -6.28125 L 3.046875 -6.28125 L 3.046875 -5.421875 L 2.046875 -5.421875 L 2.046875 -1.3125 C 2.046875 -1.09375 2.125 -0.945312 2.28125 -0.875 C 2.351562 -0.832031 2.488281 -0.8125 2.6875 -0.8125 C 2.738281 -0.8125 2.789062 -0.8125 2.84375 -0.8125 C 2.90625 -0.820312 2.972656 -0.828125 3.046875 -0.828125 L 3.046875 0 C 2.929688 0.03125 2.804688 0.0507812 2.671875 0.0625 C 2.546875 0.0820312 2.40625 0.09375 2.25 0.09375 C 1.757812 0.09375 1.425781 -0.03125 1.25 -0.28125 C 1.070312 -0.53125 0.984375 -0.859375 0.984375 -1.265625 L 0.984375 -5.421875 L 0.140625 -5.421875 L 0.140625 -6.28125 L 0.984375 -6.28125 Z M 0.984375 -8.03125 \"/>\n",
       "</symbol>\n",
       "<symbol overflow=\"visible\" id=\"glyph0-10\">\n",
       "<path style=\"stroke:none;\" d=\"M 0.796875 -6.28125 L 1.8125 -6.28125 L 1.8125 -5.1875 C 1.882812 -5.40625 2.082031 -5.664062 2.40625 -5.96875 C 2.726562 -6.269531 3.097656 -6.421875 3.515625 -6.421875 C 3.535156 -6.421875 3.566406 -6.414062 3.609375 -6.40625 C 3.660156 -6.40625 3.742188 -6.398438 3.859375 -6.390625 L 3.859375 -5.28125 C 3.796875 -5.289062 3.738281 -5.296875 3.6875 -5.296875 C 3.632812 -5.296875 3.578125 -5.296875 3.515625 -5.296875 C 2.984375 -5.296875 2.570312 -5.125 2.28125 -4.78125 C 2 -4.445312 1.859375 -4.054688 1.859375 -3.609375 L 1.859375 0 L 0.796875 0 Z M 0.796875 -6.28125 \"/>\n",
       "</symbol>\n",
       "<symbol overflow=\"visible\" id=\"glyph0-11\">\n",
       "<path style=\"stroke:none;\" d=\"M 1.578125 -1.671875 C 1.578125 -1.367188 1.6875 -1.128906 1.90625 -0.953125 C 2.132812 -0.773438 2.398438 -0.6875 2.703125 -0.6875 C 3.078125 -0.6875 3.4375 -0.769531 3.78125 -0.9375 C 4.375 -1.226562 4.671875 -1.695312 4.671875 -2.34375 L 4.671875 -3.1875 C 4.535156 -3.113281 4.363281 -3.046875 4.15625 -2.984375 C 3.957031 -2.929688 3.757812 -2.894531 3.5625 -2.875 L 2.9375 -2.796875 C 2.550781 -2.742188 2.257812 -2.660156 2.0625 -2.546875 C 1.738281 -2.367188 1.578125 -2.078125 1.578125 -1.671875 Z M 4.140625 -3.796875 C 4.378906 -3.828125 4.539062 -3.929688 4.625 -4.109375 C 4.664062 -4.203125 4.6875 -4.335938 4.6875 -4.515625 C 4.6875 -4.867188 4.554688 -5.125 4.296875 -5.28125 C 4.046875 -5.445312 3.6875 -5.53125 3.21875 -5.53125 C 2.664062 -5.53125 2.273438 -5.382812 2.046875 -5.09375 C 1.910156 -4.925781 1.820312 -4.679688 1.78125 -4.359375 L 0.796875 -4.359375 C 0.816406 -5.128906 1.066406 -5.664062 1.546875 -5.96875 C 2.035156 -6.269531 2.597656 -6.421875 3.234375 -6.421875 C 3.972656 -6.421875 4.570312 -6.28125 5.03125 -6 C 5.488281 -5.71875 5.71875 -5.28125 5.71875 -4.6875 L 5.71875 -1.078125 C 5.71875 -0.972656 5.738281 -0.882812 5.78125 -0.8125 C 5.832031 -0.75 5.929688 -0.71875 6.078125 -0.71875 C 6.117188 -0.71875 6.164062 -0.71875 6.21875 -0.71875 C 6.28125 -0.726562 6.347656 -0.738281 6.421875 -0.75 L 6.421875 0.03125 C 6.253906 0.0703125 6.125 0.0976562 6.03125 0.109375 C 5.945312 0.128906 5.832031 0.140625 5.6875 0.140625 C 5.320312 0.140625 5.0625 0.0078125 4.90625 -0.25 C 4.8125 -0.382812 4.75 -0.578125 4.71875 -0.828125 C 4.5 -0.546875 4.1875 -0.300781 3.78125 -0.09375 C 3.382812 0.113281 2.945312 0.21875 2.46875 0.21875 C 1.882812 0.21875 1.40625 0.0390625 1.03125 -0.3125 C 0.664062 -0.664062 0.484375 -1.109375 0.484375 -1.640625 C 0.484375 -2.222656 0.664062 -2.675781 1.03125 -3 C 1.394531 -3.320312 1.867188 -3.519531 2.453125 -3.59375 Z M 3.265625 -6.421875 Z M 3.265625 -6.421875 \"/>\n",
       "</symbol>\n",
       "<symbol overflow=\"visible\" id=\"glyph0-12\">\n",
       "<path style=\"stroke:none;\" d=\"M 1.4375 -3.0625 C 1.4375 -2.394531 1.578125 -1.832031 1.859375 -1.375 C 2.148438 -0.925781 2.609375 -0.703125 3.234375 -0.703125 C 3.722656 -0.703125 4.125 -0.910156 4.4375 -1.328125 C 4.757812 -1.742188 4.921875 -2.347656 4.921875 -3.140625 C 4.921875 -3.929688 4.753906 -4.515625 4.421875 -4.890625 C 4.097656 -5.273438 3.703125 -5.46875 3.234375 -5.46875 C 2.703125 -5.46875 2.269531 -5.265625 1.9375 -4.859375 C 1.601562 -4.453125 1.4375 -3.851562 1.4375 -3.0625 Z M 3.03125 -6.390625 C 3.507812 -6.390625 3.910156 -6.285156 4.234375 -6.078125 C 4.421875 -5.960938 4.632812 -5.757812 4.875 -5.46875 L 4.875 -8.640625 L 5.890625 -8.640625 L 5.890625 0 L 4.9375 0 L 4.9375 -0.875 C 4.695312 -0.488281 4.40625 -0.207031 4.0625 -0.03125 C 3.726562 0.132812 3.34375 0.21875 2.90625 0.21875 C 2.207031 0.21875 1.601562 -0.0703125 1.09375 -0.65625 C 0.582031 -1.25 0.328125 -2.03125 0.328125 -3 C 0.328125 -3.914062 0.5625 -4.707031 1.03125 -5.375 C 1.5 -6.050781 2.164062 -6.390625 3.03125 -6.390625 Z M 3.03125 -6.390625 \"/>\n",
       "</symbol>\n",
       "<symbol overflow=\"visible\" id=\"glyph0-13\">\n",
       "<path style=\"stroke:none;\" d=\"M 3.390625 -6.421875 C 3.835938 -6.421875 4.269531 -6.316406 4.6875 -6.109375 C 5.101562 -5.898438 5.421875 -5.628906 5.640625 -5.296875 C 5.847656 -4.972656 5.988281 -4.601562 6.0625 -4.1875 C 6.125 -3.894531 6.15625 -3.429688 6.15625 -2.796875 L 1.546875 -2.796875 C 1.566406 -2.160156 1.71875 -1.648438 2 -1.265625 C 2.28125 -0.878906 2.71875 -0.6875 3.3125 -0.6875 C 3.863281 -0.6875 4.300781 -0.867188 4.625 -1.234375 C 4.8125 -1.441406 4.945312 -1.6875 5.03125 -1.96875 L 6.0625 -1.96875 C 6.039062 -1.738281 5.953125 -1.484375 5.796875 -1.203125 C 5.640625 -0.921875 5.46875 -0.6875 5.28125 -0.5 C 4.957031 -0.1875 4.554688 0.0195312 4.078125 0.125 C 3.828125 0.1875 3.539062 0.21875 3.21875 0.21875 C 2.4375 0.21875 1.773438 -0.0625 1.234375 -0.625 C 0.691406 -1.195312 0.421875 -1.992188 0.421875 -3.015625 C 0.421875 -4.023438 0.691406 -4.84375 1.234375 -5.46875 C 1.785156 -6.101562 2.503906 -6.421875 3.390625 -6.421875 Z M 5.0625 -3.640625 C 5.019531 -4.097656 4.921875 -4.460938 4.765625 -4.734375 C 4.484375 -5.242188 4.003906 -5.5 3.328125 -5.5 C 2.835938 -5.5 2.425781 -5.320312 2.09375 -4.96875 C 1.769531 -4.625 1.597656 -4.179688 1.578125 -3.640625 Z M 3.28125 -6.421875 Z M 3.28125 -6.421875 \"/>\n",
       "</symbol>\n",
       "<symbol overflow=\"visible\" id=\"glyph0-14\">\n",
       "<path style=\"stroke:none;\" d=\"M 1.40625 -1.96875 C 1.4375 -1.613281 1.523438 -1.34375 1.671875 -1.15625 C 1.929688 -0.820312 2.390625 -0.65625 3.046875 -0.65625 C 3.441406 -0.65625 3.785156 -0.738281 4.078125 -0.90625 C 4.378906 -1.070312 4.53125 -1.332031 4.53125 -1.6875 C 4.53125 -1.957031 4.410156 -2.164062 4.171875 -2.3125 C 4.015625 -2.394531 3.710938 -2.492188 3.265625 -2.609375 L 2.421875 -2.8125 C 1.890625 -2.945312 1.5 -3.097656 1.25 -3.265625 C 0.789062 -3.546875 0.5625 -3.941406 0.5625 -4.453125 C 0.5625 -5.046875 0.773438 -5.523438 1.203125 -5.890625 C 1.628906 -6.253906 2.207031 -6.4375 2.9375 -6.4375 C 3.875 -6.4375 4.550781 -6.160156 4.96875 -5.609375 C 5.238281 -5.253906 5.367188 -4.875 5.359375 -4.46875 L 4.359375 -4.46875 C 4.335938 -4.707031 4.253906 -4.925781 4.109375 -5.125 C 3.867188 -5.394531 3.445312 -5.53125 2.84375 -5.53125 C 2.445312 -5.53125 2.144531 -5.453125 1.9375 -5.296875 C 1.738281 -5.148438 1.640625 -4.953125 1.640625 -4.703125 C 1.640625 -4.429688 1.773438 -4.210938 2.046875 -4.046875 C 2.203125 -3.953125 2.429688 -3.867188 2.734375 -3.796875 L 3.421875 -3.625 C 4.179688 -3.4375 4.691406 -3.257812 4.953125 -3.09375 C 5.359375 -2.820312 5.5625 -2.394531 5.5625 -1.8125 C 5.5625 -1.257812 5.347656 -0.78125 4.921875 -0.375 C 4.503906 0.03125 3.863281 0.234375 3 0.234375 C 2.0625 0.234375 1.394531 0.0234375 1 -0.390625 C 0.613281 -0.816406 0.410156 -1.34375 0.390625 -1.96875 Z M 2.953125 -6.421875 Z M 2.953125 -6.421875 \"/>\n",
       "</symbol>\n",
       "<symbol overflow=\"visible\" id=\"glyph1-0\">\n",
       "<path style=\"stroke:none;\" d=\"M 0 -0.390625 L -8.609375 -0.390625 L -8.609375 -7.21875 L 0 -7.21875 Z M -1.078125 -6.140625 L -7.53125 -6.140625 L -7.53125 -1.46875 L -1.078125 -1.46875 Z M -1.078125 -6.140625 \"/>\n",
       "</symbol>\n",
       "<symbol overflow=\"visible\" id=\"glyph1-1\">\n",
       "<path style=\"stroke:none;\" d=\"M -8.390625 -3.25 C -8.390625 -4.332031 -7.941406 -5.117188 -7.046875 -5.609375 C -6.359375 -5.984375 -5.410156 -6.171875 -4.203125 -6.171875 C -3.066406 -6.171875 -2.125 -6 -1.375 -5.65625 C -0.300781 -5.164062 0.234375 -4.359375 0.234375 -3.234375 C 0.234375 -2.234375 -0.203125 -1.484375 -1.078125 -0.984375 C -1.816406 -0.578125 -2.800781 -0.375 -4.03125 -0.375 C -4.976562 -0.375 -5.796875 -0.5 -6.484375 -0.75 C -7.753906 -1.207031 -8.390625 -2.039062 -8.390625 -3.25 Z M -0.734375 -3.234375 C -0.734375 -3.785156 -0.972656 -4.222656 -1.453125 -4.546875 C -1.941406 -4.867188 -2.847656 -5.03125 -4.171875 -5.03125 C -5.117188 -5.03125 -5.898438 -4.910156 -6.515625 -4.671875 C -7.128906 -4.441406 -7.4375 -3.988281 -7.4375 -3.3125 C -7.4375 -2.6875 -7.144531 -2.226562 -6.5625 -1.9375 C -5.976562 -1.65625 -5.117188 -1.515625 -3.984375 -1.515625 C -3.128906 -1.515625 -2.441406 -1.609375 -1.921875 -1.796875 C -1.128906 -2.078125 -0.734375 -2.554688 -0.734375 -3.234375 Z M -0.734375 -3.234375 \"/>\n",
       "</symbol>\n",
       "<symbol overflow=\"visible\" id=\"glyph1-2\">\n",
       "<path style=\"stroke:none;\" d=\"M -1.28125 -1.03125 L -1.28125 -2.25 L 0 -2.25 L 0 -1.03125 Z M -1.28125 -1.03125 \"/>\n",
       "</symbol>\n",
       "<symbol overflow=\"visible\" id=\"glyph1-3\">\n",
       "<path style=\"stroke:none;\" d=\"M 0 -0.375 C -0.71875 -0.414062 -1.34375 -0.566406 -1.875 -0.828125 C -2.414062 -1.085938 -2.90625 -1.59375 -3.34375 -2.34375 L -4 -3.46875 C -4.289062 -3.96875 -4.539062 -4.320312 -4.75 -4.53125 C -5.070312 -4.851562 -5.441406 -5.015625 -5.859375 -5.015625 C -6.347656 -5.015625 -6.734375 -4.863281 -7.015625 -4.5625 C -7.304688 -4.269531 -7.453125 -3.882812 -7.453125 -3.40625 C -7.453125 -2.675781 -7.179688 -2.175781 -6.640625 -1.90625 C -6.335938 -1.75 -5.929688 -1.664062 -5.421875 -1.65625 L -5.421875 -0.578125 C -6.148438 -0.585938 -6.742188 -0.722656 -7.203125 -0.984375 C -8.015625 -1.441406 -8.421875 -2.25 -8.421875 -3.40625 C -8.421875 -4.363281 -8.160156 -5.0625 -7.640625 -5.5 C -7.117188 -5.945312 -6.539062 -6.171875 -5.90625 -6.171875 C -5.238281 -6.171875 -4.664062 -5.9375 -4.1875 -5.46875 C -3.90625 -5.195312 -3.566406 -4.707031 -3.171875 -4 L -2.734375 -3.1875 C -2.523438 -2.8125 -2.320312 -2.515625 -2.125 -2.296875 C -1.789062 -1.898438 -1.414062 -1.648438 -1 -1.546875 L -1 -6.140625 L 0 -6.140625 Z M 0 -0.375 \"/>\n",
       "</symbol>\n",
       "<symbol overflow=\"visible\" id=\"glyph1-4\">\n",
       "<path style=\"stroke:none;\" d=\"M -2.96875 -3.96875 L -6.78125 -3.96875 L -2.96875 -1.28125 Z M 0 -3.984375 L -2.046875 -3.984375 L -2.046875 -0.3125 L -3.078125 -0.3125 L -8.421875 -4.15625 L -8.421875 -5.046875 L -2.96875 -5.046875 L -2.96875 -6.28125 L -2.046875 -6.28125 L -2.046875 -5.046875 L 0 -5.046875 Z M 0 -3.984375 \"/>\n",
       "</symbol>\n",
       "<symbol overflow=\"visible\" id=\"glyph1-5\">\n",
       "<path style=\"stroke:none;\" d=\"M -8.421875 -3.515625 C -8.421875 -4.453125 -8.175781 -5.101562 -7.6875 -5.46875 C -7.207031 -5.84375 -6.707031 -6.03125 -6.1875 -6.03125 L -6.1875 -4.984375 C -6.519531 -4.921875 -6.78125 -4.820312 -6.96875 -4.6875 C -7.320312 -4.425781 -7.5 -4.039062 -7.5 -3.53125 C -7.5 -2.9375 -7.222656 -2.460938 -6.671875 -2.109375 C -6.128906 -1.765625 -5.351562 -1.578125 -4.34375 -1.546875 C -4.695312 -1.785156 -4.960938 -2.085938 -5.140625 -2.453125 C -5.296875 -2.785156 -5.375 -3.160156 -5.375 -3.578125 C -5.375 -4.285156 -5.148438 -4.898438 -4.703125 -5.421875 C -4.253906 -5.941406 -3.582031 -6.203125 -2.6875 -6.203125 C -1.925781 -6.203125 -1.25 -5.953125 -0.65625 -5.453125 C -0.0703125 -4.960938 0.21875 -4.257812 0.21875 -3.34375 C 0.21875 -2.550781 -0.078125 -1.867188 -0.671875 -1.296875 C -1.273438 -0.734375 -2.28125 -0.453125 -3.6875 -0.453125 C -4.726562 -0.453125 -5.613281 -0.578125 -6.34375 -0.828125 C -7.726562 -1.316406 -8.421875 -2.210938 -8.421875 -3.515625 Z M -0.71875 -3.4375 C -0.71875 -3.988281 -0.90625 -4.398438 -1.28125 -4.671875 C -1.65625 -4.953125 -2.097656 -5.09375 -2.609375 -5.09375 C -3.035156 -5.09375 -3.441406 -4.96875 -3.828125 -4.71875 C -4.210938 -4.476562 -4.40625 -4.03125 -4.40625 -3.375 C -4.40625 -2.925781 -4.253906 -2.53125 -3.953125 -2.1875 C -3.660156 -1.84375 -3.210938 -1.671875 -2.609375 -1.671875 C -2.078125 -1.671875 -1.628906 -1.828125 -1.265625 -2.140625 C -0.898438 -2.453125 -0.71875 -2.882812 -0.71875 -3.4375 Z M -0.71875 -3.4375 \"/>\n",
       "</symbol>\n",
       "<symbol overflow=\"visible\" id=\"glyph1-6\">\n",
       "<path style=\"stroke:none;\" d=\"M -4.875 -3.265625 C -4.875 -3.734375 -5.003906 -4.097656 -5.265625 -4.359375 C -5.523438 -4.617188 -5.832031 -4.75 -6.1875 -4.75 C -6.5 -4.75 -6.785156 -4.625 -7.046875 -4.375 C -7.316406 -4.125 -7.453125 -3.742188 -7.453125 -3.234375 C -7.453125 -2.722656 -7.316406 -2.351562 -7.046875 -2.125 C -6.785156 -1.894531 -6.484375 -1.78125 -6.140625 -1.78125 C -5.742188 -1.78125 -5.429688 -1.925781 -5.203125 -2.21875 C -4.984375 -2.519531 -4.875 -2.867188 -4.875 -3.265625 Z M -0.71875 -3.328125 C -0.71875 -3.816406 -0.847656 -4.222656 -1.109375 -4.546875 C -1.378906 -4.867188 -1.773438 -5.03125 -2.296875 -5.03125 C -2.835938 -5.03125 -3.25 -4.863281 -3.53125 -4.53125 C -3.8125 -4.195312 -3.953125 -3.769531 -3.953125 -3.25 C -3.953125 -2.75 -3.804688 -2.335938 -3.515625 -2.015625 C -3.234375 -1.703125 -2.835938 -1.546875 -2.328125 -1.546875 C -1.890625 -1.546875 -1.507812 -1.691406 -1.1875 -1.984375 C -0.875 -2.273438 -0.71875 -2.722656 -0.71875 -3.328125 Z M -4.46875 -1.828125 C -4.59375 -1.535156 -4.738281 -1.304688 -4.90625 -1.140625 C -5.21875 -0.835938 -5.625 -0.6875 -6.125 -0.6875 C -6.75 -0.6875 -7.285156 -0.910156 -7.734375 -1.359375 C -8.191406 -1.816406 -8.421875 -2.457031 -8.421875 -3.28125 C -8.421875 -4.09375 -8.207031 -4.722656 -7.78125 -5.171875 C -7.351562 -5.628906 -6.859375 -5.859375 -6.296875 -5.859375 C -5.773438 -5.859375 -5.347656 -5.726562 -5.015625 -5.46875 C -4.835938 -5.320312 -4.660156 -5.09375 -4.484375 -4.78125 C -4.328125 -5.125 -4.144531 -5.394531 -3.9375 -5.59375 C -3.539062 -5.96875 -3.03125 -6.15625 -2.40625 -6.15625 C -1.664062 -6.15625 -1.039062 -5.90625 -0.53125 -5.40625 C -0.0195312 -4.914062 0.234375 -4.21875 0.234375 -3.3125 C 0.234375 -2.488281 0.015625 -1.796875 -0.421875 -1.234375 C -0.867188 -0.671875 -1.515625 -0.390625 -2.359375 -0.390625 C -2.847656 -0.390625 -3.273438 -0.507812 -3.640625 -0.75 C -4.003906 -0.988281 -4.28125 -1.347656 -4.46875 -1.828125 Z M -4.46875 -1.828125 \"/>\n",
       "</symbol>\n",
       "<symbol overflow=\"visible\" id=\"glyph1-7\">\n",
       "<path style=\"stroke:none;\" d=\"M -5.9375 -1.15625 L -6.75 -1.15625 C -6.820312 -1.914062 -6.945312 -2.441406 -7.125 -2.734375 C -7.300781 -3.035156 -7.710938 -3.265625 -8.359375 -3.421875 L -8.359375 -4.25 L 0 -4.25 L 0 -3.125 L -5.9375 -3.125 Z M -5.9375 -1.15625 \"/>\n",
       "</symbol>\n",
       "<symbol overflow=\"visible\" id=\"glyph1-8\">\n",
       "<path style=\"stroke:none;\" d=\"M -8.609375 -2.1875 L -3.28125 -2.1875 C -2.65625 -2.1875 -2.140625 -2.300781 -1.734375 -2.53125 C -1.109375 -2.875 -0.796875 -3.460938 -0.796875 -4.296875 C -0.796875 -5.273438 -1.132812 -5.945312 -1.8125 -6.3125 C -2.175781 -6.5 -2.664062 -6.59375 -3.28125 -6.59375 L -8.609375 -6.59375 L -8.609375 -7.78125 L -3.78125 -7.78125 C -2.71875 -7.78125 -1.898438 -7.632812 -1.328125 -7.34375 C -0.285156 -6.820312 0.234375 -5.835938 0.234375 -4.390625 C 0.234375 -2.929688 -0.285156 -1.941406 -1.328125 -1.421875 C -1.898438 -1.140625 -2.71875 -1 -3.78125 -1 L -8.609375 -1 Z M -8.609375 -4.390625 Z M -8.609375 -4.390625 \"/>\n",
       "</symbol>\n",
       "<symbol overflow=\"visible\" id=\"glyph1-9\">\n",
       "<path style=\"stroke:none;\" d=\"M -0.703125 -3.421875 C -0.703125 -3.910156 -0.910156 -4.316406 -1.328125 -4.640625 C -1.742188 -4.972656 -2.359375 -5.140625 -3.171875 -5.140625 C -3.671875 -5.140625 -4.101562 -5.066406 -4.46875 -4.921875 C -5.15625 -4.648438 -5.5 -4.148438 -5.5 -3.421875 C -5.5 -2.691406 -5.132812 -2.191406 -4.40625 -1.921875 C -4.019531 -1.773438 -3.523438 -1.703125 -2.921875 -1.703125 C -2.429688 -1.703125 -2.019531 -1.773438 -1.6875 -1.921875 C -1.03125 -2.191406 -0.703125 -2.691406 -0.703125 -3.421875 Z M -6.25 -0.6875 L -6.25 -1.71875 L -5.421875 -1.71875 C -5.703125 -1.925781 -5.921875 -2.15625 -6.078125 -2.40625 C -6.304688 -2.757812 -6.421875 -3.175781 -6.421875 -3.65625 C -6.421875 -4.375 -6.148438 -4.976562 -5.609375 -5.46875 C -5.066406 -5.96875 -4.289062 -6.21875 -3.28125 -6.21875 C -1.90625 -6.21875 -0.925781 -5.859375 -0.34375 -5.140625 C 0.03125 -4.691406 0.21875 -4.164062 0.21875 -3.5625 C 0.21875 -3.09375 0.113281 -2.695312 -0.09375 -2.375 C -0.21875 -2.1875 -0.421875 -1.976562 -0.703125 -1.75 L 2.5 -1.75 L 2.5 -0.6875 Z M -6.25 -0.6875 \"/>\n",
       "</symbol>\n",
       "<symbol overflow=\"visible\" id=\"glyph1-10\">\n",
       "<path style=\"stroke:none;\" d=\"M -3.0625 -1.4375 C -2.394531 -1.4375 -1.832031 -1.578125 -1.375 -1.859375 C -0.925781 -2.148438 -0.703125 -2.609375 -0.703125 -3.234375 C -0.703125 -3.722656 -0.910156 -4.125 -1.328125 -4.4375 C -1.742188 -4.757812 -2.347656 -4.921875 -3.140625 -4.921875 C -3.929688 -4.921875 -4.515625 -4.753906 -4.890625 -4.421875 C -5.273438 -4.097656 -5.46875 -3.703125 -5.46875 -3.234375 C -5.46875 -2.703125 -5.265625 -2.269531 -4.859375 -1.9375 C -4.453125 -1.601562 -3.851562 -1.4375 -3.0625 -1.4375 Z M -6.390625 -3.03125 C -6.390625 -3.507812 -6.285156 -3.910156 -6.078125 -4.234375 C -5.960938 -4.421875 -5.757812 -4.632812 -5.46875 -4.875 L -8.640625 -4.875 L -8.640625 -5.890625 L 0 -5.890625 L 0 -4.9375 L -0.875 -4.9375 C -0.488281 -4.695312 -0.207031 -4.40625 -0.03125 -4.0625 C 0.132812 -3.726562 0.21875 -3.34375 0.21875 -2.90625 C 0.21875 -2.207031 -0.0703125 -1.601562 -0.65625 -1.09375 C -1.25 -0.582031 -2.03125 -0.328125 -3 -0.328125 C -3.914062 -0.328125 -4.707031 -0.5625 -5.375 -1.03125 C -6.050781 -1.5 -6.390625 -2.164062 -6.390625 -3.03125 Z M -6.390625 -3.03125 \"/>\n",
       "</symbol>\n",
       "<symbol overflow=\"visible\" id=\"glyph1-11\">\n",
       "<path style=\"stroke:none;\" d=\"M -1.671875 -1.578125 C -1.367188 -1.578125 -1.128906 -1.6875 -0.953125 -1.90625 C -0.773438 -2.132812 -0.6875 -2.398438 -0.6875 -2.703125 C -0.6875 -3.078125 -0.769531 -3.4375 -0.9375 -3.78125 C -1.226562 -4.375 -1.695312 -4.671875 -2.34375 -4.671875 L -3.1875 -4.671875 C -3.113281 -4.535156 -3.046875 -4.363281 -2.984375 -4.15625 C -2.929688 -3.957031 -2.894531 -3.757812 -2.875 -3.5625 L -2.796875 -2.9375 C -2.742188 -2.550781 -2.660156 -2.257812 -2.546875 -2.0625 C -2.367188 -1.738281 -2.078125 -1.578125 -1.671875 -1.578125 Z M -3.796875 -4.140625 C -3.828125 -4.378906 -3.929688 -4.539062 -4.109375 -4.625 C -4.203125 -4.664062 -4.335938 -4.6875 -4.515625 -4.6875 C -4.867188 -4.6875 -5.125 -4.554688 -5.28125 -4.296875 C -5.445312 -4.046875 -5.53125 -3.6875 -5.53125 -3.21875 C -5.53125 -2.664062 -5.382812 -2.273438 -5.09375 -2.046875 C -4.925781 -1.910156 -4.679688 -1.820312 -4.359375 -1.78125 L -4.359375 -0.796875 C -5.128906 -0.816406 -5.664062 -1.066406 -5.96875 -1.546875 C -6.269531 -2.035156 -6.421875 -2.597656 -6.421875 -3.234375 C -6.421875 -3.972656 -6.28125 -4.570312 -6 -5.03125 C -5.71875 -5.488281 -5.28125 -5.71875 -4.6875 -5.71875 L -1.078125 -5.71875 C -0.972656 -5.71875 -0.882812 -5.738281 -0.8125 -5.78125 C -0.75 -5.832031 -0.71875 -5.929688 -0.71875 -6.078125 C -0.71875 -6.117188 -0.71875 -6.164062 -0.71875 -6.21875 C -0.726562 -6.28125 -0.738281 -6.347656 -0.75 -6.421875 L 0.03125 -6.421875 C 0.0703125 -6.253906 0.0976562 -6.125 0.109375 -6.03125 C 0.128906 -5.945312 0.140625 -5.832031 0.140625 -5.6875 C 0.140625 -5.320312 0.0078125 -5.0625 -0.25 -4.90625 C -0.382812 -4.8125 -0.578125 -4.75 -0.828125 -4.71875 C -0.546875 -4.5 -0.300781 -4.1875 -0.09375 -3.78125 C 0.113281 -3.382812 0.21875 -2.945312 0.21875 -2.46875 C 0.21875 -1.882812 0.0390625 -1.40625 -0.3125 -1.03125 C -0.664062 -0.664062 -1.109375 -0.484375 -1.640625 -0.484375 C -2.222656 -0.484375 -2.675781 -0.664062 -3 -1.03125 C -3.320312 -1.394531 -3.519531 -1.867188 -3.59375 -2.453125 Z M -6.421875 -3.265625 Z M -6.421875 -3.265625 \"/>\n",
       "</symbol>\n",
       "<symbol overflow=\"visible\" id=\"glyph1-12\">\n",
       "<path style=\"stroke:none;\" d=\"M -8.03125 -0.984375 L -8.03125 -2.046875 L -6.28125 -2.046875 L -6.28125 -3.046875 L -5.421875 -3.046875 L -5.421875 -2.046875 L -1.3125 -2.046875 C -1.09375 -2.046875 -0.945312 -2.125 -0.875 -2.28125 C -0.832031 -2.351562 -0.8125 -2.488281 -0.8125 -2.6875 C -0.8125 -2.738281 -0.8125 -2.789062 -0.8125 -2.84375 C -0.820312 -2.90625 -0.828125 -2.972656 -0.828125 -3.046875 L 0 -3.046875 C 0.03125 -2.929688 0.0507812 -2.804688 0.0625 -2.671875 C 0.0820312 -2.546875 0.09375 -2.40625 0.09375 -2.25 C 0.09375 -1.757812 -0.03125 -1.425781 -0.28125 -1.25 C -0.53125 -1.070312 -0.859375 -0.984375 -1.265625 -0.984375 L -5.421875 -0.984375 L -5.421875 -0.140625 L -6.28125 -0.140625 L -6.28125 -0.984375 Z M -8.03125 -0.984375 \"/>\n",
       "</symbol>\n",
       "<symbol overflow=\"visible\" id=\"glyph1-13\">\n",
       "<path style=\"stroke:none;\" d=\"M -6.421875 -3.390625 C -6.421875 -3.835938 -6.316406 -4.269531 -6.109375 -4.6875 C -5.898438 -5.101562 -5.628906 -5.421875 -5.296875 -5.640625 C -4.972656 -5.847656 -4.601562 -5.988281 -4.1875 -6.0625 C -3.894531 -6.125 -3.429688 -6.15625 -2.796875 -6.15625 L -2.796875 -1.546875 C -2.160156 -1.566406 -1.648438 -1.71875 -1.265625 -2 C -0.878906 -2.28125 -0.6875 -2.71875 -0.6875 -3.3125 C -0.6875 -3.863281 -0.867188 -4.300781 -1.234375 -4.625 C -1.441406 -4.8125 -1.6875 -4.945312 -1.96875 -5.03125 L -1.96875 -6.0625 C -1.738281 -6.039062 -1.484375 -5.953125 -1.203125 -5.796875 C -0.921875 -5.640625 -0.6875 -5.46875 -0.5 -5.28125 C -0.1875 -4.957031 0.0195312 -4.554688 0.125 -4.078125 C 0.1875 -3.828125 0.21875 -3.539062 0.21875 -3.21875 C 0.21875 -2.4375 -0.0625 -1.773438 -0.625 -1.234375 C -1.195312 -0.691406 -1.992188 -0.421875 -3.015625 -0.421875 C -4.023438 -0.421875 -4.84375 -0.691406 -5.46875 -1.234375 C -6.101562 -1.785156 -6.421875 -2.503906 -6.421875 -3.390625 Z M -3.640625 -5.0625 C -4.097656 -5.019531 -4.460938 -4.921875 -4.734375 -4.765625 C -5.242188 -4.484375 -5.5 -4.003906 -5.5 -3.328125 C -5.5 -2.835938 -5.320312 -2.425781 -4.96875 -2.09375 C -4.625 -1.769531 -4.179688 -1.597656 -3.640625 -1.578125 Z M -6.421875 -3.28125 Z M -6.421875 -3.28125 \"/>\n",
       "</symbol>\n",
       "<symbol overflow=\"visible\" id=\"glyph1-14\">\n",
       "<path style=\"stroke:none;\" d=\"\"/>\n",
       "</symbol>\n",
       "<symbol overflow=\"visible\" id=\"glyph1-15\">\n",
       "<path style=\"stroke:none;\" d=\"M -8.609375 -0.796875 L -8.609375 -1.859375 L 0 -1.859375 L 0 -0.796875 Z M -8.609375 -0.796875 \"/>\n",
       "</symbol>\n",
       "<symbol overflow=\"visible\" id=\"glyph1-16\">\n",
       "<path style=\"stroke:none;\" d=\"M -6.28125 -0.78125 L -6.28125 -1.8125 L -5.390625 -1.8125 C -5.691406 -2.0625 -5.914062 -2.289062 -6.0625 -2.5 C -6.300781 -2.84375 -6.421875 -3.238281 -6.421875 -3.6875 C -6.421875 -4.1875 -6.296875 -4.585938 -6.046875 -4.890625 C -5.910156 -5.054688 -5.703125 -5.210938 -5.421875 -5.359375 C -5.765625 -5.585938 -6.015625 -5.859375 -6.171875 -6.171875 C -6.335938 -6.492188 -6.421875 -6.851562 -6.421875 -7.25 C -6.421875 -8.09375 -6.113281 -8.664062 -5.5 -8.96875 C -5.175781 -9.132812 -4.734375 -9.21875 -4.171875 -9.21875 L 0 -9.21875 L 0 -8.125 L -4.359375 -8.125 C -4.773438 -8.125 -5.0625 -8.019531 -5.21875 -7.8125 C -5.375 -7.601562 -5.453125 -7.347656 -5.453125 -7.046875 C -5.453125 -6.628906 -5.3125 -6.269531 -5.03125 -5.96875 C -4.757812 -5.675781 -4.300781 -5.53125 -3.65625 -5.53125 L 0 -5.53125 L 0 -4.453125 L -4.09375 -4.453125 C -4.519531 -4.453125 -4.832031 -4.398438 -5.03125 -4.296875 C -5.320312 -4.140625 -5.46875 -3.84375 -5.46875 -3.40625 C -5.46875 -3.007812 -5.3125 -2.644531 -5 -2.3125 C -4.695312 -1.988281 -4.140625 -1.828125 -3.328125 -1.828125 L 0 -1.828125 L 0 -0.78125 Z M -6.28125 -0.78125 \"/>\n",
       "</symbol>\n",
       "<symbol overflow=\"visible\" id=\"glyph1-17\">\n",
       "<path style=\"stroke:none;\" d=\"M -8.640625 -0.6875 L -8.640625 -1.71875 L -5.515625 -1.71875 C -5.816406 -1.945312 -6.046875 -2.222656 -6.203125 -2.546875 C -6.359375 -2.867188 -6.4375 -3.21875 -6.4375 -3.59375 C -6.4375 -4.375 -6.164062 -5.003906 -5.625 -5.484375 C -5.09375 -5.972656 -4.304688 -6.21875 -3.265625 -6.21875 C -2.265625 -6.21875 -1.4375 -5.976562 -0.78125 -5.5 C -0.125 -5.019531 0.203125 -4.351562 0.203125 -3.5 C 0.203125 -3.019531 0.0859375 -2.617188 -0.140625 -2.296875 C -0.285156 -2.097656 -0.503906 -1.890625 -0.796875 -1.671875 L 0 -1.671875 L 0 -0.6875 Z M -0.734375 -3.4375 C -0.734375 -4.007812 -0.957031 -4.4375 -1.40625 -4.71875 C -1.863281 -5 -2.460938 -5.140625 -3.203125 -5.140625 C -3.867188 -5.140625 -4.414062 -5 -4.84375 -4.71875 C -5.28125 -4.4375 -5.5 -4.019531 -5.5 -3.46875 C -5.5 -2.988281 -5.320312 -2.566406 -4.96875 -2.203125 C -4.613281 -1.835938 -4.023438 -1.65625 -3.203125 -1.65625 C -2.617188 -1.65625 -2.140625 -1.726562 -1.765625 -1.875 C -1.078125 -2.15625 -0.734375 -2.675781 -0.734375 -3.4375 Z M -0.734375 -3.4375 \"/>\n",
       "</symbol>\n",
       "<symbol overflow=\"visible\" id=\"glyph1-18\">\n",
       "<path style=\"stroke:none;\" d=\"M -1.96875 -1.40625 C -1.613281 -1.4375 -1.34375 -1.523438 -1.15625 -1.671875 C -0.820312 -1.929688 -0.65625 -2.390625 -0.65625 -3.046875 C -0.65625 -3.441406 -0.738281 -3.785156 -0.90625 -4.078125 C -1.070312 -4.378906 -1.332031 -4.53125 -1.6875 -4.53125 C -1.957031 -4.53125 -2.164062 -4.410156 -2.3125 -4.171875 C -2.394531 -4.015625 -2.492188 -3.710938 -2.609375 -3.265625 L -2.8125 -2.421875 C -2.945312 -1.890625 -3.097656 -1.5 -3.265625 -1.25 C -3.546875 -0.789062 -3.941406 -0.5625 -4.453125 -0.5625 C -5.046875 -0.5625 -5.523438 -0.773438 -5.890625 -1.203125 C -6.253906 -1.628906 -6.4375 -2.207031 -6.4375 -2.9375 C -6.4375 -3.875 -6.160156 -4.550781 -5.609375 -4.96875 C -5.253906 -5.238281 -4.875 -5.367188 -4.46875 -5.359375 L -4.46875 -4.359375 C -4.707031 -4.335938 -4.925781 -4.253906 -5.125 -4.109375 C -5.394531 -3.867188 -5.53125 -3.445312 -5.53125 -2.84375 C -5.53125 -2.445312 -5.453125 -2.144531 -5.296875 -1.9375 C -5.148438 -1.738281 -4.953125 -1.640625 -4.703125 -1.640625 C -4.429688 -1.640625 -4.210938 -1.773438 -4.046875 -2.046875 C -3.953125 -2.203125 -3.867188 -2.429688 -3.796875 -2.734375 L -3.625 -3.421875 C -3.4375 -4.179688 -3.257812 -4.691406 -3.09375 -4.953125 C -2.820312 -5.359375 -2.394531 -5.5625 -1.8125 -5.5625 C -1.257812 -5.5625 -0.78125 -5.347656 -0.375 -4.921875 C 0.03125 -4.503906 0.234375 -3.863281 0.234375 -3 C 0.234375 -2.0625 0.0234375 -1.394531 -0.390625 -1 C -0.816406 -0.613281 -1.34375 -0.410156 -1.96875 -0.390625 Z M -6.421875 -2.953125 Z M -6.421875 -2.953125 \"/>\n",
       "</symbol>\n",
       "<symbol overflow=\"visible\" id=\"glyph1-19\">\n",
       "<path style=\"stroke:none;\" d=\"M -6.25 -0.78125 L -6.25 -1.84375 L 0 -1.84375 L 0 -0.78125 Z M -8.609375 -0.78125 L -8.609375 -1.84375 L -7.40625 -1.84375 L -7.40625 -0.78125 Z M -8.609375 -0.78125 \"/>\n",
       "</symbol>\n",
       "<symbol overflow=\"visible\" id=\"glyph2-0\">\n",
       "<path style=\"stroke:none;\" d=\"M 1.078125 0 L 1.078125 -10.375 L 9.4375 -10.375 L 9.4375 0 Z M 8.140625 -1.296875 L 8.140625 -9.078125 L 2.375 -9.078125 L 2.375 -1.296875 Z M 8.140625 -1.296875 \"/>\n",
       "</symbol>\n",
       "<symbol overflow=\"visible\" id=\"glyph2-1\">\n",
       "<path style=\"stroke:none;\" d=\"M 0.640625 -5.09375 C 0.640625 -6.90625 1.128906 -8.300781 2.109375 -9.28125 C 2.953125 -10.132812 4.023438 -10.5625 5.328125 -10.5625 C 7.066406 -10.5625 8.34375 -9.988281 9.15625 -8.84375 C 9.59375 -8.207031 9.832031 -7.566406 9.875 -6.921875 L 7.703125 -6.921875 C 7.554688 -7.410156 7.375 -7.785156 7.15625 -8.046875 C 6.757812 -8.492188 6.175781 -8.71875 5.40625 -8.71875 C 4.625 -8.71875 4.003906 -8.398438 3.546875 -7.765625 C 3.085938 -7.128906 2.859375 -6.226562 2.859375 -5.0625 C 2.859375 -3.894531 3.097656 -3.019531 3.578125 -2.4375 C 4.066406 -1.863281 4.679688 -1.578125 5.421875 -1.578125 C 6.179688 -1.578125 6.757812 -1.828125 7.15625 -2.328125 C 7.375 -2.597656 7.554688 -3 7.703125 -3.53125 L 9.84375 -3.53125 C 9.65625 -2.40625 9.175781 -1.488281 8.40625 -0.78125 C 7.632812 -0.0703125 6.644531 0.28125 5.4375 0.28125 C 3.945312 0.28125 2.773438 -0.191406 1.921875 -1.140625 C 1.066406 -2.109375 0.640625 -3.425781 0.640625 -5.09375 Z M 5.265625 -10.6875 Z M 5.265625 -10.6875 \"/>\n",
       "</symbol>\n",
       "<symbol overflow=\"visible\" id=\"glyph2-2\">\n",
       "<path style=\"stroke:none;\" d=\"M 4.375 -1.40625 C 4.957031 -1.40625 5.40625 -1.613281 5.71875 -2.03125 C 6.039062 -2.457031 6.203125 -3.050781 6.203125 -3.8125 C 6.203125 -4.582031 6.039062 -5.175781 5.71875 -5.59375 C 5.40625 -6.007812 4.957031 -6.21875 4.375 -6.21875 C 3.789062 -6.21875 3.335938 -6.007812 3.015625 -5.59375 C 2.703125 -5.175781 2.546875 -4.582031 2.546875 -3.8125 C 2.546875 -3.050781 2.703125 -2.457031 3.015625 -2.03125 C 3.335938 -1.613281 3.789062 -1.40625 4.375 -1.40625 Z M 8.296875 -3.8125 C 8.296875 -2.6875 7.972656 -1.722656 7.328125 -0.921875 C 6.679688 -0.128906 5.695312 0.265625 4.375 0.265625 C 3.0625 0.265625 2.082031 -0.128906 1.4375 -0.921875 C 0.789062 -1.722656 0.46875 -2.6875 0.46875 -3.8125 C 0.46875 -4.925781 0.789062 -5.882812 1.4375 -6.6875 C 2.082031 -7.5 3.0625 -7.90625 4.375 -7.90625 C 5.695312 -7.90625 6.679688 -7.5 7.328125 -6.6875 C 7.972656 -5.882812 8.296875 -4.925781 8.296875 -3.8125 Z M 4.375 -7.875 Z M 4.375 -7.875 \"/>\n",
       "</symbol>\n",
       "<symbol overflow=\"visible\" id=\"glyph2-3\">\n",
       "<path style=\"stroke:none;\" d=\"M 5.1875 -7.84375 C 5.976562 -7.84375 6.625 -7.632812 7.125 -7.21875 C 7.632812 -6.8125 7.890625 -6.125 7.890625 -5.15625 L 7.890625 0 L 5.828125 0 L 5.828125 -4.65625 C 5.828125 -5.0625 5.773438 -5.375 5.671875 -5.59375 C 5.472656 -5.988281 5.097656 -6.1875 4.546875 -6.1875 C 3.867188 -6.1875 3.398438 -5.894531 3.140625 -5.3125 C 3.015625 -5.007812 2.953125 -4.625 2.953125 -4.15625 L 2.953125 0 L 0.953125 0 L 0.953125 -7.65625 L 2.890625 -7.65625 L 2.890625 -6.53125 C 3.140625 -6.925781 3.378906 -7.210938 3.609375 -7.390625 C 4.023438 -7.691406 4.550781 -7.84375 5.1875 -7.84375 Z M 4.453125 -7.875 Z M 4.453125 -7.875 \"/>\n",
       "</symbol>\n",
       "<symbol overflow=\"visible\" id=\"glyph2-4\">\n",
       "<path style=\"stroke:none;\" d=\"M 5.65625 -7.671875 L 7.8125 -7.671875 L 5.046875 0 L 2.9375 0 L 0.1875 -7.671875 L 2.4375 -7.671875 L 4.03125 -2.015625 Z M 5.65625 -7.671875 \"/>\n",
       "</symbol>\n",
       "<symbol overflow=\"visible\" id=\"glyph2-5\">\n",
       "<path style=\"stroke:none;\" d=\"M 3.953125 -6.21875 C 3.492188 -6.21875 3.132812 -6.070312 2.875 -5.78125 C 2.625 -5.488281 2.46875 -5.09375 2.40625 -4.59375 L 5.515625 -4.59375 C 5.484375 -5.125 5.320312 -5.523438 5.03125 -5.796875 C 4.738281 -6.078125 4.378906 -6.21875 3.953125 -6.21875 Z M 3.953125 -7.875 C 4.597656 -7.875 5.175781 -7.753906 5.6875 -7.515625 C 6.195312 -7.273438 6.617188 -6.894531 6.953125 -6.375 C 7.253906 -5.925781 7.445312 -5.398438 7.53125 -4.796875 C 7.582031 -4.441406 7.601562 -3.9375 7.59375 -3.28125 L 2.34375 -3.28125 C 2.375 -2.507812 2.617188 -1.96875 3.078125 -1.65625 C 3.347656 -1.46875 3.679688 -1.375 4.078125 -1.375 C 4.484375 -1.375 4.816406 -1.488281 5.078125 -1.71875 C 5.222656 -1.84375 5.347656 -2.019531 5.453125 -2.25 L 7.5 -2.25 C 7.445312 -1.789062 7.207031 -1.328125 6.78125 -0.859375 C 6.125 -0.117188 5.207031 0.25 4.03125 0.25 C 3.050781 0.25 2.1875 -0.0625 1.4375 -0.6875 C 0.695312 -1.3125 0.328125 -2.332031 0.328125 -3.75 C 0.328125 -5.082031 0.660156 -6.101562 1.328125 -6.8125 C 2.003906 -7.519531 2.878906 -7.875 3.953125 -7.875 Z M 4.09375 -7.875 Z M 4.09375 -7.875 \"/>\n",
       "</symbol>\n",
       "<symbol overflow=\"visible\" id=\"glyph2-6\">\n",
       "<path style=\"stroke:none;\" d=\"M 5.09375 -7.84375 C 5.132812 -7.84375 5.164062 -7.84375 5.1875 -7.84375 C 5.21875 -7.84375 5.273438 -7.84375 5.359375 -7.84375 L 5.359375 -5.78125 C 5.234375 -5.789062 5.117188 -5.796875 5.015625 -5.796875 C 4.921875 -5.804688 4.847656 -5.8125 4.796875 -5.8125 C 3.984375 -5.8125 3.441406 -5.550781 3.171875 -5.03125 C 3.015625 -4.738281 2.9375 -4.285156 2.9375 -3.671875 L 2.9375 0 L 0.921875 0 L 0.921875 -7.671875 L 2.828125 -7.671875 L 2.828125 -6.328125 C 3.140625 -6.835938 3.410156 -7.1875 3.640625 -7.375 C 4.015625 -7.6875 4.5 -7.84375 5.09375 -7.84375 Z M 5.09375 -7.84375 \"/>\n",
       "</symbol>\n",
       "<symbol overflow=\"visible\" id=\"glyph2-7\">\n",
       "<path style=\"stroke:none;\" d=\"M 4.234375 -1.640625 C 4.703125 -1.640625 5.097656 -1.816406 5.421875 -2.171875 C 5.742188 -2.523438 5.90625 -3.09375 5.90625 -3.875 C 5.90625 -4.59375 5.75 -5.140625 5.4375 -5.515625 C 5.132812 -5.898438 4.722656 -6.09375 4.203125 -6.09375 C 3.503906 -6.09375 3.019531 -5.765625 2.75 -5.109375 C 2.613281 -4.753906 2.546875 -4.320312 2.546875 -3.8125 C 2.546875 -3.363281 2.617188 -2.960938 2.765625 -2.609375 C 3.035156 -1.960938 3.523438 -1.640625 4.234375 -1.640625 Z M 3.734375 -7.84375 C 4.117188 -7.84375 4.453125 -7.785156 4.734375 -7.671875 C 5.222656 -7.472656 5.617188 -7.101562 5.921875 -6.5625 L 5.921875 -7.671875 L 7.859375 -7.671875 L 7.859375 -0.390625 C 7.859375 0.597656 7.691406 1.34375 7.359375 1.84375 C 6.785156 2.707031 5.691406 3.140625 4.078125 3.140625 C 3.097656 3.140625 2.296875 2.945312 1.671875 2.5625 C 1.054688 2.175781 0.710938 1.601562 0.640625 0.84375 L 2.828125 0.84375 C 2.878906 1.070312 2.972656 1.238281 3.109375 1.34375 C 3.316406 1.53125 3.675781 1.625 4.1875 1.625 C 4.914062 1.625 5.398438 1.378906 5.640625 0.890625 C 5.796875 0.578125 5.875 0.0546875 5.875 -0.671875 L 5.875 -1.15625 C 5.6875 -0.832031 5.484375 -0.585938 5.265625 -0.421875 C 4.859375 -0.117188 4.335938 0.03125 3.703125 0.03125 C 2.722656 0.03125 1.9375 -0.3125 1.34375 -1 C 0.757812 -1.695312 0.46875 -2.632812 0.46875 -3.8125 C 0.46875 -4.945312 0.75 -5.898438 1.3125 -6.671875 C 1.882812 -7.453125 2.691406 -7.84375 3.734375 -7.84375 Z M 4.375 -7.875 Z M 4.375 -7.875 \"/>\n",
       "</symbol>\n",
       "<symbol overflow=\"visible\" id=\"glyph2-8\">\n",
       "<path style=\"stroke:none;\" d=\"M 5.515625 -4.921875 C 5.472656 -5.203125 5.375 -5.457031 5.21875 -5.6875 C 5 -6 4.648438 -6.15625 4.171875 -6.15625 C 3.503906 -6.15625 3.046875 -5.820312 2.796875 -5.15625 C 2.660156 -4.789062 2.59375 -4.316406 2.59375 -3.734375 C 2.59375 -3.171875 2.660156 -2.71875 2.796875 -2.375 C 3.035156 -1.726562 3.484375 -1.40625 4.140625 -1.40625 C 4.609375 -1.40625 4.941406 -1.53125 5.140625 -1.78125 C 5.335938 -2.039062 5.457031 -2.375 5.5 -2.78125 L 7.546875 -2.78125 C 7.503906 -2.164062 7.285156 -1.585938 6.890625 -1.046875 C 6.253906 -0.171875 5.320312 0.265625 4.09375 0.265625 C 2.863281 0.265625 1.957031 -0.0976562 1.375 -0.828125 C 0.789062 -1.554688 0.5 -2.503906 0.5 -3.671875 C 0.5 -4.992188 0.816406 -6.019531 1.453125 -6.75 C 2.097656 -7.476562 2.988281 -7.84375 4.125 -7.84375 C 5.082031 -7.84375 5.867188 -7.628906 6.484375 -7.203125 C 7.097656 -6.773438 7.457031 -6.015625 7.5625 -4.921875 Z M 4.15625 -7.875 Z M 4.15625 -7.875 \"/>\n",
       "</symbol>\n",
       "<symbol overflow=\"visible\" id=\"glyph2-9\">\n",
       "<path style=\"stroke:none;\" d=\"\"/>\n",
       "</symbol>\n",
       "<symbol overflow=\"visible\" id=\"glyph2-10\">\n",
       "<path style=\"stroke:none;\" d=\"M 3.765625 -10.46875 C 3.890625 -10.46875 4.003906 -10.460938 4.109375 -10.453125 C 4.210938 -10.453125 4.351562 -10.445312 4.53125 -10.4375 L 4.53125 -8.796875 C 4.414062 -8.816406 4.222656 -8.828125 3.953125 -8.828125 C 3.691406 -8.835938 3.507812 -8.78125 3.40625 -8.65625 C 3.3125 -8.53125 3.265625 -8.394531 3.265625 -8.25 C 3.265625 -8.09375 3.265625 -7.875 3.265625 -7.59375 L 4.578125 -7.59375 L 4.578125 -6.1875 L 3.265625 -6.1875 L 3.265625 0 L 1.265625 0 L 1.265625 -6.1875 L 0.140625 -6.1875 L 0.140625 -7.59375 L 1.25 -7.59375 L 1.25 -8.09375 C 1.25 -8.914062 1.382812 -9.476562 1.65625 -9.78125 C 1.945312 -10.238281 2.648438 -10.46875 3.765625 -10.46875 Z M 3.765625 -10.46875 \"/>\n",
       "</symbol>\n",
       "<symbol overflow=\"visible\" id=\"glyph2-11\">\n",
       "<path style=\"stroke:none;\" d=\"M 2.984375 0 L 0.984375 0 L 0.984375 -10.375 L 2.984375 -10.375 Z M 2.984375 0 \"/>\n",
       "</symbol>\n",
       "<symbol overflow=\"visible\" id=\"glyph2-12\">\n",
       "<path style=\"stroke:none;\" d=\"M 5.15625 -3.734375 C 5.03125 -3.648438 4.90625 -3.582031 4.78125 -3.53125 C 4.65625 -3.476562 4.476562 -3.429688 4.25 -3.390625 L 3.796875 -3.3125 C 3.378906 -3.238281 3.078125 -3.144531 2.890625 -3.03125 C 2.578125 -2.851562 2.421875 -2.570312 2.421875 -2.1875 C 2.421875 -1.84375 2.515625 -1.59375 2.703125 -1.4375 C 2.898438 -1.289062 3.132812 -1.21875 3.40625 -1.21875 C 3.832031 -1.21875 4.226562 -1.34375 4.59375 -1.59375 C 4.957031 -1.851562 5.144531 -2.316406 5.15625 -2.984375 Z M 3.953125 -4.65625 C 4.316406 -4.707031 4.578125 -4.769531 4.734375 -4.84375 C 5.023438 -4.957031 5.171875 -5.144531 5.171875 -5.40625 C 5.171875 -5.71875 5.0625 -5.929688 4.84375 -6.046875 C 4.625 -6.171875 4.304688 -6.234375 3.890625 -6.234375 C 3.410156 -6.234375 3.070312 -6.117188 2.875 -5.890625 C 2.738281 -5.710938 2.644531 -5.476562 2.59375 -5.1875 L 0.65625 -5.1875 C 0.695312 -5.851562 0.882812 -6.40625 1.21875 -6.84375 C 1.75 -7.507812 2.660156 -7.84375 3.953125 -7.84375 C 4.796875 -7.84375 5.539062 -7.675781 6.1875 -7.34375 C 6.84375 -7.007812 7.171875 -6.382812 7.171875 -5.46875 L 7.171875 -1.953125 C 7.171875 -1.703125 7.175781 -1.40625 7.1875 -1.0625 C 7.195312 -0.800781 7.234375 -0.625 7.296875 -0.53125 C 7.367188 -0.4375 7.46875 -0.359375 7.59375 -0.296875 L 7.59375 0 L 5.421875 0 C 5.359375 -0.15625 5.3125 -0.300781 5.28125 -0.4375 C 5.257812 -0.570312 5.242188 -0.726562 5.234375 -0.90625 C 4.953125 -0.601562 4.632812 -0.347656 4.28125 -0.140625 C 3.84375 0.109375 3.351562 0.234375 2.8125 0.234375 C 2.113281 0.234375 1.539062 0.0351562 1.09375 -0.359375 C 0.644531 -0.753906 0.421875 -1.316406 0.421875 -2.046875 C 0.421875 -2.984375 0.78125 -3.664062 1.5 -4.09375 C 1.90625 -4.320312 2.492188 -4.484375 3.265625 -4.578125 Z M 4.046875 -7.875 Z M 4.046875 -7.875 \"/>\n",
       "</symbol>\n",
       "<symbol overflow=\"visible\" id=\"glyph2-13\">\n",
       "<path style=\"stroke:none;\" d=\"M 3.765625 -7.84375 C 4.222656 -7.84375 4.632812 -7.738281 5 -7.53125 C 5.363281 -7.332031 5.65625 -7.054688 5.875 -6.703125 L 5.875 -10.359375 L 7.90625 -10.359375 L 7.90625 0 L 5.96875 0 L 5.96875 -1.0625 C 5.675781 -0.601562 5.347656 -0.269531 4.984375 -0.0625 C 4.617188 0.132812 4.164062 0.234375 3.625 0.234375 C 2.726562 0.234375 1.972656 -0.125 1.359375 -0.84375 C 0.742188 -1.570312 0.4375 -2.503906 0.4375 -3.640625 C 0.4375 -4.941406 0.738281 -5.96875 1.34375 -6.71875 C 1.945312 -7.46875 2.753906 -7.84375 3.765625 -7.84375 Z M 4.203125 -1.453125 C 4.765625 -1.453125 5.191406 -1.660156 5.484375 -2.078125 C 5.785156 -2.503906 5.9375 -3.050781 5.9375 -3.71875 C 5.9375 -4.65625 5.695312 -5.328125 5.21875 -5.734375 C 4.9375 -5.972656 4.601562 -6.09375 4.21875 -6.09375 C 3.625 -6.09375 3.191406 -5.867188 2.921875 -5.421875 C 2.648438 -4.984375 2.515625 -4.4375 2.515625 -3.78125 C 2.515625 -3.070312 2.648438 -2.503906 2.921875 -2.078125 C 3.203125 -1.660156 3.628906 -1.453125 4.203125 -1.453125 Z M 4.203125 -1.453125 \"/>\n",
       "</symbol>\n",
       "<symbol overflow=\"visible\" id=\"glyph2-14\">\n",
       "<path style=\"stroke:none;\" d=\"M 1.125 -10.375 L 3.265625 -10.375 L 3.265625 -6.09375 L 7.265625 -10.375 L 10.0625 -10.375 L 5.8125 -6.09375 L 10.28125 0 L 7.5 0 L 4.296875 -4.53125 L 3.265625 -3.46875 L 3.265625 0 L 1.125 0 Z M 1.125 -10.375 \"/>\n",
       "</symbol>\n",
       "<symbol overflow=\"visible\" id=\"glyph2-15\">\n",
       "<path style=\"stroke:none;\" d=\"M 1.25 1.46875 L 1.5 1.484375 C 1.695312 1.492188 1.882812 1.484375 2.0625 1.453125 C 2.238281 1.429688 2.390625 1.378906 2.515625 1.296875 C 2.628906 1.222656 2.734375 1.054688 2.828125 0.796875 C 2.929688 0.546875 2.976562 0.394531 2.96875 0.34375 L 0.140625 -7.671875 L 2.375 -7.671875 L 4.046875 -2.015625 L 5.640625 -7.671875 L 7.765625 -7.671875 L 5.140625 -0.125 C 4.628906 1.320312 4.222656 2.222656 3.921875 2.578125 C 3.628906 2.929688 3.039062 3.109375 2.15625 3.109375 C 1.976562 3.109375 1.832031 3.101562 1.71875 3.09375 C 1.613281 3.09375 1.457031 3.085938 1.25 3.078125 Z M 3.953125 -7.875 Z M 3.953125 -7.875 \"/>\n",
       "</symbol>\n",
       "<symbol overflow=\"visible\" id=\"glyph2-16\">\n",
       "<path style=\"stroke:none;\" d=\"M 1.09375 -10.375 L 3.265625 -10.375 L 3.265625 -1.859375 L 8.40625 -1.859375 L 8.40625 0 L 1.09375 0 Z M 1.09375 -10.375 \"/>\n",
       "</symbol>\n",
       "<symbol overflow=\"visible\" id=\"glyph2-17\">\n",
       "<path style=\"stroke:none;\" d=\"M 9.5 -7.84375 C 9.84375 -7.84375 10.175781 -7.773438 10.5 -7.640625 C 10.832031 -7.503906 11.128906 -7.273438 11.390625 -6.953125 C 11.609375 -6.679688 11.753906 -6.351562 11.828125 -5.96875 C 11.878906 -5.707031 11.90625 -5.328125 11.90625 -4.828125 L 11.890625 0 L 9.828125 0 L 9.828125 -4.875 C 9.828125 -5.164062 9.78125 -5.40625 9.6875 -5.59375 C 9.507812 -5.957031 9.179688 -6.140625 8.703125 -6.140625 C 8.148438 -6.140625 7.769531 -5.90625 7.5625 -5.4375 C 7.457031 -5.195312 7.40625 -4.90625 7.40625 -4.5625 L 7.40625 0 L 5.375 0 L 5.375 -4.5625 C 5.375 -5.019531 5.328125 -5.351562 5.234375 -5.5625 C 5.066406 -5.925781 4.738281 -6.109375 4.25 -6.109375 C 3.675781 -6.109375 3.289062 -5.925781 3.09375 -5.5625 C 2.988281 -5.34375 2.9375 -5.023438 2.9375 -4.609375 L 2.9375 0 L 0.90625 0 L 0.90625 -7.65625 L 2.84375 -7.65625 L 2.84375 -6.53125 C 3.09375 -6.925781 3.328125 -7.210938 3.546875 -7.390625 C 3.941406 -7.691406 4.445312 -7.84375 5.0625 -7.84375 C 5.644531 -7.84375 6.117188 -7.710938 6.484375 -7.453125 C 6.773438 -7.210938 6.992188 -6.90625 7.140625 -6.53125 C 7.410156 -6.976562 7.738281 -7.304688 8.125 -7.515625 C 8.539062 -7.734375 9 -7.84375 9.5 -7.84375 Z M 9.5 -7.84375 \"/>\n",
       "</symbol>\n",
       "<symbol overflow=\"visible\" id=\"glyph2-18\">\n",
       "<path style=\"stroke:none;\" d=\"M 5.078125 -7.84375 C 6.085938 -7.84375 6.875 -7.476562 7.4375 -6.75 C 8.007812 -6.019531 8.296875 -5.082031 8.296875 -3.9375 C 8.296875 -2.738281 8.015625 -1.75 7.453125 -0.96875 C 6.890625 -0.1875 6.101562 0.203125 5.09375 0.203125 C 4.46875 0.203125 3.960938 0.078125 3.578125 -0.171875 C 3.347656 -0.328125 3.097656 -0.59375 2.828125 -0.96875 L 2.828125 0 L 0.859375 0 L 0.859375 -10.359375 L 2.859375 -10.359375 L 2.859375 -6.671875 C 3.117188 -7.023438 3.398438 -7.296875 3.703125 -7.484375 C 4.054688 -7.722656 4.515625 -7.84375 5.078125 -7.84375 Z M 4.5625 -1.453125 C 5.082031 -1.453125 5.484375 -1.660156 5.765625 -2.078125 C 6.054688 -2.492188 6.203125 -3.039062 6.203125 -3.71875 C 6.203125 -4.257812 6.128906 -4.710938 5.984375 -5.078125 C 5.710938 -5.742188 5.222656 -6.078125 4.515625 -6.078125 C 3.785156 -6.078125 3.285156 -5.75 3.015625 -5.09375 C 2.867188 -4.738281 2.796875 -4.285156 2.796875 -3.734375 C 2.796875 -3.078125 2.941406 -2.53125 3.234375 -2.09375 C 3.523438 -1.664062 3.96875 -1.453125 4.5625 -1.453125 Z M 4.5625 -1.453125 \"/>\n",
       "</symbol>\n",
       "</g>\n",
       "<clipPath id=\"clip1\">\n",
       "  <path d=\"M 59.039062 244 L 474.757812 244 L 474.757812 246 L 59.039062 246 Z M 59.039062 244 \"/>\n",
       "</clipPath>\n",
       "</defs>\n",
       "<g id=\"surface1\">\n",
       "<rect x=\"0\" y=\"0\" width=\"504\" height=\"504\" style=\"fill:rgb(100%,100%,100%);fill-opacity:1;stroke:none;\"/>\n",
       "<path style=\"fill:none;stroke-width:0.75;stroke-linecap:round;stroke-linejoin:round;stroke:rgb(100%,0%,0%);stroke-opacity:1;stroke-miterlimit:10;\" d=\"M 74.398438 302.132812 L 74.59375 302.132812 L 74.785156 318.132812 L 74.976562 337.414062 L 75.167969 293.386719 L 75.359375 293.042969 L 75.550781 278.5625 L 75.746094 277.394531 L 75.9375 279.664062 L 76.128906 279.585938 L 76.320312 280.210938 L 76.511719 281.261719 L 76.707031 271.597656 L 76.898438 270.433594 L 77.089844 270.050781 L 77.28125 256.480469 L 77.472656 254.300781 L 77.664062 253.390625 L 77.859375 253.6875 L 78.050781 251.984375 L 78.242188 248.554688 L 78.433594 249.117188 L 78.625 249.46875 L 78.816406 249.519531 L 79.011719 247.851562 L 79.394531 247.875 L 79.585938 250.628906 L 79.777344 249.132812 L 79.972656 248.386719 L 80.164062 249.441406 L 80.355469 247.867188 L 80.546875 248.417969 L 80.738281 247.269531 L 80.929688 247.859375 L 81.125 248.265625 L 81.316406 250.644531 L 81.507812 250.71875 L 81.699219 250.734375 L 81.890625 252 L 82.082031 252.183594 L 82.277344 252.371094 L 82.46875 251.753906 L 82.660156 251.875 L 82.851562 253.546875 L 83.042969 252.75 L 83.238281 253.359375 L 83.429688 253.199219 L 83.621094 252.84375 L 83.8125 253.644531 L 84.003906 262.695312 L 84.195312 261.390625 L 84.390625 261.824219 L 84.582031 261.511719 L 84.773438 261.121094 L 84.964844 260.734375 L 85.15625 259.554688 L 85.347656 258.660156 L 85.542969 258.820312 L 85.734375 259.558594 L 85.925781 259.585938 L 86.117188 260.195312 L 86.308594 259.679688 L 86.503906 259.203125 L 86.695312 259.082031 L 86.886719 259.078125 L 87.078125 257.042969 L 87.269531 257.589844 L 87.460938 258.851562 L 87.65625 260.527344 L 87.847656 261.261719 L 88.039062 261.074219 L 88.230469 263.824219 L 88.421875 263.011719 L 88.613281 263 L 88.808594 262.957031 L 89 263.042969 L 89.191406 263.140625 L 89.382812 263.097656 L 89.574219 263.117188 L 89.769531 261.15625 L 89.960938 261.140625 L 90.152344 260.988281 L 90.34375 261.839844 L 90.535156 261.449219 L 90.726562 260.273438 L 90.921875 260.425781 L 91.113281 261.394531 L 91.304688 259.945312 L 91.496094 261.617188 L 91.6875 262.425781 L 91.878906 263.667969 L 92.074219 262.621094 L 92.265625 262.613281 L 92.457031 262.617188 L 92.648438 262.269531 L 92.839844 259.65625 L 93.035156 258.25 L 93.226562 254.792969 L 93.417969 255.011719 L 93.609375 253.960938 L 93.800781 252.785156 L 93.992188 254.058594 L 94.1875 252.195312 L 94.378906 251.222656 L 94.570312 251.476562 L 94.761719 251.5 L 94.953125 251.40625 L 95.144531 251.398438 L 95.339844 251.199219 L 95.53125 253.167969 L 95.722656 253.285156 L 95.914062 253.226562 L 96.105469 251.027344 L 96.300781 251.625 L 96.492188 252.539062 L 96.683594 250.132812 L 96.875 249.816406 L 97.066406 249.898438 L 97.257812 253.125 L 97.453125 253.09375 L 97.644531 253.152344 L 97.835938 254.019531 L 98.027344 254.007812 L 98.21875 254.695312 L 98.410156 254.671875 L 98.605469 254.988281 L 98.796875 254.96875 L 98.988281 254.988281 L 99.179688 253.402344 L 99.371094 253.347656 L 99.566406 253.335938 L 99.757812 253.722656 L 99.949219 255.617188 L 100.140625 255.570312 L 100.332031 255.386719 L 100.523438 255.390625 L 100.71875 254.558594 L 100.910156 254.46875 L 101.101562 254.917969 L 101.292969 254.726562 L 101.484375 252.769531 L 101.675781 253.488281 L 101.871094 256.261719 L 102.0625 256.210938 L 102.253906 257.285156 L 102.445312 257.113281 L 102.636719 257.296875 L 102.832031 257.1875 L 103.023438 257.300781 L 103.214844 256.941406 L 103.40625 256.199219 L 103.597656 256.226562 L 103.789062 257.105469 L 103.984375 257.507812 L 104.175781 256.921875 L 104.367188 256.996094 L 104.558594 257.003906 L 104.75 257.097656 L 104.941406 256.324219 L 105.136719 256.097656 L 105.328125 254.921875 L 105.519531 254.230469 L 105.710938 253.753906 L 105.902344 253.097656 L 106.097656 253.433594 L 106.289062 253.347656 L 106.480469 254.152344 L 106.671875 254.519531 L 106.863281 253.933594 L 107.054688 254.039062 L 107.25 252.902344 L 107.441406 252.9375 L 107.632812 252.417969 L 107.824219 251.652344 L 108.015625 251.839844 L 108.207031 253.484375 L 108.402344 253.425781 L 108.59375 253.171875 L 108.785156 252.6875 L 108.976562 252.6875 L 109.167969 252.21875 L 109.363281 253.027344 L 109.554688 251.675781 L 109.746094 251.972656 L 109.9375 251.957031 L 110.128906 251.683594 L 110.320312 252.074219 L 110.515625 252.15625 L 110.707031 253.734375 L 110.898438 253.511719 L 111.089844 253.839844 L 111.28125 254.550781 L 111.472656 255.082031 L 111.667969 256.183594 L 111.859375 256.261719 L 112.050781 256.082031 L 112.242188 256.09375 L 112.433594 255.945312 L 112.628906 256.019531 L 112.820312 255.96875 L 113.011719 256.851562 L 113.203125 256.6875 L 113.394531 257.355469 L 113.585938 257.507812 L 113.78125 257.703125 L 113.972656 257.582031 L 114.164062 256.832031 L 114.355469 256.828125 L 114.546875 256.605469 L 114.738281 256.347656 L 114.933594 256.257812 L 115.125 256.183594 L 115.316406 256.265625 L 115.507812 256.292969 L 115.699219 255.816406 L 115.894531 255.824219 L 116.085938 255.742188 L 116.277344 256.007812 L 116.46875 256.074219 L 116.660156 256.230469 L 116.851562 256.238281 L 117.046875 255.566406 L 117.238281 255.695312 L 117.429688 256.050781 L 117.621094 256.273438 L 117.8125 256.15625 L 118.003906 256.410156 L 118.199219 256.367188 L 118.390625 256.429688 L 118.582031 256.632812 L 118.773438 256.460938 L 118.964844 256.835938 L 119.160156 257.054688 L 119.351562 257.324219 L 119.542969 257.023438 L 119.734375 256.03125 L 119.925781 256.058594 L 120.117188 256.308594 L 120.3125 256.382812 L 120.503906 257.339844 L 120.695312 256.5625 L 120.886719 256.582031 L 121.078125 255.890625 L 121.269531 256.113281 L 121.464844 256.167969 L 121.65625 254.734375 L 121.847656 254.378906 L 122.039062 253.941406 L 122.230469 254.671875 L 122.425781 255.066406 L 122.617188 254.121094 L 122.808594 254.128906 L 123 254.144531 L 123.191406 255.085938 L 123.382812 255.128906 L 123.578125 255.128906 L 123.769531 255.101562 L 123.960938 255.121094 L 124.152344 256.328125 L 124.34375 256.324219 L 124.535156 256.695312 L 124.730469 256.65625 L 124.921875 256.652344 L 125.113281 256.550781 L 125.304688 256.628906 L 125.496094 256.773438 L 125.691406 256.332031 L 125.882812 256.277344 L 126.074219 256.242188 L 126.265625 256.132812 L 126.457031 256.265625 L 126.648438 256.9375 L 126.84375 257.292969 L 127.035156 257.800781 L 127.226562 258.089844 L 127.417969 258.148438 L 127.609375 258.308594 L 127.800781 258.617188 L 127.996094 258.367188 L 128.1875 259.402344 L 128.378906 259.847656 L 128.570312 259.191406 L 128.761719 259.136719 L 128.957031 259.175781 L 129.148438 259.21875 L 129.339844 259.28125 L 129.53125 259.199219 L 129.722656 258.984375 L 129.914062 258.914062 L 130.109375 258.757812 L 130.300781 259.109375 L 130.492188 259.035156 L 130.683594 259.449219 L 130.875 259.5 L 131.066406 259.5 L 131.261719 260.066406 L 131.453125 260.09375 L 131.644531 260.003906 L 131.835938 259.636719 L 132.027344 259.652344 L 132.222656 258.414062 L 132.414062 258.410156 L 132.605469 257.714844 L 132.796875 257.066406 L 132.988281 256.957031 L 133.179688 256.855469 L 133.375 256.949219 L 133.566406 256.609375 L 133.757812 256.527344 L 133.949219 255.921875 L 134.140625 256.011719 L 134.332031 256.058594 L 134.527344 255.800781 L 134.71875 255.777344 L 134.910156 255.1875 L 135.101562 255.390625 L 135.292969 255.347656 L 135.488281 255.769531 L 135.679688 255.730469 L 135.871094 255.960938 L 136.0625 255.769531 L 136.253906 255.816406 L 136.445312 255.898438 L 136.640625 255.941406 L 136.832031 255.941406 L 137.023438 254.839844 L 137.214844 255.09375 L 137.40625 255.101562 L 137.597656 255.265625 L 137.792969 255.476562 L 137.984375 255.46875 L 138.175781 255.394531 L 138.367188 255.441406 L 138.558594 255.386719 L 138.753906 253.253906 L 138.945312 253.304688 L 139.136719 252.910156 L 139.328125 252.742188 L 139.519531 252.109375 L 139.710938 252.234375 L 139.90625 252.234375 L 140.097656 252.039062 L 140.289062 252.515625 L 140.480469 251.878906 L 140.671875 251.875 L 140.863281 251.796875 L 141.058594 251.5625 L 141.25 250.949219 L 141.441406 251.304688 L 141.632812 251.066406 L 141.824219 251.0625 L 142.019531 250.691406 L 142.210938 250.636719 L 142.402344 250.84375 L 142.59375 250.375 L 142.785156 250.40625 L 142.976562 249.675781 L 143.171875 249.457031 L 143.363281 249.859375 L 143.554688 249.816406 L 143.746094 249.9375 L 143.9375 250.023438 L 144.132812 250.035156 L 144.324219 250.117188 L 144.515625 249.367188 L 144.707031 249.164062 L 144.898438 249.179688 L 145.089844 249.03125 L 145.285156 248.84375 L 145.476562 248.851562 L 145.667969 248.113281 L 145.859375 248.160156 L 146.050781 248.15625 L 146.242188 248.078125 L 146.4375 248.464844 L 146.628906 246.960938 L 146.820312 247.113281 L 147.011719 247.046875 L 147.203125 248.316406 L 147.398438 248.191406 L 147.78125 248.105469 L 147.972656 248.105469 L 148.164062 248.066406 L 148.355469 247.183594 L 148.550781 247.234375 L 148.742188 246.488281 L 148.933594 247.097656 L 149.125 247.085938 L 149.316406 247.027344 L 149.507812 247.28125 L 149.703125 247.226562 L 149.894531 247.011719 L 150.085938 246.839844 L 150.277344 246.757812 L 150.46875 246.570312 L 150.664062 246.554688 L 150.855469 246.164062 L 151.046875 246.058594 L 151.238281 246.125 L 151.429688 246.175781 L 151.621094 246.109375 L 151.816406 246.371094 L 152.007812 245.5625 L 152.199219 245.59375 L 152.390625 245.644531 L 152.582031 244.136719 L 152.773438 243.804688 L 152.96875 243.496094 L 153.160156 243.496094 L 153.351562 243.46875 L 153.542969 242.878906 L 153.734375 242.867188 L 153.929688 243.089844 L 154.121094 243.160156 L 154.3125 243.503906 L 154.503906 243.492188 L 154.695312 243.515625 L 154.886719 243.605469 L 155.082031 243.414062 L 155.273438 242.890625 L 155.464844 242.851562 L 155.65625 243.175781 L 155.847656 242.921875 L 156.039062 242.964844 L 156.234375 242.734375 L 156.425781 242.765625 L 156.617188 242.6875 L 156.808594 242.671875 L 157 242.707031 L 157.195312 243.398438 L 157.386719 243.292969 L 157.578125 243.394531 L 157.769531 243.339844 L 157.960938 243.480469 L 158.152344 243.460938 L 158.347656 243.542969 L 158.539062 243.886719 L 158.730469 243.878906 L 158.921875 244.578125 L 159.113281 244.574219 L 159.304688 244.519531 L 159.5 244.328125 L 159.691406 244.320312 L 159.882812 244.429688 L 160.074219 244.5625 L 160.265625 243.792969 L 160.460938 243.75 L 160.652344 243.652344 L 160.84375 243.546875 L 161.035156 243.394531 L 161.226562 243.636719 L 161.417969 243.277344 L 161.613281 243.851562 L 161.804688 243.996094 L 161.996094 244.09375 L 162.1875 244.5625 L 162.378906 244.503906 L 162.570312 244.660156 L 162.765625 244.542969 L 162.957031 244.378906 L 163.148438 244.703125 L 163.339844 244.699219 L 163.53125 244.792969 L 163.726562 244.746094 L 163.917969 244.828125 L 164.109375 244.820312 L 164.300781 245.398438 L 164.492188 245.34375 L 164.683594 245.625 L 164.878906 245.195312 L 165.070312 245.085938 L 165.261719 245.027344 L 165.453125 244.816406 L 165.644531 244.503906 L 165.835938 244.167969 L 166.03125 244.148438 L 166.222656 243.984375 L 166.414062 244.0625 L 166.605469 244.046875 L 166.796875 244 L 166.992188 244.046875 L 167.183594 244.121094 L 167.375 244.203125 L 167.566406 244.308594 L 167.757812 244.453125 L 167.949219 244.394531 L 168.144531 244.582031 L 168.335938 244.777344 L 168.527344 244.9375 L 168.71875 244.914062 L 168.910156 245.035156 L 169.101562 245.257812 L 169.296875 245.417969 L 169.488281 245.21875 L 169.679688 245.214844 L 169.871094 244.945312 L 170.0625 244.976562 L 170.257812 244.867188 L 170.449219 245.183594 L 170.832031 245.628906 L 171.023438 245.300781 L 171.214844 245.070312 L 171.410156 244.976562 L 171.601562 244.816406 L 171.792969 244.828125 L 171.984375 244.640625 L 172.175781 244.75 L 172.367188 244.730469 L 172.5625 244.796875 L 172.753906 244.664062 L 172.945312 242.894531 L 173.136719 242.75 L 173.328125 242.789062 L 173.523438 242.746094 L 173.714844 242.601562 L 173.90625 242.441406 L 174.097656 241.484375 L 174.289062 241.496094 L 174.480469 241.535156 L 174.675781 241.539062 L 174.867188 241.578125 L 175.058594 241.808594 L 175.25 241.8125 L 175.441406 241.804688 L 175.632812 241.902344 L 175.828125 241.851562 L 176.019531 241.789062 L 176.210938 241.800781 L 176.402344 241.628906 L 176.59375 241.550781 L 176.789062 241.515625 L 176.980469 241.847656 L 177.171875 241.726562 L 177.363281 241.75 L 177.554688 242.007812 L 177.746094 242.332031 L 177.941406 242.511719 L 178.132812 242.71875 L 178.515625 242.671875 L 178.707031 242.941406 L 178.898438 242.929688 L 179.09375 242.976562 L 179.285156 242.355469 L 179.476562 242.125 L 179.667969 242.21875 L 179.859375 242.382812 L 180.054688 242.671875 L 180.246094 242.847656 L 180.4375 242.757812 L 180.628906 242.671875 L 180.820312 242.34375 L 181.011719 242.324219 L 181.207031 242.335938 L 181.398438 242.425781 L 181.589844 242.347656 L 181.78125 242.433594 L 181.972656 242.359375 L 182.164062 242.417969 L 182.359375 242.441406 L 182.550781 242.214844 L 182.742188 242.605469 L 182.933594 242.570312 L 183.125 242.773438 L 183.320312 242.457031 L 183.511719 242.277344 L 183.703125 242.222656 L 183.894531 242.179688 L 184.085938 242.265625 L 184.277344 242.210938 L 184.472656 242.675781 L 184.664062 242.5 L 184.855469 242.289062 L 185.046875 242.265625 L 185.238281 242.410156 L 185.429688 242.472656 L 185.625 242.363281 L 185.816406 242.222656 L 186.007812 242.21875 L 186.199219 242.257812 L 186.390625 242.257812 L 186.585938 242.339844 L 186.777344 242.324219 L 186.96875 242.332031 L 187.160156 242.414062 L 187.351562 242.230469 L 187.542969 242.226562 L 187.738281 242.179688 L 187.929688 242.636719 L 188.121094 242.566406 L 188.3125 242.558594 L 188.503906 243.089844 L 188.695312 243.160156 L 188.890625 243.105469 L 189.082031 243.023438 L 189.273438 242.648438 L 189.464844 242.621094 L 189.65625 242.632812 L 189.851562 242.511719 L 190.042969 242.425781 L 190.234375 242.515625 L 190.425781 242.523438 L 190.617188 242.304688 L 190.808594 242.175781 L 191.003906 242.046875 L 191.195312 241.5 L 191.386719 241.945312 L 191.578125 241.398438 L 191.769531 241.300781 L 191.960938 241.34375 L 192.15625 241.332031 L 192.347656 241.1875 L 192.539062 241.332031 L 192.730469 241.390625 L 192.921875 241.429688 L 193.117188 241.574219 L 193.308594 241.558594 L 193.5 241.460938 L 193.691406 241.453125 L 193.882812 241.761719 L 194.074219 241.738281 L 194.269531 241.738281 L 194.460938 241.859375 L 194.652344 241.777344 L 194.84375 242.484375 L 195.035156 241.539062 L 195.226562 241.730469 L 195.421875 242.300781 L 195.613281 242.292969 L 195.804688 242.320312 L 195.996094 242.378906 L 196.1875 242.503906 L 196.382812 242.46875 L 196.574219 242.808594 L 196.765625 243.089844 L 196.957031 242.925781 L 197.148438 242.757812 L 197.339844 242.542969 L 197.535156 242.554688 L 197.726562 242.347656 L 197.917969 242.652344 L 198.109375 242.632812 L 198.300781 242.675781 L 198.492188 242.667969 L 198.6875 242.714844 L 198.878906 242.644531 L 199.070312 242.597656 L 199.261719 242.664062 L 199.453125 242.621094 L 199.648438 242.460938 L 199.839844 242.378906 L 200.03125 242.796875 L 200.222656 242.734375 L 200.414062 242.796875 L 200.605469 242.785156 L 200.800781 242.527344 L 200.992188 242.425781 L 201.183594 242.554688 L 201.375 242.539062 L 201.566406 242.808594 L 201.757812 243.109375 L 201.953125 242.957031 L 202.144531 243.15625 L 202.335938 243.113281 L 202.527344 243.109375 L 202.71875 243.023438 L 202.914062 243.023438 L 203.105469 242.992188 L 203.296875 242.808594 L 203.488281 242.695312 L 203.679688 242.746094 L 203.871094 243.074219 L 204.066406 243.125 L 204.257812 243.722656 L 204.449219 243.695312 L 204.640625 243.886719 L 204.832031 244.253906 L 205.023438 244.332031 L 205.21875 244.210938 L 205.410156 244.234375 L 205.601562 244.417969 L 205.792969 244.082031 L 205.984375 244.339844 L 206.179688 244.359375 L 206.371094 244.441406 L 206.5625 244.554688 L 206.753906 244.601562 L 206.945312 244.671875 L 207.136719 244.785156 L 207.332031 244.851562 L 207.523438 245.203125 L 207.714844 245.277344 L 207.90625 245.378906 L 208.097656 245.359375 L 208.289062 245.230469 L 208.484375 245.09375 L 208.675781 245.09375 L 208.867188 245 L 209.058594 245.078125 L 209.25 245.148438 L 209.445312 245.148438 L 209.636719 245.347656 L 209.828125 245.269531 L 210.019531 245.195312 L 210.210938 245.253906 L 210.402344 245.261719 L 210.597656 245.257812 L 210.789062 245.304688 L 210.980469 245.015625 L 211.171875 245.167969 L 211.363281 245.441406 L 211.554688 245.585938 L 211.75 245.527344 L 211.941406 245.792969 L 212.132812 246.015625 L 212.324219 245.878906 L 212.515625 246.023438 L 212.710938 246.257812 L 212.902344 245.292969 L 213.09375 245.316406 L 213.285156 245.320312 L 213.476562 245.800781 L 213.667969 245.800781 L 213.863281 245.777344 L 214.054688 245.789062 L 214.246094 245.496094 L 214.4375 245.503906 L 214.628906 245.339844 L 214.820312 245.042969 L 215.015625 245.15625 L 215.207031 245.164062 L 215.398438 245.40625 L 215.589844 245.367188 L 215.78125 245.132812 L 215.976562 244.695312 L 216.167969 244.503906 L 216.359375 244.496094 L 216.550781 244.558594 L 216.742188 244.277344 L 216.933594 244.082031 L 217.128906 244.082031 L 217.320312 244.019531 L 217.511719 244.035156 L 217.703125 244.035156 L 217.894531 243.679688 L 218.085938 243.6875 L 218.28125 243.554688 L 218.472656 243.390625 L 218.664062 243.601562 L 218.855469 243.628906 L 219.046875 243.761719 L 219.242188 243.867188 L 219.433594 243.785156 L 219.625 243.871094 L 219.816406 243.902344 L 220.007812 243.953125 L 220.199219 243.925781 L 220.394531 243.949219 L 220.585938 243.945312 L 220.777344 243.847656 L 220.96875 243.894531 L 221.160156 243.96875 L 221.351562 243.949219 L 221.546875 243.667969 L 221.738281 243.652344 L 221.929688 243.597656 L 222.121094 243.460938 L 222.3125 243.457031 L 222.507812 243.277344 L 222.699219 243.144531 L 222.890625 243.179688 L 223.082031 243.171875 L 223.273438 243.21875 L 223.464844 243.242188 L 223.660156 243.296875 L 223.851562 243.355469 L 224.042969 243.316406 L 224.234375 243.140625 L 224.425781 243.214844 L 224.617188 243.171875 L 224.8125 243.339844 L 225.003906 243.070312 L 225.195312 243.0625 L 225.386719 242.992188 L 225.578125 242.988281 L 225.773438 243.25 L 225.964844 243.144531 L 226.15625 243.0625 L 226.347656 242.722656 L 226.539062 242.765625 L 226.730469 242.539062 L 226.925781 242.519531 L 227.117188 242.53125 L 227.308594 242.710938 L 227.5 242.6875 L 227.691406 242.589844 L 227.882812 242.59375 L 228.078125 242.59375 L 228.269531 242.816406 L 228.460938 242.824219 L 228.652344 242.757812 L 229.039062 242.757812 L 229.230469 242.832031 L 229.421875 242.539062 L 229.613281 242.554688 L 229.804688 242.554688 L 229.996094 242.625 L 230.191406 242.59375 L 230.382812 242.480469 L 230.574219 242.414062 L 230.765625 242.3125 L 230.957031 242.378906 L 231.148438 242.363281 L 231.34375 242.523438 L 231.535156 242.546875 L 231.726562 242.558594 L 231.917969 242.410156 L 232.109375 242.300781 L 232.304688 242.074219 L 232.496094 242.839844 L 232.6875 243.070312 L 232.878906 243.128906 L 233.070312 243.121094 L 233.261719 243.003906 L 233.457031 243.136719 L 233.648438 243.207031 L 233.839844 243.101562 L 234.03125 243.046875 L 234.222656 242.925781 L 234.414062 242.976562 L 234.609375 242.96875 L 234.800781 243.183594 L 234.992188 243.261719 L 235.183594 243.214844 L 235.375 243.566406 L 235.570312 243.671875 L 235.761719 243.671875 L 235.953125 243.71875 L 236.144531 243.582031 L 236.335938 243.566406 L 236.527344 243.511719 L 236.722656 243.335938 L 236.914062 244.035156 L 237.105469 243.539062 L 237.296875 243.527344 L 237.488281 243.613281 L 237.683594 243.621094 L 237.875 243.628906 L 238.066406 243.121094 L 238.257812 243.132812 L 238.449219 243.167969 L 238.640625 243.207031 L 238.835938 243.402344 L 239.027344 243.546875 L 239.21875 243.601562 L 239.410156 243.542969 L 239.601562 243.578125 L 239.792969 243.574219 L 239.988281 243.429688 L 240.179688 243.398438 L 240.371094 243.449219 L 240.5625 243.550781 L 240.753906 243.746094 L 240.949219 243.855469 L 241.140625 243.75 L 241.332031 243.84375 L 241.523438 243.785156 L 241.714844 243.691406 L 241.90625 243.699219 L 242.101562 243.714844 L 242.484375 243.714844 L 242.675781 243.925781 L 242.867188 244.078125 L 243.058594 244.167969 L 243.253906 244.324219 L 243.445312 243.910156 L 243.636719 243.910156 L 243.828125 243.722656 L 244.019531 243.871094 L 244.214844 243.828125 L 244.40625 243.535156 L 244.597656 243.535156 L 244.789062 243.539062 L 244.980469 243.769531 L 245.171875 243.65625 L 245.367188 243.527344 L 245.558594 243.503906 L 245.75 243.691406 L 245.941406 243.613281 L 246.132812 243.644531 L 246.324219 243.503906 L 246.519531 243.347656 L 246.710938 243.363281 L 246.902344 243.339844 L 247.09375 243.324219 L 247.285156 243.273438 L 247.480469 243.234375 L 247.671875 243.390625 L 247.863281 243.351562 L 248.054688 243.226562 L 248.246094 243.289062 L 248.4375 243.160156 L 248.632812 243.203125 L 248.824219 243.382812 L 249.015625 243.292969 L 249.207031 243.039062 L 249.398438 243.035156 L 249.589844 243.046875 L 249.785156 243.15625 L 249.976562 243.136719 L 250.167969 243.1875 L 250.359375 243.183594 L 250.550781 243.1875 L 250.746094 243.199219 L 250.9375 243.191406 L 251.128906 243.433594 L 251.320312 243.449219 L 251.511719 243.347656 L 251.703125 243.59375 L 251.898438 243.539062 L 252.089844 243.414062 L 252.28125 243.417969 L 252.472656 243.734375 L 252.664062 243.769531 L 252.855469 243.027344 L 253.050781 243.054688 L 253.242188 243.015625 L 253.433594 243.121094 L 253.625 243.097656 L 253.816406 243.035156 L 254.011719 242.960938 L 254.203125 242.960938 L 254.394531 242.957031 L 254.585938 242.949219 L 254.777344 242.976562 L 254.96875 243.460938 L 255.164062 243.632812 L 255.355469 243.550781 L 255.546875 243.550781 L 255.738281 243.910156 L 256.121094 243.925781 L 256.316406 243.703125 L 256.507812 243.691406 L 256.699219 243.605469 L 256.890625 243.347656 L 257.082031 243.214844 L 257.277344 243.207031 L 257.46875 243.257812 L 257.660156 243.589844 L 257.851562 243.589844 L 258.042969 243.621094 L 258.234375 243.601562 L 258.429688 243.625 L 258.621094 243.613281 L 258.8125 243.980469 L 259.003906 243.84375 L 259.195312 243.746094 L 259.386719 243.691406 L 259.582031 243.714844 L 259.773438 243.648438 L 259.964844 243.644531 L 260.15625 243.753906 L 260.347656 243.65625 L 260.542969 243.566406 L 260.734375 243.183594 L 260.925781 242.894531 L 261.117188 242.9375 L 261.308594 242.945312 L 261.5 242.824219 L 261.695312 242.777344 L 261.886719 242.75 L 262.078125 242.726562 L 262.269531 243.082031 L 262.460938 242.808594 L 262.652344 242.855469 L 262.847656 242.945312 L 263.039062 242.941406 L 263.230469 243.105469 L 263.421875 243.097656 L 263.613281 243.085938 L 263.808594 242.835938 L 264 243.039062 L 264.191406 243.058594 L 264.382812 242.992188 L 264.574219 243.1875 L 264.765625 243.179688 L 264.960938 243.148438 L 265.152344 242.972656 L 265.34375 243.621094 L 265.535156 243.578125 L 265.726562 243.648438 L 265.917969 243.691406 L 266.113281 243.953125 L 266.304688 243.851562 L 266.496094 243.878906 L 266.6875 244.023438 L 266.878906 244 L 267.074219 243.960938 L 267.265625 244.0625 L 267.457031 244.066406 L 267.648438 244.085938 L 267.839844 244.058594 L 268.03125 244.035156 L 268.226562 244.039062 L 268.417969 243.941406 L 268.609375 244.078125 L 268.800781 244.089844 L 268.992188 244.085938 L 269.183594 244.445312 L 269.378906 244.058594 L 269.570312 244.054688 L 269.761719 244.152344 L 269.953125 244.273438 L 270.144531 244.269531 L 270.339844 244.1875 L 270.53125 244.195312 L 270.722656 243.886719 L 270.914062 243.703125 L 271.105469 243.5625 L 271.296875 243.664062 L 271.492188 243.808594 L 271.683594 243.867188 L 271.875 243.804688 L 272.066406 243.71875 L 272.257812 243.679688 L 272.449219 243.664062 L 272.644531 243.8125 L 272.835938 243.890625 L 273.027344 243.859375 L 273.21875 244.109375 L 273.410156 244.136719 L 273.605469 243.511719 L 273.796875 243.6875 L 273.988281 243.703125 L 274.179688 243.773438 L 274.371094 243.925781 L 274.5625 243.78125 L 274.757812 243.761719 L 274.949219 243.800781 L 275.140625 243.871094 L 275.332031 243.972656 L 275.523438 243.972656 L 275.714844 244 L 275.910156 243.636719 L 276.101562 243.625 L 276.292969 243.570312 L 276.484375 243.429688 L 276.675781 243.445312 L 276.871094 243.433594 L 277.0625 243.507812 L 277.253906 243.507812 L 277.445312 243.492188 L 277.636719 243.132812 L 277.828125 243.109375 L 278.023438 243.03125 L 278.214844 242.957031 L 278.40625 242.984375 L 278.597656 242.890625 L 278.980469 242.90625 L 279.175781 243.101562 L 279.367188 242.363281 L 279.558594 242.417969 L 279.75 242.394531 L 279.941406 242.121094 L 280.136719 242.238281 L 280.328125 242.214844 L 280.519531 242.058594 L 280.710938 242.222656 L 280.902344 242.152344 L 281.09375 241.773438 L 281.289062 241.820312 L 281.480469 241.78125 L 281.671875 241.726562 L 281.863281 242.480469 L 282.054688 242.53125 L 282.246094 242.519531 L 282.441406 242.566406 L 282.632812 242.636719 L 282.824219 242.636719 L 283.015625 242.601562 L 283.207031 242.644531 L 283.402344 242.601562 L 283.59375 242.601562 L 283.785156 242.648438 L 283.976562 242.617188 L 284.167969 242.664062 L 284.359375 242.390625 L 284.554688 242.425781 L 284.746094 243.105469 L 284.9375 242.964844 L 285.128906 242.890625 L 285.320312 242.792969 L 285.511719 242.777344 L 285.898438 242.777344 L 286.089844 242.78125 L 286.28125 242.746094 L 286.472656 242.625 L 286.667969 242.628906 L 286.859375 242.871094 L 287.050781 242.867188 L 287.242188 242.929688 L 287.433594 242.921875 L 287.625 242.882812 L 287.820312 242.898438 L 288.011719 243.109375 L 288.203125 243.164062 L 288.394531 242.996094 L 288.585938 242.859375 L 288.777344 242.5625 L 288.972656 242.488281 L 289.164062 242.355469 L 289.355469 242.179688 L 289.546875 242.210938 L 289.738281 242.207031 L 289.933594 242.621094 L 290.125 242.679688 L 290.316406 242.734375 L 290.507812 242.621094 L 290.699219 242.621094 L 290.890625 242.820312 L 291.085938 243.398438 L 291.46875 243.390625 L 291.660156 243.589844 L 291.851562 243.417969 L 292.042969 243.433594 L 292.238281 243.746094 L 292.429688 243.730469 L 292.621094 243.804688 L 292.8125 243.78125 L 293.003906 243.78125 L 293.199219 243.5625 L 293.390625 243.960938 L 293.582031 244.082031 L 293.773438 244.304688 L 293.964844 244.375 L 294.15625 244.476562 L 294.351562 244.632812 L 294.542969 244.644531 L 294.734375 244.628906 L 294.925781 244.40625 L 295.117188 244.175781 L 295.308594 244.113281 L 295.503906 244.125 L 295.695312 244.132812 L 295.886719 244.230469 L 296.078125 243.929688 L 296.269531 243.871094 L 296.464844 243.777344 L 296.65625 243.769531 L 296.847656 243.785156 L 297.039062 243.792969 L 297.230469 243.527344 L 297.421875 243.503906 L 297.617188 243.546875 L 297.808594 243.625 L 298 243.605469 L 298.191406 243.496094 L 298.382812 243.496094 L 298.574219 243.445312 L 298.769531 243.433594 L 298.960938 243.308594 L 299.152344 243.097656 L 299.34375 243.128906 L 299.535156 243.027344 L 299.730469 242.851562 L 299.921875 242.894531 L 300.113281 243.074219 L 300.304688 242.695312 L 300.496094 242.753906 L 300.6875 242.738281 L 300.882812 242.757812 L 301.074219 242.738281 L 301.265625 242.773438 L 301.457031 242.746094 L 301.648438 243.109375 L 301.839844 243.4375 L 302.035156 243.433594 L 302.226562 243.425781 L 302.417969 243.621094 L 302.609375 243.125 L 302.800781 243.082031 L 302.996094 243.082031 L 303.1875 243.0625 L 303.378906 243.015625 L 303.570312 242.910156 L 303.761719 242.960938 L 303.953125 242.957031 L 304.148438 242.953125 L 304.339844 242.996094 L 304.53125 242.960938 L 304.722656 242.957031 L 304.914062 242.957031 L 305.105469 242.90625 L 305.300781 242.90625 L 305.492188 242.875 L 305.683594 242.855469 L 305.875 242.925781 L 306.066406 242.957031 L 306.261719 243.046875 L 306.453125 243.03125 L 306.644531 243.105469 L 306.835938 242.945312 L 307.027344 243.03125 L 307.21875 243.03125 L 307.414062 243.128906 L 307.605469 242.976562 L 307.796875 242.980469 L 307.988281 242.976562 L 308.179688 243.011719 L 308.371094 243.019531 L 308.566406 243.058594 L 308.757812 243.164062 L 308.949219 243.355469 L 309.140625 243.347656 L 309.332031 243.476562 L 309.527344 243.890625 L 309.71875 243.890625 L 309.910156 243.972656 L 310.101562 243.886719 L 310.292969 243.867188 L 310.484375 243.972656 L 310.679688 243.914062 L 310.871094 243.921875 L 311.0625 243.945312 L 311.253906 243.894531 L 311.445312 243.992188 L 311.636719 243.816406 L 311.832031 243.828125 L 312.023438 243.804688 L 312.214844 243.808594 L 312.40625 243.816406 L 312.597656 243.773438 L 312.792969 243.804688 L 312.984375 243.796875 L 313.175781 243.757812 L 313.367188 243.8125 L 313.558594 243.757812 L 313.75 243.742188 L 313.945312 243.621094 L 314.136719 243.652344 L 314.328125 243.882812 L 314.710938 243.773438 L 314.902344 243.722656 L 315.097656 243.785156 L 315.289062 243.953125 L 315.480469 243.980469 L 315.671875 243.980469 L 315.863281 243.988281 L 316.058594 244.730469 L 316.25 244.734375 L 316.441406 244.734375 L 316.632812 244.671875 L 316.824219 245.023438 L 317.015625 245.054688 L 317.210938 244.921875 L 317.402344 244.925781 L 317.59375 244.859375 L 317.785156 244.75 L 317.976562 244.835938 L 318.167969 244.875 L 318.363281 244.78125 L 318.554688 244.828125 L 318.746094 244.816406 L 318.9375 244.816406 L 319.128906 244.808594 L 319.324219 244.785156 L 319.707031 244.769531 L 319.898438 244.511719 L 320.089844 243.984375 L 320.28125 244.023438 L 320.476562 244.28125 L 320.667969 244.261719 L 320.859375 244.136719 L 321.050781 244.585938 L 321.242188 244.554688 L 321.433594 244.425781 L 321.628906 244.40625 L 321.820312 244.511719 L 322.011719 244.550781 L 322.203125 244.507812 L 322.394531 244.503906 L 322.589844 244.636719 L 322.78125 244.625 L 322.972656 244.566406 L 323.164062 244.648438 L 323.355469 244.644531 L 323.546875 244.621094 L 323.742188 244.769531 L 323.933594 244.941406 L 324.125 245.011719 L 324.316406 245.332031 L 324.507812 245.414062 L 324.699219 245.160156 L 324.894531 245.140625 L 325.085938 245.136719 L 325.277344 245.128906 L 325.46875 244.957031 L 325.660156 244.914062 L 325.855469 244.816406 L 326.046875 244.800781 L 326.238281 244.769531 L 326.429688 244.847656 L 326.621094 245.121094 L 326.8125 245.363281 L 327.007812 245.3125 L 327.199219 245.1875 L 327.390625 245.210938 L 327.582031 245.15625 L 327.773438 245.160156 L 327.964844 245.105469 L 328.160156 244.691406 L 328.351562 244.550781 L 328.542969 244.375 L 328.734375 244.402344 L 328.925781 244.367188 L 329.121094 244.371094 L 329.3125 244.585938 L 329.503906 244.59375 L 329.695312 244.507812 L 329.886719 244.289062 L 330.078125 244.207031 L 330.273438 244.550781 L 330.464844 244.609375 L 330.65625 244.617188 L 330.847656 244.59375 L 331.039062 244.59375 L 331.230469 244.613281 L 331.425781 244.621094 L 331.617188 244.605469 L 331.808594 244.570312 L 332 244.101562 L 332.191406 243.726562 L 332.386719 243.847656 L 332.578125 243.878906 L 332.769531 243.890625 L 332.960938 243.972656 L 333.152344 244.246094 L 333.34375 244.457031 L 333.539062 244.4375 L 333.730469 244.417969 L 333.921875 244.457031 L 334.113281 244.429688 L 334.304688 244.089844 L 334.5 243.964844 L 334.691406 243.882812 L 334.882812 243.875 L 335.074219 243.863281 L 335.265625 243.941406 L 335.457031 243.832031 L 335.652344 243.71875 L 335.84375 243.726562 L 336.035156 243.617188 L 336.226562 243.410156 L 336.417969 243.46875 L 336.609375 243.488281 L 336.804688 243.492188 L 336.996094 243.503906 L 337.1875 243.574219 L 337.378906 243.746094 L 337.570312 243.726562 L 337.765625 243.695312 L 337.957031 243.753906 L 338.148438 243.679688 L 338.339844 243.683594 L 338.53125 243.59375 L 338.722656 243.535156 L 338.917969 243.527344 L 339.109375 243.484375 L 339.300781 243.457031 L 339.492188 243.453125 L 339.683594 243.453125 L 339.875 243.441406 L 340.070312 243.441406 L 340.261719 243.269531 L 340.453125 243.207031 L 340.644531 243.230469 L 340.835938 243.214844 L 341.03125 243.222656 L 341.222656 243.371094 L 341.414062 243.074219 L 341.605469 243.089844 L 341.796875 243.21875 L 341.988281 243.414062 L 342.183594 243.417969 L 342.375 243.410156 L 342.566406 243.398438 L 342.757812 243.394531 L 342.949219 243.222656 L 343.140625 243.273438 L 343.335938 242.953125 L 343.527344 242.964844 L 343.71875 242.996094 L 343.910156 242.992188 L 344.101562 242.902344 L 344.296875 242.632812 L 344.488281 242.703125 L 344.679688 242.808594 L 344.871094 242.707031 L 345.0625 242.695312 L 345.253906 242.90625 L 345.449219 242.761719 L 345.640625 242.882812 L 345.832031 242.875 L 346.023438 243.171875 L 346.214844 243.089844 L 346.40625 243.089844 L 346.601562 243.148438 L 346.792969 243.058594 L 346.984375 243.046875 L 347.175781 242.949219 L 347.367188 243.007812 L 347.5625 242.839844 L 347.753906 242.789062 L 347.945312 242.910156 L 348.136719 242.90625 L 348.328125 242.835938 L 348.519531 242.832031 L 348.714844 243 L 348.90625 243.011719 L 349.097656 243.011719 L 349.289062 243.050781 L 349.480469 243.050781 L 349.671875 243.0625 L 349.867188 243.183594 L 350.058594 242.960938 L 350.25 242.988281 L 350.441406 242.964844 L 350.632812 242.761719 L 350.828125 242.605469 L 351.019531 242.640625 L 351.210938 242.554688 L 351.402344 242.34375 L 351.59375 242.34375 L 351.785156 242.023438 L 351.980469 241.929688 L 352.171875 241.902344 L 352.363281 241.902344 L 352.554688 241.910156 L 352.746094 241.902344 L 352.9375 241.875 L 353.132812 241.8125 L 353.324219 241.816406 L 353.515625 241.636719 L 353.707031 241.632812 L 353.898438 241.742188 L 354.09375 241.753906 L 354.285156 241.578125 L 354.476562 241.621094 L 354.667969 241.652344 L 354.859375 241.636719 L 355.050781 241.683594 L 355.246094 241.6875 L 355.4375 241.597656 L 355.628906 241.839844 L 355.820312 241.816406 L 356.011719 242.003906 L 356.203125 242.003906 L 356.398438 242.074219 L 356.589844 241.996094 L 356.78125 241.992188 L 356.972656 242.171875 L 357.164062 242.179688 L 357.359375 242.101562 L 357.550781 242.257812 L 357.742188 242.300781 L 357.933594 242.382812 L 358.125 242.433594 L 358.316406 242.199219 L 358.511719 242.222656 L 358.703125 242.222656 L 358.894531 242.128906 L 359.085938 242.046875 L 359.277344 242.050781 L 359.46875 241.921875 L 359.664062 241.800781 L 359.855469 241.90625 L 360.046875 241.902344 L 360.238281 241.863281 L 360.429688 242.160156 L 360.625 242.085938 L 360.816406 242.160156 L 361.007812 242.238281 L 361.199219 242.25 L 361.390625 242.3125 L 361.582031 242.324219 L 361.777344 242.328125 L 361.96875 242.304688 L 362.160156 242.332031 L 362.351562 242.351562 L 362.542969 242.351562 L 362.734375 242.28125 L 362.929688 242.363281 L 363.121094 242.257812 L 363.3125 242.335938 L 363.503906 242.390625 L 363.695312 242.359375 L 363.890625 242.371094 L 364.082031 242.355469 L 364.273438 242.328125 L 364.464844 242.367188 L 364.65625 242.324219 L 364.847656 242.285156 L 365.042969 242.226562 L 365.234375 242.207031 L 365.425781 242.132812 L 365.617188 242.132812 L 365.808594 242.140625 L 366 242.050781 L 366.195312 242.121094 L 366.386719 242.097656 L 366.578125 242.027344 L 366.769531 242.113281 L 366.960938 242 L 367.15625 241.996094 L 367.347656 241.773438 L 367.539062 241.773438 L 367.730469 241.785156 L 367.921875 241.78125 L 368.113281 241.78125 L 368.308594 241.804688 L 368.5 241.859375 L 368.691406 241.796875 L 368.882812 241.800781 L 369.074219 241.9375 L 369.265625 241.945312 L 369.460938 241.898438 L 369.652344 241.957031 L 369.84375 241.605469 L 370.035156 241.59375 L 370.226562 241.300781 L 370.421875 241.324219 L 370.613281 241.582031 L 370.996094 241.441406 L 371.1875 241.527344 L 371.378906 241.507812 L 371.574219 241.46875 L 371.765625 241.472656 L 371.957031 241.46875 L 372.148438 241.449219 L 372.339844 241.421875 L 372.53125 241.308594 L 372.726562 241.449219 L 372.917969 241.421875 L 373.109375 241.441406 L 373.300781 241.605469 L 373.492188 241.601562 L 373.6875 241.503906 L 373.878906 241.601562 L 374.070312 241.5625 L 374.261719 241.59375 L 374.453125 241.570312 L 374.644531 241.570312 L 374.839844 241.582031 L 375.03125 241.34375 L 375.222656 241.3125 L 375.414062 241.3125 L 375.605469 241.304688 L 375.796875 241.222656 L 375.992188 241.21875 L 376.183594 241.488281 L 376.375 241.488281 L 376.566406 241.503906 L 376.757812 241.492188 L 376.953125 241.492188 L 377.144531 241.441406 L 377.335938 241.523438 L 377.527344 241.515625 L 377.71875 241.449219 L 377.910156 241.386719 L 378.105469 241.386719 L 378.296875 241.355469 L 378.488281 241.296875 L 378.679688 241.117188 L 378.871094 240.988281 L 379.0625 240.972656 L 379.257812 240.960938 L 379.449219 240.984375 L 379.640625 240.996094 L 379.832031 240.980469 L 380.023438 240.976562 L 380.21875 240.789062 L 380.410156 240.855469 L 380.601562 240.832031 L 380.792969 240.847656 L 380.984375 240.964844 L 381.175781 240.953125 L 381.371094 240.984375 L 381.5625 240.945312 L 381.753906 240.921875 L 381.945312 240.996094 L 382.136719 240.867188 L 382.328125 240.800781 L 382.523438 240.53125 L 382.714844 240.410156 L 382.90625 240.390625 L 383.097656 240.417969 L 383.289062 240.480469 L 383.484375 240.570312 L 383.675781 240.625 L 383.867188 240.644531 L 384.058594 240.65625 L 384.25 240.460938 L 384.441406 240.515625 L 384.636719 240.773438 L 384.828125 240.878906 L 385.019531 240.90625 L 385.210938 240.902344 L 385.402344 240.882812 L 385.59375 240.882812 L 385.789062 240.953125 L 385.980469 241.054688 L 386.171875 241.113281 L 386.363281 241.175781 L 386.554688 241.105469 L 386.75 241.015625 L 386.941406 240.9375 L 387.132812 241.039062 L 387.324219 241.023438 L 387.515625 240.976562 L 387.707031 240.953125 L 387.902344 241.136719 L 388.09375 241.273438 L 388.285156 241.40625 L 388.476562 241.507812 L 388.667969 241.625 L 388.859375 241.628906 L 389.054688 241.578125 L 389.246094 241.464844 L 389.4375 241.507812 L 389.628906 241.445312 L 389.820312 241.433594 L 390.015625 241.316406 L 390.207031 241.371094 L 390.398438 241.429688 L 390.589844 241.378906 L 390.78125 241.558594 L 390.972656 241.472656 L 391.167969 241.445312 L 391.359375 241.234375 L 391.550781 241.078125 L 391.742188 241.191406 L 391.933594 241.179688 L 392.125 241.1875 L 392.320312 241.179688 L 392.511719 241.3125 L 392.703125 241.199219 L 392.894531 241.230469 L 393.085938 241.269531 L 393.28125 241.273438 L 393.472656 241.253906 L 393.664062 241.238281 L 393.855469 241.171875 L 394.046875 241.160156 L 394.238281 241.132812 L 394.433594 241.175781 L 394.625 241.265625 L 394.816406 241.253906 L 395.007812 241.238281 L 395.199219 241.25 L 395.390625 241.359375 L 395.585938 241.335938 L 395.777344 241.53125 L 395.96875 241.554688 L 396.160156 241.554688 L 396.351562 241.769531 L 396.546875 241.421875 L 396.738281 241.417969 L 396.929688 241.398438 L 397.121094 241.386719 L 397.3125 241.492188 L 397.503906 241.5625 L 397.699219 241.570312 L 397.890625 241.585938 L 398.082031 241.535156 L 398.464844 241.488281 L 398.65625 241.566406 L 398.851562 241.582031 L 399.042969 241.660156 L 399.425781 241.691406 L 399.617188 241.679688 L 399.8125 241.691406 L 400.003906 241.699219 L 400.195312 241.777344 L 400.386719 241.78125 L 400.578125 241.8125 L 400.769531 241.785156 L 400.964844 241.753906 L 401.15625 241.859375 L 401.347656 241.980469 L 401.539062 241.910156 L 401.730469 241.851562 L 401.921875 241.769531 L 402.117188 241.699219 L 402.308594 241.488281 L 402.5 241.496094 L 402.691406 241.652344 L 402.882812 241.632812 L 403.078125 241.613281 L 403.269531 241.621094 L 403.460938 241.65625 L 403.652344 241.539062 L 403.84375 241.757812 L 404.035156 241.761719 L 404.230469 241.695312 L 404.421875 241.582031 L 404.613281 241.585938 L 404.804688 241.597656 L 404.996094 241.636719 L 405.1875 241.679688 L 405.382812 241.675781 L 405.574219 241.6875 L 405.765625 241.648438 L 405.957031 241.554688 L 406.148438 241.550781 L 406.34375 241.488281 L 406.535156 241.453125 L 406.726562 241.445312 L 406.917969 241.460938 L 407.109375 241.722656 L 407.300781 241.738281 L 407.496094 241.621094 L 407.6875 241.621094 L 407.878906 241.613281 L 408.070312 241.613281 L 408.261719 241.65625 L 408.453125 241.667969 L 408.648438 241.511719 L 408.839844 241.566406 L 409.03125 241.566406 L 409.222656 241.578125 L 409.414062 241.605469 L 409.609375 241.4375 L 409.800781 241.414062 L 409.992188 241.4375 L 410.183594 241.441406 L 410.375 241.4375 L 410.566406 241.652344 L 410.761719 241.636719 L 410.953125 241.578125 L 411.144531 241.558594 L 411.335938 241.589844 L 411.527344 241.523438 L 411.71875 241.476562 L 411.914062 241.398438 L 412.105469 241.34375 L 412.296875 241.371094 L 412.488281 241.492188 L 412.679688 241.511719 L 412.875 241.546875 L 413.066406 241.640625 L 413.257812 241.75 L 413.449219 241.71875 L 413.640625 241.789062 L 413.832031 241.585938 L 414.027344 241.582031 L 414.21875 241.589844 L 414.410156 241.585938 L 414.601562 241.539062 L 414.792969 241.5625 L 414.984375 241.6875 L 415.179688 241.628906 L 415.371094 241.832031 L 415.5625 241.824219 L 415.753906 241.851562 L 415.945312 241.847656 L 416.140625 241.980469 L 416.332031 241.707031 L 416.523438 241.796875 L 416.714844 241.691406 L 416.90625 241.671875 L 417.097656 241.675781 L 417.292969 241.667969 L 417.484375 241.691406 L 417.675781 241.699219 L 417.867188 241.597656 L 418.058594 241.59375 L 418.25 241.691406 L 418.445312 241.675781 L 418.636719 241.671875 L 418.828125 241.574219 L 419.019531 241.574219 L 419.210938 241.566406 L 419.40625 241.546875 L 419.597656 241.417969 L 419.789062 241.457031 L 419.980469 241.488281 L 420.171875 241.546875 L 420.363281 241.597656 L 420.558594 241.746094 L 420.75 241.824219 L 420.941406 241.710938 L 421.132812 241.613281 L 421.324219 241.488281 L 421.515625 241.546875 L 421.710938 241.539062 L 421.902344 241.542969 L 422.09375 241.679688 L 422.285156 241.679688 L 422.476562 241.792969 L 422.671875 241.761719 L 422.863281 242.191406 L 423.054688 242.210938 L 423.246094 242.210938 L 423.4375 242.226562 L 423.628906 242.234375 L 423.824219 242.328125 L 424.015625 242.421875 L 424.207031 242.550781 L 424.398438 242.464844 L 424.589844 242.484375 L 424.78125 242.472656 L 424.976562 242.472656 L 425.167969 242.402344 L 425.359375 242.386719 L 425.550781 242.398438 L 425.742188 242.386719 L 425.9375 242.160156 L 426.128906 242.253906 L 426.320312 242.085938 L 426.511719 242.242188 L 426.703125 242.257812 L 426.894531 242.285156 L 427.089844 242.246094 L 427.28125 242.246094 L 427.472656 242.320312 L 427.664062 242.414062 L 427.855469 242.554688 L 428.046875 242.675781 L 428.242188 242.691406 L 428.433594 242.769531 L 428.625 242.902344 L 428.816406 242.886719 L 429.007812 242.886719 L 429.203125 242.867188 L 429.394531 242.832031 L 429.585938 242.914062 L 429.777344 242.839844 L 429.96875 242.949219 L 430.160156 242.910156 L 430.355469 242.90625 L 430.546875 242.921875 L 430.738281 242.863281 L 430.929688 242.855469 L 431.121094 242.894531 L 431.316406 242.894531 L 431.507812 242.898438 L 431.699219 242.84375 L 431.890625 242.867188 L 432.082031 242.886719 L 432.273438 242.902344 L 432.46875 242.90625 L 432.660156 242.925781 L 432.851562 242.867188 L 433.042969 242.855469 L 433.234375 242.757812 L 433.425781 242.71875 L 433.621094 242.671875 L 433.8125 242.691406 L 434.003906 242.59375 L 434.195312 242.597656 L 434.386719 242.621094 L 434.582031 242.613281 L 434.773438 242.628906 L 434.964844 242.660156 L 435.15625 242.648438 L 435.347656 242.714844 L 435.539062 242.710938 L 435.734375 242.726562 L 435.925781 242.730469 L 436.117188 242.722656 L 436.308594 242.722656 L 436.5 242.679688 L 436.691406 242.667969 L 436.886719 242.667969 L 437.078125 242.683594 L 437.269531 242.652344 L 437.460938 242.535156 L 437.652344 242.789062 L 437.847656 242.789062 L 438.039062 242.777344 L 438.230469 242.703125 L 438.421875 242.703125 L 438.613281 242.675781 L 438.804688 242.660156 L 439 242.53125 L 439.191406 242.222656 L 439.382812 242.203125 L 439.574219 242.078125 L 439.765625 242.101562 L 439.957031 242.300781 L 440.152344 242.40625 L 440.34375 242.457031 L 440.535156 242.433594 L 440.726562 242.386719 L 440.917969 242.320312 L 441.113281 242.332031 L 441.496094 242.316406 L 441.6875 242.304688 L 441.878906 242.273438 L 442.070312 242.292969 L 442.265625 242.324219 L 442.457031 242.355469 L 442.648438 242.414062 L 442.839844 242.398438 L 443.03125 242.394531 L 443.222656 242.359375 L 443.417969 242.324219 L 443.609375 242.375 L 443.800781 242.429688 L 443.992188 242.433594 L 444.183594 242.402344 L 444.378906 242.378906 L 444.570312 242.386719 L 444.761719 242.339844 L 444.953125 242.3125 L 445.144531 242.308594 L 445.335938 242.308594 L 445.53125 242.363281 L 445.722656 242.359375 L 445.914062 242.371094 L 446.105469 242.328125 L 446.296875 242.25 L 446.488281 242.164062 L 446.683594 241.808594 L 446.875 241.875 L 447.066406 241.984375 L 447.257812 241.882812 L 447.449219 241.917969 L 447.644531 241.976562 L 447.835938 241.976562 L 448.027344 242.023438 L 448.21875 241.992188 L 448.410156 241.996094 L 448.601562 241.910156 L 448.796875 241.945312 L 448.988281 241.625 L 449.179688 241.636719 L 449.371094 241.605469 L 449.5625 241.515625 L 449.753906 241.820312 L 449.949219 242.085938 L 450.140625 242.054688 L 450.332031 242.054688 L 450.523438 242.210938 L 450.714844 242.121094 L 450.910156 242.121094 L 451.101562 242.074219 L 451.292969 242.046875 L 451.484375 242.035156 L 451.675781 242.003906 L 451.867188 241.921875 L 452.0625 241.828125 L 452.253906 241.921875 L 452.445312 241.921875 L 452.636719 241.894531 L 452.828125 241.976562 L 453.019531 241.980469 L 453.214844 241.976562 L 453.40625 241.988281 L 453.597656 241.992188 L 453.789062 242.082031 L 453.980469 242.0625 L 454.175781 242.03125 L 454.367188 242.046875 L 454.558594 242.109375 L 454.941406 242.070312 L 455.132812 242.078125 L 455.328125 242.105469 L 455.519531 242.097656 L 455.710938 242.066406 L 455.902344 242.09375 L 456.09375 242.089844 L 456.285156 242.054688 L 456.480469 242.199219 L 456.671875 242.230469 L 457.054688 242.230469 L 457.246094 242.332031 L 457.441406 242.324219 L 457.632812 242.324219 L 457.824219 242.3125 L 458.015625 242.246094 L 458.207031 242.253906 L 458.398438 242.238281 \"/>\n",
       "<path style=\"fill:none;stroke-width:0.75;stroke-linecap:round;stroke-linejoin:round;stroke:rgb(0%,0%,0%);stroke-opacity:1;stroke-miterlimit:10;\" d=\"M 74.207031 430.558594 L 458.398438 430.558594 \"/>\n",
       "<path style=\"fill:none;stroke-width:0.75;stroke-linecap:round;stroke-linejoin:round;stroke:rgb(0%,0%,0%);stroke-opacity:1;stroke-miterlimit:10;\" d=\"M 74.207031 430.558594 L 74.207031 437.761719 \"/>\n",
       "<path style=\"fill:none;stroke-width:0.75;stroke-linecap:round;stroke-linejoin:round;stroke:rgb(0%,0%,0%);stroke-opacity:1;stroke-miterlimit:10;\" d=\"M 170.257812 430.558594 L 170.257812 437.761719 \"/>\n",
       "<path style=\"fill:none;stroke-width:0.75;stroke-linecap:round;stroke-linejoin:round;stroke:rgb(0%,0%,0%);stroke-opacity:1;stroke-miterlimit:10;\" d=\"M 266.304688 430.558594 L 266.304688 437.761719 \"/>\n",
       "<path style=\"fill:none;stroke-width:0.75;stroke-linecap:round;stroke-linejoin:round;stroke:rgb(0%,0%,0%);stroke-opacity:1;stroke-miterlimit:10;\" d=\"M 362.351562 430.558594 L 362.351562 437.761719 \"/>\n",
       "<path style=\"fill:none;stroke-width:0.75;stroke-linecap:round;stroke-linejoin:round;stroke:rgb(0%,0%,0%);stroke-opacity:1;stroke-miterlimit:10;\" d=\"M 458.398438 430.558594 L 458.398438 437.761719 \"/>\n",
       "<g style=\"fill:rgb(0%,0%,0%);fill-opacity:1;\">\n",
       "  <use xlink:href=\"#glyph0-1\" x=\"70.871094\" y=\"456.480469\"/>\n",
       "</g>\n",
       "<g style=\"fill:rgb(0%,0%,0%);fill-opacity:1;\">\n",
       "  <use xlink:href=\"#glyph0-2\" x=\"160.246094\" y=\"456.480469\"/>\n",
       "  <use xlink:href=\"#glyph0-1\" x=\"166.919922\" y=\"456.480469\"/>\n",
       "  <use xlink:href=\"#glyph0-1\" x=\"173.59375\" y=\"456.480469\"/>\n",
       "</g>\n",
       "<g style=\"fill:rgb(0%,0%,0%);fill-opacity:1;\">\n",
       "  <use xlink:href=\"#glyph0-3\" x=\"252.957031\" y=\"456.480469\"/>\n",
       "  <use xlink:href=\"#glyph0-1\" x=\"259.630859\" y=\"456.480469\"/>\n",
       "  <use xlink:href=\"#glyph0-1\" x=\"266.304688\" y=\"456.480469\"/>\n",
       "  <use xlink:href=\"#glyph0-1\" x=\"272.978516\" y=\"456.480469\"/>\n",
       "</g>\n",
       "<g style=\"fill:rgb(0%,0%,0%);fill-opacity:1;\">\n",
       "  <use xlink:href=\"#glyph0-3\" x=\"349.003906\" y=\"456.480469\"/>\n",
       "  <use xlink:href=\"#glyph0-2\" x=\"355.677734\" y=\"456.480469\"/>\n",
       "  <use xlink:href=\"#glyph0-1\" x=\"362.351562\" y=\"456.480469\"/>\n",
       "  <use xlink:href=\"#glyph0-1\" x=\"369.025391\" y=\"456.480469\"/>\n",
       "</g>\n",
       "<g style=\"fill:rgb(0%,0%,0%);fill-opacity:1;\">\n",
       "  <use xlink:href=\"#glyph0-4\" x=\"445.050781\" y=\"456.480469\"/>\n",
       "  <use xlink:href=\"#glyph0-1\" x=\"451.724609\" y=\"456.480469\"/>\n",
       "  <use xlink:href=\"#glyph0-1\" x=\"458.398438\" y=\"456.480469\"/>\n",
       "  <use xlink:href=\"#glyph0-1\" x=\"465.072266\" y=\"456.480469\"/>\n",
       "</g>\n",
       "<path style=\"fill:none;stroke-width:0.75;stroke-linecap:round;stroke-linejoin:round;stroke:rgb(0%,0%,0%);stroke-opacity:1;stroke-miterlimit:10;\" d=\"M 59.039062 416.800781 L 59.039062 72.800781 \"/>\n",
       "<path style=\"fill:none;stroke-width:0.75;stroke-linecap:round;stroke-linejoin:round;stroke:rgb(0%,0%,0%);stroke-opacity:1;stroke-miterlimit:10;\" d=\"M 59.039062 416.800781 L 51.839844 416.800781 \"/>\n",
       "<path style=\"fill:none;stroke-width:0.75;stroke-linecap:round;stroke-linejoin:round;stroke:rgb(0%,0%,0%);stroke-opacity:1;stroke-miterlimit:10;\" d=\"M 59.039062 348 L 51.839844 348 \"/>\n",
       "<path style=\"fill:none;stroke-width:0.75;stroke-linecap:round;stroke-linejoin:round;stroke:rgb(0%,0%,0%);stroke-opacity:1;stroke-miterlimit:10;\" d=\"M 59.039062 279.199219 L 51.839844 279.199219 \"/>\n",
       "<path style=\"fill:none;stroke-width:0.75;stroke-linecap:round;stroke-linejoin:round;stroke:rgb(0%,0%,0%);stroke-opacity:1;stroke-miterlimit:10;\" d=\"M 59.039062 210.398438 L 51.839844 210.398438 \"/>\n",
       "<path style=\"fill:none;stroke-width:0.75;stroke-linecap:round;stroke-linejoin:round;stroke:rgb(0%,0%,0%);stroke-opacity:1;stroke-miterlimit:10;\" d=\"M 59.039062 141.601562 L 51.839844 141.601562 \"/>\n",
       "<path style=\"fill:none;stroke-width:0.75;stroke-linecap:round;stroke-linejoin:round;stroke:rgb(0%,0%,0%);stroke-opacity:1;stroke-miterlimit:10;\" d=\"M 59.039062 72.800781 L 51.839844 72.800781 \"/>\n",
       "<g style=\"fill:rgb(0%,0%,0%);fill-opacity:1;\">\n",
       "  <use xlink:href=\"#glyph1-1\" x=\"41.761719\" y=\"425.140625\"/>\n",
       "  <use xlink:href=\"#glyph1-2\" x=\"41.761719\" y=\"418.466797\"/>\n",
       "  <use xlink:href=\"#glyph1-1\" x=\"41.761719\" y=\"415.132812\"/>\n",
       "</g>\n",
       "<g style=\"fill:rgb(0%,0%,0%);fill-opacity:1;\">\n",
       "  <use xlink:href=\"#glyph1-1\" x=\"41.761719\" y=\"356.339844\"/>\n",
       "  <use xlink:href=\"#glyph1-2\" x=\"41.761719\" y=\"349.666016\"/>\n",
       "  <use xlink:href=\"#glyph1-3\" x=\"41.761719\" y=\"346.332031\"/>\n",
       "</g>\n",
       "<g style=\"fill:rgb(0%,0%,0%);fill-opacity:1;\">\n",
       "  <use xlink:href=\"#glyph1-1\" x=\"41.761719\" y=\"287.539062\"/>\n",
       "  <use xlink:href=\"#glyph1-2\" x=\"41.761719\" y=\"280.865234\"/>\n",
       "  <use xlink:href=\"#glyph1-4\" x=\"41.761719\" y=\"277.53125\"/>\n",
       "</g>\n",
       "<g style=\"fill:rgb(0%,0%,0%);fill-opacity:1;\">\n",
       "  <use xlink:href=\"#glyph1-1\" x=\"41.761719\" y=\"218.738281\"/>\n",
       "  <use xlink:href=\"#glyph1-2\" x=\"41.761719\" y=\"212.064453\"/>\n",
       "  <use xlink:href=\"#glyph1-5\" x=\"41.761719\" y=\"208.730469\"/>\n",
       "</g>\n",
       "<g style=\"fill:rgb(0%,0%,0%);fill-opacity:1;\">\n",
       "  <use xlink:href=\"#glyph1-1\" x=\"41.761719\" y=\"149.941406\"/>\n",
       "  <use xlink:href=\"#glyph1-2\" x=\"41.761719\" y=\"143.267578\"/>\n",
       "  <use xlink:href=\"#glyph1-6\" x=\"41.761719\" y=\"139.933594\"/>\n",
       "</g>\n",
       "<g style=\"fill:rgb(0%,0%,0%);fill-opacity:1;\">\n",
       "  <use xlink:href=\"#glyph1-7\" x=\"41.761719\" y=\"81.140625\"/>\n",
       "  <use xlink:href=\"#glyph1-2\" x=\"41.761719\" y=\"74.466797\"/>\n",
       "  <use xlink:href=\"#glyph1-1\" x=\"41.761719\" y=\"71.132812\"/>\n",
       "</g>\n",
       "<path style=\"fill:none;stroke-width:0.75;stroke-linecap:round;stroke-linejoin:round;stroke:rgb(0%,0%,0%);stroke-opacity:1;stroke-miterlimit:10;\" d=\"M 59.039062 430.558594 L 473.761719 430.558594 L 473.761719 59.039062 L 59.039062 59.039062 L 59.039062 430.558594 \"/>\n",
       "<g style=\"fill:rgb(0%,0%,0%);fill-opacity:1;\">\n",
       "  <use xlink:href=\"#glyph2-1\" x=\"137.503906\" y=\"34.707031\"/>\n",
       "  <use xlink:href=\"#glyph2-2\" x=\"147.907639\" y=\"34.707031\"/>\n",
       "  <use xlink:href=\"#glyph2-3\" x=\"156.70755\" y=\"34.707031\"/>\n",
       "  <use xlink:href=\"#glyph2-4\" x=\"165.507462\" y=\"34.707031\"/>\n",
       "  <use xlink:href=\"#glyph2-5\" x=\"173.519531\" y=\"34.707031\"/>\n",
       "  <use xlink:href=\"#glyph2-6\" x=\"181.531601\" y=\"34.707031\"/>\n",
       "  <use xlink:href=\"#glyph2-7\" x=\"187.137939\" y=\"34.707031\"/>\n",
       "  <use xlink:href=\"#glyph2-5\" x=\"195.937851\" y=\"34.707031\"/>\n",
       "  <use xlink:href=\"#glyph2-3\" x=\"203.949921\" y=\"34.707031\"/>\n",
       "  <use xlink:href=\"#glyph2-8\" x=\"212.749832\" y=\"34.707031\"/>\n",
       "  <use xlink:href=\"#glyph2-5\" x=\"220.761902\" y=\"34.707031\"/>\n",
       "  <use xlink:href=\"#glyph2-9\" x=\"228.773972\" y=\"34.707031\"/>\n",
       "  <use xlink:href=\"#glyph2-2\" x=\"232.776489\" y=\"34.707031\"/>\n",
       "  <use xlink:href=\"#glyph2-10\" x=\"241.576401\" y=\"34.707031\"/>\n",
       "  <use xlink:href=\"#glyph2-9\" x=\"246.373795\" y=\"34.707031\"/>\n",
       "  <use xlink:href=\"#glyph2-11\" x=\"250.376312\" y=\"34.707031\"/>\n",
       "  <use xlink:href=\"#glyph2-5\" x=\"254.37883\" y=\"34.707031\"/>\n",
       "  <use xlink:href=\"#glyph2-12\" x=\"262.3909\" y=\"34.707031\"/>\n",
       "  <use xlink:href=\"#glyph2-6\" x=\"270.402969\" y=\"34.707031\"/>\n",
       "  <use xlink:href=\"#glyph2-3\" x=\"276.009308\" y=\"34.707031\"/>\n",
       "  <use xlink:href=\"#glyph2-5\" x=\"284.809219\" y=\"34.707031\"/>\n",
       "  <use xlink:href=\"#glyph2-13\" x=\"292.821289\" y=\"34.707031\"/>\n",
       "  <use xlink:href=\"#glyph2-9\" x=\"301.621201\" y=\"34.707031\"/>\n",
       "  <use xlink:href=\"#glyph2-14\" x=\"305.623718\" y=\"34.707031\"/>\n",
       "  <use xlink:href=\"#glyph2-15\" x=\"316.027451\" y=\"34.707031\"/>\n",
       "  <use xlink:href=\"#glyph2-11\" x=\"324.03952\" y=\"34.707031\"/>\n",
       "  <use xlink:href=\"#glyph2-5\" x=\"328.042038\" y=\"34.707031\"/>\n",
       "  <use xlink:href=\"#glyph2-9\" x=\"336.054108\" y=\"34.707031\"/>\n",
       "  <use xlink:href=\"#glyph2-16\" x=\"340.056625\" y=\"34.707031\"/>\n",
       "  <use xlink:href=\"#glyph2-12\" x=\"348.856537\" y=\"34.707031\"/>\n",
       "  <use xlink:href=\"#glyph2-17\" x=\"356.868607\" y=\"34.707031\"/>\n",
       "  <use xlink:href=\"#glyph2-18\" x=\"369.67807\" y=\"34.707031\"/>\n",
       "  <use xlink:href=\"#glyph2-13\" x=\"378.477982\" y=\"34.707031\"/>\n",
       "  <use xlink:href=\"#glyph2-12\" x=\"387.277893\" y=\"34.707031\"/>\n",
       "</g>\n",
       "<g style=\"fill:rgb(0%,0%,0%);fill-opacity:1;\">\n",
       "  <use xlink:href=\"#glyph0-5\" x=\"238.046875\" y=\"485.28125\"/>\n",
       "  <use xlink:href=\"#glyph0-6\" x=\"244.720703\" y=\"485.28125\"/>\n",
       "  <use xlink:href=\"#glyph0-7\" x=\"248.054688\" y=\"485.28125\"/>\n",
       "  <use xlink:href=\"#glyph0-8\" x=\"254.728516\" y=\"485.28125\"/>\n",
       "  <use xlink:href=\"#glyph0-6\" x=\"258.0625\" y=\"485.28125\"/>\n",
       "  <use xlink:href=\"#glyph0-9\" x=\"261.396484\" y=\"485.28125\"/>\n",
       "  <use xlink:href=\"#glyph0-10\" x=\"264.730469\" y=\"485.28125\"/>\n",
       "  <use xlink:href=\"#glyph0-11\" x=\"268.726562\" y=\"485.28125\"/>\n",
       "  <use xlink:href=\"#glyph0-12\" x=\"275.400391\" y=\"485.28125\"/>\n",
       "  <use xlink:href=\"#glyph0-13\" x=\"282.074219\" y=\"485.28125\"/>\n",
       "  <use xlink:href=\"#glyph0-14\" x=\"288.748047\" y=\"485.28125\"/>\n",
       "</g>\n",
       "<g style=\"fill:rgb(0%,0%,0%);fill-opacity:1;\">\n",
       "  <use xlink:href=\"#glyph1-8\" x=\"12.960938\" y=\"313.175781\"/>\n",
       "  <use xlink:href=\"#glyph1-9\" x=\"12.960938\" y=\"304.509766\"/>\n",
       "  <use xlink:href=\"#glyph1-10\" x=\"12.960938\" y=\"297.835938\"/>\n",
       "  <use xlink:href=\"#glyph1-11\" x=\"12.960938\" y=\"291.162109\"/>\n",
       "  <use xlink:href=\"#glyph1-12\" x=\"12.960938\" y=\"284.488281\"/>\n",
       "  <use xlink:href=\"#glyph1-13\" x=\"12.960938\" y=\"281.154297\"/>\n",
       "  <use xlink:href=\"#glyph1-10\" x=\"12.960938\" y=\"274.480469\"/>\n",
       "  <use xlink:href=\"#glyph1-14\" x=\"12.960938\" y=\"267.806641\"/>\n",
       "  <use xlink:href=\"#glyph1-15\" x=\"12.960938\" y=\"264.472656\"/>\n",
       "  <use xlink:href=\"#glyph1-11\" x=\"12.960938\" y=\"261.806641\"/>\n",
       "  <use xlink:href=\"#glyph1-16\" x=\"12.960938\" y=\"255.132812\"/>\n",
       "  <use xlink:href=\"#glyph1-17\" x=\"12.960938\" y=\"245.136719\"/>\n",
       "  <use xlink:href=\"#glyph1-10\" x=\"12.960938\" y=\"238.462891\"/>\n",
       "  <use xlink:href=\"#glyph1-11\" x=\"12.960938\" y=\"231.789062\"/>\n",
       "  <use xlink:href=\"#glyph1-14\" x=\"12.960938\" y=\"225.115234\"/>\n",
       "  <use xlink:href=\"#glyph1-13\" x=\"12.960938\" y=\"221.78125\"/>\n",
       "  <use xlink:href=\"#glyph1-18\" x=\"12.960938\" y=\"215.107422\"/>\n",
       "  <use xlink:href=\"#glyph1-12\" x=\"12.960938\" y=\"209.107422\"/>\n",
       "  <use xlink:href=\"#glyph1-19\" x=\"12.960938\" y=\"205.773438\"/>\n",
       "  <use xlink:href=\"#glyph1-16\" x=\"12.960938\" y=\"203.107422\"/>\n",
       "  <use xlink:href=\"#glyph1-11\" x=\"12.960938\" y=\"193.111328\"/>\n",
       "  <use xlink:href=\"#glyph1-12\" x=\"12.960938\" y=\"186.4375\"/>\n",
       "  <use xlink:href=\"#glyph1-13\" x=\"12.960938\" y=\"183.103516\"/>\n",
       "</g>\n",
       "<g clip-path=\"url(#clip1)\" clip-rule=\"nonzero\">\n",
       "<path style=\"fill:none;stroke-width:0.75;stroke-linecap:round;stroke-linejoin:round;stroke:rgb(0%,100%,0%);stroke-opacity:1;stroke-miterlimit:10;\" d=\"M 59.039062 244.800781 L 473.761719 244.800781 \"/>\n",
       "</g>\n",
       "</g>\n",
       "</svg>\n"
      ],
      "text/plain": [
       "Plot with title “Convergence of learned Kyle Lambda”"
      ]
     },
     "metadata": {
      "image/svg+xml": {
       "isolated": true
      }
     },
     "output_type": "display_data"
    }
   ],
   "source": [
    "plot(lamVec,type=\"l\",ylim=c(0,1),col=\"red\",ylab=\"Updated lambda estimate\",xlab=\"# of trades\",main=\"Convergence of learned Kyle Lambda\")\n",
    "abline(h=.5,col=\"green\")"
   ]
  },
  {
   "cell_type": "markdown",
   "metadata": {
    "slideshow": {
     "slide_type": "slide"
    }
   },
   "source": [
    "### Convergence to equilibrium\n",
    "\n",
    "-   The question then arises as to whether this always works: If agents\n",
    "    just perform linear regressions, does the system converge?\n",
    "\n",
    "\n",
    "-   The answer according to [Marcet and Sargent]<sup id=\"cite_ref-MarcetSargent\" class=\"reference\"><a href=\"#cite_note-MarcetSargent\"><span>[</span>5<span>]</span></a></sup> is that there is a rational\n",
    "    expectations equilibrium under certain conditions."
   ]
  },
  {
   "cell_type": "markdown",
   "metadata": {
    "slideshow": {
     "slide_type": "subslide"
    }
   },
   "source": [
    "-   <span>*Rational expectations*</span> should then be understood in\n",
    "    this sense: that agents updating their beliefs by regressing the\n",
    "    results of their actions (reactions) against price changes may\n",
    "    (sometimes) cause equilibrium to emerge.\n",
    "\n",
    "    -   In that case, the system behaves as if the agents are rational;\n",
    "        capable of computing the rational reaction of other agents to\n",
    "        their rational actions.\n",
    "\n",
    "\n",
    "-   In this light, the above critique of the econophysicists appears\n",
    "    naïve."
   ]
  },
  {
   "cell_type": "markdown",
   "metadata": {
    "slideshow": {
     "slide_type": "slide"
    }
   },
   "source": [
    "### Inventory models vs asymmetric information models\n",
    "\n",
    "-   Studies of market makers inventory suggest that the effect of\n",
    "    inventory on price is negligible.\n",
    "\n",
    "\n",
    "-   This has led market microstructure theorists to reject inventory\n",
    "    models in favor of asymmetric information models."
   ]
  },
  {
   "cell_type": "markdown",
   "metadata": {
    "slideshow": {
     "slide_type": "subslide"
    }
   },
   "source": [
    "-   However, this seems to be an overly restrictive view of\n",
    "    inventory models.\n",
    "\n",
    "    -   Some portion of the activity of most market participants could\n",
    "        be classed as market-making. For example, the simple choice to\n",
    "        send a limit order rather than a market order.\n",
    "\n",
    "    -   Ultimately, there is almost always a market maker who will\n",
    "        accept new inventory in return for spread.\n",
    "\n",
    "\n",
    "-   Taking this view, cumulative order flow is inventory and everyone is\n",
    "    a market maker."
   ]
  },
  {
   "cell_type": "markdown",
   "metadata": {
    "slideshow": {
     "slide_type": "slide"
    }
   },
   "source": [
    "### Models and algorithmic trading\n",
    "\n",
    "- With the advent of algorithmic trading, models take on a new importance - as inspiration for algorithms rather than as guides to market design.\n",
    "\n",
    "    - Managing inventory is key!\n",
    "\n",
    "\n",
    "- Thus we see a new literature starting with Avellaneda and Stoikov (2008) that focuses on inventory.\n",
    "\n",
    "\n",
    "- Adverse selection (asymmetric information) and inventory are both very important."
   ]
  },
  {
   "cell_type": "markdown",
   "metadata": {
    "slideshow": {
     "slide_type": "slide"
    }
   },
   "source": [
    "### Final remarks\n",
    "\n",
    "-   In economics, the rôle of prices is not just to allocate resources\n",
    "    efficiently but also to transmit information about the values of\n",
    "    assets.\n",
    "\n",
    "\n",
    "-   The Kyle model exhibits a mechanism through which information may be\n",
    "    impounded into market prices.\n",
    "\n",
    "    -   Note however that the market price can depart very substantially\n",
    "        from fair value if there is large uninformed demand.\n",
    "\n",
    "    -   If fair value is itself evolving dynamically, the market price\n",
    "        may never correspond to fair value!"
   ]
  },
  {
   "cell_type": "markdown",
   "metadata": {
    "slideshow": {
     "slide_type": "subslide"
    }
   },
   "source": [
    "We finish with a quote from Hasbrouck (page 53):\n",
    "\n",
    "> ..., orders do not “impact” prices. It is more accurate to say that\n",
    "> they forecast prices. The distinction is important but empirical\n",
    "> resolution is difficult.\n",
    "\n",
    "What do we believe?"
   ]
  },
  {
   "cell_type": "markdown",
   "metadata": {
    "slideshow": {
     "slide_type": "slide"
    }
   },
   "source": [
    "### References\n",
    "<br />\n",
    "\n",
    "<div class=\"reflist\" style=\"list-style-type: decimal;\">\n",
    "\n",
    "<ol>\n",
    "\n",
    "  <li id=\"cite_note-BouchaudFarmerLillo\"><span class=\"mw-cite-backlink\"><b><a href=\"#cite_ref-BouchaudFarmerLillo\">^</a></b></span>Jean-Philippe Bouchaud, J. Doyne Farmer, and Fabrizio Lillo, How Markets\n",
    "Slowly Digest Changes in Supply and Demand, in <span>*Handbook of\n",
    "Financial Markets: Dynamics and Evolution*</span> 57-156. (2009)\n",
    "available at\n",
    "http://tuvalu.santafe.edu/%7Ejdf/papers/MarketsSlowlyDigest.pdf: Section\n",
    "3.\n",
    "  </li>\n",
    "\n",
    "  <li id=\"cite_note-FPR\"><span class=\"mw-cite-backlink\"><b><a href=\"#cite_ref-FPR\">^</a></b></span>Thierry Foucault, Marco Pagano and Ailsa Röell, <span>*Market\n",
    "Liquidity*</span>, Oxford University Press, Chapter 4. (2013).\n",
    "  </li>\n",
    "  \n",
    "  <li id=\"cite_note-Hasbrouck\"><span class=\"mw-cite-backlink\"><b><a href=\"#cite_ref-Hasbrouck\">^</a></b></span>Joel Hasbrouck, <span>*Empirical Market Microstructure*</span>, Oxford\n",
    "University Press, Chapter 7 (2007).\n",
    "  </li>\n",
    "  \n",
    "  <li id=\"cite_note-HubermanStanzl\"><span class=\"mw-cite-backlink\"><b><a href=\"#cite_ref-HubermanStanzl\">^</a></b></span>Gur Huberman and Werner Stanzl, Price manipulation and quasi-Arbitrage,\n",
    "<span>*Econometrica*</span> <span>**72**</span>(4) 1247–1275 (2004).\n",
    "  </li>\n",
    "  \n",
    "  <li id=\"cite_note-MarcetSargent\"><span class=\"mw-cite-backlink\"><b><a href=\"#cite_ref-MarcetSargent\">^</a></b></span>Albert Marcet and Thomas J. Sargent, Convergence of least squares\n",
    "learning mechanisms in self-referential linear stochastic models,\n",
    "<span>*Journal of Economic Theory*</span> <span>**48**</span>(2) 337–368\n",
    "(1989).\n",
    "  </li>\n",
    "  \n",
    "</ol>"
   ]
  }
 ],
 "metadata": {
  "celltoolbar": "Slideshow",
  "kernelspec": {
   "display_name": "R",
   "language": "R",
   "name": "ir"
  },
  "language_info": {
   "codemirror_mode": "r",
   "file_extension": ".r",
   "mimetype": "text/x-r-source",
   "name": "R",
   "pygments_lexer": "r",
   "version": "3.2.2"
  }
 },
 "nbformat": 4,
 "nbformat_minor": 0
}
