{
 "cells": [
  {
   "cell_type": "markdown",
   "metadata": {
    "slideshow": {
     "slide_type": "slide"
    }
   },
   "source": [
    "# MTH 9879 Market Microstructure Models,    Spring 2015 \n",
    "\n",
    "## Lecture 8: Market impact of metaorders and price manipulation\n",
    "\n",
    "Tai-Ho Wang    \n",
    "Department of Mathematics   \n",
    "  \n",
    "  \n",
    "<h2><img src=\"http://mfe.baruch.cuny.edu/wp-content/uploads/2014/09/BCCUNYstacked_BLK.jpg\" align = \"center\" width=160></h2>  \n",
    "\n",
    "$$\n",
    "\\newcommand{\\bea}{\\begin{eqnarray}}\n",
    "\\newcommand{\\eea}{\\end{eqnarray}}\n",
    "\\newcommand{\\supp}{\\mathrm{supp}}\n",
    "\\newcommand{\\F}{\\mathcal{F} }\n",
    "\\newcommand{\\cF}{\\mathcal{F} }\n",
    "\\newcommand{\\E}{\\mathbb{E} }\n",
    "\\newcommand{\\Eof}[1]{\\mathbb{E}\\left[ #1 \\right]}\n",
    "\\def\\Cov{{ \\mbox{Cov} }}\n",
    "\\def\\Var{{ \\mbox{Var} }}\n",
    "\\newcommand{\\1}{\\mathbf{1} }\n",
    "\\newcommand{\\p}{\\partial}\n",
    "\\newcommand{\\PP}{\\mathbb{P} }\n",
    "\\newcommand{\\Pof}[1]{\\mathbb{P}\\left[ #1 \\right]}\n",
    "\\newcommand{\\QQ}{\\mathbb{Q} }\n",
    "\\newcommand{\\R}{\\mathbb{R} }\n",
    "\\newcommand{\\DD}{\\mathbb{D} }\n",
    "\\newcommand{\\HH}{\\mathbb{H} }\n",
    "\\newcommand{\\spn}{\\mathrm{span} }\n",
    "\\newcommand{\\cov}{\\mathrm{cov} }\n",
    "\\newcommand{\\HS}{\\mathcal{L}_{\\mathrm{HS}} }\n",
    "\\newcommand{\\Hess}{\\mathrm{Hess} }\n",
    "\\newcommand{\\trace}{\\mathrm{trace} }\n",
    "\\newcommand{\\LL}{\\mathcal{L} }\n",
    "\\newcommand{\\s}{\\mathcal{S} }\n",
    "\\newcommand{\\ee}{\\mathcal{E} }\n",
    "\\newcommand{\\ff}{\\mathcal{F} }\n",
    "\\newcommand{\\hh}{\\mathcal{H} }\n",
    "\\newcommand{\\bb}{\\mathcal{B} }\n",
    "\\newcommand{\\dd}{\\mathcal{D} }\n",
    "\\newcommand{\\g}{\\mathcal{G} }\n",
    "\\newcommand{\\half}{\\frac{1}{2} }\n",
    "\\newcommand{\\T}{\\mathcal{T} }\n",
    "\\newcommand{\\bit}{\\begin{itemize}}\n",
    "\\newcommand{\\eit}{\\end{itemize}}\n",
    "\\newcommand{\\beq}{\\begin{equation}}\n",
    "\\newcommand{\\eeq}{\\end{equation}}\n",
    "\\newcommand{\\tr}{\\mbox{tr}}\n",
    "\\newcommand{\\underbar}{\\underline}\n",
    "$$"
   ]
  },
  {
   "cell_type": "markdown",
   "metadata": {
    "slideshow": {
     "slide_type": "slide"
    }
   },
   "source": [
    "## Outline of Lecture 8\n",
    "\n",
    "-   Market impact of meta orders\n",
    "\n",
    "    -   The FGLW model\n",
    "\n",
    "    -   The Bouchaud propagator model\n",
    "\n",
    "-   A numerical simulation of meta orders\n",
    "\n",
    "-   Empirical market impact estimates\n",
    "\n",
    "-   No price manipulation and allowable models\n",
    "\n"
   ]
  },
  {
   "cell_type": "markdown",
   "metadata": {
    "slideshow": {
     "slide_type": "slide"
    }
   },
   "source": [
    "### What is a market impact model?\n",
    "\n",
    "-   Traders need a model to estimate the expected costs of executing a\n",
    "    trade.\n",
    "\n",
    "\n",
    "-   If the only possible order type were VWAP, all we would need is a\n",
    "    large database of VWAP executions which we could interpolate along\n",
    "    various dimensions to estimate the cost of any given new trade.\n",
    "\n",
    "\n",
    "-   In practice we also want to be able to estimate the cost of\n",
    "    executing with other strategies.\n",
    "\n",
    "    -   For that we need a dynamical model of the underlying.\n",
    "\n",
    "    -   That is, we need a model of how the stock price evolves during\n",
    "        execution.\n",
    "\n"
   ]
  },
  {
   "cell_type": "markdown",
   "metadata": {
    "slideshow": {
     "slide_type": "slide"
    }
   },
   "source": [
    "### Common algorithms\n",
    "\n",
    "-   VWAP “Volume weighted average price”\n",
    "\n",
    "    -   Trades at constant rate in volume time\n",
    "\n",
    "    -   Variants of VWAP are still the most popular algos.\n",
    "\n",
    "\n",
    "-   POV “Percentage of volume”\n",
    "\n",
    "    -   Another variant of VWAP\n",
    "\n",
    "\n",
    "-   TWAP “Time weighted average price”\n",
    "\n",
    "    -   Trades at constant rate in wall clock time\n",
    "\n",
    "\n",
    "-   IS “Implementation shortfall”\n",
    "\n",
    "    -   Trades faster at the beginning and more slowly at the end\n",
    "\n",
    "    -   The idea is to balance the risk of a worse price (which is\n",
    "        proportional to quantity remaining) against the benefit of\n",
    "        better execution from being more patient.\n",
    "\n"
   ]
  },
  {
   "cell_type": "markdown",
   "metadata": {
    "slideshow": {
     "slide_type": "slide"
    }
   },
   "source": [
    "### Terminology\n",
    "\n",
    "-   By <span>*metaorder*</span>, we mean an order that is sufficiently\n",
    "    large that it cannot be filled immediately without eating into the\n",
    "    order book.\n",
    "\n",
    "    -   Nowadays, this means just about any order.\n",
    "\n",
    "    -   Such orders need to be split.\n",
    "\n",
    "\n",
    "-   We refer to each component of a metaorder as a <span>*child\n",
    "    order*</span>.\n",
    "\n",
    "\n",
    "-   By the <span>*metaorder impact profile*</span> (or just\n",
    "    <span>*impact profile*</span>), we mean the average path of the\n",
    "    stock price during and after execution of a metaorder.\n",
    "\n",
    "\n",
    "-   <span>*Completion*</span> refers to the timestamp of the last child\n",
    "    order of a metaorder.\n",
    "\n"
   ]
  },
  {
   "cell_type": "markdown",
   "metadata": {
    "slideshow": {
     "slide_type": "slide"
    }
   },
   "source": [
    "### Schematic of the metaorder impact profile\n",
    "\n",
    "<h2><img src=\"http://mfe.baruch.cuny.edu/wp-content/uploads/2015/04/ShapiroPlot.png\" align = \"center\" width=500></h2>\n",
    "Figure 1: The metaorder impact profile"
   ]
  },
  {
   "cell_type": "markdown",
   "metadata": {
    "slideshow": {
     "slide_type": "slide"
    }
   },
   "source": [
    "### The impact profile\n",
    "\n",
    "-   When a buy metaorder of length $T$ is sent, its immediate effect is\n",
    "    to move the price upwards (to $S_T$ say).\n",
    "\n",
    "\n",
    "-   After completion, the price reverts to some price $S_{\\infty}$\n",
    "    (which may be the starting price $S_0$).\n",
    "\n",
    "\n",
    "-   Market impact then has two components, one transient and one\n",
    "    permanent.\n",
    "\n",
    "\n",
    "-   Knowledge of the metaorder impact profile is key to the derivation\n",
    "    of optimal execution strategies.\n",
    "\n"
   ]
  },
  {
   "cell_type": "markdown",
   "metadata": {
    "slideshow": {
     "slide_type": "slide"
    }
   },
   "source": [
    "### The FGLW market impact model\n",
    "\n",
    "In the model of [Farmer, Gerig, Lillo, and Waelbroeck]<sup id=\"cite_ref-FGLW\" class=\"reference\"><a href=\"#cite_note-FGLW\"><span>[</span>5<span>]</span></a></sup> (FGLW from now on), there is a market maker\n",
    "$\\mathcal{M} $, informed traders $\\mathcal{I} $ and uninformed (or\n",
    "noise) traders $\\mathcal{U} $. Informed traders trade using metaorders.\n",
    "\n",
    "The authors show that the typical impact profile associated with the\n",
    "execution of a metaorder may be recovered starting from two assumptions:\n",
    "\n",
    "-   <span>**The Martingale Condition**</span>: The price process is a\n",
    "    martingale.\n",
    "\n",
    "    -   $\\mathcal{M} $ does not know how long a given metaorder will\n",
    "        continue.\n",
    "\n",
    "\n",
    "-   <span>**The Fair Pricing Condition**</span>: On average, the price\n",
    "    reverts after completion of the metaorder to a level equal to the\n",
    "    average price paid by $\\mathcal{I} $.\n",
    "\n",
    "    -   If metaorder sizes are power-law distributed with exponent\n",
    "        $\\beta$, the price reverts on average to a level which is a\n",
    "        factor $1/\\beta$ of the peak price reached at completion.\n",
    "\n"
   ]
  },
  {
   "cell_type": "markdown",
   "metadata": {
    "slideshow": {
     "slide_type": "slide"
    }
   },
   "source": [
    "### The Martingale Condition\n",
    "\n",
    "We present a simplified version of the FGLW argument.\n",
    "\n",
    "-   Child orders are executed at prices $\\tilde S_t$ at times\n",
    "    $t \\in \\{1,2,...,T\\}$.\n",
    "\n",
    "\n",
    "-   $\\mathcal{M} $ does not know $T$ in advance but he can detect the\n",
    "    beginning and end of the metaorder (after the event).\n",
    "\n",
    "\n",
    "-   Consider the $t$th child order of a buy metaorder. Then, either\n",
    "\n",
    "    -   $T=t$, the metaorder completes, and the price reverts to\n",
    "        $S_{t+1}$ <span>*or*</span>\n",
    "\n",
    "    -   $T>t$, the metaorder continues and the price increases to\n",
    "        $\\tilde S_{t+1}$.\n",
    "\n",
    "\n",
    "-   Denote the probability that the metaorder continues by $q_t$.\n",
    "\n",
    "\n",
    "-   Assuming the trade price $S_t$ is a martingale,\n",
    "\n",
    "<font color=\"red\">\n",
    "####<span>Martingale Condition</span>\n",
    "<a name=\"eq:MartingaleCondition\"></a>(1)\n",
    "    $$\\tilde S_t = (1-q_t)\\,S_{t+1}+q_t\\,\\tilde S_{t+1}.$$"
   ]
  },
  {
   "cell_type": "markdown",
   "metadata": {
    "slideshow": {
     "slide_type": "slide"
    }
   },
   "source": [
    "### The Fair Pricing Condition\n",
    "\n",
    "-   The Fair Pricing condition states that (averaging over all possible\n",
    "    metaorder sizes), the final price level $S_{T+1}$ to which the price\n",
    "    reverts after completion is equal to the average price paid.\n",
    "\n",
    "    -   FGLW show that in the limit where the number of informed traders\n",
    "        $\\mathcal{K} \\to \\infty$, any Nash equilibrium must satisfy the\n",
    "        Fair Pricing condition.\n",
    "\n",
    "\n",
    "-   We then have\n",
    "\n",
    "    <font color=\"red\">\n",
    "    ####<span>Fair Pricing Condition</span>\n",
    "    <a name=\"eq:FairPricingCondition\"></a>(2)\n",
    "    $$\\mathbb{E} _T\\left[S_{T+1}\\right] = \\mathbb{E} _T\\left[\\frac 1 T \\,\\sum_{t=1}^T\\,\\tilde S_t \\right].$$\n",
    "\n"
   ]
  },
  {
   "cell_type": "markdown",
   "metadata": {
    "slideshow": {
     "slide_type": "slide"
    }
   },
   "source": [
    "### Solving for $\\tilde S_t$ and $S_t$\n",
    "\n",
    "-   Taken together, the Martingale Condition [(1)](#eq:MartingaleCondition) and the Fair Pricing [(2)](#eq:FairPricingCondition)\n",
    "    Condition define a system of linear equations.\n",
    "\n",
    "    -   The solution gives the impact profile $\\tilde S_t$ and the\n",
    "        reversion level $S_{T+1}$ for each $T$ and $t \\leq T$.\n",
    "\n",
    "\n",
    "-   The solution has two undetermined constants which we may choose to\n",
    "    be $\\tilde S_1$ and $\\tilde S_2$.\n",
    "\n",
    "\n",
    "-   In particular, $\\tilde S_2$ is exogenous to the model; it sets the\n",
    "    scale of market impact.\n",
    "\n"
   ]
  },
  {
   "cell_type": "markdown",
   "metadata": {
    "slideshow": {
     "slide_type": "slide"
    }
   },
   "source": [
    "### Metaorders of size 1\n",
    "\n",
    "-   If $T=1$, the Fair Pricing Condition gives $S_2 = \\tilde S_1$.\n",
    "\n",
    "\n",
    "-   Applying the Martingale Condition gives\n",
    "    $$q_1 \\tilde S_2 + (1-q_1)\\,\\tilde S_1 = \\tilde S_1$$ so that\n",
    "    $\\tilde S_2 = \\tilde S_1$ and <font color=\"blue\">*the price cannot move*</font>.\n",
    "\n",
    "\n",
    "-   It follows that the Fair Pricing and Martingale conditions cannot\n",
    "    both hold for each order size individually but only on average over\n",
    "    all order sizes.\n",
    "\n",
    "    -   $\\mathcal{M} $ always loses money on orders of size $M$ and\n",
    "        makes money on orders of size 1.\n",
    "\n",
    "\n",
    "-   In a recent paper [Donier]<sup id=\"cite_ref-Donier\" class=\"reference\"><a href=\"#cite_note-Donier\"><span>[</span>4<span>]</span></a></sup> shows how to resolve these awkward\n",
    "    difficulties elegantly by simply assuming perfect competition\n",
    "    between market makers.\n",
    "\n",
    "    -   The spread plays an essential rôle.\n",
    "\n"
   ]
  },
  {
   "cell_type": "markdown",
   "metadata": {
    "slideshow": {
     "slide_type": "slide"
    }
   },
   "source": [
    "### Power-law distribution of metaorder sizes\n",
    "\n",
    "-   If the order-size distribution is power-law, the longer a metaorder\n",
    "    has been active, the more likely it is to continue.\n",
    "\n",
    "    -   This holds more generally if the tail of the order size\n",
    "        distribution is fatter than exponential,\n",
    "\n",
    "\n",
    "-   To see this, suppose there have been $t$ slices already observed.\n",
    "    Let $T$ denote the overall size (number of child orders) of the\n",
    "    metaorder. Then, assuming a power-law distribution of order size $T$\n",
    "    with tail exponent $\\beta$,\n",
    "\n",
    "    \\begin{eqnarray*}\n",
    "    q_t&=&\\Pr(T \\geq t+1|T \\ge t) = \\frac{\\Pr(T \\ge t+1)}{\\Pr(T \\ge t)} \\sim \\left(\\frac{t}{t+1}\\right)^\\beta\n",
    "    \\end{eqnarray*}\n",
    "\n",
    "    which increases with $t$.\n",
    "\n",
    "    -   Recall the stylized fact that $\\beta \\approx 3/2$!\n",
    "\n"
   ]
  },
  {
   "cell_type": "markdown",
   "metadata": {
    "slideshow": {
     "slide_type": "slide"
    }
   },
   "source": [
    "### FGLW impact profile in the power-law case\n",
    "\n",
    "-   The Martingale and Fair Pricing conditions give the recursion\n",
    "    $$\\tilde S_{t} = {q_t}\\, \\tilde S_{t+1} +(1-q_t)\\,\\frac 1 t \\,\\sum_{i=1}^t\\,\\tilde S_i$$\n",
    "\n",
    "\n",
    "-   Suppose that $\\tilde S_t \\sim t^\\alpha$ for some $\\alpha >0$ and\n",
    "    that the distribution of order sizes is power-law with tail exponent\n",
    "    $\\beta$.\n",
    "\n",
    "    -   For large $t$, $q_t \\approx 1-\\beta/t$.\n",
    "\n",
    "\n",
    "-   Then, for large $t$,\n",
    "\n",
    "    \\begin{eqnarray*}\n",
    "     t^\\alpha &\\approx& \\left(1-\\frac{\\beta}{t}\\right)\\,(t+1)^\\alpha +\\frac{\\beta}{t}\\, \\frac 1 t \\,\\sum_{i=1}^t\\, i^\\alpha\\\\\n",
    "      &\\approx&t^\\alpha\\, \\left(1-\\frac{\\beta}{t}\\right)\\,\\left(1+\\frac \\alpha t\\right) +\\frac{\\beta}{t}\\, \\frac 1 t \\,\\frac{t^\\alpha}{1+\\alpha}\\\\\n",
    "      &\\approx&t^\\alpha\\, \\left\\{1-\\frac{\\beta}{t}+\\frac \\alpha t+\\frac{1}{1+\\alpha}\\,\\frac{\\beta}{t}\\right\\}.\n",
    "     \\end{eqnarray*}\n",
    "\n"
   ]
  },
  {
   "cell_type": "markdown",
   "metadata": {
    "slideshow": {
     "slide_type": "slide"
    }
   },
   "source": [
    "### Reversion level\n",
    "\n",
    "-   The solution is obviously $\\alpha = \\beta - 1$.\n",
    "\n",
    "    -   If $\\beta = 3/2$, we get $\\alpha = 1/2$ – square-root impact!\n",
    "\n",
    "\n",
    "-   Now apply the Fair Pricing condition again\n",
    "\n",
    "    \\begin{eqnarray*}\n",
    "    S_{T+1} &=& \\frac 1 T \\, \\sum_{t=1}^T\\,\\tilde S_t \\approx \\frac 1 T  \\int_0^T\\,t^\\alpha\\,dt = \\frac{T^\\alpha}{\\beta}.\n",
    "     \\end{eqnarray*}\n",
    "\n",
    "    The price reverts to a level of $1/\\beta $ times the price reached\n",
    "    at completion.\n",
    "\n",
    "\n",
    "-   If $\\beta = 3/2$, we get that permanent impact is $2/3$ of peak\n",
    "    impact.\n",
    "\n"
   ]
  },
  {
   "cell_type": "markdown",
   "metadata": {
    "slideshow": {
     "slide_type": "slide"
    }
   },
   "source": [
    "### Empirical confirmation of FGLW\n",
    "\n",
    "-   In a recent paper, [Bershova and Rakhlin]<sup id=\"cite_ref-Bershova\" class=\"reference\"><a href=\"#cite_note-Bershova\"><span>[</span>2<span>]</span></a></sup> perform an empirical study of a\n",
    "    proprietary dataset of large AllianceBernstein equity orders.\n",
    "\n",
    "    -   They confirm that the distribution of order sizes is power-law\n",
    "        with a tail exponent of 3/2 (at least for not too large orders).\n",
    "\n",
    "    -   They broadly confirm the predictions of FGLW, including the\n",
    "        power-law impact profile, the reversion level of $2/3$ and\n",
    "        roughly square-root permanent impact.\n",
    "\n",
    "    -   They also study reversion of market impact in detail, finding\n",
    "        initial power-law decay followed by exponential decay.\n",
    "\n"
   ]
  },
  {
   "cell_type": "markdown",
   "metadata": {
    "slideshow": {
     "slide_type": "slide"
    }
   },
   "source": [
    "### The Bouchaud propagator model impact profile\n",
    "\n",
    "-   In the <span>*propagator*</span> (or <span>*autoregressive*</span>)\n",
    "    Bouchaud model, the impact profile is given (prior to completion) by\n",
    "\n",
    "    <a name=\"eq:BouchaudImpact\"></a>(3)\n",
    "    \\begin{eqnarray*}\n",
    "    \\tilde S_t  \\sim \\sum_{i=1}^{t \\wedge T}\\,\\frac{1}{(t-i)^\\gamma}\n",
    "    &\\approx& \\int_0^{t \\wedge T} \\,\\frac{ds}{(t-s)^\\gamma}\n",
    "    = \\frac{1}{1-\\gamma}\\,\\left\\{t^{1-\\gamma}-{(t-T)^+}^{1-\\gamma}\\right\\}.\n",
    "    \\end{eqnarray*}\n",
    "\n",
    "\n",
    "-   The price grows as a power law during executing of the metaorder. It\n",
    "    then decays (asymptotically as a power law) back to zero.\n",
    "\n",
    "\n",
    "-   The shape of the impact profile prior to completion is identical to\n",
    "    that of the FGLW model.\n",
    "\n",
    "\n",
    "-   However, after completion, the two models make quite different\n",
    "    predictions.\n",
    "\n"
   ]
  },
  {
   "cell_type": "markdown",
   "metadata": {
    "slideshow": {
     "slide_type": "slide"
    }
   },
   "source": [
    "### Impact profiles in the two models\n",
    "\n",
    "<h2><img src=\"http://mfe.baruch.cuny.edu/wp-content/uploads/2015/04/ImpactProfiles.png\" align = \"center\" width=500></h2>\n",
    "Figure 2: The red line is the FGLW model and the blue dashed line is the Bouchaud model."
   ]
  },
  {
   "cell_type": "markdown",
   "metadata": {
    "slideshow": {
     "slide_type": "slide"
    }
   },
   "source": [
    "### The square-root formula for market impact\n",
    "\n",
    "-   For many years, traders have used the simple sigma-root-liquidity\n",
    "    model described for example by Grinold and Kahn in 1994.\n",
    "\n",
    "\n",
    "-   Software incorporating this model includes:\n",
    "\n",
    "    -   Salomon Brothers, StockFacts Pro since around 1991\n",
    "\n",
    "    -   Barra, Market Impact Model since around 1998\n",
    "\n",
    "    -   Bloomberg, TCA function since 2005\n",
    "\n",
    "\n",
    "-   The model is always of the rough form\n",
    "    \n",
    "    $$\\Delta P = \\text{Spread cost} +\\alpha\\,\\sigma\\,\\sqrt{\\frac Q V}$$\n",
    "    \n",
    "    where $\\sigma$ is daily volatility, $V$ is daily volume, $Q$ is the\n",
    "    number of shares to be traded and $\\alpha$ is a constant pre-factor\n",
    "    of order one.\n",
    "\n"
   ]
  },
  {
   "cell_type": "markdown",
   "metadata": {
    "slideshow": {
     "slide_type": "slide"
    }
   },
   "source": [
    "### Empirical question\n",
    "\n",
    "So traders and trading software have been using the square-root formula\n",
    "to provide a pre-trade estimate of market impact for a long time.\n",
    "\n",
    "<font color=\"red\">\n",
    "#### <span>Empirical question</span>\n",
    "\n",
    "Is the square-root formula empirically\n",
    "verified?\n",
    "\n"
   ]
  },
  {
   "cell_type": "markdown",
   "metadata": {
    "slideshow": {
     "slide_type": "slide"
    }
   },
   "source": [
    "### Impact of proprietary metaorders (from Tóth et al.)\n",
    "\n",
    "<a name=\"pic3\"></a>\n",
    "<h2><img src=\"http://mfe.baruch.cuny.edu/wp-content/uploads/2015/04/TothFigure1.png\" align = \"center\" width=600></h2>\n",
    "Figure 3: Log-log plot of the vol.-adjusted price impact vs the ratio $Q/V$"
   ]
  },
  {
   "cell_type": "markdown",
   "metadata": {
    "slideshow": {
     "slide_type": "slide"
    }
   },
   "source": [
    "### Notes on [Figure 3](#pic3)\n",
    "\n",
    "-   In [Figure 3](#pic3) which is taken from [Tóth et al.]<sup id=\"cite_ref-Toth\" class=\"reference\"><a href=\"#cite_note-Toth\"><span>[</span>12<span>]</span></a></sup>, we see the impact of\n",
    "    metaorders for CFM$^1$ proprietary trades on futures markets, in the\n",
    "    period June 2007 to December 2010.\n",
    "\n",
    "    -   Impact is measured as the average execution shortfall of a\n",
    "        meta-order of size $Q$.\n",
    "\n",
    "    -   The sample studied contained nearly 500,000 trades.\n",
    "\n",
    "\n",
    "-   We see that the square-root market impact formula is verified\n",
    "    empirically for meta-orders with a range of sizes spanning two to\n",
    "    three orders of magnitude!\n",
    "\n",
    "-------------------\n",
    "$^1$Capital Fund Management (CFM) is a large Paris-based hedge fund."
   ]
  },
  {
   "cell_type": "markdown",
   "metadata": {
    "slideshow": {
     "slide_type": "slide"
    }
   },
   "source": [
    "### Another explanation for square-root impact of meta orders\n",
    "\n",
    "-   [Tóth et al.]<sup id=\"cite_ref-Toth\" class=\"reference\"><a href=\"#cite_note-Toth\"><span>[</span>12<span>]</span></a></sup> present a potential explanation of the square-root market\n",
    "    impact formula.\n",
    "\n",
    "\n",
    "-   The visible order book represents a supply and demand profile that\n",
    "    is only a small fraction of the <span>*latent*</span> supply and\n",
    "    demand.\n",
    "\n",
    "\n",
    "-   If latent supply and demand were linear around the mid-quote, this\n",
    "    could explain the square-root law.\n",
    "\n",
    "\n",
    "-   That is, if $\\rho(u)$ is the latent demand profile, the change\n",
    "    $\\Delta P$ in the price of the underlying due to an order of size\n",
    "    $Q$ should satisfy \n",
    "    \n",
    "    $$\\int_0^{\\Delta P}\\,\\rho(u)\\,du \\sim Q.$$ \n",
    "    \n",
    "    If\n",
    "    $\\rho(u) \\sim u$ then we have $\\Delta P^2 \\sim Q$ which is the\n",
    "    square-root law.\n",
    "\n"
   ]
  },
  {
   "cell_type": "markdown",
   "metadata": {
    "slideshow": {
     "slide_type": "slide"
    }
   },
   "source": [
    "### Condition for linearity \n",
    "\n",
    "-   In the same kind of model as [Bouchaud, Mézard and Potters]<sup id=\"cite_ref-BMP\" class=\"reference\"><a href=\"#cite_note-BMP\"><span>[</span>3<span>]</span></a></sup>, we can show that the condition\n",
    "    for linearity of the latent order book around the mid-quote is that\n",
    "    the limit order arrival rate $\\lambda$ and the cancelation rate\n",
    "    $\\delta$ should be independent of the distance to the mid-quote over\n",
    "    some range of prices.\n",
    "\n",
    "\n",
    "-   If we assume that high-frequency strategies add nothing to the net\n",
    "    order flow, this is equivalent to assuming that the submitters of\n",
    "    meta orders are insensitive to price moves over some large range of\n",
    "    prices.\n",
    "\n",
    "    -   It seems reasonable to suppose that this range would be of the\n",
    "        order of $\\sigma\\,\\sqrt{T}$ where $T$ is the life of a typical\n",
    "        meta order.\n",
    "\n",
    "    -   Submitters of meta orders don’t amend their orders unless\n",
    "        something really unexpected happens.\n",
    "\n"
   ]
  },
  {
   "cell_type": "markdown",
   "metadata": {
    "slideshow": {
     "slide_type": "slide"
    }
   },
   "source": [
    "### Numerical simulation\n",
    "\n",
    "-   [Tóth et al.]<sup id=\"cite_ref-Toth\" class=\"reference\"><a href=\"#cite_note-Toth\"><span>[</span>12<span>]</span></a></sup> perform a numerical simulation along the lines of the\n",
    "    zero-intelligence model of [Smith, Farmer et al.]<sup id=\"cite_ref-SFGK\" class=\"reference\"><a href=\"#cite_note-SFGK\"><span>[</span>11<span>]</span></a></sup>.\n",
    "\n",
    "    -   Limit orders for one share arrive at a constant rate $\\lambda$,\n",
    "        independent of price level. Existing limit orders have a fixed\n",
    "        probability $\\nu_\\infty$ of being canceled.\n",
    "\n",
    "    -   Market orders arrive at a constant rate with sizes that are\n",
    "        chosen to be a random fraction $f \\in (0,1]$ of the available\n",
    "        size at the opposite best quote with probability density\n",
    "        $$p_\\zeta(f)=\\zeta\\,(1-f)^{\\zeta-1}.$$ In the limit\n",
    "        $\\zeta \\to 0$, market orders take all of the available quantity\n",
    "        at the opposite best quote.\n",
    "\n",
    "        -   $\\zeta$ is the parameter that permits tuning to achieve a\n",
    "            martingale mid-quote in practice.\n",
    "\n",
    "    -   The signs of market orders are generated as if they come from\n",
    "        meta orders according to the order splitting model of\n",
    "        [Lillo, Mike and Farmer]<sup id=\"cite_ref-LilloMikeFarmer\" class=\"reference\"><a href=\"#cite_note-LilloMikeFarmer\"><span>[</span>8<span>]</span></a></sup>.\n",
    "\n",
    "        -   The autocorrelation of order signs decays as a power law\n",
    "            with exponent $\\gamma$.\n",
    "\n"
   ]
  },
  {
   "cell_type": "markdown",
   "metadata": {
    "slideshow": {
     "slide_type": "slide"
    }
   },
   "source": [
    "### Tuning diffusion with $\\gamma$ and $\\zeta$\n",
    "\n",
    "<h2><img src=\"http://mfe.baruch.cuny.edu/wp-content/uploads/2015/04/TothFigure2.png\" align = \"center\" width=400></h2>\n"
   ]
  },
  {
   "cell_type": "markdown",
   "metadata": {
    "slideshow": {
     "slide_type": "slide"
    }
   },
   "source": [
    "### Market impact vs strategy\n",
    "\n",
    "<h2><img src=\"http://mfe.baruch.cuny.edu/wp-content/uploads/2015/04/TothFigure4.png\" align = \"center\" width=400></h2>"
   ]
  },
  {
   "cell_type": "markdown",
   "metadata": {
    "slideshow": {
     "slide_type": "slide"
    }
   },
   "source": [
    "### Market impact and price path in the [Tóth et al.]<sup id=\"cite_ref-Toth\" class=\"reference\"><a href=\"#cite_note-Toth\"><span>[</span>12<span>]</span></a></sup> model\n",
    "\n",
    "<h2><img src=\"http://mfe.baruch.cuny.edu/wp-content/uploads/2015/04/TothFigure5.png\" align = \"center\" width=600></h2>"
   ]
  },
  {
   "cell_type": "markdown",
   "metadata": {
    "slideshow": {
     "slide_type": "slide"
    }
   },
   "source": [
    "### Simulation results\n",
    "\n",
    "-   The price grows as a power law $\\sim t^{0.7}$ as the meta order is\n",
    "    executed.\n",
    "\n",
    "    -   This behavior appears to be approximately independent of\n",
    "        $\\gamma$.\n",
    "\n",
    "\n",
    "-   The price reverts after completion of the meta order - to a fixed\n",
    "    level that depends on $\\gamma$.\n",
    "\n",
    "\n",
    "-   The exponent of $0.7$ is not far off the [Almgren]<sup id=\"cite_ref-Almgren\" class=\"reference\"><a href=\"#cite_note-Almgren\"><span>[</span>1<span>]</span></a></sup> estimate of\n",
    "    $0.62$.\n",
    "\n"
   ]
  },
  {
   "cell_type": "markdown",
   "metadata": {
    "slideshow": {
     "slide_type": "slide"
    }
   },
   "source": [
    "### Distinguishing between models\n",
    "\n",
    "-   What does the price impact of a meta order look like empirically?\n",
    "\n",
    "-   Empirical estimates of the average price path during and after\n",
    "    execution may help us distinguish between models.\n",
    "\n"
   ]
  },
  {
   "cell_type": "markdown",
   "metadata": {
    "slideshow": {
     "slide_type": "slide"
    }
   },
   "source": [
    "### Path of the stock price during execution (from Gerig)\n",
    "<h2><img src=\"http://mfe.baruch.cuny.edu/wp-content/uploads/2015/04/Figure512.png\" align = \"center\" width=600></h2>"
   ]
  },
  {
   "cell_type": "markdown",
   "metadata": {
    "slideshow": {
     "slide_type": "slide"
    }
   },
   "source": [
    "### Path of the stock price during execution (from Moro et al.)\n",
    "<h2><img src=\"http://mfe.baruch.cuny.edu/wp-content/uploads/2015/04/Figure5.png\" align = \"center\" width=400></h2>"
   ]
  },
  {
   "cell_type": "markdown",
   "metadata": {
    "slideshow": {
     "slide_type": "slide"
    }
   },
   "source": [
    "### Empirically observed stock price path\n",
    "\n",
    "From the preceding figures, we see that\n",
    "\n",
    "-   There is reversion of the stock price after completion of the order.\n",
    "\n",
    "-   Some component of the market impact of the meta order appears to be\n",
    "    permanent.\n",
    "\n",
    "-   The path of the price prior to completion looks like a power law.\n",
    "\n",
    "    -   From [Moro et al.]<sup id=\"cite_ref-Moro\" class=\"reference\"><a href=\"#cite_note-Moro\"><span>[</span>9<span>]</span></a></sup>\n",
    "\n",
    "        \\begin{eqnarray*}\n",
    "        m_t-m_0 &\\approx&  (4.28 \\pm 0.21) \\,\\left(\\frac{t}{T}\\right)^{0.71 \\pm 0.03 }\\text{ (BME) } \\\\\n",
    "        m_t-m_0 &\\approx&  (2.13 \\pm 0.05) \\,\\left(\\frac{t}{T}\\right)^{0.62 \\pm 0.02}\\text{ (LSE) } \\end{eqnarray*}\n",
    "\n",
    "        where $T$ is the duration of the meta order.\n",
    "\n"
   ]
  },
  {
   "cell_type": "markdown",
   "metadata": {
    "slideshow": {
     "slide_type": "slide"
    }
   },
   "source": [
    "### Average price dynamics during meta order execution\n",
    "\n",
    "-   <span>We now turn to modeling the dynamics of the stock price during\n",
    "    meta order execution.</span>\n",
    "\n",
    "\n",
    "-   <span>It turns out (see [Gatheral]<sup id=\"cite_ref-Gatheral\" class=\"reference\"><a href=\"#cite_note-Gatheral\"><span>[</span>6<span>]</span></a></sup>) that some choices of stock price\n",
    "    dynamics may admit price manipulation.</span>\n",
    "\n",
    "    -   <span>For example, square root price impact with exponential\n",
    "        decay admits price manipulation.</span>\n",
    "\n",
    "\n",
    "-   <span>In such cases, a round-trip trade can generate cash on\n",
    "    average.</span>\n",
    "\n",
    "    -   <span>You would want to repeat such a trade over and\n",
    "        over.</span>\n",
    "\n",
    "    -   <span>There would be no optimal strategy.</span>\n",
    "\n"
   ]
  },
  {
   "cell_type": "markdown",
   "metadata": {
    "slideshow": {
     "slide_type": "slide"
    }
   },
   "source": [
    "### A particular choice of dynamics\n",
    "\n",
    "-   Following [Gatheral]<sup id=\"cite_ref-Gatheral\" class=\"reference\"><a href=\"#cite_note-Gatheral\"><span>[</span>6<span>]</span></a></sup>, suppose that the stock price $S_t$ at time $t$\n",
    "    is given by\n",
    "    \n",
    "    <a name=\"eq:process\"></a>(4)\n",
    "\n",
    "    $$S_t=S_0+\\int_0^t\\,f(\\dot{x}_s)\\,G(t-s)\\,ds+\\int_0^t\\,\\sigma\\,dZ_s$$\n",
    "\n",
    "    where ${\\dot x}_s$ is our rate of trading in dollars at time $s<t$,\n",
    "    $f(\\dot{x}_s)$ represents the impact of trading at time $s$ and\n",
    "    $G(t-s)$ is a decay factor.\n",
    "\n",
    "\n",
    "-   <span>$S_t$ follows an arithmetic random walk (Brownian motion) with a drift that\n",
    "    depends on the accumulated impacts of previous trades.</span>\n",
    "\n",
    "\n",
    "-   <span>The cumulative impact of (others’) trading is implicitly in\n",
    "    $S_0$ and the noise term.</span>\n",
    "\n",
    "\n",
    "-   <span>Drift is ignored.</span>\n",
    "\n",
    "    -   <span>Drift is a lower order effect.</span>\n",
    "\n",
    "    -   <span>We are averaging buys and sells.</span>\n",
    "\n"
   ]
  },
  {
   "cell_type": "markdown",
   "metadata": {
    "slideshow": {
     "slide_type": "slide"
    }
   },
   "source": [
    "### Dynamics continued\n",
    "\n",
    "-   <span>We refer to $f(\\cdot)$ as the *instantaneous market impact\n",
    "    function* and to $G(\\cdot)$ as the decay kernel.</span>\n",
    "\n",
    "\n",
    "-   <span>[(4)](#eq:process) is a generalization of processes due to\n",
    "    Almgren, Bouchaud, and Obizhaeva and Wang.</span>\n",
    "\n",
    "\n",
    "-   <span>[(4)](#eq:process) corresponds to the “autogressive model” or\n",
    "    “propagator model” of Bouchaud et al.</span>\n",
    "\n"
   ]
  },
  {
   "cell_type": "markdown",
   "metadata": {
    "slideshow": {
     "slide_type": "slide"
    }
   },
   "source": [
    "### Model dynamics as limit of discrete time process\n",
    "\n",
    "-   <span> The continuous time process [(4)](#eq:process) can be viewed as a\n",
    "    limit of a discrete time process (see Bouchaud et al. for example):\n",
    "\n",
    "    $$S_t=\\sum_{i<t}\\,f(\\delta x_i)\\,G(t-i)\\,+\\textrm{ noise}$$ \n",
    "    \n",
    "    where\n",
    "    $\\delta x_i=\\dot{x}_i\\,\\delta t$ is the quantity traded in some\n",
    "    small time interval $\\delta t$ characteristic of the stock, and by\n",
    "    abuse of notation, $f(\\cdot)$ is the market impact function. </span>\n",
    "\n",
    "    -   <span>$\\delta x_i > 0$ represents a purchase and\n",
    "        $\\delta x_i < 0$ represents a sale.</span>\n",
    "\n",
    "    -   <span>$\\delta t$ could be thought of as $1/\\nu$ where $\\nu$ is\n",
    "        the trade frequency.</span>\n",
    "\n",
    "    -   <span>Increasing the rate of trading ${\\dot x}_i$ is equivalent\n",
    "        to increasing the quantity traded each $\\delta t$.</span>\n",
    "\n"
   ]
  },
  {
   "cell_type": "markdown",
   "metadata": {
    "slideshow": {
     "slide_type": "slide"
    }
   },
   "source": [
    "### Price impact and slippage\n",
    "\n",
    "-   <span>The cost of trading can be decomposed into two\n",
    "    components:</span>\n",
    "\n",
    "    -   <span>The impact of our trading on the market price (the\n",
    "        mid-price for example).</span>\n",
    "\n",
    "        -   <span>We refer to this effect as *price impact*.</span>\n",
    "\n",
    "    -   <span>Frictions such as effective bid-ask spread that affect\n",
    "        only our execution price.</span>\n",
    "\n",
    "        -   <span>We refer to this effect as *slippage*. For small\n",
    "            volume fractions, we can think of slippage as being proxied\n",
    "            by VWAP slippage. </span>\n",
    "\n",
    "\n",
    "-   <span>In what follows, we will neglect slippage.</span>\n",
    "\n",
    "    -   <span>The inequality relationships we derive will all be\n",
    "        weakened in practice to the extent that slippage becomes\n",
    "        important.</span>\n",
    "\n"
   ]
  },
  {
   "cell_type": "markdown",
   "metadata": {
    "slideshow": {
     "slide_type": "slide"
    }
   },
   "source": [
    "### Cost of trading\n",
    "\n",
    "-   Denote the number of shares outstanding at time $t$ by $x_t$. Then\n",
    "    from [(4)](#eq:process), neglecting slippage, the (expected) cost $C[\\Pi]$\n",
    "    associated with a given (deterministic) trading strategy $\\Pi=\\{x_t\\}$ is given by\n",
    "\n",
    "    <a name=\"eq:cost\"></a>(5)\n",
    "    $$C[\\Pi]=\\int_0^T\\,{\\dot x}_t\\,dt\\,\\int_0^t\\,f\\left({\\dot\n",
    "    x}_s\\right)\\,G(t-s)\\,ds$$\n",
    "\n",
    "\n",
    "-   <span>The $d x_t ={\\dot x}_t\\,dt$ shares liquidated at time $t$ are\n",
    "    traded on average at a price\n",
    "    \n",
    "    $$S_t=S_0+\\int_0^t\\,f\\left({\\dot x}_s\\right)\\,G(t-s)\\,ds$$ \n",
    "    \n",
    "    which\n",
    "    reflects the residual cumulative impact of all prior trading.\n",
    "    </span>\n",
    "\n"
   ]
  },
  {
   "cell_type": "markdown",
   "metadata": {
    "slideshow": {
     "slide_type": "slide"
    }
   },
   "source": [
    "### Almgren et al.\n",
    "\n",
    "-   In the (2005) model of [Almgren]<sup id=\"cite_ref-Almgren\" class=\"reference\"><a href=\"#cite_note-Almgren\"><span>[</span>1<span>]</span></a></sup>, the stock price $S_t$ evolves as\n",
    "    \n",
    "    $$dS_t=\\gamma\\,d x_t+\\sigma\\,dZ_t$$ \n",
    "    \n",
    "    and the price $\\tilde S_t$ at\n",
    "    which we transact is given by \n",
    "    \n",
    "    $$\\tilde S_t=S_t+\\eta\\,v_t^\\delta$$\n",
    "    \n",
    "    where $v_t:=-{\\dot x}_t$ is the rate of trading so\n",
    "    $G(t-s)=\\delta(t-s)$ and $f(v)=\\eta\\,\\sigma\\,v^{\\delta}$ with\n",
    "    $\\delta \\approx 0.6$.\n",
    "\n",
    "\n",
    "-   <span>In this model, temporary market impact decays instantaneously.\n",
    "    Our trading affects only the price of our own executions; other\n",
    "    executions are not affected. </span>\n",
    "\n",
    "\n",
    "-   <span>The cost of trading becomes:\n",
    "    \n",
    "    $$C[\\Pi]=\\int_0^T\\,{\\dot x}_t\\,dt\\,\\int_0^t\\,f\\left({\\dot\n",
    "    x}_s\\right)\\,G(t-s)\\,ds =\\eta\\,\\sigma\\,\\int_0^T\\,{{\\dot x}_t}^{1+\\delta}\\,dt$$\n",
    "    </span>\n",
    "\n"
   ]
  },
  {
   "cell_type": "markdown",
   "metadata": {
    "slideshow": {
     "slide_type": "slide"
    }
   },
   "source": [
    "### Obizhaeva and Wang\n",
    "\n",
    "-   In the model of [Obizhaeva and Wang]<sup id=\"cite_ref-ObizhaevaWang\" class=\"reference\"><a href=\"#cite_note-ObizhaevaWang\"><span>[</span>10<span>]</span></a></sup>\n",
    "\n",
    "    <a name=\"eq:OWprocess\"></a>(6)\n",
    "    $$S_t=S_0+\\eta\\,\\int_0^t\\,{\\dot x}_s\\,e^{-\\rho\\,(t-s)}\\,ds+\\int_0^t\\,\\sigma\\,dZ_s$$\n",
    "\n",
    "    so $G(t-s)=\\exp\\left\\{-\\rho\\,(t-s)\\right\\}$ and $f(v) \\propto v$.\n",
    "\n",
    "\n",
    "-   <span>In this model, market impact decays exponentially and\n",
    "    instantaneous market impact is linear in the rate of trading.</span>\n",
    "\n",
    "\n",
    "-   The cost of trading becomes:\n",
    "\n",
    "    \\begin{eqnarray*}\n",
    "    C[\\Pi]&=&\\int_0^T\\,{\\dot x}_t\\,dt\\,\\int_0^t\\,f\\left({\\dot\n",
    "    x}_s\\right)\\,G(t-s)\\,ds\\\\\n",
    "    &\\propto& \\int_0^T\\,{\\dot x}_t\\,dt\\,\\int_0^t\\,{\\dot\n",
    "    x}_s\\,\\exp\\left\\{-\\rho\\,(t-s)\\right\\}\\,ds\\end{eqnarray*}\n",
    "\n"
   ]
  },
  {
   "cell_type": "markdown",
   "metadata": {
    "slideshow": {
     "slide_type": "slide"
    }
   },
   "source": [
    "### Bouchaud et al.\n",
    "\n",
    "-   <span>In the setup of Bouchaud et al., we have\n",
    "    $f(v) \\propto \\log(v)$ and\n",
    "    $$G(t-s)\\propto \\frac{l_0}{(l_0+t-s)^\\gamma}$$ with\n",
    "    $\\gamma \\approx (1-\\alpha)/2$ where $\\alpha$ is the exponent of the\n",
    "    power law of autocorrelation of trade signs. </span>\n",
    "\n",
    "\n",
    "-   <span>In this model, market impact decays as a power law and\n",
    "    instantaneous market impact is concave in the rate of\n",
    "    trading.</span>\n",
    "\n",
    "\n",
    "-   The cost of trading becomes:\n",
    "\n",
    "    \\begin{eqnarray*}\n",
    "    C[\\Pi]&=&\\int_0^T\\,{\\dot x}_t\\,dt\\,\\int_0^t\\,f\\left({\\dot\n",
    "    x}_s\\right)\\,G(t-s)\\,ds\\\\\n",
    "    &\\propto& \\int_0^T\\,{\\dot x}_t\\,dt\\,\\int_0^t\\,\\frac{\\log({\\dot\n",
    "    x}_s)}{(l_0+t-s)^{\\gamma}}\\,ds\\end{eqnarray*}"
   ]
  },
  {
   "cell_type": "markdown",
   "metadata": {
    "slideshow": {
     "slide_type": "slide"
    }
   },
   "source": [
    "### The principle of No Price Manipulation\n",
    "\n",
    "A trading strategy $\\Pi=\\{x_t\\}$ is a *round-trip trade* if\n",
    "\n",
    "$$\\int_0^T\\,{\\dot x}_t\\,dt=0$$\n",
    "\n",
    "We define a *price manipulation* to be a round-trip trade $\\Pi$ whose\n",
    "expected cost $C[\\Pi]$ is negative.\n",
    "\n",
    "#### <font color=\"red\"> The principle of no price manipulation \n",
    "\n",
    "Price manipulation is not possible.</font>\n",
    "\n",
    "\n",
    "#### <font color=blue>Corollary</font>\n",
    "<font color=blue> Pump and dump schemes cannot make money on average. </font>"
   ]
  },
  {
   "cell_type": "markdown",
   "metadata": {
    "slideshow": {
     "slide_type": "slide"
    }
   },
   "source": [
    "### Pump and Dump Schemes\n",
    "\n",
    "(From http://www.sec.gov/answers/pumpdump.htm)\n",
    "\n",
    "#### Definition\n",
    "“Pump and dump” schemes, also known as “hype and dump manipulation”,\n",
    "involve the touting of a company’s stock (typically microcap companies)\n",
    "through false and misleading statements to the marketplace. After\n",
    "pumping the stock, fraudsters make huge profits by selling their cheap\n",
    "stock into the market.\n",
    "\n"
   ]
  },
  {
   "cell_type": "markdown",
   "metadata": {
    "slideshow": {
     "slide_type": "slide"
    }
   },
   "source": [
    "### Permanent impact\n",
    "\n",
    "Suppose we trade into a position at the rate $+v$ and out at the same\n",
    "$-v$. If market impact is permanent, without loss of generality,\n",
    "$G(\\cdot)=1$ and the cost of trading becomes\n",
    "\n",
    "\\begin{eqnarray*}\n",
    "C[\\Pi]&=&v\\,f(v)\\,\\left\\{\\int_0^{T/2}\\,dt\\,\\int_0^t\\,ds-\\int_{T/2}^T\\,dt\\,\\int_0^{T/2}\\,ds\\right\\} + v\\,f(-v)\\,\\int_{T/2}^T\\,dt\\,\\int_{T/2}^t\\,ds \\\\\n",
    "&=& v\\,\\frac{T^2}{8}\\,\\left\\{-f(-v)-f(v)\\right\\}\\end{eqnarray*}\n",
    "\n",
    "-   <span>If $f(v) \\neq -f(-v)$, price manipulation is possible.</span>\n",
    "\n",
    "-   <span>No price manipulation thus imposes that if market impact is\n",
    "    permanent, $f(v)=-f(-v)$.</span>\n",
    "\n",
    "-   <span>We henceforth assume that $f(v)=-f(-v)$, i.e., $f$ is an odd function.</span>\n",
    "\n"
   ]
  },
  {
   "cell_type": "markdown",
   "metadata": {
    "slideshow": {
     "slide_type": "slide"
    }
   },
   "source": [
    "### A specific strategy\n",
    "\n",
    "Consider a strategy where shares are accumulated at the (positive)\n",
    "constant rate $v_1$ and then liquidated again at the (positive) constant\n",
    "rate $v_2$. According to equation [(5)](#eq:cost), the cost of this strategy\n",
    "is given by $C_{11}+C_{22}-C_{12}$ with\n",
    "\n",
    "<a name=\"eq:costspecific\"></a>(7)\n",
    "\\begin{eqnarray*}\n",
    "C_{11}&=&v_1\\,f\\left(v_1\\right)\\,\\int_0^{\\theta\\,T}\\,dt\\,\\int_0^t\\,G(t-s)\\,ds \\nonumber\\\\\n",
    "C_{22}&=&v_2\\,f\\left(v_2\\right)\\,\\int_{\\theta\\,T}^T\\,dt\\,\\int_{\\theta\\,T}^t\\,G(t-s)\\,ds\\nonumber\\\\\n",
    "C_{12}&=&v_2\\,f\\left(v_1\\right)\\,\\int_{\\theta\\,T}^T\\,dt\\,\\int_0^{\\theta\\,T}\\,G(t-s)\\,ds\n",
    "\\end{eqnarray*}\n",
    "\n",
    "where $\\theta$ is such that $v_1\\,\\theta\\,T-v_2\\,(T-\\theta\\,T)=0$ so\n",
    "$$\\theta= \\frac{v_2}{v_1+v_2}$$\n",
    "\n"
   ]
  },
  {
   "cell_type": "markdown",
   "metadata": {
    "slideshow": {
     "slide_type": "slide"
    }
   },
   "source": [
    "### Special case: Trade in and out at the same rate\n",
    "\n",
    "One might ask what happens if we trade into, then out of a position at\n",
    "the same rate $v$. If $G(\\cdot)$ is strictly decreasing,\n",
    "\n",
    "\\begin{eqnarray*}\n",
    "C[\\Pi]&=&v\\,f(v)\\,\\left\\{\\int_0^{T/2}\\,dt\\,\\int_0^t\\,G(t-s)\\,ds+\\int_{T/2}^T\\,dt\\,\\int_{T/2}^t\\,G(t-s)\\,ds\\right.\\\\\n",
    "&&-\\left.\\int_{T/2}^T\\,dt\\,\\int_0^{T/2}\\,G(t-s)\\,ds\n",
    "\\right\\}\\\\\n",
    "&=&v\\,f(v)\\,\\left\\{\\int_0^{T/2}\\,dt\\,\\int_0^t\\,\\left[G(t-s)-G(t+T/2-s)\\right]\\,ds\\right.\\\\\n",
    "&&+\\left.\\int_{T/2}^T\\,dt\\,\\int_{T/2}^t\\,\\left[G(t-s)-G(T-s)\\right]\\,ds\\right\\}>0\n",
    "\\end{eqnarray*}\n",
    "\n",
    "\n",
    "- We conclude that if there is price manipulation, it must involve trading in and out at different rates."
   ]
  },
  {
   "cell_type": "markdown",
   "metadata": {
    "slideshow": {
     "slide_type": "slide"
    }
   },
   "source": [
    "### Exponential decay\n",
    "\n",
    "Suppose that the decay kernel has the form \n",
    "\n",
    "$$G(\\tau)=e^{-\\rho\\,\\tau}$$\n",
    "\n",
    "Then, explicit computation of all the integrals in [(7)](#eq:costspecific) gives\n",
    "\n",
    "<a name=\"eq:costexponential\"></a>(8)\n",
    "\\begin{eqnarray*}\n",
    "C_{11}&=&v_1\\,f\\left(v_1\\right)\\,\\frac{1}{\\rho^2}\\,\\left\\{e^{-\\rho\\,\\theta\\,T}-1+\\rho\\,\\theta\\,T \\right\\}\\nonumber\\\\\n",
    "C_{12}&=&v_2\\,f\\left(v_1\\right)\\,\\frac{1}{\\rho^2}\\,\\left\\{1+e^{-\\rho\\,T}-e^{-\\rho\\,\\theta\\,T}-e^{-\\rho\\,(1-\\theta)\\,T} \\right\\}  \\nonumber\\\\\n",
    "C_{22}&=&v_2\\,f\\left(v_2\\right)\\,\\frac{1}{\\rho^2}\\left\\{e^{-\\rho\\,(1-\\theta)\\,T}-1+\\rho\\,(1-\\theta)\\,T\n",
    "\\right\\} \\end{eqnarray*}\n",
    "\n",
    "We see in particular that the no price manipulation principle forces a\n",
    "relationship between the instantaneous impact function $f(\\cdot)$ and\n",
    "the decay kernel $G(\\cdot)$.\n",
    "\n"
   ]
  },
  {
   "cell_type": "markdown",
   "metadata": {
    "slideshow": {
     "slide_type": "slide"
    }
   },
   "source": [
    "### Exponential decay\n",
    "\n",
    "After making the substitution $\\theta=v_2/(v_1+v_2)$ and imposing the\n",
    "principle of no price manipulation, we obtain\n",
    "\n",
    "<a name=\"eq:fconstraintExp\"></a>(9)\n",
    "\\begin{eqnarray*}\n",
    "&&v_1\\,f(v_1)\\,\\left[ e^{- \\frac{v_2\\,\\rho}{v_1 +v_2}  } -1 +\n",
    "\\frac{v_2\\,\\rho }{v_1 + v_2} \\right]\\nonumber\\\\\n",
    "&& + v_2\\,f(v_2)\\left[  e^ {- \\frac{v_1\\,\\rho }{v_1 + v_2}  } -1+\n",
    "\\frac{v_1\\,\\rho }{v_1 + v_2} \\right]\\nonumber\\\\\n",
    "&&- v_2\\,f(v_1)\\left[  1+ e^{-\\rho } - e^{- \\frac{v_1\\,\\rho }{v_1+v_2}  } - e^{-\n",
    "\\frac{v_2\\,\\rho }{v_1 + v_2}}\\right]\n",
    "\\geq 0\n",
    "\\end{eqnarray*}\n",
    "\n",
    "where, without loss of generality, we have set $T=1$. We note that the\n",
    "first two terms are always positive so price manipulation is only\n",
    "possible if the third term ($C_{12}$) dominates the others.\n",
    "\n"
   ]
  },
  {
   "cell_type": "markdown",
   "metadata": {
    "slideshow": {
     "slide_type": "slide"
    }
   },
   "source": [
    "### Example: $f(v)=\\sqrt{v}$\n",
    "\n",
    "Let $v_1=0.2 ,\\,v_2=1,\\,\\rho=1$. Then the cost of liquidation is given\n",
    "by \n",
    "\n",
    "$$C=C_{11}+C_{22}-C_{12}=-0.001705 < 0.$$ \n",
    "\n",
    "Since $\\rho$ really represents the product $\\rho\\,T$, we see that for any choice of $\\rho$,\n",
    "we can find a combination $\\left\\{v_1,v_2,T\\right\\}$ such that a round\n",
    "trip with no net purchase or sale of stock is profitable. We conclude\n",
    "that if market impact decays exponentially, the principle of no price manipulation excludes a\n",
    "square root instantaneous impact function.\n",
    "\n",
    "Can we generalize this?\n",
    "\n"
   ]
  },
  {
   "cell_type": "markdown",
   "metadata": {
    "slideshow": {
     "slide_type": "slide"
    }
   },
   "source": [
    "### Expansion in $\\rho$\n",
    "\n",
    "Expanding expression [(9)](#eq:fconstraintExp) in powers of $\\rho$, we\n",
    "obtain\n",
    "\n",
    "$$\\frac{v_1 \\,v_2 \\,\\left[v_1\\, f(v_2)-v_2\\, f(v_1)\\right] \\,\\rho ^2}{2 (v_1+v_2)^2}+O\\left(\\rho\n",
    "   ^3\\right) \\geq 0$$ \n",
    "   \n",
    "We see that price manipulation is always possible for small $\\rho$ unless $f(v)$ is linear in $v$.\n",
    "\n",
    "Taking the limit $\\rho \\to 0^+$, we obtain\n",
    "\n",
    "\n",
    "<font color=\"red\">\n",
    "#### Corollary\n",
    "\n",
    "Non-linear permanent market impact is inconsistent with the principle of\n",
    "no price manipulation.\n",
    "\n"
   ]
  },
  {
   "cell_type": "markdown",
   "metadata": {
    "slideshow": {
     "slide_type": "slide"
    }
   },
   "source": [
    "### Exponential decay of market impact and price manipulation\n",
    "\n",
    "<font color=\"red\">\n",
    "####<span>Lemma</span>\n",
    "\n",
    "If temporary market impact decays exponentially, price manipulation is\n",
    "possible unless $f(v) \\propto v$.\n",
    "\n",
    "<font color=\"black\">\n",
    "\n",
    "-   <span>Empirically, market impact is concave in $v$ for small $v$.\n",
    "    </span>\n",
    "\n",
    "-   <span>Also, market impact must be convex for very large $v$</span>\n",
    "\n",
    "    -   <span>Imagine submitting a sell order for 1 million shares when\n",
    "        there are bids for only 100,000.</span>\n",
    "\n",
    "-   <span>We conclude that the principle of no price manipulation\n",
    "    excludes exponential decay of market impact for any reasonable\n",
    "    instantaneous market impact function $f(\\cdot)$.</span>\n",
    "\n"
   ]
  },
  {
   "cell_type": "markdown",
   "metadata": {
    "slideshow": {
     "slide_type": "slide"
    }
   },
   "source": [
    "### Generalization\n",
    "\n",
    "Here is a generalization from [Gatheral, Schied and Slynko]<sup id=\"cite_ref-GSS\" class=\"reference\"><a href=\"#cite_note-GSS\"><span>[</span>7<span>]</span></a></sup>.\n",
    "\n",
    "<font color=\"red\">\n",
    "####Proposition (Alla Slynko)\n",
    "Assuming the price process [(4)](#eq:process), consider a model with a\n",
    "general nonlinear instantaneous market impact function $f(\\cdot)$ and a\n",
    "nonincreasing decay kernel $G(t)$ with\n",
    "$G(0) := \\lim_{t\\downarrow 0} G(t) < \\infty$. Then, such a model admits\n",
    "price manipulation.\n",
    "\n",
    "\n",
    "\n",
    "<font color=\"black\">\n",
    "\n",
    "\n",
    "\n",
    "-   Thus, in practice, any model with a kernel $G(t)$ that is\n",
    "    nonsingular at $t=0$ permits price manipulation and is thus\n",
    "    excluded.\n",
    "\n"
   ]
  },
  {
   "cell_type": "markdown",
   "metadata": {
    "slideshow": {
     "slide_type": "slide"
    }
   },
   "source": [
    "### Linear permanent market impact\n",
    "\n",
    "If $f(v)=\\eta\\,v$ for some $\\eta>0$ and $G(t-s)=1$, the cost of trading\n",
    "becomes \n",
    "\n",
    "$$C[\\Pi]=\\eta\\,\\int_0^T\\,{\\dot x}_t\\,dt\\,\\int_0^t\\,{\\dot\n",
    "x}_s\\,ds = \\frac{\\eta}{2}\\,(x_T-x_0)^2$$ \n",
    "\n",
    "The trading cost per share is\n",
    "then given by \n",
    "\n",
    "$$\\frac{C[\\Pi]}{|x_T-x_0|}=\\frac{\\eta}{2}\\, |x_T-x_0|$$\n",
    "\n",
    "which is *independent* of the details of the trading strategy (depending\n",
    "only on the initial and final positions) and linear in the net trade\n",
    "quantity."
   ]
  },
  {
   "cell_type": "markdown",
   "metadata": {
    "slideshow": {
     "slide_type": "slide"
    }
   },
   "source": [
    "### Power-law decay\n",
    "\n",
    "Suppose now that the decay kernel has the form\n",
    "$$G(t-s)=\\frac{1}{(t-s)^\\gamma}, \\,0<\\gamma<1.$$ Note in particular that\n",
    "this kernel is singular at $\\tau=t-s=0$. Then, explicit computation of\n",
    "all the integrals in [(7)](#eq:costspecific) gives\n",
    "\n",
    "<a name=\"eq:costpowerlaw\"></a>(10)\n",
    "\\begin{eqnarray*}\n",
    "C_{11}&=&v_1\\,f\\left(v_1\\right)\\,\\frac{T^{2 - \\gamma}}{\\left( 1 - \\gamma  \\right) \\,\\left( 2 - \\gamma  \\right) }\\,\\theta^{2-\\gamma}\\nonumber\\\\\n",
    "C_{22}&=&v_2\\,f\\left(v_2\\right)\\,\\frac{T^{2 - \\gamma}}{\\left( 1 - \\gamma  \\right) \\,\\left( 2 - \\gamma  \\right) }\\,(1-\\theta)^{2-\\gamma}\\nonumber\\\\\n",
    "C_{12}&=&v_2\\,f\\left(v_1\\right)\\,\\,\\frac{T^{2 - \\gamma}}{\\left( 1 - \\gamma  \\right) \\,\\left( 2 - \\gamma  \\right) }\\,\n",
    "\\left\\{1-\\theta^{2-\\gamma}-(1-\\theta)^{2-\\gamma}\\right\\}\n",
    "\\end{eqnarray*}\n",
    "\n"
   ]
  },
  {
   "cell_type": "markdown",
   "metadata": {
    "slideshow": {
     "slide_type": "slide"
    }
   },
   "source": [
    "### Power-law decay\n",
    "\n",
    "According to the principle of no price manipulation, substituting\n",
    "$\\theta={v_2}/(v_1+v_2)$, we must have\n",
    "\n",
    "<a name=\"eq:fconstraint\"></a>(11)\n",
    "$$f\\left(v_1\\right)\\, \\left\\{v_1\\,{v_2}^{1-\\gamma}\n",
    "-(v_1+v_2)^{2-\\gamma}+{v_1}^{2-\\gamma}+{v_2}^{2-\\gamma}\\right\\}+ f\\left(v_2\\right)\\,{v_1}^{2 - \\gamma }\n",
    " \\geq 0$$\n",
    "\n",
    "-   <span>If $\\gamma=0$, the no price manipulation condition [(11)](#eq:fconstraint)\n",
    "    reduces to\n",
    "    $$f\\left(v_2\\right)\\,{v_1}-f\\left(v_1\\right)\\, v_2 \\geq 0$$ so\n",
    "    again, permanent impact must be linear.</span>\n",
    "\n",
    "-   <span>If $\\gamma=1$, equation [(11)](#eq:fconstraint) reduces to\n",
    "    $$f\\left(v_1\\right)+ f\\left(v_2\\right) \\geq 0$$ So long as\n",
    "    $f(\\cdot) \\geq 0$, there is no constraint on $f(\\cdot)$ when\n",
    "    $\\gamma=1$.</span>\n",
    "\n"
   ]
  },
  {
   "cell_type": "markdown",
   "metadata": {
    "slideshow": {
     "slide_type": "slide"
    }
   },
   "source": [
    "### The limit $v_1 \\ll v_2$ and $0<\\gamma<1$\n",
    "\n",
    "In this limit, we accumulate stock much more slowly than we liquidate\n",
    "it. Let $v_1=\\epsilon \\,v$ and $v_2=v$ with $\\epsilon \\ll\n",
    "1$. Then, in the limit $\\epsilon \\to 0$, with $0<\\gamma<1$, equation\n",
    "[(11)](#eq:fconstraint) becomes\n",
    "\n",
    "\\begin{eqnarray*}\n",
    "&&f(\\epsilon\\,v)\\, \\left\\{\\epsilon-(1+\\epsilon)^{2-\\gamma}+{\\epsilon}^{2-\\gamma}+1\\right\\}\n",
    "+ f(v)\\,{\\epsilon}^{2 - \\gamma } \\\\\n",
    "&\\sim&-f(\\epsilon\\,v)\\, (1-\\gamma)\\,\\epsilon\n",
    "+ f(v)\\,{\\epsilon}^{2 - \\gamma }\\geq 0\\end{eqnarray*}\n",
    "\n",
    "so for $\\epsilon$ sufficiently small we have\n",
    "\n",
    "<a name=\"eq:rpdArb\"></a>(12)\n",
    "$$\\frac{f\\left(\\epsilon\\, v\\right)}{f\\left( v\\right)} \\leq\n",
    "\\frac{\\epsilon ^{1-\\gamma}}{1-\\gamma}\n",
    "$$\n",
    "\n",
    "If the condition [(12)](#eq:rpdArb) is not satisfied, price manipulation is\n",
    "possible by accumulating stock slowly, maximally splitting the trade,\n",
    "then liquidating it rapidly.\n",
    "\n"
   ]
  },
  {
   "cell_type": "markdown",
   "metadata": {
    "slideshow": {
     "slide_type": "slide"
    }
   },
   "source": [
    "### Power-law impact: $f(v)\\propto v^\\delta$\n",
    "\n",
    "If $f(v)\\sim v^\\delta$ (as per Almgren et al.), the no price\n",
    "manipulation condition [(12)](#eq:rpdArb) reduces to\n",
    "\n",
    "$$\\epsilon ^{1-\\gamma-\\delta} \\geq 1-\\gamma$$ \n",
    "\n",
    "and we obtain\n",
    "\n",
    "<font color=\"red\">\n",
    "####<span>Small $v$ no price manipulation condition</span>\n",
    "\n",
    "<span>\n",
    "$$\\gamma +\\delta \\geq 1$$</span>"
   ]
  },
  {
   "cell_type": "markdown",
   "metadata": {
    "slideshow": {
     "slide_type": "slide"
    }
   },
   "source": [
    "### Cost of VWAP with power-law market impact and decay\n",
    "\n",
    "From equation [(10)](#eq:costpowerlaw), the cost of an interval VWAP\n",
    "execution with duration $T$ is proportional to\n",
    "\n",
    "$$C=v\\,f\\left(v\\right)\\,{T^{2 - \\gamma}}$$\n",
    "\n",
    "Noting that $v=n/T$, and\n",
    "putting $f(v) \\propto (v/V)^\\delta$, the cost per share is proportional\n",
    "to\n",
    "\n",
    "$$\\left(\\frac{n}{V}\\right)^\\delta\\,{T^{1 - \\gamma-\\delta}}$$\n",
    "\n",
    "If\n",
    "$\\gamma+\\delta=1$, the cost per share is *independent* of $T$ and in\n",
    "particular, if $\\gamma=\\delta=1/2$, the impact cost per share is\n",
    "proportional to $\\sqrt{n/V}$, which is the well-known square-root\n",
    "formula for market impact as described by, for example, Grinold and\n",
    "Kahn.\n",
    "\n"
   ]
  },
  {
   "cell_type": "markdown",
   "metadata": {
    "slideshow": {
     "slide_type": "slide"
    }
   },
   "source": [
    "### The square-root formula, $\\gamma$ and $\\delta$\n",
    "\n",
    "-   As we saw earlier, the square-root formula is surprisingly\n",
    "    consistent with empirical observation.\n",
    "\n",
    "-   Also, according to Almgren, $\\delta \\approx 0.6$ and according to\n",
    "    Bouchaud $\\gamma \\approx 0.4$.\n",
    "\n",
    "    -   In a recent phone conversation, Fabrizio Lillo reported that\n",
    "        analysis of 9 million US metaorders seems to give\n",
    "        $\\delta \\approx 0.54$ and $\\gamma \\approx 0.53$; the square-root\n",
    "        model describes this data very well!\n",
    "\n",
    "<font color=\"red\">\n",
    "####<span>Empirical observation</span>\n",
    "\n",
    "$$\\delta+\\gamma \\approx 1$$"
   ]
  },
  {
   "cell_type": "markdown",
   "metadata": {
    "slideshow": {
     "slide_type": "slide"
    }
   },
   "source": [
    "### The shape of the order book\n",
    "\n",
    "Recall from Lecture 2 that Bouchaud, Mézard and Potters (2002) derived\n",
    "the following approximation to the average density $\\rho(\\hat \\Delta)$\n",
    "of orders as a function of a rescaled distance $\\hat \\Delta$ from the\n",
    "price level at which the order is placed to the current price:\n",
    "\n",
    "<a name=\"eq:orderdensity\"></a>(13)\n",
    "$$\\rho(\\hat \\Delta)=e^{- \\hat \\Delta}\\,\\int_0^{\\hat\n",
    "\\Delta}\\,du\\,\\frac{\\sinh(u)}{u^{1+\\mu}}+ \\sinh(\\hat\n",
    "\\Delta)\\,\\int_{\\hat \\Delta}^\\infty\\,du\\,\\frac{e^{-u}}{u^{1+\\mu}}\n",
    "$$\n",
    "\n",
    "where $\\mu$ is the exponent in the empirical power-law distribution of\n",
    "new limit orders.\n",
    "\n"
   ]
  },
  {
   "cell_type": "markdown",
   "metadata": {
    "slideshow": {
     "slide_type": "slide"
    }
   },
   "source": [
    "### Approximate order density\n",
    "\n",
    "The red line is a plot of the order density $\\rho(\\hat \\Delta)$ from HW2\n",
    "corresponding to a Student-t rain distribution with 0.5 degrees of\n",
    "freedom."
   ]
  },
  {
   "cell_type": "code",
   "execution_count": 1,
   "metadata": {
    "collapsed": false
   },
   "outputs": [],
   "source": [
    "%load_ext rpy2.ipython"
   ]
  },
  {
   "cell_type": "code",
   "execution_count": 2,
   "metadata": {
    "collapsed": false
   },
   "outputs": [
    {
     "data": {
      "image/png": "[encoded data removed]"
     },
     "metadata": {},
     "output_type": "display_data"
    }
   ],
   "source": [
    "%%R\n",
    "\n",
    "# Bouchaud, Mézard and Potters book density computation with mu=0.5\n",
    "rho <- function(f){\n",
    "  function(delhat){\n",
    "  f1 <- function(u){sinh(u)*f(u)};\n",
    "  tmp1 <-  if(delhat < 0.00001) 0 else exp(-delhat)*integrate(f1, lower = 0, upper = delhat)$value;\n",
    "  f2 <- function(u){exp(-u)*f(u)};\n",
    "  tmp2 <- if(delhat < 0.00001) 0 else sinh(delhat)*integrate(f2, lower = delhat, upper = Inf)$value;\n",
    "  return(tmp1+tmp2);\n",
    "  }\n",
    "}\n",
    "\n",
    "# Book density assuming rain distribution of incoming limit orders is Student-t with mu degrees of freedom\n",
    "ft <- function(mu){function(u){dt(u, df=mu)}};\n",
    "rhov <- function(mu){function(u){sapply(u,rho(ft(mu)))}};\n",
    "normt <- function(mu){integrate(rhov(mu),lower=0,upper=700)$value};\n",
    "rhovn <- function(mu){function(u){rhov(mu)(u)/normt(mu)}};\n",
    "\n",
    "# Book shape plot\n",
    "curve(rhovn(.5)(x),from=.0,to=10,col=\"red\",xlab=expression(hat(Delta)),ylab=expression(rho(hat(Delta))),n=1000);"
   ]
  },
  {
   "cell_type": "markdown",
   "metadata": {
    "slideshow": {
     "slide_type": "slide"
    }
   },
   "source": [
    "### Virtual price impact"
   ]
  },
  {
   "cell_type": "code",
   "execution_count": 3,
   "metadata": {
    "collapsed": false
   },
   "outputs": [
    {
     "data": {
      "image/png": "[encoded data removed]"
     },
     "metadata": {},
     "output_type": "display_data"
    }
   ],
   "source": [
    "%%R\n",
    "\n",
    "# Cumulative order density computation\n",
    "cumrho <- function(delhat,mu){\n",
    "return(integrate(rhov(mu),lower = 0, upper = delhat)$value);\n",
    "}\n",
    "\n",
    "cumrhov <- function(delhat,mu){sapply(delhat,function(u){cumrho(u,mu)})}\n",
    "\n",
    "# Compute vector\n",
    "y <- (0:1000)/100;\n",
    "x <- cumrhov(y,.5);\n",
    "\n",
    "# Virtual impact plot\n",
    "plot(x,y,col=\"red\",type=\"l\",ylab = expression(paste(\"Price impact: \",hat(Delta))),\n",
    "xlab = expression(paste(\"Quantity: \",integral(rho(u)*du,0,hat(Delta)))),\n",
    "xaxt=\"n\"\n",
    ")"
   ]
  },
  {
   "cell_type": "markdown",
   "metadata": {
    "slideshow": {
     "slide_type": "slide"
    }
   },
   "source": [
    "### Impact for high trading rates\n",
    "\n",
    "-   <span> You can’t trade more than the total depth of the book so\n",
    "    price impact increases without limit as $n \\rightarrow n_{max}$.\n",
    "    </span>\n",
    "\n",
    "\n",
    "-   <span>For a sufficiently large trading rate $v$, it can be shown\n",
    "    that $$f(v) \\sim \\frac{1}{(1-v/v_{max})^{1/\\mu}}$$</span>\n",
    "\n",
    "\n",
    "-   <span> Setting $v = v_{max}\\,(1-\\epsilon)$ and taking the limit\n",
    "    $\\epsilon \\to 0$,\n",
    "    $$f(v) \\sim \\frac{1}{\\epsilon^{1/\\mu}} \\textrm{ as } \\epsilon \\to 0.$$</span>\n",
    "\n",
    "\n",
    "-   <span>Imagine we accumulate stock at a rate close to $v_{max}:=1$\n",
    "    and liquidate at some (lower) rate $v$.</span>\n",
    "\n",
    "    -   <span>This is the pump and dump strategy!</span>\n",
    "\n"
   ]
  },
  {
   "cell_type": "markdown",
   "metadata": {
    "slideshow": {
     "slide_type": "slide"
    }
   },
   "source": [
    "### Impact for high trading rates continued\n",
    "\n",
    "-   Substituting into condition [(11)](#eq:fconstraint) gives\n",
    "\n",
    "    \\begin{eqnarray*}\n",
    "    &&\\frac{1}{\\epsilon^{1/\\mu}} \\, \\left\\{(1-\\epsilon)\\,{v}^{1-\\gamma}\n",
    "    -(1-\\epsilon + v)^{2-\\gamma}+{(1-\\epsilon)}^{2-\\gamma}+{v}^{2-\\gamma}\\right\\} + f\\left(v\\right)\\,{(1-\\epsilon)}^{2 - \\gamma }\n",
    "     \\geq 0\\end{eqnarray*}\n",
    "\n",
    "\n",
    "-  We observe that price manipulation is possible only if\n",
    "\n",
    "    $$h(v,\\,\\gamma):={v}^{1-\\gamma} -(1 + v)^{2-\\gamma}+1+{v}^{2-\\gamma} < 0.$$\n",
    "\n"
   ]
  },
  {
   "cell_type": "markdown",
   "metadata": {
    "slideshow": {
     "slide_type": "slide"
    }
   },
   "source": [
    "### Graphical illustration\n",
    "\n",
    "<h2><img src=\"http://mfe.baruch.cuny.edu/wp-content/uploads/2015/04/Liquidity2008largev.png\" align = \"center\" width=500></h2>\n",
    "\n",
    "-   <span>We see from the picture that $h(v,\\gamma)<0$ is equivalent to\n",
    "    $$\\gamma < \\gamma^*:=2-\\frac{\\log 3}{\\log 2}\\approx 0.415$$ </span>\n",
    "\n",
    "-   <span>So if $\\gamma>\\gamma^*$, there is no arbitrage.</span>\n",
    "\n"
   ]
  },
  {
   "cell_type": "markdown",
   "metadata": {
    "slideshow": {
     "slide_type": "slide"
    }
   },
   "source": [
    "### More on high trading rates\n",
    "\n",
    "-   <span>Also, $h(v,\\,\\gamma)$ decreases as $v \\to v_{max}(=1)$ so the\n",
    "    arbitrage is maximized near $v = v_{max}$.</span>\n",
    "\n",
    "    -   <span>However, we already know that there is no arbitrage when\n",
    "        trading in and out at the same rate.</span>\n",
    "\n",
    "\n",
    "-   <span>A careful limiting argument nevertheless shows that arbitrage\n",
    "    is still possible in principle for every $\\gamma < \\gamma^*$.\n",
    "    </span>\n",
    "\n",
    "\n",
    "-   We deduce that, *independent* of the particular exponent $\\mu$ in\n",
    "    the power law of limit order arrivals, the no-arbitrage condition\n",
    "    is:\n",
    "\n",
    "<font color=\"red\">\n",
    "####<span>Large size no arbitrage condition</span>\n",
    "\n",
    "$$\\gamma > \\gamma^* =2-\\frac{\\log 3}{\\log 2}$$"
   ]
  },
  {
   "cell_type": "markdown",
   "metadata": {
    "slideshow": {
     "slide_type": "slide"
    }
   },
   "source": [
    "### Summary\n",
    "\n",
    "-   Assuming a price process of the form\n",
    "    $$S_t=S_0+\\int_0^t\\,f(\\dot{x}_s)\\,G(t-s)\\,ds+\\int_0^t\\,\\sigma\\,dZ_s$$  \n",
    "    and imposing the principle of no price manipulation we showed that\n",
    "    if the instantaneous market impact functions $f(\\cdot)$ is\n",
    "    nonlinear, the decay kernel $G(\\cdot)$ must be singular at the\n",
    "    origin.\n",
    "\n",
    "\n",
    "-  In particular, if $f(v) \\propto v^\\delta$ and $G(\\tau) \\sim \\tau^{-\\gamma}$, we must have\n",
    "    $$\\gamma +\\delta \\geq 1.$$\n",
    "\n",
    "\n",
    "-   <span> By considering the tails of the limit-order book, we deduce\n",
    "    that\n",
    "    $$\\gamma \\geq \\gamma^* := 2- \\frac{\\log{3}}{\\log{2}}\\approx 0.415.$$\n",
    "    </span>\n",
    "\n"
   ]
  },
  {
   "cell_type": "markdown",
   "metadata": {
    "slideshow": {
     "slide_type": "slide"
    }
   },
   "source": [
    "### Summary continued\n",
    "\n",
    "-   <span>We then observe that if the average cost of a (not-too-large)\n",
    "    VWAP execution is roughly independent of duration, the exponent\n",
    "    $\\delta$ of the power law of market impact should satisfy:\n",
    "    $$\\delta+\\gamma \\approx 1$$ </span>\n",
    "\n",
    "\n",
    "-   <span>Finally, we note that empirical estimates are\n",
    "    $\\gamma \\approx 0.4$ (Bouchaud et al.) and $\\delta \\approx 0.6$\n",
    "    (Algren et al.)</span>\n",
    "\n",
    "\n",
    "-   <span>Our no price manipulation principle links these\n",
    "    observations!</span>\n",
    "\n"
   ]
  },
  {
   "cell_type": "markdown",
   "metadata": {
    "slideshow": {
     "slide_type": "slide"
    }
   },
   "source": [
    "### Schematic presentation of results\n",
    "\n",
    "<h2><img src=\"http://mfe.baruch.cuny.edu/wp-content/uploads/2015/04/Liquidity2008summary.png\" align = \"center\" width=500></h2>"
   ]
  },
  {
   "cell_type": "markdown",
   "metadata": {
    "slideshow": {
     "slide_type": "slide"
    }
   },
   "source": [
    "### Compatibility with empirical observation\n",
    "\n",
    "-   The recent empirical findings of [Bershova and Rakhlin]<sup id=\"cite_ref-Bershova\" class=\"reference\"><a href=\"#cite_note-Bershova\"><span>[</span>2<span>]</span></a></sup> suggest that the FGLW\n",
    "    model is closer to reality than the Bouchaud model, thus\n",
    "    invalidating [(4)](#eq:process) as a good model for the evolution of the stock price\n",
    "    during execution of a metaorder.\n",
    "\n",
    "\n",
    "-   However the FGLW model obviously violates the principle of no price\n",
    "    manipulation.\n",
    "\n",
    "    -   Assuming a power-law distribution of order sizes, permanent\n",
    "        impact is also power-law and certainly nonlinear in the FGLW\n",
    "        model.\n",
    "\n",
    "\n",
    "-   The work of [Donier]<sup id=\"cite_ref-Donier\" class=\"reference\"><a href=\"#cite_note-Donier\"><span>[</span>4<span>]</span></a></sup> suggests how this and other technical\n",
    "    difficulties with the FGLW model may be resolved.\n",
    "\n",
    "\n",
    "-   More recent empirical work by [Waelbroeck and Gomes]<sup id=\"cite_ref-WaelbroeckGomes\" class=\"reference\"><a href=\"#cite_note-WaelbroeckGomes\"><span>[</span>6<span>]</span></a></sup> suggests that only\n",
    "    informed orders have permanent impact.\n",
    "\n",
    "    -   If so, this offers another way to eliminate price manipulation\n",
    "        in the FGLW model.\n",
    "\n",
    "-   It is still work in progress ...\n",
    "\n"
   ]
  },
  {
   "cell_type": "markdown",
   "metadata": {
    "slideshow": {
     "slide_type": "slide"
    }
   },
   "source": [
    "### References\n",
    "\n",
    "<br />\n",
    "\n",
    "<div class=\"reflist\" style=\"list-style-type: decimal;\">\n",
    "\n",
    "<ol>\n",
    "\n",
    "  <li id=\"cite_note-Almgren\"><span class=\"mw-cite-backlink\"><b><a href=\"#cite_ref-Almgren\">^</a></b></span>Robert Almgren, Chee Thum, Emmanuel Hauptmann, and Hong Li, Equity\n",
    "market impact, <span>*Risk*</span> July 2005, 57–62.\n",
    "  </li>\n",
    "\n",
    "  <li id=\"cite_note-Bershova\"><span class=\"mw-cite-backlink\"><b><a href=\"#cite_ref-Bershova\">^</a></b></span>Nataliya Bershova and Dmitry Rakhlin, The Non-Linear Market Impact of\n",
    "Large Trades: Evidence from Buy-Side Order Flow, <span>*Quantitative\n",
    "Finance*</span> <span>**13**</span>(11) 1759–1778 (2013).\n",
    "  </li>\n",
    "  \n",
    "  <li id=\"cite_note-BMP\"><span class=\"mw-cite-backlink\"><b><a href=\"#cite_ref-BMP\">^</a></b></span>Jean-Philippe Bouchaud, Marc Mézard and Marc Potters, Statistical\n",
    "properties of stock order books: empirical results and models,\n",
    "<span>*Quantitative Finance*</span> <span>**2**</span>(4) 251–256\n",
    "(2002).\n",
    "  </li>\n",
    "  \n",
    "  <li id=\"cite_note-Donier\"><span class=\"mw-cite-backlink\"><b><a href=\"#cite_ref-Donier\">^</a></b></span>Jonathan Donier, Market Impact with Autocorrelated Order Flow under\n",
    "Perfect Competition, <span>*SSRN*</span> available at\n",
    "<http://ssrn.com/abstract=2191660> (2012).\n",
    "  </li>\n",
    "  \n",
    "  <li id=\"cite_note-FGLW\"><span class=\"mw-cite-backlink\"><b><a href=\"#cite_ref-FGLW\">^</a></b></span>J Doyne Farmer, Austin Gerig, Fabrizio Lillo, and Henri Waelbroeck, How\n",
    "efficiency shapes market impact, available at <span>*Quantitative\n",
    "Finance*</span> <span>**13**</span>(11) 1743–1758 (2013).\n",
    "  </li>\n",
    "  \n",
    "  <li id=\"cite_note-Gatheral\"><span class=\"mw-cite-backlink\"><b><a href=\"#cite_ref-Gatheral\">^</a></b></span>Jim Gatheral, No-dynamic-arbitrage and market impact,\n",
    "<span>*Quantitative Finance*</span> <span>**10**</span>(7) 749–759\n",
    "(2010).\n",
    "  </li>\n",
    "\n",
    "  <li id=\"cite_note-GSS\"><span class=\"mw-cite-backlink\"><b><a href=\"#cite_ref-GSS\">^</a></b></span>Jim Gatheral, Alexander Schied, and Alla Slynko, Exponential resilience\n",
    "and decay of market impact, in <span>*Econophysics of Order-driven\n",
    "Markets*</span>, Springer, 225–236, (2011).\n",
    "  </li>\n",
    "  \n",
    "  <li id=\"cite_note-LilloMikeFarmer\"><span class=\"mw-cite-backlink\"><b><a href=\"#cite_ref-LilloMikeFarmer\">^</a></b></span>Fabrizio Lillo, Szabolcs Mike, and J Doyne Farmer, Theory for long\n",
    "memory in supply and demand, <span>*Phys. Rev. E*</span>\n",
    "<span>**71**</span>(6) 66122 (2005).\n",
    "  </li>\n",
    "  \n",
    "  <li id=\"cite_note-Moro\"><span class=\"mw-cite-backlink\"><b><a href=\"#cite_ref-Moro\">^</a></b></span>Esteban Moro, Javier Vicente, Luis G Moyano, Austin Gerig, J. Doyne\n",
    "Farmer, Gabriella Vaglica, Fabrizio Lillo, and Rosario N Mantegna,\n",
    "Market impact and trading profile of meta orders in stock markets,\n",
    "<span>*Physical Review E*</span> <span>**80**</span>(6) 066102 (2009).\n",
    "  </li>\n",
    "  \n",
    "  <li id=\"cite_note-ObizhaevaWang\"><span class=\"mw-cite-backlink\"><b><a href=\"#cite_ref-ObizhaevaWang\">^</a></b></span>Anna Obizhaeva and Jiang Wang, Optimal trading strategy and\n",
    "supply/demand dynamics <span>*Journal of Financial Markets*</span>\n",
    "<span>**16**</span>(1) 1–32 (2013).\n",
    "  </li>\n",
    "  \n",
    "  <li id=\"cite_note-SFGK\"><span class=\"mw-cite-backlink\"><b><a href=\"#cite_ref-SFGK\">^</a></b></span>E Smith, JD Farmer, L Gillemot, and S Krishnamurthy, Statistical theory\n",
    "of the continuous double auction, <span>*Quantitative Finance*</span>\n",
    "<span>**3**</span>(6) 481–514 (2003).\n",
    "  </li>\n",
    "  \n",
    "  <li id=\"cite_note-Toth\"><span class=\"mw-cite-backlink\"><b><a href=\"#cite_ref-Toth\">^</a></b></span>Bence Tóth, Yves Lempérière, Cyril Deremble, Joachim de Lataillade,\n",
    "Julien Kockelkoren, and Jean-Philippe Bouchaud, Anomalous price impact\n",
    "and the critical nature of liquidity in financial markets,\n",
    "<span>*Physical Review X*</span> 021006, 1-11(2011).\n",
    "  </li>\n",
    "  \n",
    "  <li id=\"cite_note-WaelbroeckGomes\"><span class=\"mw-cite-backlink\"><b><a href=\"#cite_ref-WaelbroeckGomes\">^</a></b></span>Henri Waelbroeck and Carla Gomes, Is Market Impact a Measure of the\n",
    "Information Value of Trades? Market Response to Liquidity vs. Informed\n",
    "Trades, <span>*SSRN*</span> available at\n",
    "<http://ssrn.com/abstract=2291720> (2013).\n",
    "  </li>\n",
    "\n",
    "  \n",
    "</ol>"
   ]
  }
 ],
 "metadata": {
  "kernelspec": {
   "display_name": "Python 2",
   "language": "python",
   "name": "python2"
  },
  "language_info": {
   "codemirror_mode": {
    "name": "ipython",
    "version": 2
   },
   "file_extension": ".py",
   "mimetype": "text/x-python",
   "name": "python",
   "nbconvert_exporter": "python",
   "pygments_lexer": "ipython2",
   "version": "2.7.6"
  }
 },
 "nbformat": 4,
 "nbformat_minor": 0
}
