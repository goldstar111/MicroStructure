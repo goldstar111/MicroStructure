{
 "cells": [
  {
   "cell_type": "markdown",
   "metadata": {
    "slideshow": {
     "slide_type": "slide"
    }
   },
   "source": [
    "## MTH 9879 Market Microstructure Models,    Spring 2016\n",
    "\n",
    "<p>\n",
    "\n",
    "### Lecture 2: Order book and order flow: The market or limit order decision\n",
    "\n",
    "Jim Gatheral   \n",
    "Department of Mathematics   \n",
    "  \n",
    "  \n",
    "<h3><img src=\"http://mfe.baruch.cuny.edu/wp-content/uploads/2014/07/BaruchLogo2.png\" align = \"left\" width=160></h3>  \n",
    "\n",
    "\n",
    "<h3><img src=\"http://mfe.baruch.cuny.edu/wp-content/uploads/2014/07/MFElogo.png\" align = \"right\" width=100></h3>\n",
    "\n",
    "\n",
    "$$\n",
    "\\newcommand{\\bea}{\\begin{eqnarray}}\n",
    "\\newcommand{\\eea}{\\end{eqnarray}}\n",
    "\\newcommand{\\supp}{\\mathrm{supp}}\n",
    "\\newcommand{\\F}{\\mathcal{F} }\n",
    "\\newcommand{\\cF}{\\mathcal{F} }\n",
    "\\newcommand{\\E}{\\mathbb{E} }\n",
    "\\newcommand{\\Eof}[1]{\\mathbb{E}\\left[ #1 \\right]}\n",
    "\\def\\Cov{{ \\mbox{Cov} }}\n",
    "\\def\\Var{{ \\mbox{Var} }}\n",
    "\\newcommand{\\1}{\\mathbf{1} }\n",
    "\\newcommand{\\p}{\\partial}\n",
    "\\newcommand{\\PP}{\\mathbb{P} }\n",
    "\\newcommand{\\Pof}[1]{\\mathbb{P}\\left[ #1 \\right]}\n",
    "\\newcommand{\\QQ}{\\mathbb{Q} }\n",
    "\\newcommand{\\R}{\\mathbb{R} }\n",
    "\\newcommand{\\DD}{\\mathbb{D} }\n",
    "\\newcommand{\\HH}{\\mathbb{H} }\n",
    "\\newcommand{\\spn}{\\mathrm{span} }\n",
    "\\newcommand{\\cov}{\\mathrm{cov} }\n",
    "\\newcommand{\\HS}{\\mathcal{L}_{\\mathrm{HS}} }\n",
    "\\newcommand{\\Hess}{\\mathrm{Hess} }\n",
    "\\newcommand{\\trace}{\\mathrm{trace} }\n",
    "\\newcommand{\\LL}{\\mathcal{L} }\n",
    "\\newcommand{\\s}{\\mathcal{S} }\n",
    "\\newcommand{\\ee}{\\mathcal{E} }\n",
    "\\newcommand{\\ff}{\\mathcal{F} }\n",
    "\\newcommand{\\hh}{\\mathcal{H} }\n",
    "\\newcommand{\\bb}{\\mathcal{B} }\n",
    "\\newcommand{\\dd}{\\mathcal{D} }\n",
    "\\newcommand{\\g}{\\mathcal{G} }\n",
    "\\newcommand{\\half}{\\frac{1}{2} }\n",
    "\\newcommand{\\T}{\\mathcal{T} }\n",
    "\\newcommand{\\bit}{\\begin{itemize}}\n",
    "\\newcommand{\\eit}{\\end{itemize}}\n",
    "\\newcommand{\\beq}{\\begin{equation}}\n",
    "\\newcommand{\\eeq}{\\end{equation}}\n",
    "\\newcommand{\\tr}{\\mbox{tr}}\n",
    "$$\n",
    "\n"
   ]
  },
  {
   "cell_type": "markdown",
   "metadata": {
    "slideshow": {
     "slide_type": "slide"
    }
   },
   "source": [
    "## Outline of Lecture 2\n",
    "\n",
    "-   Biais, Hillion, and Spatt (1995)\n",
    "\n",
    "-   Order flow from order book: The market order or limit order decision\n",
    "\n",
    "    -   The Parlour (1998) model\n",
    "\n",
    "    -   The Foucault Kadan Kandel (2005) model\n",
    "\n",
    "    -   The Roşu (2009) model\n",
    "\n",
    "    -   Cont and Kukanov (2013)"
   ]
  },
  {
   "cell_type": "markdown",
   "metadata": {
    "slideshow": {
     "slide_type": "subslide"
    }
   },
   "source": [
    "-   Order book from order flow\n",
    "\n",
    "    -   Bouchaud, Mézard and Potters order book shape approximation\n",
    "\n",
    "    -   Mike and Farmer empirical law of order arrivals"
   ]
  },
  {
   "cell_type": "markdown",
   "metadata": {
    "slideshow": {
     "slide_type": "slide"
    }
   },
   "source": [
    "### Price signal in the ZI simulation\n",
    "\n",
    "-   Recall from Lecture 1 that even in the ZI model, the shape of the\n",
    "    order book allows prediction of price movements.\n",
    "\n",
    "    -   Traders really would need to have zero intelligence not to\n",
    "        condition on book shape!\n",
    "        \n",
    "<h2><img src=\"http://mfe.baruch.cuny.edu/wp-content/uploads/2015/01/asymmetryImbalance.png\" align = \"center\" width=600></h2>\n",
    "\n",
    "Figure 1: With one share at best offer, future price change vs book\n",
    "imbalance."
   ]
  },
  {
   "cell_type": "markdown",
   "metadata": {
    "slideshow": {
     "slide_type": "slide"
    }
   },
   "source": [
    "### Biais, Hillion and Spatt\n",
    "\n",
    "-   In the zero-intelligence models, limit order, market order and\n",
    "    cancelation processes are all independent.\n",
    "\n",
    "    -   In particular, these processes do not depend on the state of the\n",
    "        order book.\n",
    "\n",
    "-   [Biais, Hillion, and Spatt]<sup id=\"cite_ref-BHS\" class=\"reference\"><a href=\"#cite_note-BHS\"><span>[</span>1<span>]</span></a></sup> performed an empirical analysis of the interaction between the\n",
    "    order book and order flow processes on the Paris Bourse."
   ]
  },
  {
   "cell_type": "markdown",
   "metadata": {
    "slideshow": {
     "slide_type": "slide"
    }
   },
   "source": [
    "### Biais, Hillion and Spatt results\n",
    "\n",
    "\n",
    "<h2><img src=\"http://mfe.baruch.cuny.edu/wp-content/uploads/2015/01/BHS.png\" align = \"center\" width=600></h2>\n"
   ]
  },
  {
   "cell_type": "markdown",
   "metadata": {
    "slideshow": {
     "slide_type": "slide"
    }
   },
   "source": [
    "### Biais, Hillion and Spatt: Observations\n",
    "\n",
    "-   <span>We note the <span>*diagonal*</span> effect:</span>\n",
    "\n",
    "    -   <span>Events with the same sign are more frequent that events\n",
    "        with different signs.</span>\n",
    "\n",
    "    -   The probability that a given type of order or trade occurs is\n",
    "        larger after this event has just occurred than it would be\n",
    "        unconditionally.\n",
    "\n",
    "-   This is inconsistent with the zero-intelligence (ZI) picture.\n",
    "\n",
    "    -   In the ZI picture, the relative probabilities of events are\n",
    "        independent of previous events.\n",
    "\n",
    "    -   In real markets, order flow depends on the shape of the order\n",
    "        book."
   ]
  },
  {
   "cell_type": "markdown",
   "metadata": {
    "slideshow": {
     "slide_type": "subslide"
    }
   },
   "source": [
    "-   In a ZI market, traders submit orders and cancelations without\n",
    "    looking either at the current state of the book or analyzing order\n",
    "    flow.\n",
    "\n",
    "\n",
    "<font color=\"red\">\n",
    "-   In real markets, traders look at the screen before trading!"
   ]
  },
  {
   "cell_type": "markdown",
   "metadata": {
    "slideshow": {
     "slide_type": "slide"
    }
   },
   "source": [
    "### Time series of trade signs: MSFT vs ZI"
   ]
  },
  {
   "cell_type": "code",
   "execution_count": 2,
   "metadata": {
    "collapsed": false,
    "slideshow": {
     "slide_type": "fragment"
    }
   },
   "outputs": [],
   "source": [
    "download.file(url=\"http://mfe.baruch.cuny.edu/wp-content/uploads/2015/01/ziSetup.zip\", destfile=\"ziSetup.zip\")\n",
    "unzip(zipfile=\"ziSetup.zip\")\n",
    "source(\"ziSetup.R\")"
   ]
  },
  {
   "cell_type": "code",
   "execution_count": 3,
   "metadata": {
    "collapsed": false,
    "slideshow": {
     "slide_type": "subslide"
    }
   },
   "outputs": [
    {
     "data": {
      "image/png": "[encoded data removed]",
      "image/svg+xml": [
       "<?xml version=\"1.0\" encoding=\"UTF-8\"?>\n",
       "<svg xmlns=\"http://www.w3.org/2000/svg\" xmlns:xlink=\"http://www.w3.org/1999/xlink\" width=\"504pt\" height=\"504pt\" viewBox=\"0 0 504 504\" version=\"1.1\">\n",
       "<defs>\n",
       "<g>\n",
       "<symbol overflow=\"visible\" id=\"glyph0-0\">\n",
       "<path style=\"stroke:none;\" d=\"M 0.390625 0 L 0.390625 -8.609375 L 7.21875 -8.609375 L 7.21875 0 Z M 6.140625 -1.078125 L 6.140625 -7.53125 L 1.46875 -7.53125 L 1.46875 -1.078125 Z M 6.140625 -1.078125 \"/>\n",
       "</symbol>\n",
       "<symbol overflow=\"visible\" id=\"glyph0-1\">\n",
       "<path style=\"stroke:none;\" d=\"M 3.25 -8.390625 C 4.332031 -8.390625 5.117188 -7.941406 5.609375 -7.046875 C 5.984375 -6.359375 6.171875 -5.410156 6.171875 -4.203125 C 6.171875 -3.066406 6 -2.125 5.65625 -1.375 C 5.164062 -0.300781 4.359375 0.234375 3.234375 0.234375 C 2.234375 0.234375 1.484375 -0.203125 0.984375 -1.078125 C 0.578125 -1.816406 0.375 -2.800781 0.375 -4.03125 C 0.375 -4.976562 0.5 -5.796875 0.75 -6.484375 C 1.207031 -7.753906 2.039062 -8.390625 3.25 -8.390625 Z M 3.234375 -0.734375 C 3.785156 -0.734375 4.222656 -0.972656 4.546875 -1.453125 C 4.867188 -1.941406 5.03125 -2.847656 5.03125 -4.171875 C 5.03125 -5.117188 4.910156 -5.898438 4.671875 -6.515625 C 4.441406 -7.128906 3.988281 -7.4375 3.3125 -7.4375 C 2.6875 -7.4375 2.226562 -7.144531 1.9375 -6.5625 C 1.65625 -5.976562 1.515625 -5.117188 1.515625 -3.984375 C 1.515625 -3.128906 1.609375 -2.441406 1.796875 -1.921875 C 2.078125 -1.128906 2.554688 -0.734375 3.234375 -0.734375 Z M 3.234375 -0.734375 \"/>\n",
       "</symbol>\n",
       "<symbol overflow=\"visible\" id=\"glyph0-2\">\n",
       "<path style=\"stroke:none;\" d=\"M 0.375 0 C 0.414062 -0.71875 0.566406 -1.34375 0.828125 -1.875 C 1.085938 -2.414062 1.59375 -2.90625 2.34375 -3.34375 L 3.46875 -4 C 3.96875 -4.289062 4.320312 -4.539062 4.53125 -4.75 C 4.851562 -5.070312 5.015625 -5.441406 5.015625 -5.859375 C 5.015625 -6.347656 4.863281 -6.734375 4.5625 -7.015625 C 4.269531 -7.304688 3.882812 -7.453125 3.40625 -7.453125 C 2.675781 -7.453125 2.175781 -7.179688 1.90625 -6.640625 C 1.75 -6.335938 1.664062 -5.929688 1.65625 -5.421875 L 0.578125 -5.421875 C 0.585938 -6.148438 0.722656 -6.742188 0.984375 -7.203125 C 1.441406 -8.015625 2.25 -8.421875 3.40625 -8.421875 C 4.363281 -8.421875 5.0625 -8.160156 5.5 -7.640625 C 5.945312 -7.117188 6.171875 -6.539062 6.171875 -5.90625 C 6.171875 -5.238281 5.9375 -4.664062 5.46875 -4.1875 C 5.195312 -3.90625 4.707031 -3.566406 4 -3.171875 L 3.1875 -2.734375 C 2.8125 -2.523438 2.515625 -2.320312 2.296875 -2.125 C 1.898438 -1.789062 1.648438 -1.414062 1.546875 -1 L 6.140625 -1 L 6.140625 0 Z M 0.375 0 \"/>\n",
       "</symbol>\n",
       "<symbol overflow=\"visible\" id=\"glyph0-3\">\n",
       "<path style=\"stroke:none;\" d=\"M 3.96875 -2.96875 L 3.96875 -6.78125 L 1.28125 -2.96875 Z M 3.984375 0 L 3.984375 -2.046875 L 0.3125 -2.046875 L 0.3125 -3.078125 L 4.15625 -8.421875 L 5.046875 -8.421875 L 5.046875 -2.96875 L 6.28125 -2.96875 L 6.28125 -2.046875 L 5.046875 -2.046875 L 5.046875 0 Z M 3.984375 0 \"/>\n",
       "</symbol>\n",
       "<symbol overflow=\"visible\" id=\"glyph0-4\">\n",
       "<path style=\"stroke:none;\" d=\"M 3.515625 -8.421875 C 4.453125 -8.421875 5.101562 -8.175781 5.46875 -7.6875 C 5.84375 -7.207031 6.03125 -6.707031 6.03125 -6.1875 L 4.984375 -6.1875 C 4.921875 -6.519531 4.820312 -6.78125 4.6875 -6.96875 C 4.425781 -7.320312 4.039062 -7.5 3.53125 -7.5 C 2.9375 -7.5 2.460938 -7.222656 2.109375 -6.671875 C 1.765625 -6.128906 1.578125 -5.351562 1.546875 -4.34375 C 1.785156 -4.695312 2.085938 -4.960938 2.453125 -5.140625 C 2.785156 -5.296875 3.160156 -5.375 3.578125 -5.375 C 4.285156 -5.375 4.898438 -5.148438 5.421875 -4.703125 C 5.941406 -4.253906 6.203125 -3.582031 6.203125 -2.6875 C 6.203125 -1.925781 5.953125 -1.25 5.453125 -0.65625 C 4.960938 -0.0703125 4.257812 0.21875 3.34375 0.21875 C 2.550781 0.21875 1.867188 -0.078125 1.296875 -0.671875 C 0.734375 -1.273438 0.453125 -2.28125 0.453125 -3.6875 C 0.453125 -4.726562 0.578125 -5.613281 0.828125 -6.34375 C 1.316406 -7.726562 2.210938 -8.421875 3.515625 -8.421875 Z M 3.4375 -0.71875 C 3.988281 -0.71875 4.398438 -0.90625 4.671875 -1.28125 C 4.953125 -1.65625 5.09375 -2.097656 5.09375 -2.609375 C 5.09375 -3.035156 4.96875 -3.441406 4.71875 -3.828125 C 4.476562 -4.210938 4.03125 -4.40625 3.375 -4.40625 C 2.925781 -4.40625 2.53125 -4.253906 2.1875 -3.953125 C 1.84375 -3.660156 1.671875 -3.210938 1.671875 -2.609375 C 1.671875 -2.078125 1.828125 -1.628906 2.140625 -1.265625 C 2.453125 -0.898438 2.882812 -0.71875 3.4375 -0.71875 Z M 3.4375 -0.71875 \"/>\n",
       "</symbol>\n",
       "<symbol overflow=\"visible\" id=\"glyph0-5\">\n",
       "<path style=\"stroke:none;\" d=\"M 3.265625 -4.875 C 3.734375 -4.875 4.097656 -5.003906 4.359375 -5.265625 C 4.617188 -5.523438 4.75 -5.832031 4.75 -6.1875 C 4.75 -6.5 4.625 -6.785156 4.375 -7.046875 C 4.125 -7.316406 3.742188 -7.453125 3.234375 -7.453125 C 2.722656 -7.453125 2.351562 -7.316406 2.125 -7.046875 C 1.894531 -6.785156 1.78125 -6.484375 1.78125 -6.140625 C 1.78125 -5.742188 1.925781 -5.429688 2.21875 -5.203125 C 2.519531 -4.984375 2.867188 -4.875 3.265625 -4.875 Z M 3.328125 -0.71875 C 3.816406 -0.71875 4.222656 -0.847656 4.546875 -1.109375 C 4.867188 -1.378906 5.03125 -1.773438 5.03125 -2.296875 C 5.03125 -2.835938 4.863281 -3.25 4.53125 -3.53125 C 4.195312 -3.8125 3.769531 -3.953125 3.25 -3.953125 C 2.75 -3.953125 2.335938 -3.804688 2.015625 -3.515625 C 1.703125 -3.234375 1.546875 -2.835938 1.546875 -2.328125 C 1.546875 -1.890625 1.691406 -1.507812 1.984375 -1.1875 C 2.273438 -0.875 2.722656 -0.71875 3.328125 -0.71875 Z M 1.828125 -4.46875 C 1.535156 -4.59375 1.304688 -4.738281 1.140625 -4.90625 C 0.835938 -5.21875 0.6875 -5.625 0.6875 -6.125 C 0.6875 -6.75 0.910156 -7.285156 1.359375 -7.734375 C 1.816406 -8.191406 2.457031 -8.421875 3.28125 -8.421875 C 4.09375 -8.421875 4.722656 -8.207031 5.171875 -7.78125 C 5.628906 -7.351562 5.859375 -6.859375 5.859375 -6.296875 C 5.859375 -5.773438 5.726562 -5.347656 5.46875 -5.015625 C 5.320312 -4.835938 5.09375 -4.660156 4.78125 -4.484375 C 5.125 -4.328125 5.394531 -4.144531 5.59375 -3.9375 C 5.96875 -3.539062 6.15625 -3.03125 6.15625 -2.40625 C 6.15625 -1.664062 5.90625 -1.039062 5.40625 -0.53125 C 4.914062 -0.0195312 4.21875 0.234375 3.3125 0.234375 C 2.488281 0.234375 1.796875 0.015625 1.234375 -0.421875 C 0.671875 -0.867188 0.390625 -1.515625 0.390625 -2.359375 C 0.390625 -2.847656 0.507812 -3.273438 0.75 -3.640625 C 0.988281 -4.003906 1.347656 -4.28125 1.828125 -4.46875 Z M 1.828125 -4.46875 \"/>\n",
       "</symbol>\n",
       "<symbol overflow=\"visible\" id=\"glyph0-6\">\n",
       "<path style=\"stroke:none;\" d=\"M 1.15625 -5.9375 L 1.15625 -6.75 C 1.914062 -6.820312 2.441406 -6.945312 2.734375 -7.125 C 3.035156 -7.300781 3.265625 -7.710938 3.421875 -8.359375 L 4.25 -8.359375 L 4.25 0 L 3.125 0 L 3.125 -5.9375 Z M 1.15625 -5.9375 \"/>\n",
       "</symbol>\n",
       "<symbol overflow=\"visible\" id=\"glyph1-0\">\n",
       "<path style=\"stroke:none;\" d=\"M 0 -0.390625 L -8.609375 -0.390625 L -8.609375 -7.21875 L 0 -7.21875 Z M -1.078125 -6.140625 L -7.53125 -6.140625 L -7.53125 -1.46875 L -1.078125 -1.46875 Z M -1.078125 -6.140625 \"/>\n",
       "</symbol>\n",
       "<symbol overflow=\"visible\" id=\"glyph1-1\">\n",
       "<path style=\"stroke:none;\" d=\"M -3.890625 -0.5 L -3.890625 -3.4375 L -2.796875 -3.4375 L -2.796875 -0.5 Z M -3.890625 -0.5 \"/>\n",
       "</symbol>\n",
       "<symbol overflow=\"visible\" id=\"glyph1-2\">\n",
       "<path style=\"stroke:none;\" d=\"M -5.9375 -1.15625 L -6.75 -1.15625 C -6.820312 -1.914062 -6.945312 -2.441406 -7.125 -2.734375 C -7.300781 -3.035156 -7.710938 -3.265625 -8.359375 -3.421875 L -8.359375 -4.25 L 0 -4.25 L 0 -3.125 L -5.9375 -3.125 Z M -5.9375 -1.15625 \"/>\n",
       "</symbol>\n",
       "<symbol overflow=\"visible\" id=\"glyph1-3\">\n",
       "<path style=\"stroke:none;\" d=\"M -1.28125 -1.03125 L -1.28125 -2.25 L 0 -2.25 L 0 -1.03125 Z M -1.28125 -1.03125 \"/>\n",
       "</symbol>\n",
       "<symbol overflow=\"visible\" id=\"glyph1-4\">\n",
       "<path style=\"stroke:none;\" d=\"M -8.390625 -3.25 C -8.390625 -4.332031 -7.941406 -5.117188 -7.046875 -5.609375 C -6.359375 -5.984375 -5.410156 -6.171875 -4.203125 -6.171875 C -3.066406 -6.171875 -2.125 -6 -1.375 -5.65625 C -0.300781 -5.164062 0.234375 -4.359375 0.234375 -3.234375 C 0.234375 -2.234375 -0.203125 -1.484375 -1.078125 -0.984375 C -1.816406 -0.578125 -2.800781 -0.375 -4.03125 -0.375 C -4.976562 -0.375 -5.796875 -0.5 -6.484375 -0.75 C -7.753906 -1.207031 -8.390625 -2.039062 -8.390625 -3.25 Z M -0.734375 -3.234375 C -0.734375 -3.785156 -0.972656 -4.222656 -1.453125 -4.546875 C -1.941406 -4.867188 -2.847656 -5.03125 -4.171875 -5.03125 C -5.117188 -5.03125 -5.898438 -4.910156 -6.515625 -4.671875 C -7.128906 -4.441406 -7.4375 -3.988281 -7.4375 -3.3125 C -7.4375 -2.6875 -7.144531 -2.226562 -6.5625 -1.9375 C -5.976562 -1.65625 -5.117188 -1.515625 -3.984375 -1.515625 C -3.128906 -1.515625 -2.441406 -1.609375 -1.921875 -1.796875 C -1.128906 -2.078125 -0.734375 -2.554688 -0.734375 -3.234375 Z M -0.734375 -3.234375 \"/>\n",
       "</symbol>\n",
       "<symbol overflow=\"visible\" id=\"glyph1-5\">\n",
       "<path style=\"stroke:none;\" d=\"M -2.140625 -1.484375 C -1.535156 -1.554688 -1.117188 -1.835938 -0.890625 -2.328125 C -0.773438 -2.578125 -0.71875 -2.863281 -0.71875 -3.1875 C -0.71875 -3.8125 -0.914062 -4.273438 -1.3125 -4.578125 C -1.707031 -4.878906 -2.148438 -5.03125 -2.640625 -5.03125 C -3.222656 -5.03125 -3.675781 -4.847656 -4 -4.484375 C -4.320312 -4.128906 -4.484375 -3.703125 -4.484375 -3.203125 C -4.484375 -2.835938 -4.410156 -2.523438 -4.265625 -2.265625 C -4.128906 -2.003906 -3.9375 -1.785156 -3.6875 -1.609375 L -3.734375 -0.6875 L -8.25 -1.328125 L -8.25 -5.6875 L -7.234375 -5.6875 L -7.234375 -2.125 L -4.90625 -1.765625 C -5.050781 -1.960938 -5.160156 -2.148438 -5.234375 -2.328125 C -5.359375 -2.640625 -5.421875 -3 -5.421875 -3.40625 C -5.421875 -4.175781 -5.171875 -4.828125 -4.671875 -5.359375 C -4.179688 -5.898438 -3.554688 -6.171875 -2.796875 -6.171875 C -2.003906 -6.171875 -1.300781 -5.921875 -0.6875 -5.421875 C -0.0820312 -4.929688 0.21875 -4.148438 0.21875 -3.078125 C 0.21875 -2.398438 0.0234375 -1.796875 -0.359375 -1.265625 C -0.742188 -0.742188 -1.335938 -0.453125 -2.140625 -0.390625 Z M -2.140625 -1.484375 \"/>\n",
       "</symbol>\n",
       "<symbol overflow=\"visible\" id=\"glyph1-6\">\n",
       "<path style=\"stroke:none;\" d=\"M -8.609375 -7.171875 L -7.578125 -7.171875 L -7.578125 -4.28125 L 0 -4.28125 L 0 -3.09375 L -7.578125 -3.09375 L -7.578125 -0.1875 L -8.609375 -0.1875 Z M -8.609375 -7.171875 \"/>\n",
       "</symbol>\n",
       "<symbol overflow=\"visible\" id=\"glyph1-7\">\n",
       "<path style=\"stroke:none;\" d=\"M -6.28125 -0.796875 L -6.28125 -1.8125 L -5.1875 -1.8125 C -5.40625 -1.882812 -5.664062 -2.082031 -5.96875 -2.40625 C -6.269531 -2.726562 -6.421875 -3.097656 -6.421875 -3.515625 C -6.421875 -3.535156 -6.414062 -3.566406 -6.40625 -3.609375 C -6.40625 -3.660156 -6.398438 -3.742188 -6.390625 -3.859375 L -5.28125 -3.859375 C -5.289062 -3.796875 -5.296875 -3.738281 -5.296875 -3.6875 C -5.296875 -3.632812 -5.296875 -3.578125 -5.296875 -3.515625 C -5.296875 -2.984375 -5.125 -2.570312 -4.78125 -2.28125 C -4.445312 -2 -4.054688 -1.859375 -3.609375 -1.859375 L 0 -1.859375 L 0 -0.796875 Z M -6.28125 -0.796875 \"/>\n",
       "</symbol>\n",
       "<symbol overflow=\"visible\" id=\"glyph1-8\">\n",
       "<path style=\"stroke:none;\" d=\"M -1.671875 -1.578125 C -1.367188 -1.578125 -1.128906 -1.6875 -0.953125 -1.90625 C -0.773438 -2.132812 -0.6875 -2.398438 -0.6875 -2.703125 C -0.6875 -3.078125 -0.769531 -3.4375 -0.9375 -3.78125 C -1.226562 -4.375 -1.695312 -4.671875 -2.34375 -4.671875 L -3.1875 -4.671875 C -3.113281 -4.535156 -3.046875 -4.363281 -2.984375 -4.15625 C -2.929688 -3.957031 -2.894531 -3.757812 -2.875 -3.5625 L -2.796875 -2.9375 C -2.742188 -2.550781 -2.660156 -2.257812 -2.546875 -2.0625 C -2.367188 -1.738281 -2.078125 -1.578125 -1.671875 -1.578125 Z M -3.796875 -4.140625 C -3.828125 -4.378906 -3.929688 -4.539062 -4.109375 -4.625 C -4.203125 -4.664062 -4.335938 -4.6875 -4.515625 -4.6875 C -4.867188 -4.6875 -5.125 -4.554688 -5.28125 -4.296875 C -5.445312 -4.046875 -5.53125 -3.6875 -5.53125 -3.21875 C -5.53125 -2.664062 -5.382812 -2.273438 -5.09375 -2.046875 C -4.925781 -1.910156 -4.679688 -1.820312 -4.359375 -1.78125 L -4.359375 -0.796875 C -5.128906 -0.816406 -5.664062 -1.066406 -5.96875 -1.546875 C -6.269531 -2.035156 -6.421875 -2.597656 -6.421875 -3.234375 C -6.421875 -3.972656 -6.28125 -4.570312 -6 -5.03125 C -5.71875 -5.488281 -5.28125 -5.71875 -4.6875 -5.71875 L -1.078125 -5.71875 C -0.972656 -5.71875 -0.882812 -5.738281 -0.8125 -5.78125 C -0.75 -5.832031 -0.71875 -5.929688 -0.71875 -6.078125 C -0.71875 -6.117188 -0.71875 -6.164062 -0.71875 -6.21875 C -0.726562 -6.28125 -0.738281 -6.347656 -0.75 -6.421875 L 0.03125 -6.421875 C 0.0703125 -6.253906 0.0976562 -6.125 0.109375 -6.03125 C 0.128906 -5.945312 0.140625 -5.832031 0.140625 -5.6875 C 0.140625 -5.320312 0.0078125 -5.0625 -0.25 -4.90625 C -0.382812 -4.8125 -0.578125 -4.75 -0.828125 -4.71875 C -0.546875 -4.5 -0.300781 -4.1875 -0.09375 -3.78125 C 0.113281 -3.382812 0.21875 -2.945312 0.21875 -2.46875 C 0.21875 -1.882812 0.0390625 -1.40625 -0.3125 -1.03125 C -0.664062 -0.664062 -1.109375 -0.484375 -1.640625 -0.484375 C -2.222656 -0.484375 -2.675781 -0.664062 -3 -1.03125 C -3.320312 -1.394531 -3.519531 -1.867188 -3.59375 -2.453125 Z M -6.421875 -3.265625 Z M -6.421875 -3.265625 \"/>\n",
       "</symbol>\n",
       "<symbol overflow=\"visible\" id=\"glyph1-9\">\n",
       "<path style=\"stroke:none;\" d=\"M -3.0625 -1.4375 C -2.394531 -1.4375 -1.832031 -1.578125 -1.375 -1.859375 C -0.925781 -2.148438 -0.703125 -2.609375 -0.703125 -3.234375 C -0.703125 -3.722656 -0.910156 -4.125 -1.328125 -4.4375 C -1.742188 -4.757812 -2.347656 -4.921875 -3.140625 -4.921875 C -3.929688 -4.921875 -4.515625 -4.753906 -4.890625 -4.421875 C -5.273438 -4.097656 -5.46875 -3.703125 -5.46875 -3.234375 C -5.46875 -2.703125 -5.265625 -2.269531 -4.859375 -1.9375 C -4.453125 -1.601562 -3.851562 -1.4375 -3.0625 -1.4375 Z M -6.390625 -3.03125 C -6.390625 -3.507812 -6.285156 -3.910156 -6.078125 -4.234375 C -5.960938 -4.421875 -5.757812 -4.632812 -5.46875 -4.875 L -8.640625 -4.875 L -8.640625 -5.890625 L 0 -5.890625 L 0 -4.9375 L -0.875 -4.9375 C -0.488281 -4.695312 -0.207031 -4.40625 -0.03125 -4.0625 C 0.132812 -3.726562 0.21875 -3.34375 0.21875 -2.90625 C 0.21875 -2.207031 -0.0703125 -1.601562 -0.65625 -1.09375 C -1.25 -0.582031 -2.03125 -0.328125 -3 -0.328125 C -3.914062 -0.328125 -4.707031 -0.5625 -5.375 -1.03125 C -6.050781 -1.5 -6.390625 -2.164062 -6.390625 -3.03125 Z M -6.390625 -3.03125 \"/>\n",
       "</symbol>\n",
       "<symbol overflow=\"visible\" id=\"glyph1-10\">\n",
       "<path style=\"stroke:none;\" d=\"M -6.421875 -3.390625 C -6.421875 -3.835938 -6.316406 -4.269531 -6.109375 -4.6875 C -5.898438 -5.101562 -5.628906 -5.421875 -5.296875 -5.640625 C -4.972656 -5.847656 -4.601562 -5.988281 -4.1875 -6.0625 C -3.894531 -6.125 -3.429688 -6.15625 -2.796875 -6.15625 L -2.796875 -1.546875 C -2.160156 -1.566406 -1.648438 -1.71875 -1.265625 -2 C -0.878906 -2.28125 -0.6875 -2.71875 -0.6875 -3.3125 C -0.6875 -3.863281 -0.867188 -4.300781 -1.234375 -4.625 C -1.441406 -4.8125 -1.6875 -4.945312 -1.96875 -5.03125 L -1.96875 -6.0625 C -1.738281 -6.039062 -1.484375 -5.953125 -1.203125 -5.796875 C -0.921875 -5.640625 -0.6875 -5.46875 -0.5 -5.28125 C -0.1875 -4.957031 0.0195312 -4.554688 0.125 -4.078125 C 0.1875 -3.828125 0.21875 -3.539062 0.21875 -3.21875 C 0.21875 -2.4375 -0.0625 -1.773438 -0.625 -1.234375 C -1.195312 -0.691406 -1.992188 -0.421875 -3.015625 -0.421875 C -4.023438 -0.421875 -4.84375 -0.691406 -5.46875 -1.234375 C -6.101562 -1.785156 -6.421875 -2.503906 -6.421875 -3.390625 Z M -3.640625 -5.0625 C -4.097656 -5.019531 -4.460938 -4.921875 -4.734375 -4.765625 C -5.242188 -4.484375 -5.5 -4.003906 -5.5 -3.328125 C -5.5 -2.835938 -5.320312 -2.425781 -4.96875 -2.09375 C -4.625 -1.769531 -4.179688 -1.597656 -3.640625 -1.578125 Z M -6.421875 -3.28125 Z M -6.421875 -3.28125 \"/>\n",
       "</symbol>\n",
       "<symbol overflow=\"visible\" id=\"glyph1-11\">\n",
       "<path style=\"stroke:none;\" d=\"\"/>\n",
       "</symbol>\n",
       "<symbol overflow=\"visible\" id=\"glyph1-12\">\n",
       "<path style=\"stroke:none;\" d=\"M -2.78125 -1.671875 C -2.289062 -1.703125 -1.894531 -1.816406 -1.59375 -2.015625 C -1.019531 -2.410156 -0.734375 -3.09375 -0.734375 -4.0625 C -0.734375 -4.5 -0.796875 -4.898438 -0.921875 -5.265625 C -1.160156 -5.960938 -1.59375 -6.3125 -2.21875 -6.3125 C -2.6875 -6.3125 -3.019531 -6.160156 -3.21875 -5.859375 C -3.414062 -5.566406 -3.585938 -5.101562 -3.734375 -4.46875 L -4 -3.3125 C -4.164062 -2.539062 -4.351562 -2 -4.5625 -1.6875 C -4.925781 -1.144531 -5.460938 -0.875 -6.171875 -0.875 C -6.953125 -0.875 -7.585938 -1.140625 -8.078125 -1.671875 C -8.578125 -2.203125 -8.828125 -2.957031 -8.828125 -3.9375 C -8.828125 -4.84375 -8.609375 -5.609375 -8.171875 -6.234375 C -7.734375 -6.867188 -7.035156 -7.1875 -6.078125 -7.1875 L -6.078125 -6.09375 C -6.546875 -6.03125 -6.898438 -5.90625 -7.140625 -5.71875 C -7.585938 -5.363281 -7.8125 -4.757812 -7.8125 -3.90625 C -7.8125 -3.21875 -7.664062 -2.722656 -7.375 -2.421875 C -7.09375 -2.117188 -6.757812 -1.96875 -6.375 -1.96875 C -5.957031 -1.96875 -5.648438 -2.144531 -5.453125 -2.5 C -5.328125 -2.726562 -5.171875 -3.25 -4.984375 -4.0625 L -4.703125 -5.28125 C -4.566406 -5.851562 -4.382812 -6.300781 -4.15625 -6.625 C -3.757812 -7.164062 -3.175781 -7.4375 -2.40625 -7.4375 C -1.457031 -7.4375 -0.773438 -7.085938 -0.359375 -6.390625 C 0.046875 -5.703125 0.25 -4.898438 0.25 -3.984375 C 0.25 -2.910156 -0.0195312 -2.070312 -0.5625 -1.46875 C -1.113281 -0.863281 -1.851562 -0.566406 -2.78125 -0.578125 Z M -8.84375 -4.03125 Z M -8.84375 -4.03125 \"/>\n",
       "</symbol>\n",
       "<symbol overflow=\"visible\" id=\"glyph1-13\">\n",
       "<path style=\"stroke:none;\" d=\"M -6.25 -0.78125 L -6.25 -1.84375 L 0 -1.84375 L 0 -0.78125 Z M -8.609375 -0.78125 L -8.609375 -1.84375 L -7.40625 -1.84375 L -7.40625 -0.78125 Z M -8.609375 -0.78125 \"/>\n",
       "</symbol>\n",
       "<symbol overflow=\"visible\" id=\"glyph1-14\">\n",
       "<path style=\"stroke:none;\" d=\"M -6.390625 -2.984375 C -6.390625 -3.484375 -6.269531 -3.914062 -6.03125 -4.28125 C -5.882812 -4.476562 -5.679688 -4.679688 -5.421875 -4.890625 L -6.21875 -4.890625 L -6.21875 -5.859375 L -0.515625 -5.859375 C 0.285156 -5.859375 0.914062 -5.742188 1.375 -5.515625 C 2.226562 -5.078125 2.65625 -4.25 2.65625 -3.03125 C 2.65625 -2.351562 2.503906 -1.785156 2.203125 -1.328125 C 1.898438 -0.867188 1.425781 -0.609375 0.78125 -0.546875 L 0.78125 -1.625 C 1.0625 -1.675781 1.28125 -1.773438 1.4375 -1.921875 C 1.664062 -2.160156 1.78125 -2.535156 1.78125 -3.046875 C 1.78125 -3.859375 1.492188 -4.390625 0.921875 -4.640625 C 0.585938 -4.785156 -0.0078125 -4.851562 -0.875 -4.84375 C -0.550781 -4.632812 -0.3125 -4.378906 -0.15625 -4.078125 C 0 -3.785156 0.078125 -3.394531 0.078125 -2.90625 C 0.078125 -2.226562 -0.160156 -1.632812 -0.640625 -1.125 C -1.128906 -0.613281 -1.929688 -0.359375 -3.046875 -0.359375 C -4.097656 -0.359375 -4.914062 -0.613281 -5.5 -1.125 C -6.09375 -1.644531 -6.390625 -2.265625 -6.390625 -2.984375 Z M -3.171875 -4.890625 C -3.941406 -4.890625 -4.515625 -4.726562 -4.890625 -4.40625 C -5.265625 -4.082031 -5.453125 -3.675781 -5.453125 -3.1875 C -5.453125 -2.4375 -5.101562 -1.925781 -4.40625 -1.65625 C -4.039062 -1.507812 -3.554688 -1.4375 -2.953125 -1.4375 C -2.242188 -1.4375 -1.703125 -1.578125 -1.328125 -1.859375 C -0.960938 -2.148438 -0.78125 -2.539062 -0.78125 -3.03125 C -0.78125 -3.789062 -1.125 -4.320312 -1.8125 -4.625 C -2.195312 -4.800781 -2.648438 -4.890625 -3.171875 -4.890625 Z M -6.421875 -3.109375 Z M -6.421875 -3.109375 \"/>\n",
       "</symbol>\n",
       "<symbol overflow=\"visible\" id=\"glyph1-15\">\n",
       "<path style=\"stroke:none;\" d=\"M -6.28125 -0.78125 L -6.28125 -1.78125 L -5.390625 -1.78125 C -5.753906 -2.070312 -6.015625 -2.382812 -6.171875 -2.71875 C -6.335938 -3.050781 -6.421875 -3.421875 -6.421875 -3.828125 C -6.421875 -4.710938 -6.109375 -5.3125 -5.484375 -5.625 C -5.140625 -5.800781 -4.65625 -5.890625 -4.03125 -5.890625 L 0 -5.890625 L 0 -4.8125 L -3.953125 -4.8125 C -4.335938 -4.8125 -4.644531 -4.753906 -4.875 -4.640625 C -5.269531 -4.453125 -5.46875 -4.113281 -5.46875 -3.625 C -5.46875 -3.375 -5.441406 -3.171875 -5.390625 -3.015625 C -5.304688 -2.722656 -5.132812 -2.46875 -4.875 -2.25 C -4.664062 -2.070312 -4.453125 -1.957031 -4.234375 -1.90625 C -4.015625 -1.851562 -3.695312 -1.828125 -3.28125 -1.828125 L 0 -1.828125 L 0 -0.78125 Z M -6.421875 -3.25 Z M -6.421875 -3.25 \"/>\n",
       "</symbol>\n",
       "<symbol overflow=\"visible\" id=\"glyph2-0\">\n",
       "<path style=\"stroke:none;\" d=\"M 1.078125 0 L 1.078125 -10.375 L 9.4375 -10.375 L 9.4375 0 Z M 8.140625 -1.296875 L 8.140625 -9.078125 L 2.375 -9.078125 L 2.375 -1.296875 Z M 8.140625 -1.296875 \"/>\n",
       "</symbol>\n",
       "<symbol overflow=\"visible\" id=\"glyph2-1\">\n",
       "<path style=\"stroke:none;\" d=\"M 0.359375 -1.828125 L 5.71875 -8.53125 L 0.5 -8.53125 L 0.5 -10.375 L 8.421875 -10.375 L 8.421875 -8.625 L 3 -1.828125 L 8.4375 -1.828125 L 8.4375 0 L 0.359375 0 Z M 4.453125 -10.375 Z M 4.453125 -10.375 \"/>\n",
       "</symbol>\n",
       "<symbol overflow=\"visible\" id=\"glyph2-2\">\n",
       "<path style=\"stroke:none;\" d=\"M 3.078125 0 L 0.921875 0 L 0.921875 -10.375 L 3.078125 -10.375 Z M 2 -10.578125 Z M 2 -10.578125 \"/>\n",
       "</symbol>\n",
       "<symbol overflow=\"visible\" id=\"glyph2-3\">\n",
       "<path style=\"stroke:none;\" d=\"\"/>\n",
       "</symbol>\n",
       "<symbol overflow=\"visible\" id=\"glyph2-4\">\n",
       "<path style=\"stroke:none;\" d=\"M 0.140625 -6.171875 L 0.140625 -7.59375 L 1.21875 -7.59375 L 1.21875 -9.734375 L 3.203125 -9.734375 L 3.203125 -7.59375 L 4.453125 -7.59375 L 4.453125 -6.171875 L 3.203125 -6.171875 L 3.203125 -2.125 C 3.203125 -1.800781 3.238281 -1.597656 3.3125 -1.515625 C 3.394531 -1.441406 3.640625 -1.40625 4.046875 -1.40625 C 4.109375 -1.40625 4.171875 -1.40625 4.234375 -1.40625 C 4.304688 -1.414062 4.378906 -1.421875 4.453125 -1.421875 L 4.453125 0.078125 L 3.5 0.109375 C 2.550781 0.140625 1.898438 -0.0234375 1.546875 -0.390625 C 1.328125 -0.617188 1.21875 -0.972656 1.21875 -1.453125 L 1.21875 -6.171875 Z M 0.140625 -6.171875 \"/>\n",
       "</symbol>\n",
       "<symbol overflow=\"visible\" id=\"glyph2-5\">\n",
       "<path style=\"stroke:none;\" d=\"M 5.09375 -7.84375 C 5.132812 -7.84375 5.164062 -7.84375 5.1875 -7.84375 C 5.21875 -7.84375 5.273438 -7.84375 5.359375 -7.84375 L 5.359375 -5.78125 C 5.234375 -5.789062 5.117188 -5.796875 5.015625 -5.796875 C 4.921875 -5.804688 4.847656 -5.8125 4.796875 -5.8125 C 3.984375 -5.8125 3.441406 -5.550781 3.171875 -5.03125 C 3.015625 -4.738281 2.9375 -4.285156 2.9375 -3.671875 L 2.9375 0 L 0.921875 0 L 0.921875 -7.671875 L 2.828125 -7.671875 L 2.828125 -6.328125 C 3.140625 -6.835938 3.410156 -7.1875 3.640625 -7.375 C 4.015625 -7.6875 4.5 -7.84375 5.09375 -7.84375 Z M 5.09375 -7.84375 \"/>\n",
       "</symbol>\n",
       "<symbol overflow=\"visible\" id=\"glyph2-6\">\n",
       "<path style=\"stroke:none;\" d=\"M 5.15625 -3.734375 C 5.03125 -3.648438 4.90625 -3.582031 4.78125 -3.53125 C 4.65625 -3.476562 4.476562 -3.429688 4.25 -3.390625 L 3.796875 -3.3125 C 3.378906 -3.238281 3.078125 -3.144531 2.890625 -3.03125 C 2.578125 -2.851562 2.421875 -2.570312 2.421875 -2.1875 C 2.421875 -1.84375 2.515625 -1.59375 2.703125 -1.4375 C 2.898438 -1.289062 3.132812 -1.21875 3.40625 -1.21875 C 3.832031 -1.21875 4.226562 -1.34375 4.59375 -1.59375 C 4.957031 -1.851562 5.144531 -2.316406 5.15625 -2.984375 Z M 3.953125 -4.65625 C 4.316406 -4.707031 4.578125 -4.769531 4.734375 -4.84375 C 5.023438 -4.957031 5.171875 -5.144531 5.171875 -5.40625 C 5.171875 -5.71875 5.0625 -5.929688 4.84375 -6.046875 C 4.625 -6.171875 4.304688 -6.234375 3.890625 -6.234375 C 3.410156 -6.234375 3.070312 -6.117188 2.875 -5.890625 C 2.738281 -5.710938 2.644531 -5.476562 2.59375 -5.1875 L 0.65625 -5.1875 C 0.695312 -5.851562 0.882812 -6.40625 1.21875 -6.84375 C 1.75 -7.507812 2.660156 -7.84375 3.953125 -7.84375 C 4.796875 -7.84375 5.539062 -7.675781 6.1875 -7.34375 C 6.84375 -7.007812 7.171875 -6.382812 7.171875 -5.46875 L 7.171875 -1.953125 C 7.171875 -1.703125 7.175781 -1.40625 7.1875 -1.0625 C 7.195312 -0.800781 7.234375 -0.625 7.296875 -0.53125 C 7.367188 -0.4375 7.46875 -0.359375 7.59375 -0.296875 L 7.59375 0 L 5.421875 0 C 5.359375 -0.15625 5.3125 -0.300781 5.28125 -0.4375 C 5.257812 -0.570312 5.242188 -0.726562 5.234375 -0.90625 C 4.953125 -0.601562 4.632812 -0.347656 4.28125 -0.140625 C 3.84375 0.109375 3.351562 0.234375 2.8125 0.234375 C 2.113281 0.234375 1.539062 0.0351562 1.09375 -0.359375 C 0.644531 -0.753906 0.421875 -1.316406 0.421875 -2.046875 C 0.421875 -2.984375 0.78125 -3.664062 1.5 -4.09375 C 1.90625 -4.320312 2.492188 -4.484375 3.265625 -4.578125 Z M 4.046875 -7.875 Z M 4.046875 -7.875 \"/>\n",
       "</symbol>\n",
       "<symbol overflow=\"visible\" id=\"glyph2-7\">\n",
       "<path style=\"stroke:none;\" d=\"M 3.765625 -7.84375 C 4.222656 -7.84375 4.632812 -7.738281 5 -7.53125 C 5.363281 -7.332031 5.65625 -7.054688 5.875 -6.703125 L 5.875 -10.359375 L 7.90625 -10.359375 L 7.90625 0 L 5.96875 0 L 5.96875 -1.0625 C 5.675781 -0.601562 5.347656 -0.269531 4.984375 -0.0625 C 4.617188 0.132812 4.164062 0.234375 3.625 0.234375 C 2.726562 0.234375 1.972656 -0.125 1.359375 -0.84375 C 0.742188 -1.570312 0.4375 -2.503906 0.4375 -3.640625 C 0.4375 -4.941406 0.738281 -5.96875 1.34375 -6.71875 C 1.945312 -7.46875 2.753906 -7.84375 3.765625 -7.84375 Z M 4.203125 -1.453125 C 4.765625 -1.453125 5.191406 -1.660156 5.484375 -2.078125 C 5.785156 -2.503906 5.9375 -3.050781 5.9375 -3.71875 C 5.9375 -4.65625 5.695312 -5.328125 5.21875 -5.734375 C 4.9375 -5.972656 4.601562 -6.09375 4.21875 -6.09375 C 3.625 -6.09375 3.191406 -5.867188 2.921875 -5.421875 C 2.648438 -4.984375 2.515625 -4.4375 2.515625 -3.78125 C 2.515625 -3.070312 2.648438 -2.503906 2.921875 -2.078125 C 3.203125 -1.660156 3.628906 -1.453125 4.203125 -1.453125 Z M 4.203125 -1.453125 \"/>\n",
       "</symbol>\n",
       "<symbol overflow=\"visible\" id=\"glyph2-8\">\n",
       "<path style=\"stroke:none;\" d=\"M 3.953125 -6.21875 C 3.492188 -6.21875 3.132812 -6.070312 2.875 -5.78125 C 2.625 -5.488281 2.46875 -5.09375 2.40625 -4.59375 L 5.515625 -4.59375 C 5.484375 -5.125 5.320312 -5.523438 5.03125 -5.796875 C 4.738281 -6.078125 4.378906 -6.21875 3.953125 -6.21875 Z M 3.953125 -7.875 C 4.597656 -7.875 5.175781 -7.753906 5.6875 -7.515625 C 6.195312 -7.273438 6.617188 -6.894531 6.953125 -6.375 C 7.253906 -5.925781 7.445312 -5.398438 7.53125 -4.796875 C 7.582031 -4.441406 7.601562 -3.9375 7.59375 -3.28125 L 2.34375 -3.28125 C 2.375 -2.507812 2.617188 -1.96875 3.078125 -1.65625 C 3.347656 -1.46875 3.679688 -1.375 4.078125 -1.375 C 4.484375 -1.375 4.816406 -1.488281 5.078125 -1.71875 C 5.222656 -1.84375 5.347656 -2.019531 5.453125 -2.25 L 7.5 -2.25 C 7.445312 -1.789062 7.207031 -1.328125 6.78125 -0.859375 C 6.125 -0.117188 5.207031 0.25 4.03125 0.25 C 3.050781 0.25 2.1875 -0.0625 1.4375 -0.6875 C 0.695312 -1.3125 0.328125 -2.332031 0.328125 -3.75 C 0.328125 -5.082031 0.660156 -6.101562 1.328125 -6.8125 C 2.003906 -7.519531 2.878906 -7.875 3.953125 -7.875 Z M 4.09375 -7.875 Z M 4.09375 -7.875 \"/>\n",
       "</symbol>\n",
       "<symbol overflow=\"visible\" id=\"glyph2-9\">\n",
       "<path style=\"stroke:none;\" d=\"M 2.5 -2.453125 C 2.539062 -2.085938 2.628906 -1.832031 2.765625 -1.6875 C 3.015625 -1.414062 3.476562 -1.28125 4.15625 -1.28125 C 4.539062 -1.28125 4.847656 -1.335938 5.078125 -1.453125 C 5.316406 -1.578125 5.4375 -1.753906 5.4375 -1.984375 C 5.4375 -2.210938 5.34375 -2.382812 5.15625 -2.5 C 4.96875 -2.625 4.269531 -2.828125 3.0625 -3.109375 C 2.195312 -3.328125 1.585938 -3.597656 1.234375 -3.921875 C 0.878906 -4.234375 0.703125 -4.691406 0.703125 -5.296875 C 0.703125 -6.003906 0.976562 -6.613281 1.53125 -7.125 C 2.082031 -7.632812 2.863281 -7.890625 3.875 -7.890625 C 4.832031 -7.890625 5.613281 -7.695312 6.21875 -7.3125 C 6.820312 -6.925781 7.164062 -6.265625 7.25 -5.328125 L 5.25 -5.328125 C 5.21875 -5.585938 5.144531 -5.789062 5.03125 -5.9375 C 4.8125 -6.21875 4.4375 -6.359375 3.90625 -6.359375 C 3.46875 -6.359375 3.15625 -6.285156 2.96875 -6.140625 C 2.78125 -6.003906 2.6875 -5.847656 2.6875 -5.671875 C 2.6875 -5.441406 2.785156 -5.273438 2.984375 -5.171875 C 3.179688 -5.066406 3.878906 -4.878906 5.078125 -4.609375 C 5.878906 -4.421875 6.476562 -4.140625 6.875 -3.765625 C 7.269531 -3.378906 7.46875 -2.898438 7.46875 -2.328125 C 7.46875 -1.566406 7.179688 -0.941406 6.609375 -0.453125 C 6.046875 0.0234375 5.175781 0.265625 4 0.265625 C 2.789062 0.265625 1.898438 0.0078125 1.328125 -0.5 C 0.753906 -1.007812 0.46875 -1.660156 0.46875 -2.453125 Z M 4.03125 -7.875 Z M 4.03125 -7.875 \"/>\n",
       "</symbol>\n",
       "</g>\n",
       "</defs>\n",
       "<g id=\"surface1\">\n",
       "<rect x=\"0\" y=\"0\" width=\"504\" height=\"504\" style=\"fill:rgb(100%,100%,100%);fill-opacity:1;stroke:none;\"/>\n",
       "<path style=\"fill:none;stroke-width:0.75;stroke-linecap:round;stroke-linejoin:round;stroke:rgb(0%,0%,100%);stroke-opacity:1;stroke-miterlimit:10;\" d=\"M 101.632812 409.601562 L 105.347656 80 \"/>\n",
       "<path style=\"fill:none;stroke-width:0.75;stroke-linecap:round;stroke-linejoin:round;stroke:rgb(0%,0%,100%);stroke-opacity:1;stroke-miterlimit:10;\" d=\"M 105.511719 80 L 109.226562 409.601562 \"/>\n",
       "<path style=\"fill:none;stroke-width:0.75;stroke-linecap:round;stroke-linejoin:round;stroke:rgb(0%,0%,100%);stroke-opacity:1;stroke-miterlimit:10;\" d=\"M 117.148438 409.601562 L 120.863281 80 \"/>\n",
       "<path style=\"fill:none;stroke-width:0.75;stroke-linecap:round;stroke-linejoin:round;stroke:rgb(0%,0%,100%);stroke-opacity:1;stroke-miterlimit:10;\" d=\"M 124.90625 80 L 128.621094 409.601562 \"/>\n",
       "<path style=\"fill:none;stroke-width:0.75;stroke-linecap:round;stroke-linejoin:round;stroke:rgb(0%,0%,100%);stroke-opacity:1;stroke-miterlimit:10;\" d=\"M 128.785156 409.601562 L 132.5 80 \"/>\n",
       "<path style=\"fill:none;stroke-width:0.75;stroke-linecap:round;stroke-linejoin:round;stroke:rgb(0%,0%,100%);stroke-opacity:1;stroke-miterlimit:10;\" d=\"M 132.664062 80 L 136.378906 409.601562 \"/>\n",
       "<path style=\"fill:none;stroke-width:0.75;stroke-linecap:round;stroke-linejoin:round;stroke:rgb(0%,0%,100%);stroke-opacity:1;stroke-miterlimit:10;\" d=\"M 136.542969 409.601562 L 140.257812 80 \"/>\n",
       "<path style=\"fill:none;stroke-width:0.75;stroke-linecap:round;stroke-linejoin:round;stroke:rgb(0%,0%,100%);stroke-opacity:1;stroke-miterlimit:10;\" d=\"M 140.421875 80 L 144.136719 409.601562 \"/>\n",
       "<path style=\"fill:none;stroke-width:0.75;stroke-linecap:round;stroke-linejoin:round;stroke:rgb(0%,0%,100%);stroke-opacity:1;stroke-miterlimit:10;\" d=\"M 144.300781 409.601562 L 148.015625 80 \"/>\n",
       "<path style=\"fill:none;stroke-width:0.75;stroke-linecap:round;stroke-linejoin:round;stroke:rgb(0%,0%,100%);stroke-opacity:1;stroke-miterlimit:10;\" d=\"M 148.179688 80 L 151.894531 409.601562 \"/>\n",
       "<path style=\"fill:none;stroke-width:0.75;stroke-linecap:round;stroke-linejoin:round;stroke:rgb(0%,0%,100%);stroke-opacity:1;stroke-miterlimit:10;\" d=\"M 152.058594 409.601562 L 155.773438 80 \"/>\n",
       "<path style=\"fill:none;stroke-width:0.75;stroke-linecap:round;stroke-linejoin:round;stroke:rgb(0%,0%,100%);stroke-opacity:1;stroke-miterlimit:10;\" d=\"M 155.9375 80 L 159.652344 409.601562 \"/>\n",
       "<path style=\"fill:none;stroke-width:0.75;stroke-linecap:round;stroke-linejoin:round;stroke:rgb(0%,0%,100%);stroke-opacity:1;stroke-miterlimit:10;\" d=\"M 159.816406 409.601562 L 163.53125 80 \"/>\n",
       "<path style=\"fill:none;stroke-width:0.75;stroke-linecap:round;stroke-linejoin:round;stroke:rgb(0%,0%,100%);stroke-opacity:1;stroke-miterlimit:10;\" d=\"M 171.449219 80 L 175.167969 409.601562 \"/>\n",
       "<path style=\"fill:none;stroke-width:0.75;stroke-linecap:round;stroke-linejoin:round;stroke:rgb(0%,0%,100%);stroke-opacity:1;stroke-miterlimit:10;\" d=\"M 183.085938 409.601562 L 186.804688 80 \"/>\n",
       "<path style=\"fill:none;stroke-width:0.75;stroke-linecap:round;stroke-linejoin:round;stroke:rgb(0%,0%,100%);stroke-opacity:1;stroke-miterlimit:10;\" d=\"M 190.84375 80 L 194.5625 409.601562 \"/>\n",
       "<path style=\"fill:none;stroke-width:0.75;stroke-linecap:round;stroke-linejoin:round;stroke:rgb(0%,0%,100%);stroke-opacity:1;stroke-miterlimit:10;\" d=\"M 194.722656 409.601562 L 198.441406 80 \"/>\n",
       "<path style=\"fill:none;stroke-width:0.75;stroke-linecap:round;stroke-linejoin:round;stroke:rgb(0%,0%,100%);stroke-opacity:1;stroke-miterlimit:10;\" d=\"M 198.601562 80 L 202.320312 409.601562 \"/>\n",
       "<path style=\"fill:none;stroke-width:0.75;stroke-linecap:round;stroke-linejoin:round;stroke:rgb(0%,0%,100%);stroke-opacity:1;stroke-miterlimit:10;\" d=\"M 206.359375 409.601562 L 210.078125 80 \"/>\n",
       "<path style=\"fill:none;stroke-width:0.75;stroke-linecap:round;stroke-linejoin:round;stroke:rgb(0%,0%,100%);stroke-opacity:1;stroke-miterlimit:10;\" d=\"M 214.117188 80 L 217.832031 409.601562 \"/>\n",
       "<path style=\"fill:none;stroke-width:0.75;stroke-linecap:round;stroke-linejoin:round;stroke:rgb(0%,0%,100%);stroke-opacity:1;stroke-miterlimit:10;\" d=\"M 217.996094 409.601562 L 221.710938 80 \"/>\n",
       "<path style=\"fill:none;stroke-width:0.75;stroke-linecap:round;stroke-linejoin:round;stroke:rgb(0%,0%,100%);stroke-opacity:1;stroke-miterlimit:10;\" d=\"M 221.875 80 L 225.589844 409.601562 \"/>\n",
       "<path style=\"fill:none;stroke-width:0.75;stroke-linecap:round;stroke-linejoin:round;stroke:rgb(0%,0%,100%);stroke-opacity:1;stroke-miterlimit:10;\" d=\"M 229.632812 409.601562 L 233.347656 80 \"/>\n",
       "<path style=\"fill:none;stroke-width:0.75;stroke-linecap:round;stroke-linejoin:round;stroke:rgb(0%,0%,100%);stroke-opacity:1;stroke-miterlimit:10;\" d=\"M 233.511719 80 L 237.226562 409.601562 \"/>\n",
       "<path style=\"fill:none;stroke-width:0.75;stroke-linecap:round;stroke-linejoin:round;stroke:rgb(0%,0%,100%);stroke-opacity:1;stroke-miterlimit:10;\" d=\"M 237.390625 409.601562 L 241.105469 80 \"/>\n",
       "<path style=\"fill:none;stroke-width:0.75;stroke-linecap:round;stroke-linejoin:round;stroke:rgb(0%,0%,100%);stroke-opacity:1;stroke-miterlimit:10;\" d=\"M 241.269531 80 L 244.984375 409.601562 \"/>\n",
       "<path style=\"fill:none;stroke-width:0.75;stroke-linecap:round;stroke-linejoin:round;stroke:rgb(0%,0%,100%);stroke-opacity:1;stroke-miterlimit:10;\" d=\"M 245.148438 409.601562 L 248.863281 80 \"/>\n",
       "<path style=\"fill:none;stroke-width:0.75;stroke-linecap:round;stroke-linejoin:round;stroke:rgb(0%,0%,100%);stroke-opacity:1;stroke-miterlimit:10;\" d=\"M 249.027344 80 L 252.742188 409.601562 \"/>\n",
       "<path style=\"fill:none;stroke-width:0.75;stroke-linecap:round;stroke-linejoin:round;stroke:rgb(0%,0%,100%);stroke-opacity:1;stroke-miterlimit:10;\" d=\"M 260.664062 409.601562 L 264.378906 80 \"/>\n",
       "<path style=\"fill:none;stroke-width:0.75;stroke-linecap:round;stroke-linejoin:round;stroke:rgb(0%,0%,100%);stroke-opacity:1;stroke-miterlimit:10;\" d=\"M 276.179688 80 L 279.894531 409.601562 \"/>\n",
       "<path style=\"fill:none;stroke-width:0.75;stroke-linecap:round;stroke-linejoin:round;stroke:rgb(0%,0%,100%);stroke-opacity:1;stroke-miterlimit:10;\" d=\"M 287.816406 409.601562 L 291.53125 80 \"/>\n",
       "<path style=\"fill:none;stroke-width:0.75;stroke-linecap:round;stroke-linejoin:round;stroke:rgb(0%,0%,100%);stroke-opacity:1;stroke-miterlimit:10;\" d=\"M 291.691406 80 L 295.410156 409.601562 \"/>\n",
       "<path style=\"fill:none;stroke-width:0.75;stroke-linecap:round;stroke-linejoin:round;stroke:rgb(0%,0%,100%);stroke-opacity:1;stroke-miterlimit:10;\" d=\"M 295.570312 409.601562 L 299.289062 80 \"/>\n",
       "<path style=\"fill:none;stroke-width:0.75;stroke-linecap:round;stroke-linejoin:round;stroke:rgb(0%,0%,100%);stroke-opacity:1;stroke-miterlimit:10;\" d=\"M 299.449219 80 L 303.167969 409.601562 \"/>\n",
       "<path style=\"fill:none;stroke-width:0.75;stroke-linecap:round;stroke-linejoin:round;stroke:rgb(0%,0%,100%);stroke-opacity:1;stroke-miterlimit:10;\" d=\"M 303.328125 409.601562 L 307.046875 80 \"/>\n",
       "<path style=\"fill:none;stroke-width:0.75;stroke-linecap:round;stroke-linejoin:round;stroke:rgb(0%,0%,100%);stroke-opacity:1;stroke-miterlimit:10;\" d=\"M 314.964844 80 L 318.683594 409.601562 \"/>\n",
       "<path style=\"fill:none;stroke-width:0.75;stroke-linecap:round;stroke-linejoin:round;stroke:rgb(0%,0%,100%);stroke-opacity:1;stroke-miterlimit:10;\" d=\"M 322.722656 409.601562 L 326.441406 80 \"/>\n",
       "<path style=\"fill:none;stroke-width:0.75;stroke-linecap:round;stroke-linejoin:round;stroke:rgb(0%,0%,100%);stroke-opacity:1;stroke-miterlimit:10;\" d=\"M 326.601562 80 L 330.320312 409.601562 \"/>\n",
       "<path style=\"fill:none;stroke-width:0.75;stroke-linecap:round;stroke-linejoin:round;stroke:rgb(0%,0%,100%);stroke-opacity:1;stroke-miterlimit:10;\" d=\"M 349.875 409.601562 L 353.589844 80 \"/>\n",
       "<path style=\"fill:none;stroke-width:0.75;stroke-linecap:round;stroke-linejoin:round;stroke:rgb(0%,0%,100%);stroke-opacity:1;stroke-miterlimit:10;\" d=\"M 353.753906 80 L 357.46875 409.601562 \"/>\n",
       "<path style=\"fill:none;stroke-width:0.75;stroke-linecap:round;stroke-linejoin:round;stroke:rgb(0%,0%,100%);stroke-opacity:1;stroke-miterlimit:10;\" d=\"M 357.632812 409.601562 L 361.347656 80 \"/>\n",
       "<path style=\"fill:none;stroke-width:0.75;stroke-linecap:round;stroke-linejoin:round;stroke:rgb(0%,0%,100%);stroke-opacity:1;stroke-miterlimit:10;\" d=\"M 361.511719 80 L 365.226562 409.601562 \"/>\n",
       "<path style=\"fill:none;stroke-width:0.75;stroke-linecap:round;stroke-linejoin:round;stroke:rgb(0%,0%,100%);stroke-opacity:1;stroke-miterlimit:10;\" d=\"M 365.390625 409.601562 L 369.105469 80 \"/>\n",
       "<path style=\"fill:none;stroke-width:0.75;stroke-linecap:round;stroke-linejoin:round;stroke:rgb(0%,0%,100%);stroke-opacity:1;stroke-miterlimit:10;\" d=\"M 369.269531 80 L 372.984375 409.601562 \"/>\n",
       "<path style=\"fill:none;stroke-width:0.75;stroke-linecap:round;stroke-linejoin:round;stroke:rgb(0%,0%,100%);stroke-opacity:1;stroke-miterlimit:10;\" d=\"M 373.148438 409.601562 L 376.863281 80 \"/>\n",
       "<path style=\"fill:none;stroke-width:0.75;stroke-linecap:round;stroke-linejoin:round;stroke:rgb(0%,0%,100%);stroke-opacity:1;stroke-miterlimit:10;\" d=\"M 388.664062 80 L 392.378906 409.601562 \"/>\n",
       "<path style=\"fill:none;stroke-width:0.75;stroke-linecap:round;stroke-linejoin:round;stroke:rgb(0%,0%,100%);stroke-opacity:1;stroke-miterlimit:10;\" d=\"M 392.542969 409.601562 L 396.257812 80 \"/>\n",
       "<path style=\"fill:none;stroke-width:0.75;stroke-linecap:round;stroke-linejoin:round;stroke:rgb(0%,0%,100%);stroke-opacity:1;stroke-miterlimit:10;\" d=\"M 396.421875 80 L 400.136719 409.601562 \"/>\n",
       "<path style=\"fill:none;stroke-width:0.75;stroke-linecap:round;stroke-linejoin:round;stroke:rgb(0%,0%,100%);stroke-opacity:1;stroke-miterlimit:10;\" d=\"M 404.179688 409.601562 L 407.894531 80 \"/>\n",
       "<path style=\"fill:none;stroke-width:0.75;stroke-linecap:round;stroke-linejoin:round;stroke:rgb(0%,0%,100%);stroke-opacity:1;stroke-miterlimit:10;\" d=\"M 411.9375 80 L 415.652344 409.601562 \"/>\n",
       "<path style=\"fill:none;stroke-width:0.75;stroke-linecap:round;stroke-linejoin:round;stroke:rgb(0%,0%,100%);stroke-opacity:1;stroke-miterlimit:10;\" d=\"M 423.570312 409.601562 L 427.289062 80 \"/>\n",
       "<path style=\"fill:none;stroke-width:0.75;stroke-linecap:round;stroke-linejoin:round;stroke:rgb(0%,0%,100%);stroke-opacity:1;stroke-miterlimit:10;\" d=\"M 427.449219 80 L 431.167969 409.601562 \"/>\n",
       "<path style=\"fill:none;stroke-width:0.75;stroke-linecap:round;stroke-linejoin:round;stroke:rgb(0%,0%,100%);stroke-opacity:1;stroke-miterlimit:10;\" d=\"M 442.964844 409.601562 L 446.683594 80 \"/>\n",
       "<path style=\"fill:none;stroke-width:0.75;stroke-linecap:round;stroke-linejoin:round;stroke:rgb(0%,0%,100%);stroke-opacity:1;stroke-miterlimit:10;\" d=\"M 446.84375 80 L 450.5625 409.601562 \"/>\n",
       "<path style=\"fill:none;stroke-width:0.75;stroke-linecap:round;stroke-linejoin:round;stroke:rgb(0%,0%,100%);stroke-opacity:1;stroke-miterlimit:10;\" d=\"M 77.101562 416.800781 C 77.101562 420.398438 71.699219 420.398438 71.699219 416.800781 C 71.699219 413.199219 77.101562 413.199219 77.101562 416.800781 \"/>\n",
       "<path style=\"fill:none;stroke-width:0.75;stroke-linecap:round;stroke-linejoin:round;stroke:rgb(0%,0%,100%);stroke-opacity:1;stroke-miterlimit:10;\" d=\"M 80.980469 416.800781 C 80.980469 420.398438 75.578125 420.398438 75.578125 416.800781 C 75.578125 413.199219 80.980469 413.199219 80.980469 416.800781 \"/>\n",
       "<path style=\"fill:none;stroke-width:0.75;stroke-linecap:round;stroke-linejoin:round;stroke:rgb(0%,0%,100%);stroke-opacity:1;stroke-miterlimit:10;\" d=\"M 84.859375 416.800781 C 84.859375 420.398438 79.457031 420.398438 79.457031 416.800781 C 79.457031 413.199219 84.859375 413.199219 84.859375 416.800781 \"/>\n",
       "<path style=\"fill:none;stroke-width:0.75;stroke-linecap:round;stroke-linejoin:round;stroke:rgb(0%,0%,100%);stroke-opacity:1;stroke-miterlimit:10;\" d=\"M 88.738281 416.800781 C 88.738281 420.398438 83.335938 420.398438 83.335938 416.800781 C 83.335938 413.199219 88.738281 413.199219 88.738281 416.800781 \"/>\n",
       "<path style=\"fill:none;stroke-width:0.75;stroke-linecap:round;stroke-linejoin:round;stroke:rgb(0%,0%,100%);stroke-opacity:1;stroke-miterlimit:10;\" d=\"M 92.613281 416.800781 C 92.613281 420.398438 87.214844 420.398438 87.214844 416.800781 C 87.214844 413.199219 92.613281 413.199219 92.613281 416.800781 \"/>\n",
       "<path style=\"fill:none;stroke-width:0.75;stroke-linecap:round;stroke-linejoin:round;stroke:rgb(0%,0%,100%);stroke-opacity:1;stroke-miterlimit:10;\" d=\"M 96.492188 416.800781 C 96.492188 420.398438 91.09375 420.398438 91.09375 416.800781 C 91.09375 413.199219 96.492188 413.199219 96.492188 416.800781 \"/>\n",
       "<path style=\"fill:none;stroke-width:0.75;stroke-linecap:round;stroke-linejoin:round;stroke:rgb(0%,0%,100%);stroke-opacity:1;stroke-miterlimit:10;\" d=\"M 100.371094 416.800781 C 100.371094 420.398438 94.972656 420.398438 94.972656 416.800781 C 94.972656 413.199219 100.371094 413.199219 100.371094 416.800781 \"/>\n",
       "<path style=\"fill:none;stroke-width:0.75;stroke-linecap:round;stroke-linejoin:round;stroke:rgb(0%,0%,100%);stroke-opacity:1;stroke-miterlimit:10;\" d=\"M 104.25 416.800781 C 104.25 420.398438 98.851562 420.398438 98.851562 416.800781 C 98.851562 413.199219 104.25 413.199219 104.25 416.800781 \"/>\n",
       "<path style=\"fill:none;stroke-width:0.75;stroke-linecap:round;stroke-linejoin:round;stroke:rgb(0%,0%,100%);stroke-opacity:1;stroke-miterlimit:10;\" d=\"M 108.128906 72.800781 C 108.128906 76.398438 102.730469 76.398438 102.730469 72.800781 C 102.730469 69.199219 108.128906 69.199219 108.128906 72.800781 \"/>\n",
       "<path style=\"fill:none;stroke-width:0.75;stroke-linecap:round;stroke-linejoin:round;stroke:rgb(0%,0%,100%);stroke-opacity:1;stroke-miterlimit:10;\" d=\"M 112.007812 416.800781 C 112.007812 420.398438 106.609375 420.398438 106.609375 416.800781 C 106.609375 413.199219 112.007812 413.199219 112.007812 416.800781 \"/>\n",
       "<path style=\"fill:none;stroke-width:0.75;stroke-linecap:round;stroke-linejoin:round;stroke:rgb(0%,0%,100%);stroke-opacity:1;stroke-miterlimit:10;\" d=\"M 115.886719 416.800781 C 115.886719 420.398438 110.488281 420.398438 110.488281 416.800781 C 110.488281 413.199219 115.886719 413.199219 115.886719 416.800781 \"/>\n",
       "<path style=\"fill:none;stroke-width:0.75;stroke-linecap:round;stroke-linejoin:round;stroke:rgb(0%,0%,100%);stroke-opacity:1;stroke-miterlimit:10;\" d=\"M 119.765625 416.800781 C 119.765625 420.398438 114.367188 420.398438 114.367188 416.800781 C 114.367188 413.199219 119.765625 413.199219 119.765625 416.800781 \"/>\n",
       "<path style=\"fill:none;stroke-width:0.75;stroke-linecap:round;stroke-linejoin:round;stroke:rgb(0%,0%,100%);stroke-opacity:1;stroke-miterlimit:10;\" d=\"M 123.644531 72.800781 C 123.644531 76.398438 118.246094 76.398438 118.246094 72.800781 C 118.246094 69.199219 123.644531 69.199219 123.644531 72.800781 \"/>\n",
       "<path style=\"fill:none;stroke-width:0.75;stroke-linecap:round;stroke-linejoin:round;stroke:rgb(0%,0%,100%);stroke-opacity:1;stroke-miterlimit:10;\" d=\"M 127.523438 72.800781 C 127.523438 76.398438 122.125 76.398438 122.125 72.800781 C 122.125 69.199219 127.523438 69.199219 127.523438 72.800781 \"/>\n",
       "<path style=\"fill:none;stroke-width:0.75;stroke-linecap:round;stroke-linejoin:round;stroke:rgb(0%,0%,100%);stroke-opacity:1;stroke-miterlimit:10;\" d=\"M 131.402344 416.800781 C 131.402344 420.398438 126.003906 420.398438 126.003906 416.800781 C 126.003906 413.199219 131.402344 413.199219 131.402344 416.800781 \"/>\n",
       "<path style=\"fill:none;stroke-width:0.75;stroke-linecap:round;stroke-linejoin:round;stroke:rgb(0%,0%,100%);stroke-opacity:1;stroke-miterlimit:10;\" d=\"M 135.28125 72.800781 C 135.28125 76.398438 129.882812 76.398438 129.882812 72.800781 C 129.882812 69.199219 135.28125 69.199219 135.28125 72.800781 \"/>\n",
       "<path style=\"fill:none;stroke-width:0.75;stroke-linecap:round;stroke-linejoin:round;stroke:rgb(0%,0%,100%);stroke-opacity:1;stroke-miterlimit:10;\" d=\"M 139.160156 416.800781 C 139.160156 420.398438 133.761719 420.398438 133.761719 416.800781 C 133.761719 413.199219 139.160156 413.199219 139.160156 416.800781 \"/>\n",
       "<path style=\"fill:none;stroke-width:0.75;stroke-linecap:round;stroke-linejoin:round;stroke:rgb(0%,0%,100%);stroke-opacity:1;stroke-miterlimit:10;\" d=\"M 143.039062 72.800781 C 143.039062 76.398438 137.640625 76.398438 137.640625 72.800781 C 137.640625 69.199219 143.039062 69.199219 143.039062 72.800781 \"/>\n",
       "<path style=\"fill:none;stroke-width:0.75;stroke-linecap:round;stroke-linejoin:round;stroke:rgb(0%,0%,100%);stroke-opacity:1;stroke-miterlimit:10;\" d=\"M 146.917969 416.800781 C 146.917969 420.398438 141.519531 420.398438 141.519531 416.800781 C 141.519531 413.199219 146.917969 413.199219 146.917969 416.800781 \"/>\n",
       "<path style=\"fill:none;stroke-width:0.75;stroke-linecap:round;stroke-linejoin:round;stroke:rgb(0%,0%,100%);stroke-opacity:1;stroke-miterlimit:10;\" d=\"M 150.796875 72.800781 C 150.796875 76.398438 145.398438 76.398438 145.398438 72.800781 C 145.398438 69.199219 150.796875 69.199219 150.796875 72.800781 \"/>\n",
       "<path style=\"fill:none;stroke-width:0.75;stroke-linecap:round;stroke-linejoin:round;stroke:rgb(0%,0%,100%);stroke-opacity:1;stroke-miterlimit:10;\" d=\"M 154.675781 416.800781 C 154.675781 420.398438 149.277344 420.398438 149.277344 416.800781 C 149.277344 413.199219 154.675781 413.199219 154.675781 416.800781 \"/>\n",
       "<path style=\"fill:none;stroke-width:0.75;stroke-linecap:round;stroke-linejoin:round;stroke:rgb(0%,0%,100%);stroke-opacity:1;stroke-miterlimit:10;\" d=\"M 158.554688 72.800781 C 158.554688 76.398438 153.15625 76.398438 153.15625 72.800781 C 153.15625 69.199219 158.554688 69.199219 158.554688 72.800781 \"/>\n",
       "<path style=\"fill:none;stroke-width:0.75;stroke-linecap:round;stroke-linejoin:round;stroke:rgb(0%,0%,100%);stroke-opacity:1;stroke-miterlimit:10;\" d=\"M 162.433594 416.800781 C 162.433594 420.398438 157.035156 420.398438 157.035156 416.800781 C 157.035156 413.199219 162.433594 413.199219 162.433594 416.800781 \"/>\n",
       "<path style=\"fill:none;stroke-width:0.75;stroke-linecap:round;stroke-linejoin:round;stroke:rgb(0%,0%,100%);stroke-opacity:1;stroke-miterlimit:10;\" d=\"M 166.3125 72.800781 C 166.3125 76.398438 160.914062 76.398438 160.914062 72.800781 C 160.914062 69.199219 166.3125 69.199219 166.3125 72.800781 \"/>\n",
       "<path style=\"fill:none;stroke-width:0.75;stroke-linecap:round;stroke-linejoin:round;stroke:rgb(0%,0%,100%);stroke-opacity:1;stroke-miterlimit:10;\" d=\"M 170.191406 72.800781 C 170.191406 76.398438 164.789062 76.398438 164.789062 72.800781 C 164.789062 69.199219 170.191406 69.199219 170.191406 72.800781 \"/>\n",
       "<path style=\"fill:none;stroke-width:0.75;stroke-linecap:round;stroke-linejoin:round;stroke:rgb(0%,0%,100%);stroke-opacity:1;stroke-miterlimit:10;\" d=\"M 174.070312 72.800781 C 174.070312 76.398438 168.667969 76.398438 168.667969 72.800781 C 168.667969 69.199219 174.070312 69.199219 174.070312 72.800781 \"/>\n",
       "<path style=\"fill:none;stroke-width:0.75;stroke-linecap:round;stroke-linejoin:round;stroke:rgb(0%,0%,100%);stroke-opacity:1;stroke-miterlimit:10;\" d=\"M 177.949219 416.800781 C 177.949219 420.398438 172.546875 420.398438 172.546875 416.800781 C 172.546875 413.199219 177.949219 413.199219 177.949219 416.800781 \"/>\n",
       "<path style=\"fill:none;stroke-width:0.75;stroke-linecap:round;stroke-linejoin:round;stroke:rgb(0%,0%,100%);stroke-opacity:1;stroke-miterlimit:10;\" d=\"M 181.828125 416.800781 C 181.828125 420.398438 176.425781 420.398438 176.425781 416.800781 C 176.425781 413.199219 181.828125 413.199219 181.828125 416.800781 \"/>\n",
       "<path style=\"fill:none;stroke-width:0.75;stroke-linecap:round;stroke-linejoin:round;stroke:rgb(0%,0%,100%);stroke-opacity:1;stroke-miterlimit:10;\" d=\"M 185.707031 416.800781 C 185.707031 420.398438 180.304688 420.398438 180.304688 416.800781 C 180.304688 413.199219 185.707031 413.199219 185.707031 416.800781 \"/>\n",
       "<path style=\"fill:none;stroke-width:0.75;stroke-linecap:round;stroke-linejoin:round;stroke:rgb(0%,0%,100%);stroke-opacity:1;stroke-miterlimit:10;\" d=\"M 189.585938 72.800781 C 189.585938 76.398438 184.183594 76.398438 184.183594 72.800781 C 184.183594 69.199219 189.585938 69.199219 189.585938 72.800781 \"/>\n",
       "<path style=\"fill:none;stroke-width:0.75;stroke-linecap:round;stroke-linejoin:round;stroke:rgb(0%,0%,100%);stroke-opacity:1;stroke-miterlimit:10;\" d=\"M 193.464844 72.800781 C 193.464844 76.398438 188.0625 76.398438 188.0625 72.800781 C 188.0625 69.199219 193.464844 69.199219 193.464844 72.800781 \"/>\n",
       "<path style=\"fill:none;stroke-width:0.75;stroke-linecap:round;stroke-linejoin:round;stroke:rgb(0%,0%,100%);stroke-opacity:1;stroke-miterlimit:10;\" d=\"M 197.34375 416.800781 C 197.34375 420.398438 191.941406 420.398438 191.941406 416.800781 C 191.941406 413.199219 197.34375 413.199219 197.34375 416.800781 \"/>\n",
       "<path style=\"fill:none;stroke-width:0.75;stroke-linecap:round;stroke-linejoin:round;stroke:rgb(0%,0%,100%);stroke-opacity:1;stroke-miterlimit:10;\" d=\"M 201.222656 72.800781 C 201.222656 76.398438 195.820312 76.398438 195.820312 72.800781 C 195.820312 69.199219 201.222656 69.199219 201.222656 72.800781 \"/>\n",
       "<path style=\"fill:none;stroke-width:0.75;stroke-linecap:round;stroke-linejoin:round;stroke:rgb(0%,0%,100%);stroke-opacity:1;stroke-miterlimit:10;\" d=\"M 205.101562 416.800781 C 205.101562 420.398438 199.699219 420.398438 199.699219 416.800781 C 199.699219 413.199219 205.101562 413.199219 205.101562 416.800781 \"/>\n",
       "<path style=\"fill:none;stroke-width:0.75;stroke-linecap:round;stroke-linejoin:round;stroke:rgb(0%,0%,100%);stroke-opacity:1;stroke-miterlimit:10;\" d=\"M 208.980469 416.800781 C 208.980469 420.398438 203.578125 420.398438 203.578125 416.800781 C 203.578125 413.199219 208.980469 413.199219 208.980469 416.800781 \"/>\n",
       "<path style=\"fill:none;stroke-width:0.75;stroke-linecap:round;stroke-linejoin:round;stroke:rgb(0%,0%,100%);stroke-opacity:1;stroke-miterlimit:10;\" d=\"M 212.859375 72.800781 C 212.859375 76.398438 207.457031 76.398438 207.457031 72.800781 C 207.457031 69.199219 212.859375 69.199219 212.859375 72.800781 \"/>\n",
       "<path style=\"fill:none;stroke-width:0.75;stroke-linecap:round;stroke-linejoin:round;stroke:rgb(0%,0%,100%);stroke-opacity:1;stroke-miterlimit:10;\" d=\"M 216.738281 72.800781 C 216.738281 76.398438 211.335938 76.398438 211.335938 72.800781 C 211.335938 69.199219 216.738281 69.199219 216.738281 72.800781 \"/>\n",
       "<path style=\"fill:none;stroke-width:0.75;stroke-linecap:round;stroke-linejoin:round;stroke:rgb(0%,0%,100%);stroke-opacity:1;stroke-miterlimit:10;\" d=\"M 220.613281 416.800781 C 220.613281 420.398438 215.214844 420.398438 215.214844 416.800781 C 215.214844 413.199219 220.613281 413.199219 220.613281 416.800781 \"/>\n",
       "<path style=\"fill:none;stroke-width:0.75;stroke-linecap:round;stroke-linejoin:round;stroke:rgb(0%,0%,100%);stroke-opacity:1;stroke-miterlimit:10;\" d=\"M 224.492188 72.800781 C 224.492188 76.398438 219.09375 76.398438 219.09375 72.800781 C 219.09375 69.199219 224.492188 69.199219 224.492188 72.800781 \"/>\n",
       "<path style=\"fill:none;stroke-width:0.75;stroke-linecap:round;stroke-linejoin:round;stroke:rgb(0%,0%,100%);stroke-opacity:1;stroke-miterlimit:10;\" d=\"M 228.371094 416.800781 C 228.371094 420.398438 222.972656 420.398438 222.972656 416.800781 C 222.972656 413.199219 228.371094 413.199219 228.371094 416.800781 \"/>\n",
       "<path style=\"fill:none;stroke-width:0.75;stroke-linecap:round;stroke-linejoin:round;stroke:rgb(0%,0%,100%);stroke-opacity:1;stroke-miterlimit:10;\" d=\"M 232.25 416.800781 C 232.25 420.398438 226.851562 420.398438 226.851562 416.800781 C 226.851562 413.199219 232.25 413.199219 232.25 416.800781 \"/>\n",
       "<path style=\"fill:none;stroke-width:0.75;stroke-linecap:round;stroke-linejoin:round;stroke:rgb(0%,0%,100%);stroke-opacity:1;stroke-miterlimit:10;\" d=\"M 236.128906 72.800781 C 236.128906 76.398438 230.730469 76.398438 230.730469 72.800781 C 230.730469 69.199219 236.128906 69.199219 236.128906 72.800781 \"/>\n",
       "<path style=\"fill:none;stroke-width:0.75;stroke-linecap:round;stroke-linejoin:round;stroke:rgb(0%,0%,100%);stroke-opacity:1;stroke-miterlimit:10;\" d=\"M 240.007812 416.800781 C 240.007812 420.398438 234.609375 420.398438 234.609375 416.800781 C 234.609375 413.199219 240.007812 413.199219 240.007812 416.800781 \"/>\n",
       "<path style=\"fill:none;stroke-width:0.75;stroke-linecap:round;stroke-linejoin:round;stroke:rgb(0%,0%,100%);stroke-opacity:1;stroke-miterlimit:10;\" d=\"M 243.886719 72.800781 C 243.886719 76.398438 238.488281 76.398438 238.488281 72.800781 C 238.488281 69.199219 243.886719 69.199219 243.886719 72.800781 \"/>\n",
       "<path style=\"fill:none;stroke-width:0.75;stroke-linecap:round;stroke-linejoin:round;stroke:rgb(0%,0%,100%);stroke-opacity:1;stroke-miterlimit:10;\" d=\"M 247.765625 416.800781 C 247.765625 420.398438 242.367188 420.398438 242.367188 416.800781 C 242.367188 413.199219 247.765625 413.199219 247.765625 416.800781 \"/>\n",
       "<path style=\"fill:none;stroke-width:0.75;stroke-linecap:round;stroke-linejoin:round;stroke:rgb(0%,0%,100%);stroke-opacity:1;stroke-miterlimit:10;\" d=\"M 251.644531 72.800781 C 251.644531 76.398438 246.246094 76.398438 246.246094 72.800781 C 246.246094 69.199219 251.644531 69.199219 251.644531 72.800781 \"/>\n",
       "<path style=\"fill:none;stroke-width:0.75;stroke-linecap:round;stroke-linejoin:round;stroke:rgb(0%,0%,100%);stroke-opacity:1;stroke-miterlimit:10;\" d=\"M 255.523438 416.800781 C 255.523438 420.398438 250.125 420.398438 250.125 416.800781 C 250.125 413.199219 255.523438 413.199219 255.523438 416.800781 \"/>\n",
       "<path style=\"fill:none;stroke-width:0.75;stroke-linecap:round;stroke-linejoin:round;stroke:rgb(0%,0%,100%);stroke-opacity:1;stroke-miterlimit:10;\" d=\"M 259.402344 416.800781 C 259.402344 420.398438 254.003906 420.398438 254.003906 416.800781 C 254.003906 413.199219 259.402344 413.199219 259.402344 416.800781 \"/>\n",
       "<path style=\"fill:none;stroke-width:0.75;stroke-linecap:round;stroke-linejoin:round;stroke:rgb(0%,0%,100%);stroke-opacity:1;stroke-miterlimit:10;\" d=\"M 263.28125 416.800781 C 263.28125 420.398438 257.882812 420.398438 257.882812 416.800781 C 257.882812 413.199219 263.28125 413.199219 263.28125 416.800781 \"/>\n",
       "<path style=\"fill:none;stroke-width:0.75;stroke-linecap:round;stroke-linejoin:round;stroke:rgb(0%,0%,100%);stroke-opacity:1;stroke-miterlimit:10;\" d=\"M 267.160156 72.800781 C 267.160156 76.398438 261.761719 76.398438 261.761719 72.800781 C 261.761719 69.199219 267.160156 69.199219 267.160156 72.800781 \"/>\n",
       "<path style=\"fill:none;stroke-width:0.75;stroke-linecap:round;stroke-linejoin:round;stroke:rgb(0%,0%,100%);stroke-opacity:1;stroke-miterlimit:10;\" d=\"M 271.039062 72.800781 C 271.039062 76.398438 265.640625 76.398438 265.640625 72.800781 C 265.640625 69.199219 271.039062 69.199219 271.039062 72.800781 \"/>\n",
       "<path style=\"fill:none;stroke-width:0.75;stroke-linecap:round;stroke-linejoin:round;stroke:rgb(0%,0%,100%);stroke-opacity:1;stroke-miterlimit:10;\" d=\"M 274.917969 72.800781 C 274.917969 76.398438 269.519531 76.398438 269.519531 72.800781 C 269.519531 69.199219 274.917969 69.199219 274.917969 72.800781 \"/>\n",
       "<path style=\"fill:none;stroke-width:0.75;stroke-linecap:round;stroke-linejoin:round;stroke:rgb(0%,0%,100%);stroke-opacity:1;stroke-miterlimit:10;\" d=\"M 278.796875 72.800781 C 278.796875 76.398438 273.398438 76.398438 273.398438 72.800781 C 273.398438 69.199219 278.796875 69.199219 278.796875 72.800781 \"/>\n",
       "<path style=\"fill:none;stroke-width:0.75;stroke-linecap:round;stroke-linejoin:round;stroke:rgb(0%,0%,100%);stroke-opacity:1;stroke-miterlimit:10;\" d=\"M 282.675781 416.800781 C 282.675781 420.398438 277.277344 420.398438 277.277344 416.800781 C 277.277344 413.199219 282.675781 413.199219 282.675781 416.800781 \"/>\n",
       "<path style=\"fill:none;stroke-width:0.75;stroke-linecap:round;stroke-linejoin:round;stroke:rgb(0%,0%,100%);stroke-opacity:1;stroke-miterlimit:10;\" d=\"M 286.554688 416.800781 C 286.554688 420.398438 281.15625 420.398438 281.15625 416.800781 C 281.15625 413.199219 286.554688 413.199219 286.554688 416.800781 \"/>\n",
       "<path style=\"fill:none;stroke-width:0.75;stroke-linecap:round;stroke-linejoin:round;stroke:rgb(0%,0%,100%);stroke-opacity:1;stroke-miterlimit:10;\" d=\"M 290.433594 416.800781 C 290.433594 420.398438 285.035156 420.398438 285.035156 416.800781 C 285.035156 413.199219 290.433594 413.199219 290.433594 416.800781 \"/>\n",
       "<path style=\"fill:none;stroke-width:0.75;stroke-linecap:round;stroke-linejoin:round;stroke:rgb(0%,0%,100%);stroke-opacity:1;stroke-miterlimit:10;\" d=\"M 294.3125 72.800781 C 294.3125 76.398438 288.914062 76.398438 288.914062 72.800781 C 288.914062 69.199219 294.3125 69.199219 294.3125 72.800781 \"/>\n",
       "<path style=\"fill:none;stroke-width:0.75;stroke-linecap:round;stroke-linejoin:round;stroke:rgb(0%,0%,100%);stroke-opacity:1;stroke-miterlimit:10;\" d=\"M 298.191406 416.800781 C 298.191406 420.398438 292.789062 420.398438 292.789062 416.800781 C 292.789062 413.199219 298.191406 413.199219 298.191406 416.800781 \"/>\n",
       "<path style=\"fill:none;stroke-width:0.75;stroke-linecap:round;stroke-linejoin:round;stroke:rgb(0%,0%,100%);stroke-opacity:1;stroke-miterlimit:10;\" d=\"M 302.070312 72.800781 C 302.070312 76.398438 296.667969 76.398438 296.667969 72.800781 C 296.667969 69.199219 302.070312 69.199219 302.070312 72.800781 \"/>\n",
       "<path style=\"fill:none;stroke-width:0.75;stroke-linecap:round;stroke-linejoin:round;stroke:rgb(0%,0%,100%);stroke-opacity:1;stroke-miterlimit:10;\" d=\"M 305.949219 416.800781 C 305.949219 420.398438 300.546875 420.398438 300.546875 416.800781 C 300.546875 413.199219 305.949219 413.199219 305.949219 416.800781 \"/>\n",
       "<path style=\"fill:none;stroke-width:0.75;stroke-linecap:round;stroke-linejoin:round;stroke:rgb(0%,0%,100%);stroke-opacity:1;stroke-miterlimit:10;\" d=\"M 309.828125 72.800781 C 309.828125 76.398438 304.425781 76.398438 304.425781 72.800781 C 304.425781 69.199219 309.828125 69.199219 309.828125 72.800781 \"/>\n",
       "<path style=\"fill:none;stroke-width:0.75;stroke-linecap:round;stroke-linejoin:round;stroke:rgb(0%,0%,100%);stroke-opacity:1;stroke-miterlimit:10;\" d=\"M 313.707031 72.800781 C 313.707031 76.398438 308.304688 76.398438 308.304688 72.800781 C 308.304688 69.199219 313.707031 69.199219 313.707031 72.800781 \"/>\n",
       "<path style=\"fill:none;stroke-width:0.75;stroke-linecap:round;stroke-linejoin:round;stroke:rgb(0%,0%,100%);stroke-opacity:1;stroke-miterlimit:10;\" d=\"M 317.585938 72.800781 C 317.585938 76.398438 312.183594 76.398438 312.183594 72.800781 C 312.183594 69.199219 317.585938 69.199219 317.585938 72.800781 \"/>\n",
       "<path style=\"fill:none;stroke-width:0.75;stroke-linecap:round;stroke-linejoin:round;stroke:rgb(0%,0%,100%);stroke-opacity:1;stroke-miterlimit:10;\" d=\"M 321.464844 416.800781 C 321.464844 420.398438 316.0625 420.398438 316.0625 416.800781 C 316.0625 413.199219 321.464844 413.199219 321.464844 416.800781 \"/>\n",
       "<path style=\"fill:none;stroke-width:0.75;stroke-linecap:round;stroke-linejoin:round;stroke:rgb(0%,0%,100%);stroke-opacity:1;stroke-miterlimit:10;\" d=\"M 325.34375 416.800781 C 325.34375 420.398438 319.941406 420.398438 319.941406 416.800781 C 319.941406 413.199219 325.34375 413.199219 325.34375 416.800781 \"/>\n",
       "<path style=\"fill:none;stroke-width:0.75;stroke-linecap:round;stroke-linejoin:round;stroke:rgb(0%,0%,100%);stroke-opacity:1;stroke-miterlimit:10;\" d=\"M 329.222656 72.800781 C 329.222656 76.398438 323.820312 76.398438 323.820312 72.800781 C 323.820312 69.199219 329.222656 69.199219 329.222656 72.800781 \"/>\n",
       "<path style=\"fill:none;stroke-width:0.75;stroke-linecap:round;stroke-linejoin:round;stroke:rgb(0%,0%,100%);stroke-opacity:1;stroke-miterlimit:10;\" d=\"M 333.101562 416.800781 C 333.101562 420.398438 327.699219 420.398438 327.699219 416.800781 C 327.699219 413.199219 333.101562 413.199219 333.101562 416.800781 \"/>\n",
       "<path style=\"fill:none;stroke-width:0.75;stroke-linecap:round;stroke-linejoin:round;stroke:rgb(0%,0%,100%);stroke-opacity:1;stroke-miterlimit:10;\" d=\"M 336.980469 416.800781 C 336.980469 420.398438 331.578125 420.398438 331.578125 416.800781 C 331.578125 413.199219 336.980469 413.199219 336.980469 416.800781 \"/>\n",
       "<path style=\"fill:none;stroke-width:0.75;stroke-linecap:round;stroke-linejoin:round;stroke:rgb(0%,0%,100%);stroke-opacity:1;stroke-miterlimit:10;\" d=\"M 340.859375 416.800781 C 340.859375 420.398438 335.457031 420.398438 335.457031 416.800781 C 335.457031 413.199219 340.859375 413.199219 340.859375 416.800781 \"/>\n",
       "<path style=\"fill:none;stroke-width:0.75;stroke-linecap:round;stroke-linejoin:round;stroke:rgb(0%,0%,100%);stroke-opacity:1;stroke-miterlimit:10;\" d=\"M 344.738281 416.800781 C 344.738281 420.398438 339.335938 420.398438 339.335938 416.800781 C 339.335938 413.199219 344.738281 413.199219 344.738281 416.800781 \"/>\n",
       "<path style=\"fill:none;stroke-width:0.75;stroke-linecap:round;stroke-linejoin:round;stroke:rgb(0%,0%,100%);stroke-opacity:1;stroke-miterlimit:10;\" d=\"M 348.613281 416.800781 C 348.613281 420.398438 343.214844 420.398438 343.214844 416.800781 C 343.214844 413.199219 348.613281 413.199219 348.613281 416.800781 \"/>\n",
       "<path style=\"fill:none;stroke-width:0.75;stroke-linecap:round;stroke-linejoin:round;stroke:rgb(0%,0%,100%);stroke-opacity:1;stroke-miterlimit:10;\" d=\"M 352.492188 416.800781 C 352.492188 420.398438 347.09375 420.398438 347.09375 416.800781 C 347.09375 413.199219 352.492188 413.199219 352.492188 416.800781 \"/>\n",
       "<path style=\"fill:none;stroke-width:0.75;stroke-linecap:round;stroke-linejoin:round;stroke:rgb(0%,0%,100%);stroke-opacity:1;stroke-miterlimit:10;\" d=\"M 356.371094 72.800781 C 356.371094 76.398438 350.972656 76.398438 350.972656 72.800781 C 350.972656 69.199219 356.371094 69.199219 356.371094 72.800781 \"/>\n",
       "<path style=\"fill:none;stroke-width:0.75;stroke-linecap:round;stroke-linejoin:round;stroke:rgb(0%,0%,100%);stroke-opacity:1;stroke-miterlimit:10;\" d=\"M 360.25 416.800781 C 360.25 420.398438 354.851562 420.398438 354.851562 416.800781 C 354.851562 413.199219 360.25 413.199219 360.25 416.800781 \"/>\n",
       "<path style=\"fill:none;stroke-width:0.75;stroke-linecap:round;stroke-linejoin:round;stroke:rgb(0%,0%,100%);stroke-opacity:1;stroke-miterlimit:10;\" d=\"M 364.128906 72.800781 C 364.128906 76.398438 358.730469 76.398438 358.730469 72.800781 C 358.730469 69.199219 364.128906 69.199219 364.128906 72.800781 \"/>\n",
       "<path style=\"fill:none;stroke-width:0.75;stroke-linecap:round;stroke-linejoin:round;stroke:rgb(0%,0%,100%);stroke-opacity:1;stroke-miterlimit:10;\" d=\"M 368.007812 416.800781 C 368.007812 420.398438 362.609375 420.398438 362.609375 416.800781 C 362.609375 413.199219 368.007812 413.199219 368.007812 416.800781 \"/>\n",
       "<path style=\"fill:none;stroke-width:0.75;stroke-linecap:round;stroke-linejoin:round;stroke:rgb(0%,0%,100%);stroke-opacity:1;stroke-miterlimit:10;\" d=\"M 371.886719 72.800781 C 371.886719 76.398438 366.488281 76.398438 366.488281 72.800781 C 366.488281 69.199219 371.886719 69.199219 371.886719 72.800781 \"/>\n",
       "<path style=\"fill:none;stroke-width:0.75;stroke-linecap:round;stroke-linejoin:round;stroke:rgb(0%,0%,100%);stroke-opacity:1;stroke-miterlimit:10;\" d=\"M 375.765625 416.800781 C 375.765625 420.398438 370.367188 420.398438 370.367188 416.800781 C 370.367188 413.199219 375.765625 413.199219 375.765625 416.800781 \"/>\n",
       "<path style=\"fill:none;stroke-width:0.75;stroke-linecap:round;stroke-linejoin:round;stroke:rgb(0%,0%,100%);stroke-opacity:1;stroke-miterlimit:10;\" d=\"M 379.644531 72.800781 C 379.644531 76.398438 374.246094 76.398438 374.246094 72.800781 C 374.246094 69.199219 379.644531 69.199219 379.644531 72.800781 \"/>\n",
       "<path style=\"fill:none;stroke-width:0.75;stroke-linecap:round;stroke-linejoin:round;stroke:rgb(0%,0%,100%);stroke-opacity:1;stroke-miterlimit:10;\" d=\"M 383.523438 72.800781 C 383.523438 76.398438 378.125 76.398438 378.125 72.800781 C 378.125 69.199219 383.523438 69.199219 383.523438 72.800781 \"/>\n",
       "<path style=\"fill:none;stroke-width:0.75;stroke-linecap:round;stroke-linejoin:round;stroke:rgb(0%,0%,100%);stroke-opacity:1;stroke-miterlimit:10;\" d=\"M 387.402344 72.800781 C 387.402344 76.398438 382.003906 76.398438 382.003906 72.800781 C 382.003906 69.199219 387.402344 69.199219 387.402344 72.800781 \"/>\n",
       "<path style=\"fill:none;stroke-width:0.75;stroke-linecap:round;stroke-linejoin:round;stroke:rgb(0%,0%,100%);stroke-opacity:1;stroke-miterlimit:10;\" d=\"M 391.28125 72.800781 C 391.28125 76.398438 385.882812 76.398438 385.882812 72.800781 C 385.882812 69.199219 391.28125 69.199219 391.28125 72.800781 \"/>\n",
       "<path style=\"fill:none;stroke-width:0.75;stroke-linecap:round;stroke-linejoin:round;stroke:rgb(0%,0%,100%);stroke-opacity:1;stroke-miterlimit:10;\" d=\"M 395.160156 416.800781 C 395.160156 420.398438 389.761719 420.398438 389.761719 416.800781 C 389.761719 413.199219 395.160156 413.199219 395.160156 416.800781 \"/>\n",
       "<path style=\"fill:none;stroke-width:0.75;stroke-linecap:round;stroke-linejoin:round;stroke:rgb(0%,0%,100%);stroke-opacity:1;stroke-miterlimit:10;\" d=\"M 399.039062 72.800781 C 399.039062 76.398438 393.640625 76.398438 393.640625 72.800781 C 393.640625 69.199219 399.039062 69.199219 399.039062 72.800781 \"/>\n",
       "<path style=\"fill:none;stroke-width:0.75;stroke-linecap:round;stroke-linejoin:round;stroke:rgb(0%,0%,100%);stroke-opacity:1;stroke-miterlimit:10;\" d=\"M 402.917969 416.800781 C 402.917969 420.398438 397.519531 420.398438 397.519531 416.800781 C 397.519531 413.199219 402.917969 413.199219 402.917969 416.800781 \"/>\n",
       "<path style=\"fill:none;stroke-width:0.75;stroke-linecap:round;stroke-linejoin:round;stroke:rgb(0%,0%,100%);stroke-opacity:1;stroke-miterlimit:10;\" d=\"M 406.796875 416.800781 C 406.796875 420.398438 401.398438 420.398438 401.398438 416.800781 C 401.398438 413.199219 406.796875 413.199219 406.796875 416.800781 \"/>\n",
       "<path style=\"fill:none;stroke-width:0.75;stroke-linecap:round;stroke-linejoin:round;stroke:rgb(0%,0%,100%);stroke-opacity:1;stroke-miterlimit:10;\" d=\"M 410.675781 72.800781 C 410.675781 76.398438 405.277344 76.398438 405.277344 72.800781 C 405.277344 69.199219 410.675781 69.199219 410.675781 72.800781 \"/>\n",
       "<path style=\"fill:none;stroke-width:0.75;stroke-linecap:round;stroke-linejoin:round;stroke:rgb(0%,0%,100%);stroke-opacity:1;stroke-miterlimit:10;\" d=\"M 414.554688 72.800781 C 414.554688 76.398438 409.15625 76.398438 409.15625 72.800781 C 409.15625 69.199219 414.554688 69.199219 414.554688 72.800781 \"/>\n",
       "<path style=\"fill:none;stroke-width:0.75;stroke-linecap:round;stroke-linejoin:round;stroke:rgb(0%,0%,100%);stroke-opacity:1;stroke-miterlimit:10;\" d=\"M 418.433594 416.800781 C 418.433594 420.398438 413.035156 420.398438 413.035156 416.800781 C 413.035156 413.199219 418.433594 413.199219 418.433594 416.800781 \"/>\n",
       "<path style=\"fill:none;stroke-width:0.75;stroke-linecap:round;stroke-linejoin:round;stroke:rgb(0%,0%,100%);stroke-opacity:1;stroke-miterlimit:10;\" d=\"M 422.3125 416.800781 C 422.3125 420.398438 416.914062 420.398438 416.914062 416.800781 C 416.914062 413.199219 422.3125 413.199219 422.3125 416.800781 \"/>\n",
       "<path style=\"fill:none;stroke-width:0.75;stroke-linecap:round;stroke-linejoin:round;stroke:rgb(0%,0%,100%);stroke-opacity:1;stroke-miterlimit:10;\" d=\"M 426.191406 416.800781 C 426.191406 420.398438 420.789062 420.398438 420.789062 416.800781 C 420.789062 413.199219 426.191406 413.199219 426.191406 416.800781 \"/>\n",
       "<path style=\"fill:none;stroke-width:0.75;stroke-linecap:round;stroke-linejoin:round;stroke:rgb(0%,0%,100%);stroke-opacity:1;stroke-miterlimit:10;\" d=\"M 430.070312 72.800781 C 430.070312 76.398438 424.667969 76.398438 424.667969 72.800781 C 424.667969 69.199219 430.070312 69.199219 430.070312 72.800781 \"/>\n",
       "<path style=\"fill:none;stroke-width:0.75;stroke-linecap:round;stroke-linejoin:round;stroke:rgb(0%,0%,100%);stroke-opacity:1;stroke-miterlimit:10;\" d=\"M 433.949219 416.800781 C 433.949219 420.398438 428.546875 420.398438 428.546875 416.800781 C 428.546875 413.199219 433.949219 413.199219 433.949219 416.800781 \"/>\n",
       "<path style=\"fill:none;stroke-width:0.75;stroke-linecap:round;stroke-linejoin:round;stroke:rgb(0%,0%,100%);stroke-opacity:1;stroke-miterlimit:10;\" d=\"M 437.828125 416.800781 C 437.828125 420.398438 432.425781 420.398438 432.425781 416.800781 C 432.425781 413.199219 437.828125 413.199219 437.828125 416.800781 \"/>\n",
       "<path style=\"fill:none;stroke-width:0.75;stroke-linecap:round;stroke-linejoin:round;stroke:rgb(0%,0%,100%);stroke-opacity:1;stroke-miterlimit:10;\" d=\"M 441.707031 416.800781 C 441.707031 420.398438 436.304688 420.398438 436.304688 416.800781 C 436.304688 413.199219 441.707031 413.199219 441.707031 416.800781 \"/>\n",
       "<path style=\"fill:none;stroke-width:0.75;stroke-linecap:round;stroke-linejoin:round;stroke:rgb(0%,0%,100%);stroke-opacity:1;stroke-miterlimit:10;\" d=\"M 445.585938 416.800781 C 445.585938 420.398438 440.183594 420.398438 440.183594 416.800781 C 440.183594 413.199219 445.585938 413.199219 445.585938 416.800781 \"/>\n",
       "<path style=\"fill:none;stroke-width:0.75;stroke-linecap:round;stroke-linejoin:round;stroke:rgb(0%,0%,100%);stroke-opacity:1;stroke-miterlimit:10;\" d=\"M 449.464844 72.800781 C 449.464844 76.398438 444.0625 76.398438 444.0625 72.800781 C 444.0625 69.199219 449.464844 69.199219 449.464844 72.800781 \"/>\n",
       "<path style=\"fill:none;stroke-width:0.75;stroke-linecap:round;stroke-linejoin:round;stroke:rgb(0%,0%,100%);stroke-opacity:1;stroke-miterlimit:10;\" d=\"M 453.34375 416.800781 C 453.34375 420.398438 447.941406 420.398438 447.941406 416.800781 C 447.941406 413.199219 453.34375 413.199219 453.34375 416.800781 \"/>\n",
       "<path style=\"fill:none;stroke-width:0.75;stroke-linecap:round;stroke-linejoin:round;stroke:rgb(0%,0%,100%);stroke-opacity:1;stroke-miterlimit:10;\" d=\"M 457.222656 416.800781 C 457.222656 420.398438 451.820312 420.398438 451.820312 416.800781 C 451.820312 413.199219 457.222656 413.199219 457.222656 416.800781 \"/>\n",
       "<path style=\"fill:none;stroke-width:0.75;stroke-linecap:round;stroke-linejoin:round;stroke:rgb(0%,0%,100%);stroke-opacity:1;stroke-miterlimit:10;\" d=\"M 461.101562 416.800781 C 461.101562 420.398438 455.699219 420.398438 455.699219 416.800781 C 455.699219 413.199219 461.101562 413.199219 461.101562 416.800781 \"/>\n",
       "<path style=\"fill:none;stroke-width:0.75;stroke-linecap:round;stroke-linejoin:round;stroke:rgb(0%,0%,0%);stroke-opacity:1;stroke-miterlimit:10;\" d=\"M 70.519531 430.558594 L 458.398438 430.558594 \"/>\n",
       "<path style=\"fill:none;stroke-width:0.75;stroke-linecap:round;stroke-linejoin:round;stroke:rgb(0%,0%,0%);stroke-opacity:1;stroke-miterlimit:10;\" d=\"M 70.519531 430.558594 L 70.519531 437.761719 \"/>\n",
       "<path style=\"fill:none;stroke-width:0.75;stroke-linecap:round;stroke-linejoin:round;stroke:rgb(0%,0%,0%);stroke-opacity:1;stroke-miterlimit:10;\" d=\"M 148.097656 430.558594 L 148.097656 437.761719 \"/>\n",
       "<path style=\"fill:none;stroke-width:0.75;stroke-linecap:round;stroke-linejoin:round;stroke:rgb(0%,0%,0%);stroke-opacity:1;stroke-miterlimit:10;\" d=\"M 225.671875 430.558594 L 225.671875 437.761719 \"/>\n",
       "<path style=\"fill:none;stroke-width:0.75;stroke-linecap:round;stroke-linejoin:round;stroke:rgb(0%,0%,0%);stroke-opacity:1;stroke-miterlimit:10;\" d=\"M 303.25 430.558594 L 303.25 437.761719 \"/>\n",
       "<path style=\"fill:none;stroke-width:0.75;stroke-linecap:round;stroke-linejoin:round;stroke:rgb(0%,0%,0%);stroke-opacity:1;stroke-miterlimit:10;\" d=\"M 380.824219 430.558594 L 380.824219 437.761719 \"/>\n",
       "<path style=\"fill:none;stroke-width:0.75;stroke-linecap:round;stroke-linejoin:round;stroke:rgb(0%,0%,0%);stroke-opacity:1;stroke-miterlimit:10;\" d=\"M 458.398438 430.558594 L 458.398438 437.761719 \"/>\n",
       "<g style=\"fill:rgb(0%,0%,0%);fill-opacity:1;\">\n",
       "  <use xlink:href=\"#glyph0-1\" x=\"67.183594\" y=\"456.480469\"/>\n",
       "</g>\n",
       "<g style=\"fill:rgb(0%,0%,0%);fill-opacity:1;\">\n",
       "  <use xlink:href=\"#glyph0-2\" x=\"141.425781\" y=\"456.480469\"/>\n",
       "  <use xlink:href=\"#glyph0-1\" x=\"148.099609\" y=\"456.480469\"/>\n",
       "</g>\n",
       "<g style=\"fill:rgb(0%,0%,0%);fill-opacity:1;\">\n",
       "  <use xlink:href=\"#glyph0-3\" x=\"219\" y=\"456.480469\"/>\n",
       "  <use xlink:href=\"#glyph0-1\" x=\"225.673828\" y=\"456.480469\"/>\n",
       "</g>\n",
       "<g style=\"fill:rgb(0%,0%,0%);fill-opacity:1;\">\n",
       "  <use xlink:href=\"#glyph0-4\" x=\"296.578125\" y=\"456.480469\"/>\n",
       "  <use xlink:href=\"#glyph0-1\" x=\"303.251953\" y=\"456.480469\"/>\n",
       "</g>\n",
       "<g style=\"fill:rgb(0%,0%,0%);fill-opacity:1;\">\n",
       "  <use xlink:href=\"#glyph0-5\" x=\"374.152344\" y=\"456.480469\"/>\n",
       "  <use xlink:href=\"#glyph0-1\" x=\"380.826172\" y=\"456.480469\"/>\n",
       "</g>\n",
       "<g style=\"fill:rgb(0%,0%,0%);fill-opacity:1;\">\n",
       "  <use xlink:href=\"#glyph0-6\" x=\"448.386719\" y=\"456.480469\"/>\n",
       "  <use xlink:href=\"#glyph0-1\" x=\"455.060547\" y=\"456.480469\"/>\n",
       "  <use xlink:href=\"#glyph0-1\" x=\"461.734375\" y=\"456.480469\"/>\n",
       "</g>\n",
       "<path style=\"fill:none;stroke-width:0.75;stroke-linecap:round;stroke-linejoin:round;stroke:rgb(0%,0%,0%);stroke-opacity:1;stroke-miterlimit:10;\" d=\"M 59.039062 416.800781 L 59.039062 72.800781 \"/>\n",
       "<path style=\"fill:none;stroke-width:0.75;stroke-linecap:round;stroke-linejoin:round;stroke:rgb(0%,0%,0%);stroke-opacity:1;stroke-miterlimit:10;\" d=\"M 59.039062 416.800781 L 51.839844 416.800781 \"/>\n",
       "<path style=\"fill:none;stroke-width:0.75;stroke-linecap:round;stroke-linejoin:round;stroke:rgb(0%,0%,0%);stroke-opacity:1;stroke-miterlimit:10;\" d=\"M 59.039062 330.800781 L 51.839844 330.800781 \"/>\n",
       "<path style=\"fill:none;stroke-width:0.75;stroke-linecap:round;stroke-linejoin:round;stroke:rgb(0%,0%,0%);stroke-opacity:1;stroke-miterlimit:10;\" d=\"M 59.039062 244.800781 L 51.839844 244.800781 \"/>\n",
       "<path style=\"fill:none;stroke-width:0.75;stroke-linecap:round;stroke-linejoin:round;stroke:rgb(0%,0%,0%);stroke-opacity:1;stroke-miterlimit:10;\" d=\"M 59.039062 158.800781 L 51.839844 158.800781 \"/>\n",
       "<path style=\"fill:none;stroke-width:0.75;stroke-linecap:round;stroke-linejoin:round;stroke:rgb(0%,0%,0%);stroke-opacity:1;stroke-miterlimit:10;\" d=\"M 59.039062 72.800781 L 51.839844 72.800781 \"/>\n",
       "<g style=\"fill:rgb(0%,0%,0%);fill-opacity:1;\">\n",
       "  <use xlink:href=\"#glyph1-1\" x=\"41.761719\" y=\"427.140625\"/>\n",
       "  <use xlink:href=\"#glyph1-2\" x=\"41.761719\" y=\"423.144531\"/>\n",
       "  <use xlink:href=\"#glyph1-3\" x=\"41.761719\" y=\"416.470703\"/>\n",
       "  <use xlink:href=\"#glyph1-4\" x=\"41.761719\" y=\"413.136719\"/>\n",
       "</g>\n",
       "<g style=\"fill:rgb(0%,0%,0%);fill-opacity:1;\">\n",
       "  <use xlink:href=\"#glyph1-1\" x=\"41.761719\" y=\"341.140625\"/>\n",
       "  <use xlink:href=\"#glyph1-4\" x=\"41.761719\" y=\"337.144531\"/>\n",
       "  <use xlink:href=\"#glyph1-3\" x=\"41.761719\" y=\"330.470703\"/>\n",
       "  <use xlink:href=\"#glyph1-5\" x=\"41.761719\" y=\"327.136719\"/>\n",
       "</g>\n",
       "<g style=\"fill:rgb(0%,0%,0%);fill-opacity:1;\">\n",
       "  <use xlink:href=\"#glyph1-4\" x=\"41.761719\" y=\"253.140625\"/>\n",
       "  <use xlink:href=\"#glyph1-3\" x=\"41.761719\" y=\"246.466797\"/>\n",
       "  <use xlink:href=\"#glyph1-4\" x=\"41.761719\" y=\"243.132812\"/>\n",
       "</g>\n",
       "<g style=\"fill:rgb(0%,0%,0%);fill-opacity:1;\">\n",
       "  <use xlink:href=\"#glyph1-4\" x=\"41.761719\" y=\"167.140625\"/>\n",
       "  <use xlink:href=\"#glyph1-3\" x=\"41.761719\" y=\"160.466797\"/>\n",
       "  <use xlink:href=\"#glyph1-5\" x=\"41.761719\" y=\"157.132812\"/>\n",
       "</g>\n",
       "<g style=\"fill:rgb(0%,0%,0%);fill-opacity:1;\">\n",
       "  <use xlink:href=\"#glyph1-2\" x=\"41.761719\" y=\"81.140625\"/>\n",
       "  <use xlink:href=\"#glyph1-3\" x=\"41.761719\" y=\"74.466797\"/>\n",
       "  <use xlink:href=\"#glyph1-4\" x=\"41.761719\" y=\"71.132812\"/>\n",
       "</g>\n",
       "<path style=\"fill:none;stroke-width:0.75;stroke-linecap:round;stroke-linejoin:round;stroke:rgb(0%,0%,0%);stroke-opacity:1;stroke-miterlimit:10;\" d=\"M 59.039062 430.558594 L 473.761719 430.558594 L 473.761719 59.039062 L 59.039062 59.039062 L 59.039062 430.558594 \"/>\n",
       "<g style=\"fill:rgb(0%,0%,0%);fill-opacity:1;\">\n",
       "  <use xlink:href=\"#glyph2-1\" x=\"236.375\" y=\"34.707031\"/>\n",
       "  <use xlink:href=\"#glyph2-2\" x=\"245.174911\" y=\"34.707031\"/>\n",
       "  <use xlink:href=\"#glyph2-3\" x=\"249.177429\" y=\"34.707031\"/>\n",
       "  <use xlink:href=\"#glyph2-4\" x=\"253.179947\" y=\"34.707031\"/>\n",
       "  <use xlink:href=\"#glyph2-5\" x=\"257.977341\" y=\"34.707031\"/>\n",
       "  <use xlink:href=\"#glyph2-6\" x=\"263.583679\" y=\"34.707031\"/>\n",
       "  <use xlink:href=\"#glyph2-7\" x=\"271.595749\" y=\"34.707031\"/>\n",
       "  <use xlink:href=\"#glyph2-8\" x=\"280.39566\" y=\"34.707031\"/>\n",
       "  <use xlink:href=\"#glyph2-9\" x=\"288.40773\" y=\"34.707031\"/>\n",
       "</g>\n",
       "<g style=\"fill:rgb(0%,0%,0%);fill-opacity:1;\">\n",
       "  <use xlink:href=\"#glyph1-6\" x=\"12.960938\" y=\"274.152344\"/>\n",
       "  <use xlink:href=\"#glyph1-7\" x=\"12.960938\" y=\"266.822266\"/>\n",
       "  <use xlink:href=\"#glyph1-8\" x=\"12.960938\" y=\"262.826172\"/>\n",
       "  <use xlink:href=\"#glyph1-9\" x=\"12.960938\" y=\"256.152344\"/>\n",
       "  <use xlink:href=\"#glyph1-10\" x=\"12.960938\" y=\"249.478516\"/>\n",
       "  <use xlink:href=\"#glyph1-11\" x=\"12.960938\" y=\"242.804688\"/>\n",
       "  <use xlink:href=\"#glyph1-12\" x=\"12.960938\" y=\"239.470703\"/>\n",
       "  <use xlink:href=\"#glyph1-13\" x=\"12.960938\" y=\"231.466797\"/>\n",
       "  <use xlink:href=\"#glyph1-14\" x=\"12.960938\" y=\"228.800781\"/>\n",
       "  <use xlink:href=\"#glyph1-15\" x=\"12.960938\" y=\"222.126953\"/>\n",
       "</g>\n",
       "</g>\n",
       "</svg>\n"
      ],
      "text/plain": [
       "Plot with title “ZI trades”"
      ]
     },
     "metadata": {
      "image/svg+xml": {
       "isolated": true
      }
     },
     "output_type": "display_data"
    }
   ],
   "source": [
    "# Simulate and generate time series of returns\n",
    "alpha <-1; mu<-10; delta <- 0.2; # Asymptotic book depth is 5\n",
    "numEvents <- 10000;\n",
    "initializeBook5();\n",
    "for(count in 1:numEvents){generateEvent()}\n",
    "\n",
    "tradeLog <- eventLog[(eventLog$Type==\"MB\")|(eventLog$Type==\"MS\"),]\n",
    "tradeSigns <- ifelse(tradeLog$Type==\"MB\",+1,-1);\n",
    "someTrades <- 1:100;\n",
    "plot(tradeSigns[someTrades],type=\"b\",col=\"blue\",xlab=NA, ylab=\"Trade Sign\",main=\"ZI trades\")"
   ]
  },
  {
   "cell_type": "markdown",
   "metadata": {
    "slideshow": {
     "slide_type": "subslide"
    }
   },
   "source": [
    "<h2><img src=\"http://mfe.baruch.cuny.edu/wp-content/uploads/2015/01/msftTrades.png\" align = \"center\" width=600></h2>\n",
    "\n",
    "Figure 2: Sequences of trade signs from real data and from ZI\n",
    "simulated data"
   ]
  },
  {
   "cell_type": "markdown",
   "metadata": {
    "slideshow": {
     "slide_type": "slide"
    }
   },
   "source": [
    "### Observations\n",
    "\n",
    "-   <span>We don’t see any particular pattern in the ZI market.</span>\n",
    "\n",
    "-   <span>In the real MSFT market though, we see that MB tends to follow\n",
    "    MB and MS tends to follow MS.</span>\n",
    "\n",
    "    -   It seems that real traders condition their trades on something.\n",
    "<font color=\"red\">\n",
    "    -   In real markets, traders look at the screen before trading!"
   ]
  },
  {
   "cell_type": "markdown",
   "metadata": {
    "slideshow": {
     "slide_type": "slide"
    }
   },
   "source": [
    "### The limit or market order decision\n",
    "\n",
    "-   <span>We start by describing one of the cleverest models of\n",
    "    strategic trading due to Christine Parlour.</span>\n",
    "\n",
    "    -   Traders correctly compute the probabilities of future events conditional on the current state of the order book and their own actions.\n",
    "\n",
    "    -   Traders send a market order or a limit order, whichever is better.\n",
    "\n",
    "    -   Philosophically the <span>*polar opposite*</span> of the zero-intelligence assumption."
   ]
  },
  {
   "cell_type": "markdown",
   "metadata": {
    "slideshow": {
     "slide_type": "slide"
    }
   },
   "source": [
    "### The Parlour (1998) model\n",
    "\n",
    "-   <span>Trading occurs on day 1, starting at time $t=1$ and ending at\n",
    "    $t=T$.</span>\n",
    "\n",
    "-   <span>Everyone knows that on day 2, the asset will be worth\n",
    "    $V$.</span>\n",
    "\n",
    "-   <span>Infinite order-book depth at the bid $B$ and the ask $A$ so\n",
    "    these don’t change over time.</span>\n",
    "\n",
    "    -   <span>$\n",
    "        B=V-s/2;\\,A=V+s/2;\n",
    "        $</span>\n",
    "\n",
    "-   <span>At each time $t$ during the trading day, one (new and\n",
    "    different) trader arrives who is a buyer or seller with probability\n",
    "    $1/2$.</span>\n",
    "\n",
    "    -   <span>This trader may submit a market or a limit order or do\n",
    "        nothing.</span>"
   ]
  },
  {
   "cell_type": "markdown",
   "metadata": {
    "slideshow": {
     "slide_type": "subslide"
    }
   },
   "source": [
    "-   <span>The trader at time $t$ has utility\n",
    "    $$U_t=C_1+\\beta_t\\,C_2\\, \\text{ with } \\beta_t \\in \\left[\\underline \\beta, \\bar \\beta\\right]$$\n",
    "    where $\\beta_t$ is a time-preference parameter and the $C_i$ denote\n",
    "    consumption on day $i=1,2$. </span>\n",
    "\n",
    "    -   For example, if trader $t$ is a seller, the lower $\\beta_t$ is,\n",
    "        the more likely\n",
    "        he is to submit a market order."
   ]
  },
  {
   "cell_type": "markdown",
   "metadata": {
    "slideshow": {
     "slide_type": "slide"
    }
   },
   "source": [
    "### A generic timestep in the Parlour model\n",
    "\n",
    "<h2><img src=\"http://mfe.baruch.cuny.edu/wp-content/uploads/2015/01/ParlourGenericTimeStep.png\" align = \"center\" width=600></h2>\n"
   ]
  },
  {
   "cell_type": "markdown",
   "metadata": {
    "slideshow": {
     "slide_type": "slide"
    }
   },
   "source": [
    "### At time $T$\n",
    "\n",
    "-   <span>There is no point in sending a limit order because the\n",
    "    probability of a fill is zero.</span>\n",
    "\n",
    "\n",
    "-   <span>For a seller, the increase in utility (benefit) associated\n",
    "    with a market sell would be\n",
    "    \n",
    "    $$\\Delta U_T=B-\\beta_T\\,V.$$\n",
    "    \n",
    "    Thus a\n",
    "    seller will enter a market order only if $B-\\beta_T\\,V >0$ or\n",
    "    equivalently if $\\beta_T< B/V$. </span>"
   ]
  },
  {
   "cell_type": "markdown",
   "metadata": {
    "slideshow": {
     "slide_type": "subslide"
    }
   },
   "source": [
    "-   <span>We can then compute the unconditional probability as of time\n",
    "    $T-1$ of a market sell (MS) in period $T$:\n",
    "    \n",
    "    $${\\mathbb{P} }^S_T=\\frac{1}{2}\\,{\\mathbb{P} }\\left(\\beta_T<\\frac{B}{V}\\right).$$\n",
    "    </span>\n",
    "\n",
    "\n",
    "-   <span>Similarly,\n",
    "    $${\\mathbb{P} }^B_T=\\frac{1}{2}\\,{\\mathbb{P} }\\left(\\beta_T>\\frac{A}{V}\\right).$$\n",
    "    </span>"
   ]
  },
  {
   "cell_type": "markdown",
   "metadata": {
    "slideshow": {
     "slide_type": "slide"
    }
   },
   "source": [
    "### At time $T-1$\n",
    "\n",
    "-   <span>There is now some potential benefit to submitting a limit\n",
    "    order.</span>\n",
    "\n",
    "-   <span>The upside associated with a limit order depends on the\n",
    "    probability of a fill (respectively MB or MS) in period $T$.</span>\n",
    "\n",
    "    -   <span>These fill probabilities depend in particular on the\n",
    "        distribution of $\\beta_T$.</span>\n",
    "\n",
    "-   <span>There is no point in sending a limit order if there is\n",
    "    existing quantity in the order book.</span>\n",
    "\n",
    "    -   <span>The limit order at the front of the queue has\n",
    "        priority.</span>"
   ]
  },
  {
   "cell_type": "markdown",
   "metadata": {
    "slideshow": {
     "slide_type": "slide"
    }
   },
   "source": [
    "### At generic time $t$\n",
    "\n",
    "-   <span>The upside associated with a limit order depends on the\n",
    "    probability of a fill (respectively MB or MS) in subsequent\n",
    "    periods.</span>\n",
    "\n",
    "    -   <span>These fill probabilities depend in particular on the\n",
    "        distribution of $\\beta_t$.</span>\n",
    "\n",
    "-   <span>The decision to send a limit order depends on position in the\n",
    "    queue.</span>\n",
    "\n",
    "    -   <span>So the market order/ limit order decision depends on the\n",
    "        number of shares $n_t$ on the same side of the book.</span>"
   ]
  },
  {
   "cell_type": "markdown",
   "metadata": {
    "slideshow": {
     "slide_type": "subslide"
    }
   },
   "source": [
    "-   <span>For clarity, again consider the case of a seller.</span>\n",
    "\n",
    "-   <span>The market order/ limit order decision depends also on the\n",
    "    length of the queue on the bid side of the order book.</span>\n",
    "\n",
    "    -   <span>The longer the queue on the bid side, the more likely it\n",
    "        is that a market buy order will be submitted in subsequent\n",
    "        periods and the more likely that a limit sell order will be\n",
    "        filled.</span>"
   ]
  },
  {
   "cell_type": "markdown",
   "metadata": {
    "slideshow": {
     "slide_type": "slide"
    }
   },
   "source": [
    "### Time $t$ payoffs\n",
    "\n",
    "<a name=\"tab:payoffs\"></a>Table 1: Time $t$ payoffs\n",
    "\n",
    "\n",
    "|      Strategy     | Payoff |\n",
    "|:-----------------|:------|\n",
    "|  Market sell (MS)   |   $B-\\beta_t\\,V$   |\n",
    "|  Limit sell (LS)    |   $(A-\\beta_t\\,V)\\,{\\mathbb{P} }^B_{t+i}$   |\n",
    "|   Limit buy (LB)    |   $(\\beta_t\\,V-B)\\,{\\mathbb{P} }^S_{t+i}$   |\n",
    "| Market buy (MB)   |   $\\beta_t\\,V-A$   |\n",
    "  \n",
    "\n",
    "-   <span>From the payoffs in [Table 1](#tab:payoffs), we can compute the\n",
    "    probabilities of a market buy and market sell and by recursion,\n",
    "    compute the same for period $t-1$.</span>"
   ]
  },
  {
   "cell_type": "markdown",
   "metadata": {
    "slideshow": {
     "slide_type": "slide"
    }
   },
   "source": [
    "### A numerical example\n",
    "\n",
    "Following [Parlour]<sup id=\"cite_ref-Parlour\" class=\"reference\"><a href=\"#cite_note-Parlour\"><span>[</span>7<span>]</span></a></sup>, we assume the following parameters:\n",
    "\n",
    "$$\n",
    "V=5.5;\\,B=5;\\,A=6; \\,T=3 \\text { and } \\beta_t \\sim U(0,2).\n",
    "$$ \n",
    "\n",
    "At time\n",
    "$t=T= 3$,\n",
    "\n",
    "$$\n",
    "\\mathbb{P} (MS|S)  =\\frac{1}{2}\\,\\int_0^2\\,d\\beta\\,{{\\mathbf 1} }_{\\beta<B/V}\n",
    "=\\frac{1}{2}\\,\\int_0^{10/11}\\,d\\beta = \\frac{5}{11}.\n",
    "$$"
   ]
  },
  {
   "cell_type": "markdown",
   "metadata": {
    "slideshow": {
     "slide_type": "subslide"
    }
   },
   "source": [
    "Thus \n",
    "\n",
    "$$\\PP^S_3=\\frac{5}{22}.$$ \n",
    "\n",
    "By symmetry, \n",
    "\n",
    "$$\\PP^B_3=\\frac{5}{22}.$$"
   ]
  },
  {
   "cell_type": "markdown",
   "metadata": {
    "slideshow": {
     "slide_type": "slide"
    }
   },
   "source": [
    "### Time $t=2$: No existing quantity in the order book\n",
    "\n",
    "Suppose the order book is empty at time $t=2=T-1$.\n",
    "\n",
    "-   The utility of a market sell order is $B - \\beta_t\\,V$.\n",
    "\n",
    "-   The utility of a limit sell order is\n",
    "    $(A - \\beta_t\\,V) \\,{\\mathbb{P} }^B_3$.\n",
    "\n",
    "Thus, submit a MS only if\n",
    "$B - \\beta_t\\,V \\geq (A - \\beta_t\\,V) \\,{\\mathbb{P} }^B_3$ or\n",
    "equivalently\n",
    "\n",
    "$$\\beta_2 \\leq \\frac{B-A\\,{\\mathbb{P} }^B_3}{V\\,(1-{\\mathbb{P} }^B_3)} = \\frac{B-A\\,{\\mathbb{P} }^B_3}{V\\,(1-{\\mathbb{P} }^B_3)} =\\frac{160}{187}.$$"
   ]
  },
  {
   "cell_type": "markdown",
   "metadata": {
    "slideshow": {
     "slide_type": "subslide"
    }
   },
   "source": [
    "Continuing in this way, we compute that a seller will choose as follows:\n",
    "\n",
    "\n",
    "| Action         | Condition | Numerically |\n",
    "|----------------|-----------|-------------|\n",
    "| Market sell (MS) |     if $B-\\beta_t\\,V \\geq (A-\\beta_t\\,V)^+\\,{\\mathbb{P} }^B_{3}$      |    $0 \\leq \\beta_t<\\frac{160}{187}$         |\n",
    "| Limit sell (LS)  |     if $(A-\\beta_t\\,V)\\,{\\mathbb{P} }^B_{3}>(B-\\beta_t\\,V)^+$      |   $\\frac{160}{187} \\leq \\beta_t<\\frac{12}{11}$          |\n",
    "| Do nothing     |     otherwise      |   $\\frac{12}{11}\\leq \\beta_t \\leq 2$          |"
   ]
  },
  {
   "cell_type": "markdown",
   "metadata": {
    "slideshow": {
     "slide_type": "slide"
    }
   },
   "source": [
    "### Time $t=2$: No existing quantity in the order book\n",
    "\n",
    "Thus, conditional on an empty book and the trader being a seller,\n",
    "\n",
    "$$\n",
    "\\begin{eqnarray*}\n",
    "{\\mathbb{P} }_{MS}&=&{\\mathbb{P} }\\left(\\beta_2<\\frac{160}{187}\\right)=\\frac{80}{187}\\\\\n",
    "{\\mathbb{P} }_{0}&=&{\\mathbb{P} }\\left(\\beta_2>\\frac{12}{11}\\right)=\\frac{5}{11}\\\\\n",
    "{\\mathbb{P} }_{LS}&=&1-{\\mathbb{P} }_{MS}-{\\mathbb{P} }_{0}=1-\\frac{80}{187}-\\frac{5}{11}=\\frac{2}{17}.\\end{eqnarray*}\n",
    "$$"
   ]
  },
  {
   "cell_type": "markdown",
   "metadata": {
    "slideshow": {
     "slide_type": "slide"
    }
   },
   "source": [
    "### What if the book is not empty?\n",
    "\n",
    "-   If there is quantity on the bid side, it is not optimal for a buyer\n",
    "    to leave a limit order.\n",
    "\n",
    "    -   This case reduces to the case $t=3=T$.\n",
    "\n",
    "    -   MS is optimal for a seller if $ \\beta< B/V =10/11 $ so\n",
    "        ${\\mathbb{P} }_{MS}=5/11$."
   ]
  },
  {
   "cell_type": "markdown",
   "metadata": {
    "slideshow": {
     "slide_type": "subslide"
    }
   },
   "source": [
    "-   In particular, consider the case where ${160}/{187}\\leq \\beta<10/11$\n",
    "    ($0.86\\leq \\beta<0.91$):\n",
    "\n",
    "    -   If there is no sell order in the book, a seller will submit LS.\n",
    "\n",
    "    -   If there is an existing sell order in the book, a seller will\n",
    "        submit MS.\n",
    "\n",
    "-   We need to expand our state space to include the state of the book.\n",
    "\n",
    "    -   The market/limit order decision depends on the state of the\n",
    "        order book.\n",
    "\n",
    "    -   We need richer notation. For example\n",
    "        ${\\mathbb{P} }_{\\text{event}}[n_B,n_A](t)$."
   ]
  },
  {
   "cell_type": "markdown",
   "metadata": {
    "slideshow": {
     "slide_type": "slide"
    }
   },
   "source": [
    "### Model predictions\n",
    "\n",
    "-   <span>An increase in book depth $n_B$ on the bid-side decreases the\n",
    "    probability of a limit buy order.</span>\n",
    "\n",
    "-   <span>A decrease in book depth $n_A$ on the ask-side decreases the\n",
    "    probability of a market sell order in subsequent periods and so\n",
    "    decreases the probability of a limit buy order.</span>\n",
    "\n",
    "-   <span>Order signs will be autocorrelated - a <span>*herding*</span>\n",
    "    effect.</span>\n",
    "\n",
    "    -   <span>A market sell order increases the probability of a\n",
    "        subsequent market sell and decreases the probability of a\n",
    "        subsequent market buy.</span>"
   ]
  },
  {
   "cell_type": "markdown",
   "metadata": {
    "slideshow": {
     "slide_type": "slide"
    }
   },
   "source": [
    "### Comments\n",
    "\n",
    "-   In the Parlour model, it is optimal to herd even though the bid and\n",
    "    ask prices do not move.\n",
    "\n",
    "    -   Conditional on MB, the probability of MB increases if agents are\n",
    "        rational.\n",
    "\n",
    "-   Even in the ZI market, we can predict the expected price change from\n",
    "    the current shape of the order book.\n",
    "\n",
    "    -   We are far from efficient markets at this micro timescale.\n",
    "\n",
    "    -   It is optimal to herd not only for the strategic reasons\n",
    "        illuminated by the Parlour model but also because order book\n",
    "        shape and order flow are informative for future price movements."
   ]
  },
  {
   "cell_type": "markdown",
   "metadata": {
    "slideshow": {
     "slide_type": "subslide"
    }
   },
   "source": [
    "-   <span>It follows in particular that both market and limit orders\n",
    "    have market impact.</span>\n",
    "\n",
    "    -   <span>In fact, even hidden orders will have market impact due to\n",
    "        pinging!</span>"
   ]
  },
  {
   "cell_type": "markdown",
   "metadata": {
    "slideshow": {
     "slide_type": "slide"
    }
   },
   "source": [
    "### Zero intelligence vs efficient markets\n",
    "\n",
    "-   <span>Traders certainly do condition their actions on the current\n",
    "    state of the market as well as the history of order flow.</span>\n",
    "\n",
    "-   <span>However, we cannot believe the caricature that rational\n",
    "    traders are able to compute the rational reaction of other agents to\n",
    "    their own rational actions.</span>\n",
    "\n",
    "    -   We will see later when we study the Kyle model that this\n",
    "        caricature may nevertheless describe an equilibrium resulting\n",
    "        from agents performing linear regression.\n",
    "\n",
    "-   <span>Reality lies somewhere between these two extremes.</span>"
   ]
  },
  {
   "cell_type": "markdown",
   "metadata": {
    "slideshow": {
     "slide_type": "slide"
    }
   },
   "source": [
    "### Foucault, Kadan and Kandel (2005)\n",
    "\n",
    "In this model:\n",
    "\n",
    "-   Liquidity traders choose between market orders and limit orders.\n",
    "\n",
    "    -   This choice depends on their degree of impatience.\n",
    "\n",
    "-   Different traders value immediacy differently.\n",
    "\n",
    "    -   Type ${\\mathcal{P} }$ traders incur a waiting cost at rate\n",
    "        $\\delta_P$ and type ${\\mathcal{I} }$ traders at rate $\\delta_I$\n",
    "        with $\\delta_I>\\delta_P>0$.\n",
    "\n",
    "    -   Traders arrive at rate $\\lambda$.\n",
    "\n",
    "    -   The proportion of patient traders is $\\theta_P$.\n",
    "        $\\theta_I=1-\\theta_P$."
   ]
  },
  {
   "cell_type": "markdown",
   "metadata": {
    "slideshow": {
     "slide_type": "subslide"
    }
   },
   "source": [
    "-   Order book depth is infinite at $B$ and $A$, where $A>B$. The best quotes $b$ and $a$ satisfy $b\\geq B$ and $a \\leq A$, so $s:=a-b < K := A-B$. Prices are in discrete ticks $\\Delta$."
   ]
  },
  {
   "cell_type": "markdown",
   "metadata": {
    "slideshow": {
     "slide_type": "slide"
    }
   },
   "source": [
    "### Trading rules\n",
    "\n",
    "1.   A trader arrives only once, submits an order and leaves the market.\n",
    "<font color=\"red\">\n",
    "Orders cannot be modified or canceled.</font>\n",
    "\n",
    "2.  Limit orders must be price improving; they must narrow the spread.\n",
    "\n",
    "3.  Buyers and sellers alternate. The first trade is a buy with\n",
    "    probability $\\frac12$."
   ]
  },
  {
   "cell_type": "markdown",
   "metadata": {
    "slideshow": {
     "slide_type": "slide"
    }
   },
   "source": [
    "### Computation of equilibrium\n",
    "\n",
    "Wlog, take tick size $\\Delta=1$.\n",
    "\n",
    "-   A buyer can either take the offer at $a$ or submit a limit buy order\n",
    "    at $a-j$ with $j \\in \\{1,...,s\\}$.\n",
    "\n",
    "    -   Higher $j$’s are less aggressive.\n",
    "\n",
    "-   The trader needs to compute\n",
    "    $$\\max_{j \\in \\{0,...,s-1\\}} \\pi_i(j):= j-\\delta_i \\,T(j)$$ where\n",
    "    $T(j)$ is the expected time to execution and $i \\in \\{I,P\\}$."
   ]
  },
  {
   "cell_type": "markdown",
   "metadata": {
    "slideshow": {
     "slide_type": "subslide"
    }
   },
   "source": [
    "-   Optimal (equilibrium?) strategies assign a $j$ to each possible spread $s$.\n",
    "\n",
    "-   Optimal (equilibrium?) strategies (different for ${\\mathcal{P} }$ and\n",
    "    ${\\mathcal{I} }$) maximize expected profits assuming that all\n",
    "    subsequent traders follow the same optimal strategy."
   ]
  },
  {
   "cell_type": "markdown",
   "metadata": {
    "slideshow": {
     "slide_type": "slide"
    }
   },
   "source": [
    "### Equilibrium solution\n",
    "\n",
    "-   Start at the end node: If $s=1$, the trader, whether\n",
    "    ${\\mathcal{P} }$ or ${\\mathcal{I} }$, needs to submit a market\n",
    "    order (because limit orders must improve the price).\n",
    "\n",
    "-   If $s=2$ compare submission of a limit order with $j=1$ or a market\n",
    "    order.\n",
    "\n",
    "    -   If a limit order is submitted, it will shrink the spread to $1$\n",
    "        and will be executed next period. So $T(1)=\\frac1\\lambda$.\n",
    "\n",
    "    -   The payoff from a market order is $0-\\delta_i \\,T(0)=0$.\n",
    "\n",
    "    -   The payoff from a limit order is $1-\\frac{\\delta_i}\\lambda$ which is\n",
    "        greater for $\\mathcal{P}$ than for $\\mathcal{I}$."
   ]
  },
  {
   "cell_type": "markdown",
   "metadata": {
    "slideshow": {
     "slide_type": "subslide"
    }
   },
   "source": [
    "-   Continuing by induction, we can compute optimal actions for both\n",
    "    ${\\mathcal{P} }$ and ${\\mathcal{I} }$ traders for all possible\n",
    "    spreads $s \\leq K=A-B$.\n",
    "\n",
    "    -   In particular, there is some minimum spread level $s^*$ such\n",
    "        that both ${\\mathcal{P} }$ and ${\\mathcal{I} }$ traders will in\n",
    "        general submit only market orders if $s \\leq s^*$.\n",
    "\n",
    "    -   Also, there is a maximum spread level beyond which both\n",
    "        ${\\mathcal{I} }$ and ${\\mathcal{P} }$ traders will submit limit\n",
    "        orders."
   ]
  },
  {
   "cell_type": "markdown",
   "metadata": {
    "slideshow": {
     "slide_type": "slide"
    }
   },
   "source": [
    "### Final result\n",
    "\n",
    "-   The final expression for the expected time to execution is\n",
    "\n",
    "    <a name=\"eq:timeFKK\"></a>(1)\n",
    "    $$T(s_m)=\\frac{1}{\\lambda}\\,\\left\\{1+2\\,\\sum_{k=1}^{m-1}\\,\\left(\\frac{\\theta_P}{1-\\theta_P}\\right)^k\\right\\}\n",
    "    $$ where $s_m$ is the $m$th spread value in the\n",
    "    table of equilibrium spreads derived above."
   ]
  },
  {
   "cell_type": "markdown",
   "metadata": {
    "slideshow": {
     "slide_type": "subslide"
    }
   },
   "source": [
    "-   The equilibrium spreads are equal to:\n",
    "\n",
    "    <a name=\"eq:spreadFKK\"></a>(2)\n",
    "    $$s_q = K = A-B; \\,s_m=K - \\sum_{k=m+1}^q\\,\\psi_k \\text{ for } m=2,...,q-1; \\,s_1=s^*\n",
    "    $$ \n",
    "    \n",
    "    where the spread improvement function $\\psi_k = s_k - s_{k-1}$ is given by\n",
    "    \n",
    "    $$\\psi_k=\\left \\lceil 2\\,\\frac{\\delta_P}{\\lambda\\,\\Delta}\\,\\left(\\frac{\\theta_P}{1-\\theta_P}\\right)^{k-1}\\right \\rceil .$$"
   ]
  },
  {
   "cell_type": "markdown",
   "metadata": {
    "slideshow": {
     "slide_type": "slide"
    }
   },
   "source": [
    "### Comparative statics\n",
    "\n",
    "From [(1)](#eq:timeFKK) and [(2)](#eq:spreadFKK), we see that:\n",
    "\n",
    "-   As the proportion $\\theta_P$ of patient traders increases:\n",
    "\n",
    "    -   The expected time to execution increases.\n",
    "\n",
    "    -   Spread improvement increases and so the equilibrium spreads decrease.\n",
    "\n",
    "-   As the arrival rate $\\lambda$ increases, spreads increase.\n",
    "\n",
    "-   As the cost of waiting decreases, spreads decrease.\n",
    "\n",
    "    -   Scaling $\\lambda$ and the $\\delta_i$ by the same factor leaves\n",
    "        all results unchanged."
   ]
  },
  {
   "cell_type": "markdown",
   "metadata": {
    "slideshow": {
     "slide_type": "subslide"
    }
   },
   "source": [
    "-   Note that we can define a measure of resiliency $R = \\theta_P^{q-1}$\n",
    "    which is the probability that the spread will revert from its\n",
    "    maximum level $K=A-B$ to $s^*$ before the next transaction."
   ]
  },
  {
   "cell_type": "markdown",
   "metadata": {
    "slideshow": {
     "slide_type": "slide"
    }
   },
   "source": [
    "### FKK (2005) model summary\n",
    "\n",
    "-   The Foucault, Kadan and Kandell model gives us an equilibrium\n",
    "    distribution of spreads.\n",
    "\n",
    "-   The optimal strategy for both ${\\mathcal{I} }$ and ${\\mathcal{P} }$\n",
    "    traders depends (only) on the spread.\n",
    "\n",
    "\n",
    "-   If the spread is very wide, both ${\\mathcal{I} }$ and\n",
    "    ${\\mathcal{P} }$ will submit limit orders.\n",
    "\n",
    "-   If the spread is sufficiently narrow, both ${\\mathcal{I} }$ and\n",
    "    ${\\mathcal{P} }$ will submit market orders."
   ]
  },
  {
   "cell_type": "markdown",
   "metadata": {
    "slideshow": {
     "slide_type": "slide"
    }
   },
   "source": [
    "### The Roşu (2009) model\n",
    "\n",
    "In the [Roşu]<sup id=\"cite_ref-Rosu\" class=\"reference\"><a href=\"#cite_note-Rosu\"><span>[</span>8<span>]</span></a></sup> model:\n",
    "\n",
    "-   Four types of traders: Patient buyers, patient sellers, impatient\n",
    "    buyers, impatient sellers arrive randomly at rates\n",
    "    $\\lambda_{PB},\\,\\lambda_{PS},\\,\\lambda_{IB},\\,\\lambda_{IS}$.\n",
    "\n",
    "-   As in Foucault, Kadan and Kandel, traders lose utility\n",
    "    proportionally to expected waiting time at rate $r$ called the\n",
    "    <span>*patience coefficient*</span>.\n",
    "\n",
    "    -   $r'$ for impatient traders is assumed to be so much greater than\n",
    "        $r$ that impatient traders always submit market orders."
   ]
  },
  {
   "cell_type": "markdown",
   "metadata": {
    "slideshow": {
     "slide_type": "subslide"
    }
   },
   "source": [
    "-   Order book depth is infinite at $B$ and $A>B$.\n",
    "\n",
    "-   Time is continuous and prices are continuous.\n",
    "\n",
    "-   Traders may submit market orders or limit orders.\n",
    "    -   <font color=\"red\">Limit orders may be canceled at any time.</font>\n",
    "    -   All orders are executed instantaneously."
   ]
  },
  {
   "cell_type": "markdown",
   "metadata": {
    "slideshow": {
     "slide_type": "slide"
    }
   },
   "source": [
    "### Equilibrium: One side of the order book\n",
    "\n",
    "A special case of this model can be solved in closed form:\n",
    "\n",
    "-   Assume $\\lambda_{PB}=\\lambda_{IS}=0$ so there are only patient\n",
    "    sellers and impatient buyers.\n",
    "\n",
    "    -   The best bid is stuck at the minimum level $B$."
   ]
  },
  {
   "cell_type": "markdown",
   "metadata": {
    "slideshow": {
     "slide_type": "subslide"
    }
   },
   "source": [
    "-   Put $\\lambda_{PS}=\\lambda_1$ and $\\lambda_{IB}=\\lambda_{2}$ and\n",
    "    denote the seller’s patience coefficient by $r$.\n",
    "\n",
    "    -   If there are $m$ (sell) orders in the book at levels $a_i$,\n",
    "        $i \\in \\{1,..,m\\}$, the utility of the $i$th seller is given by\n",
    "        $$f_i=a_i-r\\,\\tau^\\star_i=f_m$$ where $\\tau^\\star_i$ is the\n",
    "        expected time to execution for the $i$th order.\n",
    "\n",
    "    -   The last equality holds because in equilibrium, every trader\n",
    "        must have the same utility; allowing costless cancelations makes\n",
    "        this argument work."
   ]
  },
  {
   "cell_type": "markdown",
   "metadata": {
    "slideshow": {
     "slide_type": "slide"
    }
   },
   "source": [
    "### The main idea\n",
    "\n",
    "-   Suppose there is no quantity in the book.\n",
    "\n",
    "-   It is optimal for the first patient seller (trader 1) to submit a\n",
    "    sell order at $A$ (the highest possible price).\n",
    "\n",
    "-   Now suppose a second patient seller (trader 2) comes to the market."
   ]
  },
  {
   "cell_type": "markdown",
   "metadata": {
    "slideshow": {
     "slide_type": "subslide"
    }
   },
   "source": [
    "-   Traders 1 and 2 engage in a price war, undercutting each other until\n",
    "    their utilities are equal:\n",
    "\n",
    "    -   The optimal solution is for trader 1 to post at $a_1=A$ and\n",
    "        trader 2 to post at $a_2<A$ such that their two utilities are\n",
    "        equal.\n",
    "\n",
    "    -   Trader 1 waits longer for an execution but gets a higher price."
   ]
  },
  {
   "cell_type": "markdown",
   "metadata": {
    "slideshow": {
     "slide_type": "slide"
    }
   },
   "source": [
    "### Definitions\n",
    "\n",
    "\n",
    "<font color=\"red\">\n",
    "#### Definitions\n",
    "\n",
    "\\begin{eqnarray*}\n",
    "\\lambda&=&\\lambda_1+\\lambda_2 = \\textbf{activity}\\\\\n",
    "c&=&\\frac{\\lambda_1}{\\lambda_2}=\\textbf{competition}\\\\\n",
    "\\epsilon &=& \\frac{r}{\\lambda}=\\textbf{granularity}\\end{eqnarray*}"
   ]
  },
  {
   "cell_type": "markdown",
   "metadata": {
    "slideshow": {
     "slide_type": "slide"
    }
   },
   "source": [
    "### Maximum order book size\n",
    "\n",
    "-   The number of orders in the book must be finite and $\\leq M$ for\n",
    "    some $M>0$.\n",
    "\n",
    "-   Otherwise, the expected execution time at the top of the book would\n",
    "    be $+\\infty$ and the associated utility $-\\infty$.\n",
    "\n",
    "    -   An agent encountering a full book with $M$ orders would always\n",
    "        rather hit the bid at $B$."
   ]
  },
  {
   "cell_type": "markdown",
   "metadata": {
    "slideshow": {
     "slide_type": "subslide"
    }
   },
   "source": [
    "<font color=\"red\">\n",
    "#### Theorem\n",
    "The maximum number $M$ of sellers in the book is given by\n",
    "\n",
    "$$M=\\frac{\\log\\left(\\frac{A-B}{\\epsilon}\\frac{(c-1)^2}{c+1}\\right)}{\\log c}+s, \\text { with } s \\in \\left(-1,\\frac{\\log 2}{\\log c}\\right)$$"
   ]
  },
  {
   "cell_type": "markdown",
   "metadata": {
    "slideshow": {
     "slide_type": "slide"
    }
   },
   "source": [
    "### Minimum spread\n",
    "\n",
    "When the book is full ($m=M$), the utility of placing an order at $a_M$\n",
    "must equal the utility of hitting the bid at $B$. Thus\n",
    "\n",
    "$$a_M-r\\,\\tau^\\star_M=B$$\n",
    "\n",
    "($B$ being the utility of a market sell order\n",
    "at $B$). Since\n",
    "\n",
    "$$\\tau^\\star_M=\\frac{1}{\\lambda_2},$$\n",
    "\n",
    "even though the\n",
    "tick size is zero, we can see that:"
   ]
  },
  {
   "cell_type": "markdown",
   "metadata": {
    "slideshow": {
     "slide_type": "subslide"
    }
   },
   "source": [
    "<font color=\"red\">\n",
    "#### Corollary\n",
    "There is a minimum spread $$s_{\\min}=a_M-B=\\frac{r}{\\lambda_2}$$"
   ]
  },
  {
   "cell_type": "markdown",
   "metadata": {
    "slideshow": {
     "slide_type": "slide"
    }
   },
   "source": [
    "### A recursive expression for $f_m$\n",
    "\n",
    "-   From a book with $m$ sellers, either\n",
    "\n",
    "    -   A patient seller arrives at random time\n",
    "        $T_1 \\sim \\exp(\\lambda_1)$\n",
    "\n",
    "        -   $\\hookrightarrow$ a book with $m+1$ sellers.\n",
    "\n",
    "        -   ${\\mathbb{P} }(\\text{PS}|\\text{New event})=\\frac{\\lambda_1}{\\lambda_1+\\lambda_2}$.\n",
    "\n",
    "    -   A impatient buyer arrives at random time\n",
    "        $T_2 \\sim \\exp(\\lambda_2)$.\n",
    "\n",
    "        -   $\\hookrightarrow$ a book with $m-1$ sellers.\n",
    "\n",
    "        -   ${\\mathbb{P} }(\\text{IB}|\\text{New event})=\\frac{\\lambda_2}{\\lambda_1+\\lambda_2}$."
   ]
  },
  {
   "cell_type": "markdown",
   "metadata": {
    "slideshow": {
     "slide_type": "subslide"
    }
   },
   "source": [
    "-   Thus, the expected utility of the $m$th patient seller must be given\n",
    "    by\n",
    "    $$f_m=\\frac{\\lambda_1}{\\lambda_1+\\lambda_2}\\,f_{m+1}+\\frac{\\lambda_2}{\\lambda_1+\\lambda_2}\\,f_{m-1}-r\\,\\frac{1}{\\lambda_1+\\lambda_2}$$\n",
    "\n",
    "-   Note that if an IB arrives, the seller with the lowest offer gets\n",
    "    $a_m$ and the other sellers get $f_{m-1}$. Thus $$a_m=f_{m-1}$$\n",
    "\n",
    "-   All of the $f_m$ may then be computed by induction."
   ]
  },
  {
   "cell_type": "markdown",
   "metadata": {
    "slideshow": {
     "slide_type": "slide"
    }
   },
   "source": [
    "### The general case\n",
    "\n",
    "-   Roşu is able to compute equilibrium numerically in the general case\n",
    "    where there are also impatient sellers and patient buyers.\n",
    "\n",
    "-   He can also extend to the case where market orders are for more than\n",
    "    one share.\n",
    "\n",
    "-   The one-sided case is helpful for gaining intuition; the best bid in\n",
    "    the two-sided case may be thought of as the fixed bid price $B$ in\n",
    "    the one-sided case."
   ]
  },
  {
   "cell_type": "markdown",
   "metadata": {
    "slideshow": {
     "slide_type": "slide"
    }
   },
   "source": [
    "### Summary of Roşu model results\n",
    "\n",
    "-   Hump-shaped limit order book.\n",
    "\n",
    "    -   Intuition: Patient sellers correctly anticipate the arrival of\n",
    "        large market orders.\n",
    "\n",
    "-   Assuming small market orders are more likely than large market\n",
    "    orders, temporary impact is larger than permanent impact.\n",
    "\n",
    "    -   Intuition (for MB): The large market buy increases the spread.\n",
    "        The spread reverts due to competition between patient sellers.\n",
    "        The higher $c=\\lambda_1/\\lambda_2$, the greater the reversion."
   ]
  },
  {
   "cell_type": "markdown",
   "metadata": {
    "slideshow": {
     "slide_type": "subslide"
    }
   },
   "source": [
    "-   Bid and ask prices comove.\n",
    "\n",
    "    -   Intuition: In this model, an MS order causes the best bid price\n",
    "        $b$ to drop. The best ask $a$ also falls but by less unless the\n",
    "        offered side of the book is full.\n",
    "        \n",
    "-   Higher activity and competition cause smaller spreads.\n",
    "\n",
    "    -   Intuition: The higher the activity $\\lambda$ is, the shorter the\n",
    "        time that a patient seller has to wait. Obviously greater\n",
    "        competition between patient sellers reduces spreads."
   ]
  },
  {
   "cell_type": "markdown",
   "metadata": {
    "slideshow": {
     "slide_type": "subslide"
    }
   },
   "source": [
    "-   In some cases, traders may submit fleeting limit orders.\n",
    "\n",
    "    -   Intuition: When the order book is full (which is when the spread\n",
    "        is at a minimum), a buyer (for example) may place a LB at the\n",
    "        best bid. The most aggressive seller will immediately cancel his\n",
    "        limit order and hit this new bid.\n",
    "\n",
    "    -   The model prediction is that fleeting limit orders will appear\n",
    "        only when the spread is at a minimum and will be placed inside\n",
    "        the spread."
   ]
  },
  {
   "cell_type": "markdown",
   "metadata": {
    "slideshow": {
     "slide_type": "slide"
    }
   },
   "source": [
    "### Cont and Kukanov: Fill probability for large tick stocks\n",
    "\n",
    "-   As in the Parlour model, whether or not to send a limit order must\n",
    "    depend in particular on the length of the queue and your position in\n",
    "    it.\n",
    "\n",
    "    -   This particularly significant for large tick stocks where the\n",
    "        queue is long.\n",
    "\n",
    "-   So far, we have surveyed only stylized financial economics models.\n",
    "\n",
    "-   [Cont and Kukanov]<sup id=\"cite_ref-ContKukanov\" class=\"reference\"><a href=\"#cite_note-ContKukanov\"><span>[</span>4<span>]</span></a></sup> recently developed an elegant engineering approach to\n",
    "    this problem that is practical to implement."
   ]
  },
  {
   "cell_type": "markdown",
   "metadata": {
    "slideshow": {
     "slide_type": "slide"
    }
   },
   "source": [
    "### Cont and Kukanov: optimal limit order placement\n",
    "\n",
    "-   Assume a buy order\n",
    "\n",
    "-   Venues $k=1,...,K$ are characterized by\n",
    "\n",
    "    -   Bid queue lengths $Q_k$\n",
    "\n",
    "    -   Make rebates $r_k$, take fees $f_k$, half-spread $h = s/2$.\n",
    "\n",
    "-   Simplify by assuming that any market order is sent to the venue with\n",
    "    the smallest take fee $f$.\n",
    "\n",
    "-   Order placement strategy is $X= \\left(M,L_1,...,L_K\\right)$ where\n",
    "    the components represent volumes of the single market order and the\n",
    "    $k$th limit orders respectively."
   ]
  },
  {
   "cell_type": "markdown",
   "metadata": {
    "slideshow": {
     "slide_type": "subslide"
    }
   },
   "source": [
    "-   The tradeoff is between cost and execution probability.\n",
    "\n",
    "    -   On a given exchange, the lower the price of the limit order, the\n",
    "        lower the probability of execution\n",
    "\n",
    "    -   On multiple exchanges, the higher the rebate, the longer the\n",
    "        queue length, the lower the probability of execution."
   ]
  },
  {
   "cell_type": "markdown",
   "metadata": {
    "slideshow": {
     "slide_type": "slide"
    }
   },
   "source": [
    "### Objective function\n",
    "\n",
    "-   Denote duration of child order by $T$.\n",
    "\n",
    "-   $\\xi_k$ is the (random) outflow of limit orders (from market order\n",
    "    fills and cancelations) at venue $k$ in the interval $[0,T]$.\n",
    "\n",
    "-   Executed quantity is given by\n",
    "    $${\\mathcal{A} }(X,\\xi) = M + \\sum_k \\left\\{(\\xi_k-Q_k)^+ - (\\xi_k-Q_k-L_k)^+  \\right\\}$$"
   ]
  },
  {
   "cell_type": "markdown",
   "metadata": {
    "slideshow": {
     "slide_type": "subslide"
    }
   },
   "source": [
    "-   Cost relative to mid-quote is given by\n",
    "    $${\\mathcal{C} }(X,\\xi) = (h+f)\\,M -  \\sum_k (h + r_k)\\,\\left\\{(\\xi_k-Q_k)^+ - (\\xi_k-Q_k-L_k)^+  \\right\\}$$\n",
    "\n",
    "-   Penalize under- or over-fills relative to target quantity $\\tilde X$\n",
    "    with penalty\n",
    "    $${\\mathcal{P} }(X,\\xi) = \\lambda_u(\\tilde X - {\\mathcal{A} })^+ +  \\lambda_o\\,({\\mathcal{A} }- \\tilde X)^+.$$\n",
    "\n",
    "    -   $\\lambda_u$ and $\\lambda_o$ price adverse selection."
   ]
  },
  {
   "cell_type": "markdown",
   "metadata": {
    "slideshow": {
     "slide_type": "slide"
    }
   },
   "source": [
    "### Optimal order placement strategy\n",
    "\n",
    "-   The optimal order placement strategy $X^*$ is given by\n",
    "    $$X^* = \\arg \\min_X {\\mathbb{E} }\\left[{{\\mathcal{C} }(X,\\xi) + {\\mathcal{P} }(X,\\xi)}\\right]$$\n",
    "\n",
    "-   Assuming it is suboptimal to exceed the target $\\tilde X$ and that\n",
    "    it is better to execute with limit orders than market orders, Cont\n",
    "    and Kukanov show that there is an optimal strategy."
   ]
  },
  {
   "cell_type": "markdown",
   "metadata": {
    "slideshow": {
     "slide_type": "slide"
    }
   },
   "source": [
    "### Solution for single venue\n",
    "\n",
    "-   If $\\lambda_u$ is in a suitable range,\n",
    "    $$L^* =F^{-1} \\left(\\frac{2 h + f + r}{\\lambda_u + h + r}\\right)-Q , \\quad\\quad M^* = \\tilde X - L^*.$$\n",
    "    where $F(\\cdot)$ denotes the distribution of $\\xi$ (which is of\n",
    "    course increasing in $\\xi$).\n",
    "\n",
    "-   Comparative statics. $L^*$ is:\n",
    "\n",
    "    -   decreasing in $Q$,\n",
    "\n",
    "    -   increasing in $h$,\n",
    "\n",
    "    -   increasing in $f$,\n",
    "\n",
    "    -   decreasing in $\\lambda_u$,\n",
    "\n",
    "    -   increasing in $r$."
   ]
  },
  {
   "cell_type": "markdown",
   "metadata": {
    "slideshow": {
     "slide_type": "subslide"
    }
   },
   "source": [
    "-   As the target size $\\tilde X$ increases, $L^*$ is fixed and $M^*$\n",
    "    increases.\n",
    "\n",
    "-   $F(\\cdot)$ may be estimated in real time using recent outflow data\n",
    "    (and potentially other signals).\n",
    "\n",
    "    -   $F(\\cdot)$ need not be parametric."
   ]
  },
  {
   "cell_type": "markdown",
   "metadata": {
    "slideshow": {
     "slide_type": "slide"
    }
   },
   "source": [
    "### Single venue proof: Suboptimality of $L+M<\\tilde X$\n",
    "\n",
    "-   If $L+M \\leq  \\tilde X$, conditional on a given outflow realization\n",
    "    $\\xi$, the cost of execution (with under fill penalty) is:\n",
    "    $${\\mathcal{C} }+{\\mathcal{P} }=(h+f)\\,M -  (h + r)\\,\\left( {\\mathcal{A} }-M \\right) +  \\lambda_u\\,( \\tilde X-{\\mathcal{A} })^+$$\n",
    "    where the (random) number of shares executed is given by\n",
    "    $${\\mathcal{A} }=M+ (\\xi-Q)^+ - (\\xi-Q-L)^+.$$\n",
    "\n",
    "-   In a scenario where $\\xi > Q + L$, ${\\mathcal{A} }= M+L$ and so\n",
    "    $${\\mathcal{C} }+{\\mathcal{P} }=(h+f)\\,M -  (h + r)\\,L +  \\lambda_u\\,( \\tilde X-M-L)^+$$\n",
    "\n",
    "-   Increasing $L$ then reduces the cost by increasing the rebate and\n",
    "    decreasing the penalty. Optimality thus requires $\n",
    "    M+L \\geq \\tilde X.\n",
    "    $"
   ]
  },
  {
   "cell_type": "markdown",
   "metadata": {
    "slideshow": {
     "slide_type": "slide"
    }
   },
   "source": [
    "### Single venue proof: Suboptimality of $L+M>\\tilde X$\n",
    "\n",
    "-   Then, conditional on a given outflow realization $\\xi$, the cost of\n",
    "    execution (with penalty) is:\n",
    "    \n",
    "    <a name=\"eq:xiCost\"></a>(3)\n",
    "    $${\\mathcal{C} }+{\\mathcal{P} }=(h+f)\\,M -  (h + r)\\,\\left( {\\mathcal{A} }-M \\right) +  \\lambda_u\\,( \\tilde X-{\\mathcal{A} })^++  \\lambda_o\\,({\\mathcal{A} }- \\tilde X)^+.\n",
    "    $$\n",
    "    \n",
    "\n",
    "-   We only care about cases where ${\\mathcal{A} }>\\tilde X$ when from [(3)](#eq:xiCost)\n",
    "    above\n",
    "    \n",
    "    $${\\mathcal{C} }+{\\mathcal{P} }= (2\\,h + f + r)\\,M + \\left(\\lambda_o-(h+r)\\right)\\,{\\mathcal{A} }- \\lambda_o \\,\\tilde X$$\n",
    "    \n",
    "    which is increasing in ${\\mathcal{A} }$ if $\\lambda_o >(h+r)$. The\n",
    "    optimal strategy is therefore to reduce $L$ until there is no\n",
    "    over-fill possibility."
   ]
  },
  {
   "cell_type": "markdown",
   "metadata": {
    "slideshow": {
     "slide_type": "slide"
    }
   },
   "source": [
    "### Single venue proof: Optimal choice of $M$\n",
    "\n",
    "-   Since it is optimal to put $L+M=\\tilde X$, we can write the value\n",
    "    function in terms of $M$ only.\n",
    "\n",
    "-   From [(3)](#eq:xiCost), the value function is given by \n",
    "\n",
    "    $$\\begin{aligned}\n",
    "    V(M) = {\\mathbb{E}\\left[{ (h+f)\\,M -  (h + r)\\,\\left( {\\mathcal{A} }-M \\right)+  \\lambda_u\\,( \\tilde X-{\\mathcal{A} })^+ }\\right]}\\end{aligned}$$\n",
    "    \n",
    "    where ${\\mathcal{A} }=M+ (\\xi-Q)^+ - (\\xi-Q-\\tilde X +M)^+.$\n",
    "\n",
    "\n",
    "-   Then\n",
    "\n",
    "    $$V'(M) = {\\mathbb{E}\\left[{ (2\\,h+f+r) -  (h + r)\\,{\\partial}_M {\\mathcal{A} }-\\lambda_u\\,\\1_{\\{{\\mathcal{A} }< \\tilde X\\}}\\,{\\partial}_M {\\mathcal{A} }}\\right]}$$"
   ]
  },
  {
   "cell_type": "markdown",
   "metadata": {
    "slideshow": {
     "slide_type": "subslide"
    }
   },
   "source": [
    "-   When $\\xi \\geq Q+\\tilde X - M$, ${\\mathcal{A} }=\\tilde X$ and when\n",
    "    $\\xi < Q+\\tilde X - M$, ${\\mathcal{A} }<\\tilde X$. So\n",
    "    \n",
    "    $$\\1_{\\{\\mathcal{A} < \\tilde X\\}} = \\1_{\\{\\xi < Q+\\tilde X - M\\}}.$$\n",
    "    \n",
    "    Also\n",
    "    \n",
    "    $${\\partial}_M {\\mathcal{A} }= 1 - \\1_{\\{\\xi \\geq Q+\\tilde X - M\\}} = \\1_{\\{\\xi < Q+\\tilde X - M\\}}$$\n",
    "\n",
    "\n",
    "-   Then\n",
    "\n",
    "    $$V'(M) = {\\mathbb{E}\\left[{ (2\\,h+f+r) -  (h + r+\\lambda_u)\\,{\\partial}_M {\\mathcal{A} }}\\right]}$$"
   ]
  },
  {
   "cell_type": "markdown",
   "metadata": {
    "slideshow": {
     "slide_type": "subslide"
    }
   },
   "source": [
    "-   Setting $V'(M)=0$, the optimal choice of $M$ satisfies\n",
    "\n",
    "    $$F\\left(Q+\\tilde X - M^\\star\\right) =F\\left(Q+L^\\star\\right) = \\frac{2\\,h+f-r}{h+r+\\lambda_u}$$\n",
    "    \n",
    "    where $F(Y) = \\Pof{\\xi \\leq Y}$ is the cumulative distribution function of $\\xi$."
   ]
  },
  {
   "cell_type": "markdown",
   "metadata": {
    "slideshow": {
     "slide_type": "slide"
    }
   },
   "source": [
    "### Solution for multiple venues\n",
    "\n",
    "-   When the allocation is optimal, \n",
    "\n",
    "$$\n",
    "\\begin{eqnarray*}\n",
    "    \\mathbb{P}\\left({\\mathcal{A} }(X^*,\\xi)<\\tilde X\\right)&=& \\frac{h+f+\\lambda_o}{\\lambda_u+\\lambda_o}\\\\\n",
    "    \\mathbb{P}\\left(\\left.{\\mathcal{A} }(X^*,\\xi)<\\tilde X \\right| \\xi_j > Q_j + L^*_j\\right)&=& \\frac{\\lambda_o-(h+r_j)}{\\lambda_u+\\lambda_o}\n",
    "\\end{eqnarray*}\n",
    "$$\n",
    "\n",
    "-   Note that the bigger the rebate $r_j$ on a given exchange, the lower the conditional shortfall probability.\n",
    "\n",
    "-   This can be used to define $\\lambda_u$ and $\\lambda_o$ in terms of maximal under-fill probabilities."
   ]
  },
  {
   "cell_type": "markdown",
   "metadata": {
    "slideshow": {
     "slide_type": "slide"
    }
   },
   "source": [
    "### Cont and Kukanov practical implications\n",
    "\n",
    "-   One interesting insight from the solution is that execution cost is\n",
    "    lower with multiple venues relative to a single venue if the\n",
    "    outflows $\\xi_k$ are sufficiently uncorrelated.\n",
    "\n",
    "    -   This amounts to a condition for optimality of order-flow\n",
    "        fragmentation.\n",
    "\n",
    "-   In equilibrium, under competition and with smart order routing, the\n",
    "    queue sizes should adjust to reflect rebate and fee structures.\n",
    "    Indeed this has been shown empirically.\n",
    "\n",
    "    -   Short term deviations from equilibrium however (which always\n",
    "        exist in practice) permit smart traders to lower execution\n",
    "        costs."
   ]
  },
  {
   "cell_type": "markdown",
   "metadata": {
    "slideshow": {
     "slide_type": "subslide"
    }
   },
   "source": [
    "<font color=\"red\">\n",
    "Fragmentation may or may not be good for society, but it is certainly\n",
    "good for individual traders who know how to optimize order placement."
   ]
  },
  {
   "cell_type": "markdown",
   "metadata": {
    "slideshow": {
     "slide_type": "slide"
    }
   },
   "source": [
    "### Bouchaud, Mézard and Potters\n",
    "\n",
    "[Bouchaud, Mézard and Potters]<sup id=\"cite_ref-BMP\" class=\"reference\"><a href=\"#cite_note-BMP\"><span>[</span>3<span>]</span></a></sup> present a simple model that explains the empirically-observed shape\n",
    "of the typical order book. They assume that\n",
    "\n",
    "-   Limit orders arrive at some distance $u$ to the best quote at some\n",
    "    rate $\\lambda(u)$.\n",
    "\n",
    "-   Limit orders are canceled at the constant rate $\\delta(u)$ (constant\n",
    "    in fact in the BMP version).\n",
    "\n",
    "-   The stock price diffuses, eating up all of the quantity at the best\n",
    "    quote as it moves."
   ]
  },
  {
   "cell_type": "markdown",
   "metadata": {
    "slideshow": {
     "slide_type": "slide"
    }
   },
   "source": [
    "### Heuristic derivation of the master equation\n",
    "\n",
    "-   Consider the order density $\\rho(u,t)$ on the offered side of the\n",
    "    book where $u=L-S_t$ is the current distance to the mid-price $S_t$.\n",
    "\n",
    "-   For fixed $u$, this density will change because:\n",
    "\n",
    "    -   The stock price $S_t$ moves.\n",
    "\n",
    "    -   Limit orders arrive at rate $\\lambda(u)$.\n",
    "\n",
    "    -   Cancelations occur at the proportional rate $\\delta(u)$.\n",
    "\n",
    "-   Itô’s Lemma gives\n",
    "    $$d\\rho(u,t) = {\\partial}_S \\rho(u,t)\\,dS + \\frac 12 \\,{\\partial}_{S,S} \\rho(u,t) \\,dS^2 + \\lambda(u)\\,dt - \\delta(u)\\,\\rho(u,t)\\,dt.$$"
   ]
  },
  {
   "cell_type": "markdown",
   "metadata": {
    "slideshow": {
     "slide_type": "subslide"
    }
   },
   "source": [
    "-   Assuming arithmetic Brownian motion so that $dS^2 = \\sigma^2\\,dt$,\n",
    "    we obtain the master equation for the evolution of the expected\n",
    "    order book density $\\hat \\rho(u,t)={\\mathbb{E} }[\\rho(u,t)]$.\n",
    "    \n",
    "    <a name=\"eq:master\"></a>(4)\n",
    "    $$\\frac {{\\partial}}{{\\partial}t}\\hat \\rho(u,t)=\\frac 1 2 \\,\\sigma^2\\,\\frac{{\\partial}^2}{{\\partial}u^2}\\hat \\rho(u,t)-\\delta(u)\\,\\hat \\rho(u,t)+\\lambda(u)\n",
    "    $$\n",
    "    \n",
    "    with the boundary condition $\\hat \\rho(0,t)=0$."
   ]
  },
  {
   "cell_type": "markdown",
   "metadata": {
    "slideshow": {
     "slide_type": "slide"
    }
   },
   "source": [
    "### Steady-state solution of the master equation\n",
    "\n",
    "For simplicity, set $\\sigma=1$ (we can reinstate later using dimensional\n",
    "analysis)\n",
    "\n",
    "Denoting the steady state density by $\\bar \\rho$ and setting the time\n",
    "derivative in [(4)](#eq:master) to zero, we obtain\n",
    "\n",
    "<a name=\"eq:Bouchaud\"></a>(5)\n",
    "$$\\frac 12 \\,\\bar \\rho''(u)-\\delta(u)\\,\\bar \\rho(u)+\\lambda(u)=0$$"
   ]
  },
  {
   "cell_type": "markdown",
   "metadata": {
    "slideshow": {
     "slide_type": "subslide"
    }
   },
   "source": [
    "We can show that the general solution of [(5)](#eq:Bouchaud) is of the form\n",
    "\n",
    "<a name=\"eq:ansatz\"></a>(6)\n",
    "$$\\rho(\\Delta)=f(\\Delta)\\,\\int_0^\\Delta\\,g(u)\\,\\lambda(u)\\,du+\n",
    "g(\\Delta)\\,\\int_\\Delta^\\infty\\,f(u)\\,\\lambda(u)\\,du.\n",
    "$$ Substitution into [(5)](#eq:Bouchaud) implies that: \n",
    "\\begin{eqnarray*}\n",
    "\\frac{f''(u)}{f(u)}=\\frac{g''(u)}{g(u)}&=&2\\,\\delta(u)\\end{eqnarray*}\n",
    "with boundary conditions $$g(0)=0;\\,f(\\infty)=0.$$"
   ]
  },
  {
   "cell_type": "markdown",
   "metadata": {
    "slideshow": {
     "slide_type": "slide"
    }
   },
   "source": [
    "### The BMP steady-state density\n",
    "\n",
    "<font color=\"red\">\n",
    "#### Example (Constant cancelation rate)\n",
    "\n",
    "If $\\delta(u)=\\delta$, a constant, one solution is given by\n",
    "$$f(u)=\\sqrt{\\frac 2 \\delta}\\,e^{-\\sqrt{2\\,\\delta}\\,u} \\text{ and } g(u)=\\sinh(\\sqrt{2\\,\\delta} \\,u)$$\n",
    "which gives us the BMP solution \n",
    "\n",
    "<a name=\"eq:bmp\"></a>(7)\n",
    "$$\n",
    "\\begin{eqnarray*}\n",
    "\\rho_{BMP}(\\Delta)&=&\\sqrt{\\frac 2 \\delta}\\,\\left\\{e^{-\\sqrt{2\\,\\delta}\\,\\Delta}\\,\\int_0^\\Delta\\,\\sinh(\\sqrt{2\\,\\delta}\\,u)\\,\\lambda(u)\\,du \\\\+ \n",
    "\\sinh(\\sqrt{2\\,\\delta}\\,\\Delta)\\,\\int_\\Delta^\\infty\\,e^{-\\sqrt{2\\,\\delta}\\,u}\\,\\lambda(u)\\,du\\right\\}\n",
    "\\end{eqnarray*}\n",
    "$$"
   ]
  },
  {
   "cell_type": "markdown",
   "metadata": {
    "slideshow": {
     "slide_type": "slide"
    }
   },
   "source": [
    "### Order book density with constant cancelation rate\n",
    "\n",
    "Define the the characteristic distance\n",
    "$$\\tilde \\Delta=\\sqrt{\\frac{\\sigma^2}{2\\,\\delta}}.$$ Then, reinstating\n",
    "$\\sigma$, we obtain \n",
    "\n",
    "\n",
    "$$\n",
    "\\begin{eqnarray*}\n",
    "\\rho_{BMP}(\\Delta) &=& \\frac{2\\,\\tilde \\Delta}{\\sigma^2}\\,\\left\\{e^{-\\Delta/{\\tilde \\Delta}}\\,\\int_0^\\Delta\\,\\sinh(u/{\\tilde \\Delta})\\,\\lambda(u)\\,du \\\\+\n",
    "\\sinh(\\Delta/{\\tilde \\Delta})\\,\\int_\\Delta^\\infty\\,e^{-u/{\\tilde \\Delta}}\\,\\lambda(u)\\,du\\right\\}\\\\\n",
    "&=& \\frac 1 \\delta\\,\\left\\{e^{-\\Delta/{\\tilde \\Delta}}\\,\\int_0^{\\Delta/{\\tilde\\Delta}}\\,\\sinh(u)\\,\\lambda(\\tilde\\Delta u)\\,du \\\\+\n",
    "\\sinh(\\Delta/{\\tilde \\Delta})\\,\\int_{\\Delta/{\\tilde\\Delta}}^\\infty\\,e^{-u}\\,\\lambda(\\tilde\\Delta u)\\,du\\right\\}.\\end{eqnarray*}\n",
    "$$"
   ]
  },
  {
   "cell_type": "markdown",
   "metadata": {
    "slideshow": {
     "slide_type": "slide"
    }
   },
   "source": [
    "### Asymptotics of SFGK\n",
    "\n",
    "Specializing even further to the zero-intelligence SFGK model where\n",
    "$\\lambda(u)=\\lambda$, a constant, we obtain \n",
    "\n",
    "<a name=\"eq:ZI\"></a>(8)\n",
    "\\begin{eqnarray*}\n",
    "\\rho_{BMP}(\\Delta) &=& \\frac{\\lambda}{\\delta}\\,\\left\\{e^{-\\Delta/{\\tilde \\Delta}}\\,\\int_0^{\\Delta/{\\tilde\\Delta}}\\,\\sinh(u)\\,du+\n",
    "\\sinh(\\Delta/{\\tilde \\Delta})\\,\\int_{\\Delta/{\\tilde\\Delta}}^\\infty\\,e^{-u}\\,du\\right\\}\\nonumber\\\\\n",
    "&=& \\frac{\\lambda}{\\delta}\\,\\left\\{1 - e^{-\\Delta/{\\tilde \\Delta}}  \\right\\}\n",
    "\\end{eqnarray*}\n",
    "\n",
    "which is consistent with the asymptotic\n",
    "limit $\\lambda/\\delta$ we derived earlier for the zero-intelligence (ZI)\n",
    "model using a physical argument."
   ]
  },
  {
   "cell_type": "markdown",
   "metadata": {
    "slideshow": {
     "slide_type": "slide"
    }
   },
   "source": [
    "### Plot of approximate book density\n",
    "\n",
    "Following [Bouchaud, Mézard and Potters]<sup id=\"cite_ref-BMP\" class=\"reference\"><a href=\"#cite_note-BMP\"><span>[</span>3<span>]</span></a></sup>, assuming limit orders arrive as a power-law with tail\n",
    "exponent $\\mu$ so that $$\\lambda(u)=\\frac{\\lambda}{u^{1+\\mu}},$$ we\n",
    "obtain the shape of the order book should depend only on $\\mu$ and the\n",
    "rescaled distance to best quote $\\hat \\Delta := \\Delta/\\tilde \\Delta$:\n",
    "\n",
    "<a name=\"eq:bookDensityRescaled\"></a>(9)\n",
    "$$\\rho(\\hat \\Delta) \\propto e^{-\\hat \\Delta}\\,\\int_0^{\\hat \\Delta}\\,du\\,\\frac{\\sinh(u)}{u^{1+\\mu}}+\n",
    "\\sinh(\\hat \\Delta)\\,\\int_{\\hat \\Delta}^\\infty\\,du\\,\\frac{e^{-u}}{u^{1+\\mu}}$$\n",
    "\n",
    "This shape matches average book shapes\n",
    "generated by zero-intelligence simulations very well."
   ]
  },
  {
   "cell_type": "markdown",
   "metadata": {
    "slideshow": {
     "slide_type": "slide"
    }
   },
   "source": [
    "### Plot of approximate book density"
   ]
  },
  {
   "cell_type": "code",
   "execution_count": 1,
   "metadata": {
    "collapsed": true,
    "slideshow": {
     "slide_type": "fragment"
    }
   },
   "outputs": [],
   "source": [
    "# Density computation\n",
    "rho <- function(delhat,mu){\n",
    "f1 <- function(u){sinh(u)/u^(1+mu)};\n",
    "tmp1 <-  if(delhat < 0.0000001) 0 else exp(-delhat)*integrate(f1, lower = 0, upper = delhat)$value;\n",
    "f2 <- function(u){exp(-u)/u^(1+mu)};\n",
    "tmp2 <- if(delhat < 0.0000001) 0 else sinh(delhat)*integrate(f2, lower = delhat, upper = Inf)$value;\n",
    "return(tmp1+tmp2)\n",
    "}\n",
    "\n",
    "rhov <- function(u,rho){sapply(u,function(u){rho(u,rho)})}"
   ]
  },
  {
   "cell_type": "code",
   "execution_count": 2,
   "metadata": {
    "collapsed": false,
    "slideshow": {
     "slide_type": "subslide"
    }
   },
   "outputs": [
    {
     "data": {
      "image/png": "[encoded data removed]"
     },
     "metadata": {},
     "output_type": "display_data"
    }
   ],
   "source": [
    "# Book shape plot\n",
    "curve(rhov(x,.5),from=.0,to=10,col=\"red\",xlab=expression(hat(Delta)),ylab=expression(rho(hat(Delta))),n=1000)"
   ]
  },
  {
   "cell_type": "markdown",
   "metadata": {
    "slideshow": {
     "slide_type": "fragment"
    }
   },
   "source": [
    "Figure 3: Approximate book density with $\\mu = 1/2$"
   ]
  },
  {
   "cell_type": "markdown",
   "metadata": {
    "slideshow": {
     "slide_type": "slide"
    }
   },
   "source": [
    "### Approximate density vs zero intelligence simulation\n",
    "\n",
    "<h2><img src=\"http://mfe.baruch.cuny.edu/wp-content/uploads/2015/01/BouchaudZIcomparison.png\" align = \"center\" width=500></h2>"
   ]
  },
  {
   "cell_type": "markdown",
   "metadata": {
    "slideshow": {
     "slide_type": "slide"
    }
   },
   "source": [
    "### Approximate density vs empirically observed order books\n",
    "\n",
    "<h2><img src=\"http://mfe.baruch.cuny.edu/wp-content/uploads/2015/01/BouchaudEmpiricalOrderBook.png\" align = \"center\" width=600></h2>\n"
   ]
  },
  {
   "cell_type": "markdown",
   "metadata": {
    "slideshow": {
     "slide_type": "slide"
    }
   },
   "source": [
    "### Power-law arrival of orders\n",
    "\n",
    "-   The Bouchaud et al. and Farmer et al. groups both published papers\n",
    "    showing that the density of arrival of limit orders into the order\n",
    "    book is a power-law function of distance $\\Delta$ to the best quote."
   ]
  },
  {
   "cell_type": "markdown",
   "metadata": {
    "slideshow": {
     "slide_type": "subslide"
    }
   },
   "source": [
    "-   [Mike and Farmer]<sup id=\"cite_ref-MikeFarmer\" class=\"reference\"><a href=\"#cite_note-MikeFarmer\"><span>[</span>6<span>]</span></a></sup> found and described a further beautiful regularity:\n",
    "\n",
    "    -   The distribution of distance $\\Delta$ to the same-side best\n",
    "        quote looks like Student-$t$.\n",
    "\n",
    "    -   Recall the Student-t distribution:\n",
    "        $$f(x)=\\frac{\\Gamma(\\frac{\\nu+1}{2})}{\\sqrt{\\nu\\,\\pi}\\,\\Gamma(\\frac{\\nu}{2})}\\,\\frac{1}{\\left(1+\\frac{x^2}{\\nu}\\right)^{\\frac{\\nu+1}{2}}}\\sim \\frac{1}{x^{\\nu+1}}\\text{ as }|x| \\to \\infty$$\n",
    "        so Student-t with $\\nu$ degrees of freedom has <span>*tail\n",
    "        exponent*</span> $\\nu$."
   ]
  },
  {
   "cell_type": "markdown",
   "metadata": {
    "slideshow": {
     "slide_type": "subslide"
    }
   },
   "source": [
    "-   This means in particular that market orders are less likely when the\n",
    "    spread is wide than when the spread is narrow."
   ]
  },
  {
   "cell_type": "markdown",
   "metadata": {
    "slideshow": {
     "slide_type": "slide"
    }
   },
   "source": [
    "### Power-law order placement\n",
    "\n",
    "<h2><img src=\"http://mfe.baruch.cuny.edu/wp-content/uploads/2015/01/FarmerPlacement.png\" align = \"center\" width=600></h2>\n"
   ]
  },
  {
   "cell_type": "markdown",
   "metadata": {
    "slideshow": {
     "slide_type": "slide"
    }
   },
   "source": [
    "### Empirically observed tail exponents\n",
    "\n",
    "-   Bouchaud, Mézard and Potters found $\\mu \\approx 0.6$ on the Paris\n",
    "    Stock Exchange (data from Feb-2001).\n",
    "\n",
    "-   Zovko and Farmer (2002) found $\\mu \\approx 1.5$ on the London Stock\n",
    "    Exchange (data from Aug-1998 to Apr-2000).\n",
    "\n",
    "-   Mike and Farmer found $\\mu \\approx 1.3$ on the London Stock Exchange\n",
    "    (data from May-2000 to Dec-2002)."
   ]
  },
  {
   "cell_type": "markdown",
   "metadata": {
    "slideshow": {
     "slide_type": "slide"
    }
   },
   "source": [
    "### Large tick and small tick stocks\n",
    "\n",
    "If the minimum tick size (and so the minimum spread) is more than the\n",
    "volatility per trade, we say that the stock is a <span>*large\n",
    "tick*</span> stock. The spread for such stocks is typically one tick and\n",
    "there is huge size at the best quote (C for example). When volatility\n",
    "per trade is larger than the tick size, we say that the stock is a\n",
    "<span>*small tick*</span> stock. The typical spread for such a stock is\n",
    "more than one tick and there is only small size at the best quote.\n",
    "\n",
    "-   We expect the Bouchaud Mézard and Potters results to hold for small\n",
    "    tick stocks.\n",
    "\n",
    "-   For large tick stocks, there should be an accumulation of volume at\n",
    "    the best quote.\n",
    "\n",
    "-   The minimum spread cannot be smaller than the minimum tick size!"
   ]
  },
  {
   "cell_type": "markdown",
   "metadata": {
    "slideshow": {
     "slide_type": "slide"
    }
   },
   "source": [
    "### Summary\n",
    "\n",
    "-   Parlour (1998) shows that a rational market order/ limit order\n",
    "    decision should depend on the state of the order book\n",
    "\n",
    "-   Foucault, Kadan and Kandel (2005) model the order book as a market\n",
    "    for immediacy, relating the spread to the ratio between patient and\n",
    "    impatient traders\n",
    "\n",
    "-   Roşu (2009) removes many over-stylized features of FKK (2005) by\n",
    "    allowing instantaneous cancelation of orders"
   ]
  },
  {
   "cell_type": "markdown",
   "metadata": {
    "slideshow": {
     "slide_type": "subslide"
    }
   },
   "source": [
    "-   Cont and Kukanov (2013) show how to incorporate the fee structures\n",
    "    and current queue lengths in different venues to optimize the\n",
    "    market/limit order mix.\n",
    "\n",
    "-   Bouchaud, Mézard and Potters show that the average order book shape,\n",
    "    consistent with ZI simulation and empirical observation, may be\n",
    "    derived using a simple price diffusion approximation\n",
    "\n",
    "-   Mike and Farmer find a simple empirical relationship between the\n",
    "    arrival rates of limit and market orders"
   ]
  },
  {
   "cell_type": "markdown",
   "metadata": {
    "slideshow": {
     "slide_type": "slide"
    }
   },
   "source": [
    "### References\n",
    "\n",
    "<br />\n",
    "\n",
    "<div class=\"reflist\" style=\"list-style-type: decimal;\">\n",
    "\n",
    "<ol>\n",
    "\n",
    "  <li id=\"cite_note-BHS\"><span class=\"mw-cite-backlink\"><b><a href=\"#cite_ref-BHS\">^</a></b></span> Bruno Biais, Pierre Hillion, and Chester Spatt, An Empirical Analysis of\n",
    "the Limit Order Book and the Order Flow in the Paris Bourse, <span>*The\n",
    "Journal of Finance*</span> <span>**50**</span>(5) 1655–1689, 1995.</li>\n",
    "\n",
    "\n",
    "  <li id=\"cite_note-BouchaudFarmerLillo\"><span class=\"mw-cite-backlink\"><b><a href=\"#cite_ref-BouchaudFarmerLillo\">^</a></b></span>   Jean-Philippe Bouchaud, J. Doyne Farmer, and Fabrizio Lillo, How Markets\n",
    "Slowly Digest Changes in Supply and Demand, in <span>*Handbook of\n",
    "Financial Markets: Dynamics and Evolution*</span> 57-156. (2009)\n",
    "available at\n",
    "http://tuvalu.santafe.edu/%7Ejdf/papers/MarketsSlowlyDigest.pdf:\n",
    "Sections 2.2 and 2.9.3.</li>\n",
    "\n",
    "\n",
    "  <li id=\"cite_note-BMP\"><span class=\"mw-cite-backlink\"><b><a href=\"#cite_ref-BMP\">^</a></b></span>   Jean-Philippe Bouchaud, Marc Mézard and Marc Potters, Statistical\n",
    "properties of stock order books: empirical results and models,\n",
    "<span>*Quantitative Finance*</span> <span>**2**</span>(4) 251–256\n",
    "(2002).</li>\n",
    "\n",
    "  \n",
    "  <li id=\"cite_note-ContKukanov\"><span class=\"mw-cite-backlink\"><b><a href=\"#cite_ref-ContKukanov\">^</a></b></span>   Rama Cont and Arseniy Kukanov, Optimal order placement in limit order\n",
    "markets, available at <http://ssrn.com/abstract=2155218> (2013).</li>\n",
    "  \n",
    "  \n",
    "    <li id=\"cite_note-Hasbrouck\"><span class=\"mw-cite-backlink\"><b><a href=\"#cite_ref-Hasbrouck\">^</a></b></span>   Joel Hasbrouck, <span>*Empirical Market Microstructure*</span>, Oxford\n",
    "University Press, Chapter 12 (2007).</li>\n",
    "\n",
    "\n",
    "    <li id=\"cite_note-MikeFarmer\"><span class=\"mw-cite-backlink\"><b><a href=\"#cite_ref-MikeFarmer\">^</a></b></span>   Szabolcs Mike and J. Doyne Farmer, An empirical behavioral model of\n",
    "liquidity and volatility, <span>*Journal of Economic Dynamics &\n",
    "Control*</span> <span>**32**</span> 200–234 (2008).</li>\n",
    "\n",
    "    <li id=\"cite_note-Parlour\"><span class=\"mw-cite-backlink\"><b><a href=\"#cite_ref-Parlour\">^</a></b></span>   Christine A Parlour, Price dynamics in limit order markets,<span>*The\n",
    "Review of Financial Studies*</span> <span>**11**</span>(4) 789–816\n",
    "(1998).</li>\n",
    "\n",
    "    <li id=\"cite_note-Rosu\"><span class=\"mw-cite-backlink\"><b><a href=\"#cite_ref-Rosu\">^</a></b></span>Ioanid Roşu, A dynamic model of the limit order book, <span>*Review of\n",
    "Financial Studies*</span> <span>**22**</span>(11) 4601–4641 (2009).</li>\n",
    "</ol>"
   ]
  },
  {
   "cell_type": "code",
   "execution_count": null,
   "metadata": {
    "collapsed": true
   },
   "outputs": [],
   "source": []
  }
 ],
 "metadata": {
  "celltoolbar": "Slideshow",
  "kernelspec": {
   "display_name": "R",
   "language": "R",
   "name": "ir"
  },
  "language_info": {
   "codemirror_mode": "r",
   "file_extension": ".r",
   "mimetype": "text/x-r-source",
   "name": "R",
   "pygments_lexer": "r",
   "version": "3.2.2"
  }
 },
 "nbformat": 4,
 "nbformat_minor": 0
}
