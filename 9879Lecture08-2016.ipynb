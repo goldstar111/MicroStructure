{
 "cells": [
  {
   "cell_type": "markdown",
   "metadata": {
    "slideshow": {
     "slide_type": "slide"
    }
   },
   "source": [
    "## MTH 9879 Market Microstructure Models,    Spring 2016 \n",
    "\n",
    "<p>\n",
    "\n",
    "### Lecture 8: Market impact of metaorders and price manipulation\n",
    "\n",
    "<p>\n",
    "\n",
    "Jim Gatheral, Department of Mathematics   \n",
    "  \n",
    "  \n",
    "<h3><img src=\"http://mfe.baruch.cuny.edu/wp-content/uploads/2014/07/BaruchLogo2.png\" align = \"left\" width=160></h3>  \n",
    "\n",
    "\n",
    "<h3><img src=\"http://mfe.baruch.cuny.edu/wp-content/uploads/2014/07/MFElogo.png\" align = \"right\" width=100></h3>\n",
    "\n",
    "\n",
    "$$\n",
    "\\newcommand{\\bea}{\\begin{eqnarray}}\n",
    "\\newcommand{\\eea}{\\end{eqnarray}}\n",
    "\\newcommand{\\supp}{\\mathrm{supp}}\n",
    "\\newcommand{\\F}{\\mathcal{F} }\n",
    "\\newcommand{\\cF}{\\mathcal{F} }\n",
    "\\newcommand{\\E}{\\mathbb{E} }\n",
    "\\newcommand{\\Eof}[1]{\\mathbb{E}\\left[ #1 \\right]}\n",
    "\\def\\Cov{{ \\mbox{Cov} }}\n",
    "\\def\\Var{{ \\mbox{Var} }}\n",
    "\\newcommand{\\1}{\\mathbf{1} }\n",
    "\\newcommand{\\p}{\\partial}\n",
    "\\newcommand{\\PP}{\\mathbb{P} }\n",
    "\\newcommand{\\Pof}[1]{\\mathbb{P}\\left[ #1 \\right]}\n",
    "\\newcommand{\\QQ}{\\mathbb{Q} }\n",
    "\\newcommand{\\R}{\\mathbb{R} }\n",
    "\\newcommand{\\DD}{\\mathbb{D} }\n",
    "\\newcommand{\\HH}{\\mathbb{H} }\n",
    "\\newcommand{\\spn}{\\mathrm{span} }\n",
    "\\newcommand{\\cov}{\\mathrm{cov} }\n",
    "\\newcommand{\\HS}{\\mathcal{L}_{\\mathrm{HS}} }\n",
    "\\newcommand{\\Hess}{\\mathrm{Hess} }\n",
    "\\newcommand{\\trace}{\\mathrm{trace} }\n",
    "\\newcommand{\\cL}{\\mathcal{L} }\n",
    "\\newcommand{\\cG}{\\mathcal{G} }\n",
    "\\newcommand{\\Xv}{X^{(v)}}\n",
    "\\newcommand{\\s}{\\mathcal{S} }\n",
    "\\newcommand{\\cE}{\\mathcal{E} }\n",
    "\\newcommand{\\ff}{\\mathcal{F} }\n",
    "\\newcommand{\\hh}{\\mathcal{H} }\n",
    "\\newcommand{\\bb}{\\mathcal{B} }\n",
    "\\newcommand{\\dd}{\\mathcal{D} }\n",
    "\\newcommand{\\g}{\\mathcal{G} }\n",
    "\\newcommand{\\half}{\\frac{1}{2} }\n",
    "\\newcommand{\\T}{\\mathcal{T} }\n",
    "\\newcommand{\\bit}{\\begin{itemize}}\n",
    "\\newcommand{\\eit}{\\end{itemize}}\n",
    "\\newcommand{\\beq}{\\begin{equation}}\n",
    "\\newcommand{\\eeq}{\\end{equation}}\n",
    "\\newcommand{\\beas}{\\begin{eqnarray*}}\n",
    "\\newcommand{\\eeas}{\\end{eqnarray*}}\n",
    "\\newcommand{\\tr}{\\mbox{tr}}\n",
    "\\newcommand{\\ee}[1]{{\\mathbb{E}\\left[{#1}\\right]}}\n",
    "\\newcommand{\\eef}[1]{{\\mathbb{E}\\left[\\left.{#1}\\right|\\cF_t\\right]}}\n",
    "\\newcommand{\\eefm}[2]{{\\mathbb{E}^{#2}\\left[\\left.{#1}\\right|\\cF_t\\right]}}\n",
    "\\newcommand{\\angl}[1]{{\\langle{#1}\\rangle}}\n",
    "$$"
   ]
  },
  {
   "cell_type": "markdown",
   "metadata": {
    "slideshow": {
     "slide_type": "slide"
    }
   },
   "source": [
    "## Outline of Lecture 8\n",
    "\n",
    "-   Market impact of meta orders\n",
    "\n",
    "    -   The FGLW model\n",
    "\n",
    "    -   The Bouchaud propagator model\n",
    "\n",
    "\n",
    "-   Empirical analysis of the market impact of metaorders\n",
    "\n",
    "\n",
    "-   No price manipulation and allowable models\n",
    "\n"
   ]
  },
  {
   "cell_type": "markdown",
   "metadata": {
    "slideshow": {
     "slide_type": "slide"
    }
   },
   "source": [
    "### What is a market impact model?\n",
    "\n",
    "-   Traders need a model to estimate the expected costs of executing a\n",
    "    trade.\n",
    "\n",
    "\n",
    "-   If the only possible order type were VWAP, all we would need is a\n",
    "    large database of VWAP executions which we could interpolate along\n",
    "    various dimensions to estimate the cost of any given new trade."
   ]
  },
  {
   "cell_type": "markdown",
   "metadata": {
    "slideshow": {
     "slide_type": "subslide"
    }
   },
   "source": [
    "-   In practice we also want to be able to estimate the cost of\n",
    "    executing with other strategies.\n",
    "\n",
    "    -   For that we need a dynamical model of the underlying.\n",
    "\n",
    "    -   That is, we need a model of how the stock price evolves during\n",
    "        execution."
   ]
  },
  {
   "cell_type": "markdown",
   "metadata": {
    "slideshow": {
     "slide_type": "slide"
    }
   },
   "source": [
    "### Common algorithms\n",
    "\n",
    "-   VWAP “Volume weighted average price”\n",
    "\n",
    "    -   Trades at constant rate in volume time\n",
    "\n",
    "    -   Variants of VWAP are still the most popular algos.\n",
    "\n",
    "\n",
    "-   POV “Percentage of volume”\n",
    "\n",
    "    -   Another variant of VWAP"
   ]
  },
  {
   "cell_type": "markdown",
   "metadata": {
    "slideshow": {
     "slide_type": "subslide"
    }
   },
   "source": [
    "-   TWAP “Time weighted average price”\n",
    "\n",
    "    -   Trades at constant rate in wall clock time\n",
    "\n",
    "\n",
    "-   IS “Implementation shortfall”\n",
    "\n",
    "    -   Trades faster at the beginning and more slowly at the end\n",
    "\n",
    "    -   The idea is to balance the risk of a worse price (which is\n",
    "        proportional to quantity remaining) against the benefit of\n",
    "        better execution from being more patient."
   ]
  },
  {
   "cell_type": "markdown",
   "metadata": {
    "slideshow": {
     "slide_type": "slide"
    }
   },
   "source": [
    "### Terminology\n",
    "\n",
    "-   By <span>*metaorder*</span>, we mean an order that is sufficiently\n",
    "    large that it cannot be filled immediately without eating into the\n",
    "    order book.\n",
    "\n",
    "    -   Nowadays, this means just about any order.\n",
    "\n",
    "    -   Such orders need to be split.\n",
    "\n",
    "\n",
    "-   We refer to each component of a metaorder as a <span>*child\n",
    "    order*</span>."
   ]
  },
  {
   "cell_type": "markdown",
   "metadata": {
    "slideshow": {
     "slide_type": "subslide"
    }
   },
   "source": [
    "-   By the <span>*metaorder impact profile*</span> (or just\n",
    "    <span>*impact profile*</span>), we mean the average path of the\n",
    "    stock price during and after execution of a metaorder.\n",
    "\n",
    "\n",
    "-   <span>*Completion*</span> refers to the timestamp of the last child\n",
    "    order of a metaorder."
   ]
  },
  {
   "cell_type": "markdown",
   "metadata": {
    "slideshow": {
     "slide_type": "slide"
    }
   },
   "source": [
    "### Schematic of the metaorder impact profile\n",
    "\n",
    "<h2><img src=\"http://mfe.baruch.cuny.edu/wp-content/uploads/2015/04/ShapiroPlot.png\" align = \"center\" width=500></h2>\n",
    "Figure 1: The metaorder impact profile"
   ]
  },
  {
   "cell_type": "markdown",
   "metadata": {
    "slideshow": {
     "slide_type": "slide"
    }
   },
   "source": [
    "### The impact profile\n",
    "\n",
    "-   When a buy metaorder of length $T$ is sent, its immediate effect is\n",
    "    to move the price upwards (to $S_T$ say).\n",
    "\n",
    "\n",
    "-   After completion, the price reverts to some price $S_{\\infty}$\n",
    "    (which may be the starting price $S_0$).\n",
    "\n",
    "\n",
    "-   Market impact then has two components, one transient and one\n",
    "    permanent.\n",
    "\n",
    "\n",
    "-   Knowledge of the metaorder impact profile is key to the derivation\n",
    "    of optimal execution strategies.\n",
    "\n"
   ]
  },
  {
   "cell_type": "markdown",
   "metadata": {
    "slideshow": {
     "slide_type": "slide"
    }
   },
   "source": [
    "### The FGLW market impact model\n",
    "\n",
    "In the model of [Farmer, Gerig, Lillo, and Waelbroeck]<sup id=\"cite_ref-FGLW\" class=\"reference\"><a href=\"#cite_note-FGLW\"><span>[</span>6<span>]</span></a></sup> (FGLW from now on), there is a market maker\n",
    "$\\mathcal{M} $, informed traders $\\mathcal{I} $ and uninformed (or\n",
    "noise) traders $\\mathcal{U} $. Informed traders trade using metaorders.\n",
    "\n",
    "The authors show that the typical impact profile associated with the\n",
    "execution of a metaorder may be recovered starting from two assumptions:\n",
    "\n",
    "-   <span>**The Martingale Condition**</span>: The price process is a\n",
    "    martingale.\n",
    "\n",
    "    -   $\\mathcal{M} $ does not know how long a given metaorder will\n",
    "        continue."
   ]
  },
  {
   "cell_type": "markdown",
   "metadata": {
    "slideshow": {
     "slide_type": "subslide"
    }
   },
   "source": [
    "-   <span>**The Fair Pricing Condition**</span>: On average, the price\n",
    "    reverts after completion of the metaorder to a level equal to the\n",
    "    average price paid by $\\mathcal{I} $.\n",
    "\n",
    "    -   If metaorder sizes are power-law distributed with exponent\n",
    "        $\\beta$, the price reverts on average to a level which is a\n",
    "        factor $1/\\beta$ of the peak price reached at completion."
   ]
  },
  {
   "cell_type": "markdown",
   "metadata": {
    "slideshow": {
     "slide_type": "slide"
    }
   },
   "source": [
    "### The Martingale Condition\n",
    "\n",
    "We present a simplified version of the FGLW argument.\n",
    "\n",
    "-   Child orders are executed at prices $\\tilde S_t$ at times\n",
    "    $t \\in \\{1,2,...,T\\}$.\n",
    "\n",
    "\n",
    "-   $\\mathcal{M} $ does not know $T$ in advance but he can detect the\n",
    "    beginning and end of the metaorder (after the event)."
   ]
  },
  {
   "cell_type": "markdown",
   "metadata": {
    "slideshow": {
     "slide_type": "subslide"
    }
   },
   "source": [
    "-   Consider the $t$th child order of a buy metaorder. Then, either\n",
    "\n",
    "    -   $T=t$, the metaorder completes, and the price reverts to\n",
    "        $S_{t+1}$ <span>*or*</span>\n",
    "\n",
    "    -   $T>t$, the metaorder continues and the price increases to\n",
    "        $\\tilde S_{t+1}$."
   ]
  },
  {
   "cell_type": "markdown",
   "metadata": {
    "slideshow": {
     "slide_type": "subslide"
    }
   },
   "source": [
    "-   Denote the probability that the metaorder continues by $q_t$.\n",
    "\n",
    "\n",
    "-   Assuming the trade price $S_t$ is a martingale,\n",
    "\n",
    "<font color=\"red\">\n",
    "#### <span>Martingale Condition</span>\n",
    "<a name=\"eq:MartingaleCondition\"></a>(1)\n",
    "    $$\\tilde S_t = (1-q_t)\\,S_{t+1}+q_t\\,\\tilde S_{t+1}.$$"
   ]
  },
  {
   "cell_type": "markdown",
   "metadata": {
    "slideshow": {
     "slide_type": "slide"
    }
   },
   "source": [
    "### The Fair Pricing Condition\n",
    "\n",
    "-   The Fair Pricing condition states that (averaging over all possible\n",
    "    metaorder sizes), the final price level $S_{T+1}$ to which the price\n",
    "    reverts after completion is equal to the average price paid.\n",
    "\n",
    "    -   FGLW show that in the limit where the number of informed traders\n",
    "        $\\mathcal{K} \\to \\infty$, any Nash equilibrium must satisfy the\n",
    "        Fair Pricing condition."
   ]
  },
  {
   "cell_type": "markdown",
   "metadata": {
    "slideshow": {
     "slide_type": "subslide"
    }
   },
   "source": [
    "-   We then have\n",
    "\n",
    "    <font color=\"red\">\n",
    "    #### <span>Fair Pricing Condition</span>\n",
    "    <a name=\"eq:FairPricingCondition\"></a>(2)\n",
    "    $$\\mathbb{E} _T\\left[S_{T+1}\\right] = \\mathbb{E} _T\\left[\\frac 1 T \\,\\sum_{t=1}^T\\,\\tilde S_t \\right].$$"
   ]
  },
  {
   "cell_type": "markdown",
   "metadata": {
    "slideshow": {
     "slide_type": "slide"
    }
   },
   "source": [
    "### Solving for $\\tilde S_t$ and $S_t$\n",
    "\n",
    "-   Taken together, the Martingale Condition [(1)](#eq:MartingaleCondition) and the Fair Pricing [(2)](#eq:FairPricingCondition)\n",
    "    Condition define a system of linear equations.\n",
    "\n",
    "    -   The solution gives the impact profile $\\tilde S_t$ and the\n",
    "        reversion level $S_{T+1}$ for each $T$ and $t \\leq T$.\n",
    "\n",
    "\n",
    "-   The solution has two undetermined constants which we may choose to\n",
    "    be $\\tilde S_1$ and $\\tilde S_2$.\n",
    "\n",
    "\n",
    "-   In particular, $\\tilde S_2$ is exogenous to the model; it sets the\n",
    "    scale of market impact.\n",
    "\n"
   ]
  },
  {
   "cell_type": "markdown",
   "metadata": {
    "slideshow": {
     "slide_type": "slide"
    }
   },
   "source": [
    "### Metaorders of size 1\n",
    "\n",
    "-   If $T=1$, the Fair Pricing Condition gives $S_2 = \\tilde S_1$.\n",
    "\n",
    "\n",
    "-   Applying the Martingale Condition gives\n",
    "    $$q_1 \\tilde S_2 + (1-q_1)\\,\\tilde S_1 = \\tilde S_1$$ so that\n",
    "    $\\tilde S_2 = \\tilde S_1$ and <font color=\"blue\">*the price cannot move*</font>.\n",
    "\n",
    "\n",
    "-   It follows that the Fair Pricing and Martingale conditions cannot\n",
    "    both hold for each order size individually but only on average over\n",
    "    all order sizes.\n",
    "\n",
    "    -   $\\mathcal{M} $ always loses money on orders of size $M$ and\n",
    "        makes money on orders of size 1.\n",
    "\n"
   ]
  },
  {
   "cell_type": "markdown",
   "metadata": {
    "slideshow": {
     "slide_type": "slide"
    }
   },
   "source": [
    "### Power-law distribution of metaorder sizes\n",
    "\n",
    "-   If the order-size distribution is power-law, the longer a metaorder\n",
    "    has been active, the more likely it is to continue.\n",
    "\n",
    "    -   This holds more generally if the tail of the order size\n",
    "        distribution is fatter than exponential,"
   ]
  },
  {
   "cell_type": "markdown",
   "metadata": {
    "slideshow": {
     "slide_type": "subslide"
    }
   },
   "source": [
    "-   To see this, suppose there have been $t$ slices already observed.\n",
    "    Let $T$ denote the overall size (number of child orders) of the\n",
    "    metaorder. Then, assuming a power-law distribution of order size $T$\n",
    "    with tail exponent $\\beta$,\n",
    "\n",
    "    \\begin{eqnarray*}\n",
    "    q_t&=&\\Pr(T \\geq t+1|T \\ge t) = \\frac{\\Pr(T \\ge t+1)}{\\Pr(T \\ge t)} \\sim \\left(\\frac{t}{t+1}\\right)^\\beta\n",
    "    \\end{eqnarray*}\n",
    "\n",
    "    which increases with $t$.\n",
    "\n",
    "    -   Recall the stylized fact that $\\beta \\approx 3/2$!"
   ]
  },
  {
   "cell_type": "markdown",
   "metadata": {
    "slideshow": {
     "slide_type": "slide"
    }
   },
   "source": [
    "### FGLW impact profile in the power-law case\n",
    "\n",
    "-   The Martingale and Fair Pricing conditions give the recursion\n",
    "    $$\\tilde S_{t} = {q_t}\\, \\tilde S_{t+1} +(1-q_t)\\,\\frac 1 t \\,\\sum_{i=1}^t\\,\\tilde S_i$$\n",
    "\n",
    "\n",
    "-   Suppose that $\\tilde S_t \\sim t^\\alpha$ for some $\\alpha >0$ and\n",
    "    that the distribution of order sizes is power-law with tail exponent\n",
    "    $\\beta$.\n",
    "\n",
    "    -   For large $t$, $q_t \\approx 1-\\beta/t$."
   ]
  },
  {
   "cell_type": "markdown",
   "metadata": {
    "slideshow": {
     "slide_type": "subslide"
    }
   },
   "source": [
    "-   Then, for large $t$,\n",
    "\n",
    "$$\n",
    "    \\begin{eqnarray*}\n",
    "     t^\\alpha &\\approx& \\left(1-\\frac{\\beta}{t}\\right)\\,(t+1)^\\alpha +\\frac{\\beta}{t}\\, \\frac 1 t \\,\\sum_{i=1}^t\\, i^\\alpha\\\\\n",
    "      &\\approx&t^\\alpha\\, \\left(1-\\frac{\\beta}{t}\\right)\\,\\left(1+\\frac \\alpha t\\right) +\\frac{\\beta}{t}\\, \\frac 1 t \\,\\frac{t^\\alpha}{1+\\alpha}\\\\\n",
    "      &\\approx&t^\\alpha\\, \\left\\{1-\\frac{\\beta}{t}+\\frac \\alpha t+\\frac{1}{1+\\alpha}\\,\\frac{\\beta}{t}\\right\\}.\n",
    "     \\end{eqnarray*}\n",
    "     $$"
   ]
  },
  {
   "cell_type": "markdown",
   "metadata": {
    "slideshow": {
     "slide_type": "slide"
    }
   },
   "source": [
    "### Reversion level\n",
    "\n",
    "-   The solution is obviously $\\alpha = \\beta - 1$.\n",
    "\n",
    "    -   If $\\beta = 3/2$, we get $\\alpha = 1/2$ – square-root impact!\n",
    "\n",
    "\n",
    "-   Now apply the Fair Pricing condition again\n",
    "\n",
    "    \\begin{eqnarray*}\n",
    "    S_{T+1} &=& \\frac 1 T \\, \\sum_{t=1}^T\\,\\tilde S_t \\approx \\frac 1 T  \\int_0^T\\,t^\\alpha\\,dt = \\frac{T^\\alpha}{\\beta}.\n",
    "     \\end{eqnarray*}\n",
    "\n",
    "    The price reverts to a level of $1/\\beta $ times the price reached\n",
    "    at completion."
   ]
  },
  {
   "cell_type": "markdown",
   "metadata": {
    "slideshow": {
     "slide_type": "subslide"
    }
   },
   "source": [
    "-   If $\\beta = 3/2$, we get that permanent impact is $2/3$ of peak\n",
    "    impact."
   ]
  },
  {
   "cell_type": "markdown",
   "metadata": {
    "slideshow": {
     "slide_type": "slide"
    }
   },
   "source": [
    "### Empirical confirmation of FGLW\n",
    "\n",
    "-    [Bershova and Rakhlin]<sup id=\"cite_ref-Bershova\" class=\"reference\"><a href=\"#cite_note-Bershova\"><span>[</span>2<span>]</span></a></sup> perform an empirical study of a\n",
    "    proprietary dataset of large AllianceBernstein equity orders.\n",
    "\n",
    "    -   They confirm that the distribution of order sizes is power-law\n",
    "        with a tail exponent of 3/2 (at least for not too large orders).\n",
    "\n",
    "    -   They broadly confirm the predictions of FGLW, including the\n",
    "        power-law impact profile, the reversion level of $2/3$ and\n",
    "        roughly square-root permanent impact."
   ]
  },
  {
   "cell_type": "markdown",
   "metadata": {
    "slideshow": {
     "slide_type": "subslide"
    }
   },
   "source": [
    "-   Bershova and Rakhhlin also study reversion of market impact in detail, finding initial power-law decay followed by exponential decay.\n",
    "\n",
    "\n",
    "-    [Waelbroeck and Gomes]<sup id=\"cite_ref-WaelbroeckGomes\" class=\"reference\"><a href=\"#cite_note-WaelbroeckGomes\"><span>[</span>12<span>]</span></a></sup> perform a similar study of a\n",
    "    proprietary dataset of Portware metaorders.\n",
    "    - Some of these metaorders are labeled as \"cash-flow\" orders, that is explicitly uninformed.\n",
    "    \n",
    "    \n",
    "- Waelbroeck and Gomes broadly confirm the 2/3 permamanent market impact prediction of FGLW but find no permanent market impact for uninformed (\"cash-flow\") orders.\n"
   ]
  },
  {
   "cell_type": "markdown",
   "metadata": {
    "slideshow": {
     "slide_type": "slide"
    }
   },
   "source": [
    "### The Bouchaud propagator model impact profile\n",
    "\n",
    "-   In the <span>*propagator*</span> (or <span>*autoregressive*</span>)\n",
    "    Bouchaud model, the impact profile is given by\n",
    "\n",
    "    <a name=\"eq:BouchaudImpact\"></a>(3)\n",
    "$$\n",
    " \\begin{eqnarray*}\n",
    "    \\tilde S_t  \\sim \\sum_{i=1}^{t \\wedge T}\\,\\frac{1}{(t-i)^\\gamma}\n",
    "    &\\approx& \\int_0^{t \\wedge T} \\,\\frac{ds}{(t-s)^\\gamma}\\\\\n",
    "    &=& \\frac{1}{1-\\gamma}\\,\\left\\{t^{1-\\gamma}-{(t-T)^+}^{1-\\gamma}\\right\\}.\n",
    "    \\end{eqnarray*}\n",
    "$$\n",
    "\n",
    "-   The price grows as a power law during executing of the metaorder. It\n",
    "    then decays (asymptotically as a power law) back to zero. ($t \\to \\infty$)"
   ]
  },
  {
   "cell_type": "markdown",
   "metadata": {
    "slideshow": {
     "slide_type": "subslide"
    }
   },
   "source": [
    "-   The shape of the impact profile prior to completion is identical to\n",
    "    that of the FGLW model.\n",
    "\n",
    "\n",
    "-   However, after completion, the two models make quite different\n",
    "    predictions.\n",
    "    -    The FGLW model predicts that permanent market impact should be some large percentage of the peak ($2/3$ say).\n",
    "    - The Bouchaud propagator model says that market impact should decay to zero."
   ]
  },
  {
   "cell_type": "markdown",
   "metadata": {
    "slideshow": {
     "slide_type": "slide"
    }
   },
   "source": [
    "### Impact profiles in the two models\n",
    "\n",
    "<h2><img src=\"http://mfe.baruch.cuny.edu/wp-content/uploads/2015/04/ImpactProfiles.png\" align = \"center\" width=500></h2>\n",
    "Figure 2: The red line is the FGLW model and the blue dashed line is the Bouchaud model."
   ]
  },
  {
   "cell_type": "markdown",
   "metadata": {
    "slideshow": {
     "slide_type": "slide"
    }
   },
   "source": [
    "### The square-root formula for market impact\n",
    "\n",
    "-   For many years, traders have used the simple sigma-root-liquidity\n",
    "    model described for example by Grinold and Kahn in 1994.\n",
    "\n",
    "\n",
    "-   Software incorporating this model includes:\n",
    "\n",
    "    -   Salomon Brothers, StockFacts Pro since around 1991\n",
    "\n",
    "    -   Barra, Market Impact Model since around 1998\n",
    "\n",
    "    -   Bloomberg, TCA function since 2005"
   ]
  },
  {
   "cell_type": "markdown",
   "metadata": {
    "slideshow": {
     "slide_type": "subslide"
    }
   },
   "source": [
    "-   The model is always of the rough form\n",
    "    \n",
    "    $$\\Delta P = \\text{Spread cost} +\\alpha\\,\\sigma\\,\\sqrt{\\frac Q V}$$\n",
    "    \n",
    "    where $\\sigma$ is daily volatility, $V$ is daily volume, $Q$ is the\n",
    "    number of shares to be traded and $\\alpha$ is a constant pre-factor\n",
    "    of order one."
   ]
  },
  {
   "cell_type": "markdown",
   "metadata": {
    "slideshow": {
     "slide_type": "slide"
    }
   },
   "source": [
    "### Empirical question\n",
    "\n",
    "So traders and trading software have been using the square-root formula\n",
    "to provide a pre-trade estimate of market impact for a long time.\n",
    "\n",
    "<font color=\"red\">\n",
    "#### <span>Empirical question</span>\n",
    "\n",
    "Is the square-root formula empirically\n",
    "verified?\n",
    "\n"
   ]
  },
  {
   "cell_type": "markdown",
   "metadata": {
    "slideshow": {
     "slide_type": "slide"
    }
   },
   "source": [
    "### Impact of proprietary metaorders (from Tóth et al.)\n",
    "\n",
    "<a name=\"pic3\"></a>\n",
    "<h2><img src=\"http://mfe.baruch.cuny.edu/wp-content/uploads/2015/04/TothFigure1.png\" align = \"center\" width=600></h2>\n",
    "Figure 3: Log-log plot of the vol.-adjusted price impact vs the ratio $Q/V$"
   ]
  },
  {
   "cell_type": "markdown",
   "metadata": {
    "slideshow": {
     "slide_type": "slide"
    }
   },
   "source": [
    "### Notes on [Figure 3](#pic3)\n",
    "\n",
    "-   In [Figure 3](#pic3) which is taken from [Tóth et al.]<sup id=\"cite_ref-Toth\" class=\"reference\"><a href=\"#cite_note-Toth\"><span>[</span>11<span>]</span></a></sup>, we see the impact of\n",
    "    metaorders for CFM$^1$ proprietary trades on futures markets, in the\n",
    "    period June 2007 to December 2010.\n",
    "\n",
    "    -   Impact is measured as the average execution shortfall of a\n",
    "        metaorder of size $Q$.\n",
    "\n",
    "    -   The sample studied contained nearly 500,000 trades."
   ]
  },
  {
   "cell_type": "markdown",
   "metadata": {
    "slideshow": {
     "slide_type": "slide"
    }
   },
   "source": [
    "-   We see that the square-root market impact formula is verified\n",
    "    empirically for meta-orders with a range of sizes spanning two to\n",
    "    three orders of magnitude!\n",
    "\n",
    "-------------------\n",
    "$^1$Capital Fund Management (CFM) is a large Paris-based hedge fund."
   ]
  },
  {
   "cell_type": "markdown",
   "metadata": {
    "slideshow": {
     "slide_type": "slide"
    }
   },
   "source": [
    "### Another explanation for square-root impact of meta orders\n",
    "\n",
    "-   [Tóth et al.]<sup id=\"cite_ref-Toth\" class=\"reference\"><a href=\"#cite_note-Toth\"><span>[</span>11<span>]</span></a></sup> present a potential explanation of the square-root market\n",
    "    impact formula.\n",
    "       - This then led to the LLOB (Locally Linear Order Book) model of [Donier et al.]<sup id=\"cite_ref-LLOB\" class=\"reference\"><a href=\"#cite_note-Toth\"><span>[</span>5<span>]</span></a></sup>.\n",
    "\n",
    "\n",
    "-   The visible order book represents a supply and demand profile that\n",
    "    is only a small fraction of the <span>*latent*</span> supply and\n",
    "    demand.\n",
    "\n",
    "\n",
    "-   If latent supply and demand were linear around the mid-quote, this\n",
    "    could explain the square-root law."
   ]
  },
  {
   "cell_type": "markdown",
   "metadata": {
    "slideshow": {
     "slide_type": "subslide"
    }
   },
   "source": [
    "-   That is, if $\\rho(u)$ is the latent demand profile, the change\n",
    "    $\\Delta P$ in the price of the underlying due to an order of size\n",
    "    $Q$ should satisfy \n",
    "    \n",
    "    $$\\int_0^{\\Delta P}\\,\\rho(u)\\,du \\sim Q.$$ \n",
    "    \n",
    "    If\n",
    "    $\\rho(u) \\sim u$ then we have $\\Delta P^2 \\sim Q$ which is the\n",
    "    square-root law."
   ]
  },
  {
   "cell_type": "markdown",
   "metadata": {
    "slideshow": {
     "slide_type": "slide"
    }
   },
   "source": [
    "### Condition for linearity \n",
    "\n",
    "-   In the same kind of model as [Bouchaud, Mézard and Potters]<sup id=\"cite_ref-BMP\" class=\"reference\"><a href=\"#cite_note-BMP\"><span>[</span>3<span>]</span></a></sup>, we can show that the condition\n",
    "    for linearity of the latent order book around the mid-quote is that\n",
    "    the limit order arrival rate $\\lambda$ and the cancelation rate\n",
    "    $\\delta$ should be independent of the distance to the mid-quote over\n",
    "    some range of prices."
   ]
  },
  {
   "cell_type": "markdown",
   "metadata": {
    "slideshow": {
     "slide_type": "subslide"
    }
   },
   "source": [
    "-   If we assume that high-frequency strategies add nothing to the net\n",
    "    order flow, this is equivalent to assuming that the submitters of\n",
    "    meta orders are insensitive to price moves over some large range of\n",
    "    prices.\n",
    "\n",
    "    -   It seems reasonable to suppose that this range would be of the\n",
    "        order of $\\sigma\\,\\sqrt{T}$ where $T$ is the life of a typical\n",
    "        meta order.\n",
    "\n",
    "    -   Submitters of meta orders don’t amend their orders unless\n",
    "        something really unexpected happens."
   ]
  },
  {
   "cell_type": "markdown",
   "metadata": {
    "slideshow": {
     "slide_type": "slide"
    }
   },
   "source": [
    "### Distinguishing between models\n",
    "\n",
    "-   What does the price impact of a meta order look like empirically?\n",
    "\n",
    "-   Empirical estimates of the average price path during and after\n",
    "    execution may help us distinguish between models.\n",
    "\n"
   ]
  },
  {
   "cell_type": "markdown",
   "metadata": {
    "slideshow": {
     "slide_type": "slide"
    }
   },
   "source": [
    "### Path of the stock price during execution (from Gerig)\n",
    "<h2><img src=\"http://mfe.baruch.cuny.edu/wp-content/uploads/2015/04/Figure512.png\" align = \"center\" width=800></h2>"
   ]
  },
  {
   "cell_type": "markdown",
   "metadata": {
    "slideshow": {
     "slide_type": "slide"
    }
   },
   "source": [
    "### Path of the stock price during execution (from Moro et al.)\n",
    "<h2><img src=\"http://mfe.baruch.cuny.edu/wp-content/uploads/2015/04/Figure5.png\" align = \"center\" width=600></h2>"
   ]
  },
  {
   "cell_type": "markdown",
   "metadata": {
    "slideshow": {
     "slide_type": "slide"
    }
   },
   "source": [
    "### Empirically observed stock price path\n",
    "\n",
    "From the preceding figures, we see that\n",
    "\n",
    "-   There is reversion of the stock price after completion of the order.\n",
    "\n",
    "-   Some component of the market impact of the meta order appears to be\n",
    "    permanent."
   ]
  },
  {
   "cell_type": "markdown",
   "metadata": {
    "slideshow": {
     "slide_type": "subslide"
    }
   },
   "source": [
    "-   The path of the price prior to completion looks like a power law.\n",
    "\n",
    "    -   From [Moro et al.]<sup id=\"cite_ref-Moro\" class=\"reference\"><a href=\"#cite_note-Moro\"><span>[</span>9<span>]</span></a></sup>\n",
    "\n",
    "        \\begin{eqnarray*}\n",
    "        m_t-m_0 &\\approx&  (4.28 \\pm 0.21) \\,\\left(\\frac{t}{T}\\right)^{0.71 \\pm 0.03 }\\text{ (BME) } \\\\\n",
    "        m_t-m_0 &\\approx&  (2.13 \\pm 0.05) \\,\\left(\\frac{t}{T}\\right)^{0.62 \\pm 0.02}\\text{ (LSE) } \\end{eqnarray*}\n",
    "\n",
    "        where $T$ is the duration of the meta order."
   ]
  },
  {
   "cell_type": "markdown",
   "metadata": {
    "slideshow": {
     "slide_type": "slide"
    }
   },
   "source": [
    "### An empirical analysis of the Bitcoin market\n",
    "\n",
    "-   [Donier and Bonart]<sup id=\"cite_ref-DonierBonart\" class=\"reference\"><a href=\"#cite_note-DonierBonart\"><span>[</span>4<span>]</span></a></sup> analyze 13 million metaorders on the Bitcoin market from August 2011 to November 2013.\n",
    "\n",
    "\n",
    "- Bitcoin is not correlated to any other traded asset\n",
    "\n",
    "\n",
    "- Trading costs are very high so there is no high-frequency trading and presumably little or no statistical arbitrage.\n",
    "\n",
    "\n",
    "-  Bitcoin offers an ideal single asset economy, isolated from the rest of the economy, in which to study the market impact of metaorders."
   ]
  },
  {
   "cell_type": "markdown",
   "metadata": {
    "slideshow": {
     "slide_type": "slide"
    }
   },
   "source": [
    "### Bitcoin metaorder size distribution is not power-law\n",
    "\n",
    "<h2><img src=\"http://mfe.baruch.cuny.edu/wp-content/uploads/2016/04/DonierSizeDistribution.png\" align = \"center\" width=800></h2>"
   ]
  },
  {
   "cell_type": "markdown",
   "metadata": {
    "slideshow": {
     "slide_type": "slide"
    }
   },
   "source": [
    "### Bitcoin metaorder impact profile is square-root\n",
    "\n",
    "<h2><img src=\"http://mfe.baruch.cuny.edu/wp-content/uploads/2016/04/DonierSqrt.png\" align = \"center\" width=800></h2>\n",
    "\n",
    "- Both the impact profile and the price at completion are almost exactly square-root in the size $Q$."
   ]
  },
  {
   "cell_type": "markdown",
   "metadata": {
    "slideshow": {
     "slide_type": "slide"
    }
   },
   "source": [
    "### Bitcoin impact prefactor is stochastic\n",
    "\n",
    "<h2><img src=\"http://mfe.baruch.cuny.edu/wp-content/uploads/2016/04/DonierYratio.png\" align = \"center\" width=800></h2>\n",
    "\n",
    "- With impact of the form\n",
    "$$\n",
    "I(Q) = Y\\,\\sigma\\,\\sqrt{\\frac Q V},\n",
    "$$\n",
    "the prefactor $Y$ is approximately normally distributed around $0.9$."
   ]
  },
  {
   "cell_type": "markdown",
   "metadata": {
    "slideshow": {
     "slide_type": "slide"
    }
   },
   "source": [
    "### Bitcoin \"informed\" vs \"uninformed\" metaorders\n",
    "\n",
    "<h2><img src=\"http://mfe.baruch.cuny.edu/wp-content/uploads/2016/04/DonierInformedImpact.png\" align = \"center\" width=1000></h2>"
   ]
  },
  {
   "cell_type": "markdown",
   "metadata": {
    "slideshow": {
     "slide_type": "slide"
    }
   },
   "source": [
    " ### Summary of the Bitcoin study\n",
    " \n",
    " - The square-root formula is once again strongly confirmed.\n",
    " \n",
    " \n",
    " - It is very hard to believe that equilibrium arguments could apply to this market\n",
    "     - Transaction costs are very high.\n",
    " \n",
    " \n",
    " - Moreover the distribution of metaorder sizes is not power-law as required by FGLW to explain the reversion to $2/3$ of peak impact.\n",
    " "
   ]
  },
  {
   "cell_type": "markdown",
   "metadata": {
    "slideshow": {
     "slide_type": "slide"
    }
   },
   "source": [
    " \n",
    " - \"Informed\" metaorders that are correlated with background order flow appear to generate permanent impact.\n",
    "    - The Bouchaud propagator picture is strongly preferred over the FGLW picture.  There is no \"mechanical\" permanent market impact."
   ]
  },
  {
   "cell_type": "markdown",
   "metadata": {
    "slideshow": {
     "slide_type": "slide"
    }
   },
   "source": [
    "### Price dynamics during metaorder execution and price manipulation\n",
    "\n",
    "\n",
    "-   <span>It turns out (see [Gatheral]<sup id=\"cite_ref-Gatheral\" class=\"reference\"><a href=\"#cite_note-Gatheral\"><span>[</span>7<span>]</span></a></sup>) that some choices of stock price\n",
    "    dynamics may admit price manipulation.</span>\n",
    "\n",
    "    -   <span>For example, square root price impact with exponential\n",
    "        decay admits price manipulation.</span>\n",
    "\n",
    "\n",
    "-   <span>In such cases, a round-trip trade can generate cash on\n",
    "    average.</span>\n",
    "\n",
    "    -   <span>You would want to repeat such a trade over and\n",
    "        over.</span>\n",
    "\n",
    "    -   <span>There would be no optimal strategy.</span>"
   ]
  },
  {
   "cell_type": "markdown",
   "metadata": {
    "slideshow": {
     "slide_type": "slide"
    }
   },
   "source": [
    "### A continuous time generalization of the propagator model\n",
    "\n",
    "-   Following [Gatheral]<sup id=\"cite_ref-Gatheral\" class=\"reference\"><a href=\"#cite_note-Gatheral\"><span>[</span>7<span>]</span></a></sup>, suppose that the stock price $S_t$ at time $t$\n",
    "    is given by\n",
    "    \n",
    "    <a name=\"eq:process\"></a>(4)\n",
    "\n",
    "    $$S_t=S_0+\\int_0^t\\,f(\\dot{x}_s)\\,G(t-s)\\,ds+\\int_0^t\\,\\sigma\\,dZ_s$$\n",
    "\n",
    "    where ${\\dot x}_s$ is our rate of trading in dollars at time $s<t$,\n",
    "    $f(\\dot{x}_s)$ represents the impact of trading at time $s$ and\n",
    "    $G(t-s)$ is a decay factor (or propagator)."
   ]
  },
  {
   "cell_type": "markdown",
   "metadata": {
    "slideshow": {
     "slide_type": "subslide"
    }
   },
   "source": [
    "-   <span>$S_t$ follows an arithmetic random walk (Brownian motion) with a drift that\n",
    "    depends on the accumulated impacts of previous trades.</span>\n",
    "\n",
    "\n",
    "-   <span>The cumulative impact of (others’) trading is implicitly in\n",
    "    $S_0$ and the noise term.</span>\n",
    "\n",
    "\n",
    "-   <span>Drift is ignored.</span>\n",
    "\n",
    "    -   <span>Drift is a lower order effect.</span>\n",
    "\n",
    "    -   <span>We are averaging buys and sells.</span>"
   ]
  },
  {
   "cell_type": "markdown",
   "metadata": {
    "slideshow": {
     "slide_type": "subslide"
    }
   },
   "source": [
    "\n",
    "-   <span>We refer to $f(\\cdot)$ as the *instantaneous market impact\n",
    "    function* and to $G(\\cdot)$ as the decay kernel.</span>\n",
    "\n",
    "\n",
    "-   <span>[(4)](#eq:process) is a generalization of processes due to\n",
    "    Almgren, Bouchaud, and Obizhaeva and Wang.</span>\n",
    "\n",
    "\n",
    "-   <span>[(4)](#eq:process) corresponds to the “autogressive model” or\n",
    "    “propagator model” of Bouchaud et al.</span>\n",
    "\n"
   ]
  },
  {
   "cell_type": "markdown",
   "metadata": {
    "slideshow": {
     "slide_type": "slide"
    }
   },
   "source": [
    "### Model dynamics as limit of discrete time process\n",
    "\n",
    "-   <span> The continuous time process [(4)](#eq:process) can be viewed as a\n",
    "    limit of a discrete time process (see Bouchaud et al. for example):\n",
    "\n",
    "    $$S_t=\\sum_{i<t}\\,f(\\delta x_i)\\,G(t-i)\\,+\\textrm{ noise}$$ \n",
    "    \n",
    "    where\n",
    "    $\\delta x_i=\\dot{x}_i\\,\\delta t$ is the quantity traded in some\n",
    "    small time interval $\\delta t$ characteristic of the stock, and by\n",
    "    abuse of notation, $f(\\cdot)$ is the market impact function. </span>"
   ]
  },
  {
   "cell_type": "markdown",
   "metadata": {
    "slideshow": {
     "slide_type": "subslide"
    }
   },
   "source": [
    "-   <span>$\\delta x_i > 0$ represents a purchase and $\\delta x_i < 0$ represents a sale.</span>\n",
    "\n",
    "-   <span>$\\delta t$ could be thought of as $1/\\nu$ where $\\nu$ is the trade frequency.</span>\n",
    "\n",
    "-   <span>Increasing the rate of trading ${\\dot x}_i$ is equivalent to increasing the quantity traded each $\\delta t$.</span>"
   ]
  },
  {
   "cell_type": "markdown",
   "metadata": {
    "slideshow": {
     "slide_type": "slide"
    }
   },
   "source": [
    "### Price impact and slippage\n",
    "\n",
    "-   <span>The cost of trading can be decomposed into two\n",
    "    components:</span>\n",
    "\n",
    "    -   <span>The impact of our trading on the market price (the\n",
    "        mid-price for example).</span>\n",
    "\n",
    "        -   <span>We refer to this effect as *price impact*.</span>\n",
    "\n",
    "    -   <span>Frictions such as effective bid-ask spread that affect\n",
    "        only our execution price.</span>\n",
    "\n",
    "        -   <span>We refer to this effect as *slippage*. For small\n",
    "            volume fractions, we can think of slippage as being proxied\n",
    "            by VWAP slippage. </span>"
   ]
  },
  {
   "cell_type": "markdown",
   "metadata": {
    "slideshow": {
     "slide_type": "subslide"
    }
   },
   "source": [
    "-   <span>In what follows, we will neglect slippage.</span>\n",
    "\n",
    "    -   <span>The inequality relationships we derive will all be\n",
    "        weakened in practice to the extent that slippage becomes\n",
    "        important.</span>"
   ]
  },
  {
   "cell_type": "markdown",
   "metadata": {
    "slideshow": {
     "slide_type": "slide"
    }
   },
   "source": [
    "### Cost of trading\n",
    "\n",
    "-   Denote the number of shares outstanding at time $t$ by $x_t$. Then\n",
    "    from [(4)](#eq:process), neglecting slippage, the (expected) cost $C[\\Pi]$\n",
    "    associated with a given (deterministic) trading strategy $\\Pi=\\{x_t\\}$ is given by\n",
    "\n",
    "    <a name=\"eq:cost\"></a>(5)\n",
    "    $$C[\\Pi]=\\int_0^T\\,{\\dot x}_t\\,dt\\,\\int_0^t\\,f\\left({\\dot\n",
    "    x}_s\\right)\\,G(t-s)\\,ds$$\n",
    "    \n",
    "    $S(t)-S(0)$ and intergrate then we get transaction cost\n",
    "    "
   ]
  },
  {
   "cell_type": "markdown",
   "metadata": {
    "slideshow": {
     "slide_type": "subslide"
    }
   },
   "source": [
    "-   <span>The $d x_t ={\\dot x}_t\\,dt$ shares liquidated at time $t$ are\n",
    "    traded on average at a price\n",
    "    \n",
    "    $$S_t=S_0+\\int_0^t\\,f\\left({\\dot x}_s\\right)\\,G(t-s)\\,ds$$ \n",
    "    \n",
    "    which\n",
    "    reflects the residual cumulative impact of all prior trading.\n",
    "    </span>"
   ]
  },
  {
   "cell_type": "markdown",
   "metadata": {
    "slideshow": {
     "slide_type": "slide"
    }
   },
   "source": [
    "## Almgren et al.\n",
    "\n",
    "-   In the (2005) model of [Almgren]<sup id=\"cite_ref-Almgren\" class=\"reference\"><a href=\"#cite_note-Almgren\"><span>[</span>1<span>]</span></a></sup>, the stock price $S_t$ evolves as\n",
    "    \n",
    "    $$dS_t=\\gamma\\,d x_t+\\sigma\\,dZ_t$$ \n",
    "    \n",
    "    and the price $\\tilde S_t$ at\n",
    "    which we transact is given by \n",
    "    \n",
    "    $$S_t=S_0+\\eta\\,\\sigma \\,v_t^\\delta$$\n",
    "    \n",
    "    where $v_t:={\\dot x}_t$ is the rate of trading so\n",
    "    $G(t-s)=\\delta(t-s)$ and $f(v)=\\eta\\,\\sigma\\,v^{\\delta}$ with\n",
    "    $\\delta \\approx 0.6$."
   ]
  },
  {
   "cell_type": "markdown",
   "metadata": {
    "slideshow": {
     "slide_type": "subslide"
    }
   },
   "source": [
    "-   <span>In this model, temporary market impact decays instantaneously.\n",
    "    Our trading affects only the price of our own executions; other\n",
    "    executions are not affected. </span>\n",
    "\n",
    "\n",
    "-   <span>The cost of trading becomes:\n",
    "    \n",
    "    $$C[\\Pi]=\\int_0^T\\,{\\dot x}_t\\,dt\\,\\int_0^t\\,f\\left({\\dot\n",
    "    x}_s\\right)\\,G(t-s)\\,ds =\\eta\\,\\sigma\\,\\int_0^T\\,{{\\dot x}_t}^{1+\\delta}\\,dt$$\n",
    "    </span>"
   ]
  },
  {
   "cell_type": "markdown",
   "metadata": {
    "slideshow": {
     "slide_type": "slide"
    }
   },
   "source": [
    "### Obizhaeva and Wang\n",
    "\n",
    "-   In the model of [Obizhaeva and Wang]<sup id=\"cite_ref-ObizhaevaWang\" class=\"reference\"><a href=\"#cite_note-ObizhaevaWang\"><span>[</span>10<span>]</span></a></sup>\n",
    "\n",
    "    <a name=\"eq:OWprocess\"></a>(6)\n",
    "    $$S_t=S_0+\\eta\\,\\int_0^t\\,{\\dot x}_s\\,e^{-\\rho\\,(t-s)}\\,ds+\\int_0^t\\,\\sigma\\,dZ_s$$\n",
    "\n",
    "    so $G(t-s)=\\exp\\left\\{-\\rho\\,(t-s)\\right\\}$ and $f(v) \\propto v$."
   ]
  },
  {
   "cell_type": "markdown",
   "metadata": {
    "slideshow": {
     "slide_type": "subslide"
    }
   },
   "source": [
    "-   <span>In this model, market impact decays exponentially and\n",
    "    instantaneous market impact is linear in the rate of trading.</span>\n",
    "\n",
    "\n",
    "-   The cost of trading becomes:\n",
    "\n",
    "    \\begin{eqnarray*}\n",
    "    C[\\Pi]&=&\\int_0^T\\,{\\dot x}_t\\,dt\\,\\int_0^t\\,f\\left({\\dot\n",
    "    x}_s\\right)\\,G(t-s)\\,ds\\\\\n",
    "    &\\propto& \\int_0^T\\,{\\dot x}_t\\,dt\\,\\int_0^t\\,{\\dot\n",
    "    x}_s\\,\\exp\\left\\{-\\rho\\,(t-s)\\right\\}\\,ds\\end{eqnarray*}"
   ]
  },
  {
   "cell_type": "markdown",
   "metadata": {
    "slideshow": {
     "slide_type": "slide"
    }
   },
   "source": [
    "### Bouchaud et al.\n",
    "\n",
    "-   <span>In the setup of Bouchaud et al., we have\n",
    "    $f(v) \\propto \\log(v)$ and\n",
    "    $$G(t-s)\\propto \\frac{l_0}{(l_0+t-s)^\\gamma}$$ with\n",
    "    $\\gamma \\approx (1-\\alpha)/2$ where $\\alpha$ is the exponent of the\n",
    "    power law of autocorrelation of trade signs. </span>"
   ]
  },
  {
   "cell_type": "markdown",
   "metadata": {
    "slideshow": {
     "slide_type": "subslide"
    }
   },
   "source": [
    "-   <span>In this model, market impact decays as a power law and\n",
    "    instantaneous market impact is concave in the rate of\n",
    "    trading.</span>\n",
    "\n",
    "\n",
    "-   The cost of trading becomes:\n",
    "\n",
    "    \\begin{eqnarray*}\n",
    "    C[\\Pi]&=&\\int_0^T\\,{\\dot x}_t\\,dt\\,\\int_0^t\\,f\\left({\\dot\n",
    "    x}_s\\right)\\,G(t-s)\\,ds\\\\\n",
    "    &\\propto& \\int_0^T\\,{\\dot x}_t\\,dt\\,\\int_0^t\\,\\frac{\\log({\\dot\n",
    "    x}_s)}{(l_0+t-s)^{\\gamma}}\\,ds\\end{eqnarray*}"
   ]
  },
  {
   "cell_type": "markdown",
   "metadata": {
    "slideshow": {
     "slide_type": "slide"
    }
   },
   "source": [
    "### The principle of No Price Manipulation\n",
    "\n",
    "A trading strategy $\\Pi=\\{x_t\\}$ is a *round-trip trade* if\n",
    "\n",
    "$$\\int_0^T\\,{\\dot x}_t\\,dt=0$$\n",
    "\n",
    "We define a *price manipulation* to be a round-trip trade $\\Pi$ whose\n",
    "expected cost $C[\\Pi]$ is negative.\n",
    "\n",
    "<p>\n",
    "\n",
    "\n",
    "#### <font color=\"red\"> The principle of no price manipulation \n",
    "\n",
    "Price manipulation is not possible.</font>\n",
    "\n",
    "\n",
    "#### <font color=blue>Corollary</font>\n",
    "<font color=blue> Pump and dump schemes cannot make money on average. </font>"
   ]
  },
  {
   "cell_type": "markdown",
   "metadata": {
    "slideshow": {
     "slide_type": "slide"
    }
   },
   "source": [
    "### Pump and Dump Schemes\n",
    "\n",
    "(From http://www.sec.gov/answers/pumpdump.htm)\n",
    "\n",
    "#### Definition\n",
    "“Pump and dump” schemes, also known as “hype and dump manipulation”,\n",
    "involve the touting of a company’s stock (typically microcap companies)\n",
    "through false and misleading statements to the marketplace. After\n",
    "pumping the stock, fraudsters make huge profits by selling their cheap\n",
    "stock into the market.\n",
    "\n"
   ]
  },
  {
   "cell_type": "markdown",
   "metadata": {
    "slideshow": {
     "slide_type": "slide"
    }
   },
   "source": [
    "### Permanent impact\n",
    "\n",
    "Suppose we trade into a position at the rate $+v$ and out at the same\n",
    "$-v$. If market impact is permanent, without loss of generality,\n",
    "$G(\\cdot)=1$ and the cost of trading becomes\n",
    "\n",
    "$$\n",
    "\\begin{eqnarray*}\n",
    "C[\\Pi]&=&v\\,f(v)\\,\\left\\{\\int_0^{T/2}\\,dt\\,\\int_0^t\\,ds-\\int_{T/2}^T\\,dt\\,\\int_0^{T/2}\\,ds\\right\\}\\\\ &&+ v\\,f(-v)\\,\\int_{T/2}^T\\,dt\\,\\int_{T/2}^t\\,ds \\\\\n",
    "&=& v\\,\\frac{T^2}{8}\\,\\left\\{-f(-v)-f(v)\\right\\}\\end{eqnarray*}\n",
    "$$"
   ]
  },
  {
   "cell_type": "markdown",
   "metadata": {
    "slideshow": {
     "slide_type": "slide"
    }
   },
   "source": [
    "-   <span>If $f(v) \\neq -f(-v)$, price manipulation is possible.</span>\n",
    "\n",
    "-   <span>No price manipulation thus imposes that if market impact is\n",
    "    permanent, $f(v)=-f(-v)$.</span>\n",
    "\n",
    "-   <span>We henceforth assume that $f(v)=-f(-v)$, i.e., $f$ is an odd function.</span>"
   ]
  },
  {
   "cell_type": "markdown",
   "metadata": {
    "slideshow": {
     "slide_type": "slide"
    }
   },
   "source": [
    "### A specific strategy\n",
    "\n",
    "Consider a strategy where shares are accumulated at the (positive)\n",
    "constant rate $v_1$ and then liquidated again at the (positive) constant\n",
    "rate $v_2$. According to equation [(5)](#eq:cost), the cost of this strategy\n",
    "is given by $C_{11}+C_{22}-C_{12}$ with"
   ]
  },
  {
   "cell_type": "markdown",
   "metadata": {
    "slideshow": {
     "slide_type": "subslide"
    }
   },
   "source": [
    "<a name=\"eq:costspecific\"></a>(7)\n",
    "\n",
    "$$\n",
    "\\begin{eqnarray*}\n",
    "C_{11}&=&v_1\\,f\\left(v_1\\right)\\,\\int_0^{\\theta\\,T}\\,dt\\,\\int_0^t\\,G(t-s)\\,ds \\nonumber\\\\\n",
    "C_{22}&=&v_2\\,f\\left(v_2\\right)\\,\\int_{\\theta\\,T}^T\\,dt\\,\\int_{\\theta\\,T}^t\\,G(t-s)\\,ds\\nonumber\\\\\n",
    "C_{12}&=&v_2\\,f\\left(v_1\\right)\\,\\int_{\\theta\\,T}^T\\,dt\\,\\int_0^{\\theta\\,T}\\,G(t-s)\\,ds\n",
    "\\end{eqnarray*}\n",
    "$$\n",
    "\n",
    "where $\\theta$ is such that $v_1\\,\\theta\\,T-v_2\\,(T-\\theta\\,T)=0$ so\n",
    "$$\\theta= \\frac{v_2}{v_1+v_2}$$"
   ]
  },
  {
   "cell_type": "markdown",
   "metadata": {
    "slideshow": {
     "slide_type": "slide"
    }
   },
   "source": [
    "### Special case: Trade in and out at the same rate\n",
    "\n",
    "One might ask what happens if we trade into, then out of a position at\n",
    "the same rate $v$. If $G(\\cdot)$ is strictly decreasing,\n",
    "\n",
    "\n",
    "$$\n",
    "\\begin{eqnarray*}\n",
    "C[\\Pi]&=&v\\,f(v)\\,\\bigg\\{\\int_0^{T/2}\\,dt\\,\\int_0^t\\,G(t-s)\\,ds\\\\\n",
    "&& +\\int_{T/2}^T\\,dt\\,\\int_{T/2}^t\\,G(t-s)\\,ds\\\\\n",
    "&&-\\left.\\int_{T/2}^T\\,dt\\,\\int_0^{T/2}\\,G(t-s)\\,ds\n",
    "\\right\\}\\\\\n",
    "\\end{eqnarray*}\n",
    "$$"
   ]
  },
  {
   "cell_type": "markdown",
   "metadata": {
    "slideshow": {
     "slide_type": "subslide"
    }
   },
   "source": [
    "$$\n",
    "\\begin{eqnarray*}\n",
    "&=&v\\,f(v)\\,\\bigg\\{\n",
    "\\int_0^{T/2}\\,dt\\,\\int_0^t\\,\\big[G(t-s)-G(t+T/2-s)\\big]\\,ds\\\\\n",
    "&&+\\int_{T/2}^T\\,dt\\,\\int_{T/2}^t\\,\\left[G(t-s)-G(T-s)\\right]\\,ds\\bigg\\}>0\n",
    "\\end{eqnarray*}\n",
    "$$\n",
    "\n",
    "- We conclude that if there is price manipulation, it must involve trading in and out at different rates."
   ]
  },
  {
   "cell_type": "markdown",
   "metadata": {
    "slideshow": {
     "slide_type": "slide"
    }
   },
   "source": [
    "### Exponential decay\n",
    "\n",
    "Suppose that the decay kernel has the form \n",
    "\n",
    "$$G(\\tau)=e^{-\\rho\\,\\tau}$$\n",
    "\n",
    "Then, explicit computation of all the integrals in [(7)](#eq:costspecific) gives"
   ]
  },
  {
   "cell_type": "markdown",
   "metadata": {
    "slideshow": {
     "slide_type": "subslide"
    }
   },
   "source": [
    "<a name=\"eq:costexponential\"></a>(8)\n",
    "$$\n",
    "\\begin{eqnarray*}\n",
    "C_{11}&=&v_1\\,f\\left(v_1\\right)\\,\\frac{1}{\\rho^2}\\,\\left\\{e^{-\\rho\\,\\theta\\,T}-1+\\rho\\,\\theta\\,T \\right\\}\\nonumber\\\\\n",
    "C_{12}&=&v_2\\,f\\left(v_1\\right)\\,\\frac{1}{\\rho^2}\\,\\left\\{1+e^{-\\rho\\,T}-e^{-\\rho\\,\\theta\\,T}-e^{-\\rho\\,(1-\\theta)\\,T} \\right\\}  \\nonumber\\\\\n",
    "C_{22}&=&v_2\\,f\\left(v_2\\right)\\,\\frac{1}{\\rho^2}\\left\\{e^{-\\rho\\,(1-\\theta)\\,T}-1+\\rho\\,(1-\\theta)\\,T\n",
    "\\right\\} \\end{eqnarray*}\n",
    "$$\n",
    "\n",
    "We see in particular that the no price manipulation principle forces a\n",
    "relationship between the instantaneous impact function $f(\\cdot)$ and\n",
    "the decay kernel $G(\\cdot)$."
   ]
  },
  {
   "cell_type": "markdown",
   "metadata": {
    "slideshow": {
     "slide_type": "slide"
    }
   },
   "source": [
    "### Exponential decay\n",
    "\n",
    "After making the substitution $\\theta=v_2/(v_1+v_2)$ and imposing the\n",
    "principle of no price manipulation, we obtain"
   ]
  },
  {
   "cell_type": "markdown",
   "metadata": {
    "slideshow": {
     "slide_type": "subslide"
    }
   },
   "source": [
    "<a name=\"eq:fconstraintExp\"></a>(9)\n",
    "$$\n",
    "\\begin{eqnarray*}\n",
    "&&v_1\\,f(v_1)\\,\\left[ e^{- \\frac{v_2\\,\\rho}{v_1 +v_2}  } -1 +\n",
    "\\frac{v_2\\,\\rho }{v_1 + v_2} \\right]\\nonumber\\\\\n",
    "&& + v_2\\,f(v_2)\\left[  e^ {- \\frac{v_1\\,\\rho }{v_1 + v_2}  } -1+\n",
    "\\frac{v_1\\,\\rho }{v_1 + v_2} \\right]\\nonumber\\\\\n",
    "&&- v_2\\,f(v_1)\\left[  1+ e^{-\\rho } - e^{- \\frac{v_1\\,\\rho }{v_1+v_2}  } - e^{-\n",
    "\\frac{v_2\\,\\rho }{v_1 + v_2}}\\right]\n",
    "\\geq 0\n",
    "\\end{eqnarray*}\n",
    "$$\n",
    "\n",
    "where, without loss of generality, we have set $T=1$. We note that the\n",
    "first two terms are always positive so price manipulation is only\n",
    "possible if the third term ($C_{12}$) dominates the others."
   ]
  },
  {
   "cell_type": "markdown",
   "metadata": {
    "slideshow": {
     "slide_type": "slide"
    }
   },
   "source": [
    "### Example: $f(v)=\\sqrt{v}$\n",
    "\n",
    "Let $v_1=0.2 ,\\,v_2=1,\\,\\rho=1$. Then the cost of liquidation is given\n",
    "by \n",
    "\n",
    "$$C=C_{11}+C_{22}-C_{12}=-0.001705 < 0.$$ \n",
    "\n",
    "Since $\\rho$ really represents the product $\\rho\\,T$, we see that for any choice of $\\rho$,\n",
    "we can find a combination $\\left\\{v_1,v_2,T\\right\\}$ such that a round\n",
    "trip with no net purchase or sale of stock is profitable. We conclude\n",
    "that if market impact decays exponentially, the principle of no price manipulation excludes a\n",
    "square root instantaneous impact function.\n",
    "\n",
    "Can we generalize this?\n",
    "\n"
   ]
  },
  {
   "cell_type": "markdown",
   "metadata": {
    "slideshow": {
     "slide_type": "slide"
    }
   },
   "source": [
    "### Expansion in $\\rho$\n",
    "\n",
    "Expanding expression [(9)](#eq:fconstraintExp) in powers of $\\rho$, we\n",
    "obtain\n",
    "\n",
    "$$\\frac{v_1 \\,v_2 \\,\\left[v_1\\, f(v_2)-v_2\\, f(v_1)\\right] \\,\\rho ^2}{2 (v_1+v_2)^2}+O\\left(\\rho\n",
    "   ^3\\right) \\geq 0$$ \n",
    "   \n",
    "We see that price manipulation is always possible for small $\\rho$ unless $f(v)$ is linear in $v$.\n",
    "\n",
    "Taking the limit $\\rho \\to 0^+$, we obtain\n",
    "\n",
    "\n",
    "<font color=\"red\">\n",
    "#### Corollary\n",
    "\n",
    "Non-linear permanent market impact is inconsistent with the principle of\n",
    "no price manipulation.\n",
    "\n"
   ]
  },
  {
   "cell_type": "markdown",
   "metadata": {
    "slideshow": {
     "slide_type": "slide"
    }
   },
   "source": [
    "### Exponential decay of market impact and price manipulation\n",
    "\n",
    "<font color=\"red\">\n",
    "#### <span>Lemma</span>\n",
    "\n",
    "If temporary market impact decays exponentially, price manipulation is\n",
    "possible unless $f(v) \\propto v$.\n",
    "\n",
    "<font color=\"black\">\n",
    "\n",
    "-   <span>Empirically, market impact is concave in $v$ for small $v$.\n",
    "    </span>\n",
    "\n",
    "-   <span>Also, market impact must be convex for very large $v$</span>\n",
    "\n",
    "    -   <span>Imagine submitting a sell order for 1 million shares when\n",
    "        there are bids for only 100,000.</span>\n",
    "\n",
    "-   <span>We conclude that the principle of no price manipulation\n",
    "    excludes exponential decay of market impact for any reasonable\n",
    "    instantaneous market impact function $f(\\cdot)$.</span>\n",
    "\n"
   ]
  },
  {
   "cell_type": "markdown",
   "metadata": {
    "slideshow": {
     "slide_type": "slide"
    }
   },
   "source": [
    "### Generalization\n",
    "\n",
    "Here is a generalization from [Gatheral, Schied and Slynko]<sup id=\"cite_ref-GSS\" class=\"reference\"><a href=\"#cite_note-GSS\"><span>[</span>8<span>]</span></a></sup>.\n",
    "\n",
    "<font color=\"red\">\n",
    "####Proposition (Alla Slynko)\n",
    "Assuming the price process [(4)](#eq:process), consider a model with a\n",
    "general nonlinear instantaneous market impact function $f(\\cdot)$ and a\n",
    "nonincreasing decay kernel $G(t)$ with\n",
    "$G(0) := \\lim_{t\\downarrow 0} G(t) < \\infty$. Then, such a model admits\n",
    "price manipulation.\n",
    "\n",
    "\n",
    "\n",
    "<font color=\"black\">\n",
    "\n",
    "\n",
    "\n",
    "-   Thus, in practice, any model with a kernel $G(t)$ that is\n",
    "    nonsingular at $t=0$ permits price manipulation and is thus\n",
    "    excluded.\n",
    "\n"
   ]
  },
  {
   "cell_type": "markdown",
   "metadata": {
    "slideshow": {
     "slide_type": "slide"
    }
   },
   "source": [
    "### Linear permanent market impact\n",
    "\n",
    "If $f(v)=\\eta\\,v$ for some $\\eta>0$ and $G(t-s)=1$, the cost of trading\n",
    "becomes \n",
    "\n",
    "$$C[\\Pi]=\\eta\\,\\int_0^T\\,{\\dot x}_t\\,dt\\,\\int_0^t\\,{\\dot\n",
    "x}_s\\,ds = \\frac{\\eta}{2}\\,(x_T-x_0)^2$$ \n",
    "\n",
    "The trading cost per share is\n",
    "then given by \n",
    "\n",
    "$$\\frac{C[\\Pi]}{|x_T-x_0|}=\\frac{\\eta}{2}\\, |x_T-x_0|$$\n",
    "\n",
    "which is *independent* of the details of the trading strategy (depending\n",
    "only on the initial and final positions) and linear in the net trade\n",
    "quantity."
   ]
  },
  {
   "cell_type": "markdown",
   "metadata": {
    "slideshow": {
     "slide_type": "slide"
    }
   },
   "source": [
    "### Power-law decay\n",
    "\n",
    "Suppose now that the decay kernel has the form\n",
    "$$G(t-s)=\\frac{1}{(t-s)^\\gamma}, \\,0<\\gamma<1.$$ Note in particular that\n",
    "this kernel is singular at $\\tau=t-s=0$. Then, explicit computation of\n",
    "all the integrals in [(7)](#eq:costspecific) gives"
   ]
  },
  {
   "cell_type": "markdown",
   "metadata": {
    "slideshow": {
     "slide_type": "subslide"
    }
   },
   "source": [
    "<a name=\"eq:costpowerlaw\"></a>(10)\n",
    "\n",
    "$$\n",
    "\\begin{eqnarray*}\n",
    "C_{11}&=&v_1\\,f\\left(v_1\\right)\\,\\frac{T^{2 - \\gamma}}{\\left( 1 - \\gamma  \\right) \\,\\left( 2 - \\gamma  \\right) }\\,\\theta^{2-\\gamma}\\nonumber\\\\\n",
    "C_{22}&=&v_2\\,f\\left(v_2\\right)\\,\\frac{T^{2 - \\gamma}}{\\left( 1 - \\gamma  \\right) \\,\\left( 2 - \\gamma  \\right) }\\,(1-\\theta)^{2-\\gamma}\\nonumber\\\\\n",
    "C_{12}&=&v_2\\,f\\left(v_1\\right)\\,\\,\\frac{T^{2 - \\gamma}}{\\left( 1 - \\gamma  \\right) \\,\\left( 2 - \\gamma  \\right) }\\,\n",
    "\\left\\{1-\\theta^{2-\\gamma}-(1-\\theta)^{2-\\gamma}\\right\\}\n",
    "\\end{eqnarray*}\n",
    "$$"
   ]
  },
  {
   "cell_type": "markdown",
   "metadata": {
    "slideshow": {
     "slide_type": "slide"
    }
   },
   "source": [
    "### Power-law decay\n",
    "\n",
    "According to the principle of no price manipulation, substituting\n",
    "$\\theta={v_2}/(v_1+v_2)$, we must have\n",
    "\n",
    "<a name=\"eq:fconstraint\"></a>(11)\n",
    "$$f\\left(v_1\\right)\\, \\left\\{v_1\\,{v_2}^{1-\\gamma}\n",
    "-(v_1+v_2)^{2-\\gamma}+{v_1}^{2-\\gamma}+{v_2}^{2-\\gamma}\\right\\}+ f\\left(v_2\\right)\\,{v_1}^{2 - \\gamma }\n",
    " \\geq 0$$"
   ]
  },
  {
   "cell_type": "markdown",
   "metadata": {
    "slideshow": {
     "slide_type": "subslide"
    }
   },
   "source": [
    "-   <span>If $\\gamma=0$, the no price manipulation condition [(11)](#eq:fconstraint)\n",
    "    reduces to\n",
    "    $$f\\left(v_2\\right)\\,{v_1}-f\\left(v_1\\right)\\, v_2 \\geq 0$$ so\n",
    "    again, permanent impact must be linear.</span>\n",
    "\n",
    "-   <span>If $\\gamma=1$, equation [(11)](#eq:fconstraint) reduces to\n",
    "    $$f\\left(v_1\\right)+ f\\left(v_2\\right) \\geq 0$$ So long as\n",
    "    $f(\\cdot) \\geq 0$, there is no constraint on $f(\\cdot)$ when\n",
    "    $\\gamma=1$.</span>"
   ]
  },
  {
   "cell_type": "markdown",
   "metadata": {
    "slideshow": {
     "slide_type": "slide"
    }
   },
   "source": [
    "### The limit $v_1 \\ll v_2$ and $0<\\gamma<1$\n",
    "\n",
    "In this limit, we accumulate stock much more slowly than we liquidate\n",
    "it. Let $v_1=\\epsilon \\,v$ and $v_2=v$ with $\\epsilon \\ll\n",
    "1$. Then, in the limit $\\epsilon \\to 0$, with $0<\\gamma<1$, equation\n",
    "[(11)](#eq:fconstraint) becomes\n",
    "\n",
    "\\begin{eqnarray*}\n",
    "&&f(\\epsilon\\,v)\\, \\left\\{\\epsilon-(1+\\epsilon)^{2-\\gamma}+{\\epsilon}^{2-\\gamma}+1\\right\\}\n",
    "+ f(v)\\,{\\epsilon}^{2 - \\gamma } \\\\\n",
    "&\\sim&-f(\\epsilon\\,v)\\, (1-\\gamma)\\,\\epsilon\n",
    "+ f(v)\\,{\\epsilon}^{2 - \\gamma }\\geq 0\\end{eqnarray*}\n",
    "\n",
    "so for $\\epsilon$ sufficiently small we have"
   ]
  },
  {
   "cell_type": "markdown",
   "metadata": {
    "slideshow": {
     "slide_type": "subslide"
    }
   },
   "source": [
    "<a name=\"eq:rpdArb\"></a>(12)\n",
    "$$\\frac{f\\left(\\epsilon\\, v\\right)}{f\\left( v\\right)} \\leq\n",
    "\\frac{\\epsilon ^{1-\\gamma}}{1-\\gamma}\n",
    "$$\n",
    "\n",
    "If the condition [(12)](#eq:rpdArb) is not satisfied, price manipulation is\n",
    "possible by accumulating stock slowly, maximally splitting the trade,\n",
    "then liquidating it rapidly."
   ]
  },
  {
   "cell_type": "markdown",
   "metadata": {
    "slideshow": {
     "slide_type": "slide"
    }
   },
   "source": [
    "### Power-law impact: $f(v)\\propto v^\\delta$\n",
    "\n",
    "If $f(v)\\sim v^\\delta$ (as per Almgren et al.), the no price\n",
    "manipulation condition [(12)](#eq:rpdArb) reduces to\n",
    "\n",
    "$$\\epsilon ^{1-\\gamma-\\delta} \\geq 1-\\gamma$$ \n",
    "\n",
    "and we obtain\n",
    "\n",
    "<font color=\"red\">\n",
    "#### <span>Small $v$ no price manipulation condition</span>\n",
    "\n",
    "<span>\n",
    "$$\\gamma +\\delta \\geq 1$$</span>"
   ]
  },
  {
   "cell_type": "markdown",
   "metadata": {
    "slideshow": {
     "slide_type": "slide"
    }
   },
   "source": [
    "### Cost of VWAP with power-law market impact and decay\n",
    "\n",
    "From equation [(10)](#eq:costpowerlaw), the cost of an interval VWAP\n",
    "execution with duration $T$ is proportional to\n",
    "\n",
    "$$C=v\\,f\\left(v\\right)\\,{T^{2 - \\gamma}}$$\n",
    "\n",
    "Noting that $v=n/T$, and\n",
    "putting $f(v) \\propto (v/V)^\\delta$, the cost per share is proportional\n",
    "to\n",
    "\n",
    "$$\\left(\\frac{n}{V}\\right)^\\delta\\,{T^{1 - \\gamma-\\delta}}$$"
   ]
  },
  {
   "cell_type": "markdown",
   "metadata": {
    "slideshow": {
     "slide_type": "slide"
    }
   },
   "source": [
    "If\n",
    "$\\gamma+\\delta=1$, the cost per share is *independent* of $T$ and in\n",
    "particular, if $\\gamma=\\delta=1/2$, the impact cost per share is\n",
    "proportional to $\\sqrt{n/V}$, which is the well-known square-root\n",
    "formula for market impact as described by, for example, Grinold and\n",
    "Kahn."
   ]
  },
  {
   "cell_type": "markdown",
   "metadata": {
    "slideshow": {
     "slide_type": "slide"
    }
   },
   "source": [
    "### The square-root formula, $\\gamma$ and $\\delta$\n",
    "\n",
    "-   As we saw earlier, the square-root formula is surprisingly\n",
    "    consistent with empirical observation.\n",
    "\n",
    "-   Also, according to Almgren, $\\delta \\approx 0.6$ and according to\n",
    "    Bouchaud $\\gamma \\approx 0.4$.\n",
    "\n",
    "    -   In a recent phone conversation, Fabrizio Lillo reported that\n",
    "        analysis of 9 million US metaorders seems to give\n",
    "        $\\delta \\approx 0.54$ and $\\gamma \\approx 0.53$; the square-root\n",
    "        model describes this data very well!\n",
    "\n",
    "<font color=\"red\">\n",
    "####<span>Empirical observation</span>\n",
    "\n",
    "$$\\delta+\\gamma \\approx 1$$"
   ]
  },
  {
   "cell_type": "markdown",
   "metadata": {
    "slideshow": {
     "slide_type": "slide"
    }
   },
   "source": [
    "### The shape of the order book\n",
    "\n",
    "Recall from Lecture 2 that Bouchaud, Mézard and Potters (2002) derived\n",
    "the following approximation to the average density $\\rho(\\hat \\Delta)$\n",
    "of orders as a function of a rescaled distance $\\hat \\Delta$ from the\n",
    "price level at which the order is placed to the current price:\n",
    "\n",
    "<a name=\"eq:orderdensity\"></a>(13)\n",
    "$$\\rho(\\hat \\Delta)=e^{- \\hat \\Delta}\\,\\int_0^{\\hat\n",
    "\\Delta}\\,du\\,\\frac{\\sinh(u)}{u^{1+\\mu}}+ \\sinh(\\hat\n",
    "\\Delta)\\,\\int_{\\hat \\Delta}^\\infty\\,du\\,\\frac{e^{-u}}{u^{1+\\mu}}\n",
    "$$\n",
    "\n",
    "where $\\mu$ is the exponent in the empirical power-law distribution of\n",
    "new limit orders.\n",
    "\n"
   ]
  },
  {
   "cell_type": "markdown",
   "metadata": {
    "slideshow": {
     "slide_type": "slide"
    }
   },
   "source": [
    "### Approximate order density\n",
    "\n"
   ]
  },
  {
   "cell_type": "code",
   "execution_count": 1,
   "metadata": {
    "collapsed": true,
    "slideshow": {
     "slide_type": "fragment"
    }
   },
   "outputs": [],
   "source": [
    "# Bouchaud, Mézard and Potters book density computation with mu=0.5\n",
    "rho <- function(f){\n",
    "  function(delhat){\n",
    "  f1 <- function(u){sinh(u)*f(u)};\n",
    "  tmp1 <-  if(delhat < 0.00001) 0 else exp(-delhat)*integrate(f1, lower = 0, upper = delhat)$value;\n",
    "  f2 <- function(u){exp(-u)*f(u)};\n",
    "  tmp2 <- if(delhat < 0.00001) 0 else sinh(delhat)*integrate(f2, lower = delhat, upper = Inf)$value;\n",
    "  return(tmp1+tmp2);\n",
    "  }\n",
    "    \n",
    "}\n",
    "\n",
    "# Book density assuming rain distribution of incoming limit orders is Student-t with mu degrees of freedom\n",
    "ft <- function(mu){function(u){dt(u, df=mu)}};\n",
    "rhov <- function(mu){function(u){sapply(u,rho(ft(mu)))}};\n",
    "normt <- function(mu){integrate(rhov(mu),lower=0,upper=700)$value};\n",
    "rhovn <- function(mu){function(u){rhov(mu)(u)/normt(mu)}};"
   ]
  },
  {
   "cell_type": "code",
   "execution_count": 2,
   "metadata": {
    "collapsed": false,
    "slideshow": {
     "slide_type": "subslide"
    }
   },
   "outputs": [
    {
     "data": {
      "image/png": "[encoded data removed]",
      "image/svg+xml": [
       "<?xml version=\"1.0\" encoding=\"UTF-8\"?>\n",
       "<svg xmlns=\"http://www.w3.org/2000/svg\" xmlns:xlink=\"http://www.w3.org/1999/xlink\" width=\"504pt\" height=\"504pt\" viewBox=\"0 0 504 504\" version=\"1.1\">\n",
       "<defs>\n",
       "<g>\n",
       "<symbol overflow=\"visible\" id=\"glyph0-0\">\n",
       "<path style=\"stroke:none;\" d=\"M 0.390625 0 L 0.390625 -8.609375 L 7.21875 -8.609375 L 7.21875 0 Z M 6.140625 -1.078125 L 6.140625 -7.53125 L 1.46875 -7.53125 L 1.46875 -1.078125 Z M 6.140625 -1.078125 \"/>\n",
       "</symbol>\n",
       "<symbol overflow=\"visible\" id=\"glyph0-1\">\n",
       "<path style=\"stroke:none;\" d=\"M 3.25 -8.390625 C 4.332031 -8.390625 5.117188 -7.941406 5.609375 -7.046875 C 5.984375 -6.359375 6.171875 -5.410156 6.171875 -4.203125 C 6.171875 -3.066406 6 -2.125 5.65625 -1.375 C 5.164062 -0.300781 4.359375 0.234375 3.234375 0.234375 C 2.234375 0.234375 1.484375 -0.203125 0.984375 -1.078125 C 0.578125 -1.816406 0.375 -2.800781 0.375 -4.03125 C 0.375 -4.976562 0.5 -5.796875 0.75 -6.484375 C 1.207031 -7.753906 2.039062 -8.390625 3.25 -8.390625 Z M 3.234375 -0.734375 C 3.785156 -0.734375 4.222656 -0.972656 4.546875 -1.453125 C 4.867188 -1.941406 5.03125 -2.847656 5.03125 -4.171875 C 5.03125 -5.117188 4.910156 -5.898438 4.671875 -6.515625 C 4.441406 -7.128906 3.988281 -7.4375 3.3125 -7.4375 C 2.6875 -7.4375 2.226562 -7.144531 1.9375 -6.5625 C 1.65625 -5.976562 1.515625 -5.117188 1.515625 -3.984375 C 1.515625 -3.128906 1.609375 -2.441406 1.796875 -1.921875 C 2.078125 -1.128906 2.554688 -0.734375 3.234375 -0.734375 Z M 3.234375 -0.734375 \"/>\n",
       "</symbol>\n",
       "<symbol overflow=\"visible\" id=\"glyph0-2\">\n",
       "<path style=\"stroke:none;\" d=\"M 0.375 0 C 0.414062 -0.71875 0.566406 -1.34375 0.828125 -1.875 C 1.085938 -2.414062 1.59375 -2.90625 2.34375 -3.34375 L 3.46875 -4 C 3.96875 -4.289062 4.320312 -4.539062 4.53125 -4.75 C 4.851562 -5.070312 5.015625 -5.441406 5.015625 -5.859375 C 5.015625 -6.347656 4.863281 -6.734375 4.5625 -7.015625 C 4.269531 -7.304688 3.882812 -7.453125 3.40625 -7.453125 C 2.675781 -7.453125 2.175781 -7.179688 1.90625 -6.640625 C 1.75 -6.335938 1.664062 -5.929688 1.65625 -5.421875 L 0.578125 -5.421875 C 0.585938 -6.148438 0.722656 -6.742188 0.984375 -7.203125 C 1.441406 -8.015625 2.25 -8.421875 3.40625 -8.421875 C 4.363281 -8.421875 5.0625 -8.160156 5.5 -7.640625 C 5.945312 -7.117188 6.171875 -6.539062 6.171875 -5.90625 C 6.171875 -5.238281 5.9375 -4.664062 5.46875 -4.1875 C 5.195312 -3.90625 4.707031 -3.566406 4 -3.171875 L 3.1875 -2.734375 C 2.8125 -2.523438 2.515625 -2.320312 2.296875 -2.125 C 1.898438 -1.789062 1.648438 -1.414062 1.546875 -1 L 6.140625 -1 L 6.140625 0 Z M 0.375 0 \"/>\n",
       "</symbol>\n",
       "<symbol overflow=\"visible\" id=\"glyph0-3\">\n",
       "<path style=\"stroke:none;\" d=\"M 3.96875 -2.96875 L 3.96875 -6.78125 L 1.28125 -2.96875 Z M 3.984375 0 L 3.984375 -2.046875 L 0.3125 -2.046875 L 0.3125 -3.078125 L 4.15625 -8.421875 L 5.046875 -8.421875 L 5.046875 -2.96875 L 6.28125 -2.96875 L 6.28125 -2.046875 L 5.046875 -2.046875 L 5.046875 0 Z M 3.984375 0 \"/>\n",
       "</symbol>\n",
       "<symbol overflow=\"visible\" id=\"glyph0-4\">\n",
       "<path style=\"stroke:none;\" d=\"M 3.515625 -8.421875 C 4.453125 -8.421875 5.101562 -8.175781 5.46875 -7.6875 C 5.84375 -7.207031 6.03125 -6.707031 6.03125 -6.1875 L 4.984375 -6.1875 C 4.921875 -6.519531 4.820312 -6.78125 4.6875 -6.96875 C 4.425781 -7.320312 4.039062 -7.5 3.53125 -7.5 C 2.9375 -7.5 2.460938 -7.222656 2.109375 -6.671875 C 1.765625 -6.128906 1.578125 -5.351562 1.546875 -4.34375 C 1.785156 -4.695312 2.085938 -4.960938 2.453125 -5.140625 C 2.785156 -5.296875 3.160156 -5.375 3.578125 -5.375 C 4.285156 -5.375 4.898438 -5.148438 5.421875 -4.703125 C 5.941406 -4.253906 6.203125 -3.582031 6.203125 -2.6875 C 6.203125 -1.925781 5.953125 -1.25 5.453125 -0.65625 C 4.960938 -0.0703125 4.257812 0.21875 3.34375 0.21875 C 2.550781 0.21875 1.867188 -0.078125 1.296875 -0.671875 C 0.734375 -1.273438 0.453125 -2.28125 0.453125 -3.6875 C 0.453125 -4.726562 0.578125 -5.613281 0.828125 -6.34375 C 1.316406 -7.726562 2.210938 -8.421875 3.515625 -8.421875 Z M 3.4375 -0.71875 C 3.988281 -0.71875 4.398438 -0.90625 4.671875 -1.28125 C 4.953125 -1.65625 5.09375 -2.097656 5.09375 -2.609375 C 5.09375 -3.035156 4.96875 -3.441406 4.71875 -3.828125 C 4.476562 -4.210938 4.03125 -4.40625 3.375 -4.40625 C 2.925781 -4.40625 2.53125 -4.253906 2.1875 -3.953125 C 1.84375 -3.660156 1.671875 -3.210938 1.671875 -2.609375 C 1.671875 -2.078125 1.828125 -1.628906 2.140625 -1.265625 C 2.453125 -0.898438 2.882812 -0.71875 3.4375 -0.71875 Z M 3.4375 -0.71875 \"/>\n",
       "</symbol>\n",
       "<symbol overflow=\"visible\" id=\"glyph0-5\">\n",
       "<path style=\"stroke:none;\" d=\"M 3.265625 -4.875 C 3.734375 -4.875 4.097656 -5.003906 4.359375 -5.265625 C 4.617188 -5.523438 4.75 -5.832031 4.75 -6.1875 C 4.75 -6.5 4.625 -6.785156 4.375 -7.046875 C 4.125 -7.316406 3.742188 -7.453125 3.234375 -7.453125 C 2.722656 -7.453125 2.351562 -7.316406 2.125 -7.046875 C 1.894531 -6.785156 1.78125 -6.484375 1.78125 -6.140625 C 1.78125 -5.742188 1.925781 -5.429688 2.21875 -5.203125 C 2.519531 -4.984375 2.867188 -4.875 3.265625 -4.875 Z M 3.328125 -0.71875 C 3.816406 -0.71875 4.222656 -0.847656 4.546875 -1.109375 C 4.867188 -1.378906 5.03125 -1.773438 5.03125 -2.296875 C 5.03125 -2.835938 4.863281 -3.25 4.53125 -3.53125 C 4.195312 -3.8125 3.769531 -3.953125 3.25 -3.953125 C 2.75 -3.953125 2.335938 -3.804688 2.015625 -3.515625 C 1.703125 -3.234375 1.546875 -2.835938 1.546875 -2.328125 C 1.546875 -1.890625 1.691406 -1.507812 1.984375 -1.1875 C 2.273438 -0.875 2.722656 -0.71875 3.328125 -0.71875 Z M 1.828125 -4.46875 C 1.535156 -4.59375 1.304688 -4.738281 1.140625 -4.90625 C 0.835938 -5.21875 0.6875 -5.625 0.6875 -6.125 C 0.6875 -6.75 0.910156 -7.285156 1.359375 -7.734375 C 1.816406 -8.191406 2.457031 -8.421875 3.28125 -8.421875 C 4.09375 -8.421875 4.722656 -8.207031 5.171875 -7.78125 C 5.628906 -7.351562 5.859375 -6.859375 5.859375 -6.296875 C 5.859375 -5.773438 5.726562 -5.347656 5.46875 -5.015625 C 5.320312 -4.835938 5.09375 -4.660156 4.78125 -4.484375 C 5.125 -4.328125 5.394531 -4.144531 5.59375 -3.9375 C 5.96875 -3.539062 6.15625 -3.03125 6.15625 -2.40625 C 6.15625 -1.664062 5.90625 -1.039062 5.40625 -0.53125 C 4.914062 -0.0195312 4.21875 0.234375 3.3125 0.234375 C 2.488281 0.234375 1.796875 0.015625 1.234375 -0.421875 C 0.671875 -0.867188 0.390625 -1.515625 0.390625 -2.359375 C 0.390625 -2.847656 0.507812 -3.273438 0.75 -3.640625 C 0.988281 -4.003906 1.347656 -4.28125 1.828125 -4.46875 Z M 1.828125 -4.46875 \"/>\n",
       "</symbol>\n",
       "<symbol overflow=\"visible\" id=\"glyph0-6\">\n",
       "<path style=\"stroke:none;\" d=\"M 1.15625 -5.9375 L 1.15625 -6.75 C 1.914062 -6.820312 2.441406 -6.945312 2.734375 -7.125 C 3.035156 -7.300781 3.265625 -7.710938 3.421875 -8.359375 L 4.25 -8.359375 L 4.25 0 L 3.125 0 L 3.125 -5.9375 Z M 1.15625 -5.9375 \"/>\n",
       "</symbol>\n",
       "<symbol overflow=\"visible\" id=\"glyph0-7\">\n",
       "<path style=\"stroke:none;\" d=\"M 3.65625 -8.609375 L 5.734375 -3.546875 L 4.78125 -3.546875 L 3.21875 -7.4375 L 1.671875 -3.546875 L 0.703125 -3.546875 L 2.765625 -8.609375 Z M 3.65625 -8.609375 \"/>\n",
       "</symbol>\n",
       "<symbol overflow=\"visible\" id=\"glyph1-0\">\n",
       "<path style=\"stroke:none;\" d=\"M 0 -0.390625 L -8.609375 -0.390625 L -8.609375 -7.21875 L 0 -7.21875 Z M -1.078125 -6.140625 L -7.53125 -6.140625 L -7.53125 -1.46875 L -1.078125 -1.46875 Z M -1.078125 -6.140625 \"/>\n",
       "</symbol>\n",
       "<symbol overflow=\"visible\" id=\"glyph1-1\">\n",
       "<path style=\"stroke:none;\" d=\"M -8.390625 -3.25 C -8.390625 -4.332031 -7.941406 -5.117188 -7.046875 -5.609375 C -6.359375 -5.984375 -5.410156 -6.171875 -4.203125 -6.171875 C -3.066406 -6.171875 -2.125 -6 -1.375 -5.65625 C -0.300781 -5.164062 0.234375 -4.359375 0.234375 -3.234375 C 0.234375 -2.234375 -0.203125 -1.484375 -1.078125 -0.984375 C -1.816406 -0.578125 -2.800781 -0.375 -4.03125 -0.375 C -4.976562 -0.375 -5.796875 -0.5 -6.484375 -0.75 C -7.753906 -1.207031 -8.390625 -2.039062 -8.390625 -3.25 Z M -0.734375 -3.234375 C -0.734375 -3.785156 -0.972656 -4.222656 -1.453125 -4.546875 C -1.941406 -4.867188 -2.847656 -5.03125 -4.171875 -5.03125 C -5.117188 -5.03125 -5.898438 -4.910156 -6.515625 -4.671875 C -7.128906 -4.441406 -7.4375 -3.988281 -7.4375 -3.3125 C -7.4375 -2.6875 -7.144531 -2.226562 -6.5625 -1.9375 C -5.976562 -1.65625 -5.117188 -1.515625 -3.984375 -1.515625 C -3.128906 -1.515625 -2.441406 -1.609375 -1.921875 -1.796875 C -1.128906 -2.078125 -0.734375 -2.554688 -0.734375 -3.234375 Z M -0.734375 -3.234375 \"/>\n",
       "</symbol>\n",
       "<symbol overflow=\"visible\" id=\"glyph1-2\">\n",
       "<path style=\"stroke:none;\" d=\"M -1.28125 -1.03125 L -1.28125 -2.25 L 0 -2.25 L 0 -1.03125 Z M -1.28125 -1.03125 \"/>\n",
       "</symbol>\n",
       "<symbol overflow=\"visible\" id=\"glyph1-3\">\n",
       "<path style=\"stroke:none;\" d=\"M -2.140625 -1.484375 C -1.535156 -1.554688 -1.117188 -1.835938 -0.890625 -2.328125 C -0.773438 -2.578125 -0.71875 -2.863281 -0.71875 -3.1875 C -0.71875 -3.8125 -0.914062 -4.273438 -1.3125 -4.578125 C -1.707031 -4.878906 -2.148438 -5.03125 -2.640625 -5.03125 C -3.222656 -5.03125 -3.675781 -4.847656 -4 -4.484375 C -4.320312 -4.128906 -4.484375 -3.703125 -4.484375 -3.203125 C -4.484375 -2.835938 -4.410156 -2.523438 -4.265625 -2.265625 C -4.128906 -2.003906 -3.9375 -1.785156 -3.6875 -1.609375 L -3.734375 -0.6875 L -8.25 -1.328125 L -8.25 -5.6875 L -7.234375 -5.6875 L -7.234375 -2.125 L -4.90625 -1.765625 C -5.050781 -1.960938 -5.160156 -2.148438 -5.234375 -2.328125 C -5.359375 -2.640625 -5.421875 -3 -5.421875 -3.40625 C -5.421875 -4.175781 -5.171875 -4.828125 -4.671875 -5.359375 C -4.179688 -5.898438 -3.554688 -6.171875 -2.796875 -6.171875 C -2.003906 -6.171875 -1.300781 -5.921875 -0.6875 -5.421875 C -0.0820312 -4.929688 0.21875 -4.148438 0.21875 -3.078125 C 0.21875 -2.398438 0.0234375 -1.796875 -0.359375 -1.265625 C -0.742188 -0.742188 -1.335938 -0.453125 -2.140625 -0.390625 Z M -2.140625 -1.484375 \"/>\n",
       "</symbol>\n",
       "<symbol overflow=\"visible\" id=\"glyph1-4\">\n",
       "<path style=\"stroke:none;\" d=\"M -5.9375 -1.15625 L -6.75 -1.15625 C -6.820312 -1.914062 -6.945312 -2.441406 -7.125 -2.734375 C -7.300781 -3.035156 -7.710938 -3.265625 -8.359375 -3.421875 L -8.359375 -4.25 L 0 -4.25 L 0 -3.125 L -5.9375 -3.125 Z M -5.9375 -1.15625 \"/>\n",
       "</symbol>\n",
       "<symbol overflow=\"visible\" id=\"glyph1-5\">\n",
       "<path style=\"stroke:none;\" d=\"M -8.609375 -3.65625 L -3.546875 -5.734375 L -3.546875 -4.78125 L -7.4375 -3.21875 L -3.546875 -1.671875 L -3.546875 -0.703125 L -8.609375 -2.765625 Z M -8.609375 -3.65625 \"/>\n",
       "</symbol>\n",
       "<symbol overflow=\"visible\" id=\"glyph2-0\">\n",
       "<path style=\"stroke:none;\" d=\"M 0.59375 2.125 L 0.59375 -8.46875 L 6.59375 -8.46875 L 6.59375 2.125 Z M 1.265625 1.453125 L 5.9375 1.453125 L 5.9375 -7.78125 L 1.265625 -7.78125 Z M 1.265625 1.453125 \"/>\n",
       "</symbol>\n",
       "<symbol overflow=\"visible\" id=\"glyph2-1\">\n",
       "<path style=\"stroke:none;\" d=\"M 1.109375 -0.546875 L 5.578125 -0.546875 L 3.34375 -6.046875 Z M 7.140625 0 L 0.25 0 L 3.5625 -8.0625 L 3.828125 -8.0625 Z M 7.140625 0 \"/>\n",
       "</symbol>\n",
       "<symbol overflow=\"visible\" id=\"glyph3-0\">\n",
       "<path style=\"stroke:none;\" d=\"M 2.125 -0.59375 L -8.46875 -0.59375 L -8.46875 -6.59375 L 2.125 -6.59375 Z M 1.453125 -1.265625 L 1.453125 -5.9375 L -7.78125 -5.9375 L -7.78125 -1.265625 Z M 1.453125 -1.265625 \"/>\n",
       "</symbol>\n",
       "<symbol overflow=\"visible\" id=\"glyph3-1\">\n",
       "<path style=\"stroke:none;\" d=\"M -2.8125 -0.734375 C -3.75 -0.734375 -4.484375 -0.972656 -5.015625 -1.453125 C -5.546875 -1.941406 -5.8125 -2.601562 -5.8125 -3.4375 C -5.8125 -4.207031 -5.546875 -4.820312 -5.015625 -5.28125 C -4.492188 -5.75 -3.789062 -5.984375 -2.90625 -5.984375 C -2.007812 -5.984375 -1.273438 -5.742188 -0.703125 -5.265625 C -0.140625 -4.785156 0.140625 -4.1875 0.140625 -3.46875 C 0.140625 -3.144531 0.0703125 -2.828125 -0.0625 -2.515625 C -0.207031 -2.210938 -0.40625 -1.957031 -0.65625 -1.75 L 2.671875 -1.75 L 2.671875 -0.734375 Z M -5.484375 -3.21875 C -5.484375 -2.769531 -5.285156 -2.421875 -4.890625 -2.171875 C -4.503906 -1.921875 -3.953125 -1.796875 -3.234375 -1.796875 C -2.335938 -1.796875 -1.609375 -1.953125 -1.046875 -2.265625 C -0.492188 -2.585938 -0.21875 -2.992188 -0.21875 -3.484375 C -0.21875 -3.960938 -0.394531 -4.316406 -0.75 -4.546875 C -1.113281 -4.785156 -1.664062 -4.90625 -2.40625 -4.90625 C -3.332031 -4.90625 -4.078125 -4.75 -4.640625 -4.4375 C -5.203125 -4.125 -5.484375 -3.71875 -5.484375 -3.21875 Z M -5.484375 -3.21875 \"/>\n",
       "</symbol>\n",
       "<symbol overflow=\"visible\" id=\"glyph3-2\">\n",
       "<path style=\"stroke:none;\" d=\"M -0.546875 -1.109375 L -0.546875 -5.578125 L -6.046875 -3.34375 Z M 0 -7.140625 L 0 -0.25 L -8.0625 -3.5625 L -8.0625 -3.828125 Z M 0 -7.140625 \"/>\n",
       "</symbol>\n",
       "<symbol overflow=\"visible\" id=\"glyph4-0\">\n",
       "<path style=\"stroke:none;\" d=\"M 2.65625 -0.75 L -10.578125 -0.75 L -10.578125 -8.25 L 2.65625 -8.25 Z M 1.8125 -1.59375 L 1.8125 -7.40625 L -9.734375 -7.40625 L -9.734375 -1.59375 Z M 1.8125 -1.59375 \"/>\n",
       "</symbol>\n",
       "<symbol overflow=\"visible\" id=\"glyph4-1\">\n",
       "<path style=\"stroke:none;\" d=\"M -10.546875 -4.296875 C -9.796875 -3.460938 -8.925781 -2.867188 -7.9375 -2.515625 C -6.945312 -2.171875 -5.617188 -2 -3.953125 -2 C -2.273438 -2 -0.945312 -2.171875 0.03125 -2.515625 C 1.019531 -2.867188 1.890625 -3.460938 2.640625 -4.296875 L 2.953125 -3.984375 C 2.191406 -2.953125 1.203125 -2.144531 -0.015625 -1.5625 C -1.234375 -0.976562 -2.546875 -0.6875 -3.953125 -0.6875 C -5.359375 -0.6875 -6.671875 -0.976562 -7.890625 -1.5625 C -9.117188 -2.15625 -10.109375 -2.960938 -10.859375 -3.984375 Z M -10.546875 -4.296875 \"/>\n",
       "</symbol>\n",
       "<symbol overflow=\"visible\" id=\"glyph4-2\">\n",
       "<path style=\"stroke:none;\" d=\"M -10.546875 -0.703125 L -10.859375 -0.984375 C -10.109375 -2.023438 -9.117188 -2.835938 -7.890625 -3.421875 C -6.660156 -4.015625 -5.347656 -4.3125 -3.953125 -4.3125 C -2.546875 -4.3125 -1.234375 -4.015625 -0.015625 -3.421875 C 1.203125 -2.835938 2.191406 -2.023438 2.953125 -0.984375 L 2.640625 -0.703125 C 1.898438 -1.535156 1.035156 -2.125 0.046875 -2.46875 C -0.929688 -2.820312 -2.265625 -3 -3.953125 -3 C -5.628906 -3 -6.957031 -2.820312 -7.9375 -2.46875 C -8.925781 -2.125 -9.796875 -1.535156 -10.546875 -0.703125 Z M -10.546875 -0.703125 \"/>\n",
       "</symbol>\n",
       "</g>\n",
       "</defs>\n",
       "<g id=\"surface1\">\n",
       "<rect x=\"0\" y=\"0\" width=\"504\" height=\"504\" style=\"fill:rgb(100%,100%,100%);fill-opacity:1;stroke:none;\"/>\n",
       "<path style=\"fill:none;stroke-width:0.75;stroke-linecap:round;stroke-linejoin:round;stroke:rgb(100%,0%,0%);stroke-opacity:1;stroke-miterlimit:10;\" d=\"M 74.398438 416.800781 L 74.785156 408.074219 L 75.167969 399.5 L 75.554688 391.070312 L 75.9375 382.789062 L 76.320312 374.65625 L 76.707031 366.664062 L 77.089844 358.820312 L 77.476562 351.117188 L 77.859375 343.554688 L 78.242188 336.132812 L 78.628906 328.851562 L 79.011719 321.710938 L 79.398438 314.703125 L 79.78125 307.835938 L 80.164062 301.101562 L 80.550781 294.5 L 80.933594 288.027344 L 81.320312 281.691406 L 81.703125 275.480469 L 82.085938 269.398438 L 82.472656 263.445312 L 82.855469 257.613281 L 83.242188 251.910156 L 83.625 246.324219 L 84.007812 240.863281 L 84.394531 235.519531 L 84.777344 230.296875 L 85.164062 225.1875 L 85.546875 220.195312 L 85.929688 215.3125 L 86.316406 210.546875 L 86.699219 205.890625 L 87.085938 201.34375 L 87.46875 196.902344 L 87.851562 192.566406 L 88.238281 188.339844 L 88.621094 184.210938 L 89.007812 180.1875 L 89.390625 176.261719 L 89.773438 172.4375 L 90.160156 168.707031 L 90.542969 165.074219 L 90.929688 161.535156 L 91.3125 158.089844 L 91.699219 154.734375 L 92.082031 151.46875 L 92.464844 148.292969 L 92.851562 145.203125 L 93.234375 142.199219 L 93.621094 139.277344 L 94.003906 136.441406 L 94.386719 133.683594 L 94.773438 131.007812 L 95.15625 128.410156 L 95.542969 125.890625 L 95.925781 123.445312 L 96.308594 121.074219 L 96.695312 118.777344 L 97.078125 116.550781 L 97.464844 114.398438 L 97.847656 112.3125 L 98.230469 110.296875 L 98.617188 108.347656 L 99 106.460938 L 99.386719 104.640625 L 99.769531 102.886719 L 100.152344 101.191406 L 100.539062 99.558594 L 100.921875 97.984375 L 101.308594 96.46875 L 101.691406 95.011719 L 102.074219 93.609375 L 102.460938 92.265625 L 102.84375 90.972656 L 103.230469 89.738281 L 103.613281 88.550781 L 103.996094 87.417969 L 104.382812 86.332031 L 104.765625 85.296875 L 105.152344 84.3125 L 105.535156 83.375 L 105.917969 82.480469 L 106.304688 81.632812 L 106.6875 80.832031 L 107.074219 80.074219 L 107.457031 79.359375 L 107.839844 78.683594 L 108.226562 78.050781 L 108.609375 77.457031 L 108.996094 76.90625 L 109.378906 76.390625 L 109.761719 75.914062 L 110.148438 75.476562 L 110.53125 75.070312 L 110.917969 74.703125 L 111.300781 74.371094 L 111.683594 74.070312 L 112.070312 73.804688 L 112.453125 73.574219 L 112.839844 73.371094 L 113.222656 73.203125 L 113.605469 73.0625 L 113.992188 72.953125 L 114.375 72.875 L 114.761719 72.824219 L 115.144531 72.800781 L 115.527344 72.804688 L 115.914062 72.835938 L 116.296875 72.890625 L 116.683594 72.976562 L 117.066406 73.082031 L 117.449219 73.214844 L 117.835938 73.371094 L 118.21875 73.550781 L 118.605469 73.753906 L 118.988281 73.980469 L 119.371094 74.226562 L 119.757812 74.492188 L 120.140625 74.78125 L 120.527344 75.09375 L 120.910156 75.421875 L 121.292969 75.769531 L 121.679688 76.136719 L 122.0625 76.523438 L 122.449219 76.929688 L 122.832031 77.351562 L 123.21875 77.789062 L 123.601562 78.246094 L 123.984375 78.71875 L 124.371094 79.207031 L 124.753906 79.710938 L 125.140625 80.230469 L 125.523438 80.761719 L 125.90625 81.3125 L 126.292969 81.875 L 126.675781 82.449219 L 127.0625 83.039062 L 127.445312 83.640625 L 127.828125 84.257812 L 128.214844 84.886719 L 128.597656 85.527344 L 128.984375 86.175781 L 129.367188 86.839844 L 129.75 87.515625 L 130.136719 88.199219 L 130.519531 88.894531 L 130.90625 89.601562 L 131.289062 90.316406 L 131.671875 91.039062 L 132.058594 91.773438 L 132.441406 92.519531 L 132.828125 93.269531 L 133.210938 94.03125 L 133.59375 94.800781 L 133.980469 95.578125 L 134.363281 96.363281 L 134.75 97.15625 L 135.132812 97.957031 L 135.515625 98.765625 L 135.902344 99.578125 L 136.285156 100.398438 L 136.671875 101.226562 L 137.054688 102.058594 L 137.4375 102.898438 L 137.824219 103.746094 L 138.207031 104.597656 L 138.59375 105.453125 L 139.359375 107.179688 L 139.746094 108.054688 L 140.128906 108.929688 L 140.515625 109.808594 L 140.898438 110.695312 L 141.28125 111.585938 L 141.667969 112.476562 L 142.050781 113.375 L 142.4375 114.277344 L 142.820312 115.179688 L 143.203125 116.085938 L 143.589844 117 L 143.972656 117.910156 L 144.359375 118.828125 L 145.125 120.671875 L 145.511719 121.59375 L 145.894531 122.523438 L 146.28125 123.449219 L 147.046875 125.316406 L 147.433594 126.25 L 147.816406 127.1875 L 148.203125 128.125 L 148.585938 129.066406 L 148.96875 130.003906 L 149.355469 130.949219 L 149.738281 131.890625 L 150.125 132.835938 L 150.890625 134.726562 L 151.277344 135.675781 L 151.660156 136.621094 L 152.046875 137.570312 L 152.8125 139.46875 L 153.199219 140.417969 L 153.582031 141.367188 L 153.96875 142.316406 L 154.351562 143.265625 L 154.738281 144.214844 L 155.503906 146.113281 L 155.890625 147.0625 L 156.273438 148.011719 L 156.660156 148.957031 L 157.042969 149.90625 L 157.425781 150.851562 L 157.8125 151.796875 L 158.195312 152.742188 L 158.582031 153.6875 L 158.964844 154.628906 L 159.347656 155.574219 L 159.734375 156.515625 L 160.117188 157.453125 L 160.503906 158.394531 L 161.269531 160.269531 L 161.65625 161.203125 L 162.039062 162.140625 L 162.425781 163.070312 L 162.808594 164.003906 L 163.191406 164.933594 L 163.578125 165.863281 L 163.960938 166.789062 L 164.347656 167.714844 L 165.113281 169.558594 L 165.5 170.480469 L 165.882812 171.398438 L 166.269531 172.3125 L 167.035156 174.140625 L 167.421875 175.050781 L 167.804688 175.960938 L 168.191406 176.867188 L 168.957031 178.671875 L 169.34375 179.574219 L 169.726562 180.472656 L 170.113281 181.367188 L 170.496094 182.261719 L 170.878906 183.152344 L 171.265625 184.042969 L 171.648438 184.929688 L 172.035156 185.8125 L 172.417969 186.695312 L 172.800781 187.574219 L 173.1875 188.453125 L 173.570312 189.328125 L 173.957031 190.199219 L 174.339844 191.070312 L 174.722656 191.9375 L 175.109375 192.800781 L 175.492188 193.664062 L 175.878906 194.523438 L 176.644531 196.234375 L 177.03125 197.085938 L 177.414062 197.9375 L 177.800781 198.78125 L 178.566406 200.46875 L 178.953125 201.304688 L 179.335938 202.140625 L 179.722656 202.976562 L 180.488281 204.632812 L 180.875 205.457031 L 181.257812 206.28125 L 181.644531 207.101562 L 182.027344 207.917969 L 182.410156 208.730469 L 182.796875 209.542969 L 183.179688 210.347656 L 183.566406 211.15625 L 184.332031 212.757812 L 184.71875 213.554688 L 185.101562 214.347656 L 185.488281 215.140625 L 186.253906 216.710938 L 186.640625 217.496094 L 187.023438 218.273438 L 187.410156 219.050781 L 187.792969 219.824219 L 188.179688 220.59375 L 188.5625 221.363281 L 188.945312 222.128906 L 189.332031 222.890625 L 189.714844 223.648438 L 190.101562 224.40625 L 190.484375 225.160156 L 190.867188 225.910156 L 191.253906 226.65625 L 191.636719 227.402344 L 192.023438 228.144531 L 192.40625 228.882812 L 192.789062 229.617188 L 193.175781 230.351562 L 193.558594 231.082031 L 193.945312 231.808594 L 194.710938 233.253906 L 195.097656 233.972656 L 195.480469 234.6875 L 195.867188 235.402344 L 196.632812 236.816406 L 197.019531 237.519531 L 197.402344 238.222656 L 197.789062 238.921875 L 198.171875 239.613281 L 198.554688 240.308594 L 198.941406 240.996094 L 199.324219 241.683594 L 199.710938 242.367188 L 200.476562 243.726562 L 200.863281 244.398438 L 201.246094 245.074219 L 201.632812 245.742188 L 202.398438 247.070312 L 202.785156 247.730469 L 203.167969 248.390625 L 203.554688 249.046875 L 203.9375 249.699219 L 204.320312 250.347656 L 204.707031 250.992188 L 205.089844 251.636719 L 205.476562 252.277344 L 205.859375 252.917969 L 206.242188 253.550781 L 206.628906 254.183594 L 207.011719 254.8125 L 207.398438 255.441406 L 207.78125 256.066406 L 208.164062 256.6875 L 208.550781 257.304688 L 208.933594 257.921875 L 209.320312 258.535156 L 210.085938 259.753906 L 210.472656 260.359375 L 210.855469 260.960938 L 211.242188 261.5625 L 211.625 262.15625 L 212.007812 262.753906 L 212.394531 263.34375 L 212.777344 263.933594 L 213.164062 264.519531 L 213.929688 265.683594 L 214.316406 266.261719 L 214.699219 266.839844 L 215.085938 267.410156 L 215.851562 268.550781 L 216.238281 269.113281 L 216.621094 269.679688 L 217.007812 270.238281 L 217.390625 270.796875 L 217.773438 271.351562 L 218.160156 271.902344 L 218.542969 272.453125 L 218.929688 273 L 219.3125 273.546875 L 219.699219 274.089844 L 220.082031 274.628906 L 220.464844 275.164062 L 220.851562 275.699219 L 221.234375 276.234375 L 221.621094 276.761719 L 222.386719 277.816406 L 222.773438 278.339844 L 223.15625 278.859375 L 223.542969 279.375 L 224.308594 280.40625 L 224.695312 280.914062 L 225.078125 281.425781 L 225.464844 281.929688 L 225.847656 282.433594 L 226.230469 282.933594 L 226.617188 283.433594 L 227 283.929688 L 227.386719 284.425781 L 227.769531 284.914062 L 228.152344 285.40625 L 228.539062 285.894531 L 228.921875 286.378906 L 229.308594 286.859375 L 230.074219 287.820312 L 230.460938 288.292969 L 230.84375 288.769531 L 231.230469 289.238281 L 231.996094 290.175781 L 232.382812 290.640625 L 232.765625 291.101562 L 233.152344 291.5625 L 233.917969 292.476562 L 234.304688 292.929688 L 234.6875 293.382812 L 235.074219 293.832031 L 235.457031 294.28125 L 235.839844 294.726562 L 236.226562 295.167969 L 236.609375 295.609375 L 236.996094 296.046875 L 237.761719 296.921875 L 238.148438 297.351562 L 238.53125 297.785156 L 238.917969 298.210938 L 239.300781 298.640625 L 239.683594 299.0625 L 240.070312 299.484375 L 240.453125 299.90625 L 240.839844 300.324219 L 241.222656 300.742188 L 241.605469 301.15625 L 241.992188 301.570312 L 242.375 301.980469 L 242.761719 302.386719 L 243.144531 302.796875 L 243.527344 303.199219 L 243.914062 303.601562 L 244.296875 304.003906 L 244.683594 304.402344 L 245.066406 304.800781 L 245.449219 305.195312 L 245.835938 305.589844 L 246.21875 305.980469 L 246.605469 306.371094 L 247.371094 307.144531 L 247.757812 307.527344 L 248.140625 307.910156 L 248.527344 308.292969 L 248.910156 308.667969 L 249.292969 309.046875 L 249.679688 309.421875 L 250.0625 309.796875 L 250.449219 310.167969 L 250.832031 310.535156 L 251.21875 310.902344 L 251.984375 311.636719 L 252.371094 311.996094 L 252.753906 312.359375 L 253.140625 312.71875 L 253.90625 313.429688 L 254.292969 313.785156 L 254.675781 314.136719 L 255.0625 314.488281 L 255.445312 314.839844 L 255.828125 315.1875 L 256.214844 315.53125 L 256.597656 315.875 L 256.984375 316.21875 L 257.75 316.898438 L 258.136719 317.238281 L 258.519531 317.574219 L 258.90625 317.90625 L 259.289062 318.242188 L 259.671875 318.570312 L 260.058594 318.902344 L 260.441406 319.230469 L 260.828125 319.558594 L 261.59375 320.207031 L 261.980469 320.527344 L 262.363281 320.847656 L 262.75 321.167969 L 263.515625 321.800781 L 263.902344 322.117188 L 264.285156 322.429688 L 264.671875 322.742188 L 265.4375 323.359375 L 265.824219 323.667969 L 266.207031 323.972656 L 266.59375 324.277344 L 267.359375 324.878906 L 267.746094 325.179688 L 268.128906 325.480469 L 268.515625 325.777344 L 268.898438 326.074219 L 269.28125 326.367188 L 269.667969 326.660156 L 270.050781 326.953125 L 270.4375 327.242188 L 271.203125 327.820312 L 271.589844 328.105469 L 271.972656 328.390625 L 272.359375 328.675781 L 273.125 329.238281 L 273.511719 329.515625 L 273.894531 329.796875 L 274.28125 330.070312 L 274.664062 330.347656 L 275.046875 330.621094 L 275.433594 330.894531 L 275.816406 331.167969 L 276.203125 331.4375 L 276.96875 331.976562 L 277.355469 332.242188 L 277.738281 332.507812 L 278.125 332.773438 L 278.890625 333.296875 L 279.277344 333.558594 L 279.660156 333.820312 L 280.046875 334.078125 L 280.429688 334.335938 L 280.8125 334.589844 L 281.199219 334.84375 L 281.582031 335.097656 L 281.96875 335.351562 L 282.351562 335.601562 L 282.738281 335.851562 L 283.503906 336.351562 L 283.890625 336.597656 L 284.273438 336.84375 L 284.660156 337.085938 L 285.042969 337.332031 L 285.425781 337.574219 L 285.8125 337.8125 L 286.195312 338.054688 L 286.582031 338.292969 L 286.964844 338.53125 L 287.347656 338.765625 L 287.734375 339.003906 L 288.117188 339.238281 L 288.503906 339.472656 L 289.269531 339.933594 L 289.65625 340.164062 L 290.039062 340.394531 L 290.425781 340.621094 L 290.808594 340.851562 L 291.191406 341.078125 L 291.578125 341.300781 L 291.960938 341.527344 L 292.347656 341.75 L 292.730469 341.972656 L 293.113281 342.191406 L 293.5 342.414062 L 293.882812 342.632812 L 294.269531 342.851562 L 294.652344 343.066406 L 295.035156 343.285156 L 295.421875 343.5 L 295.804688 343.714844 L 296.191406 343.925781 L 296.574219 344.140625 L 296.957031 344.351562 L 297.34375 344.5625 L 297.726562 344.769531 L 298.113281 344.980469 L 298.878906 345.394531 L 299.265625 345.597656 L 299.648438 345.804688 L 300.035156 346.007812 L 300.800781 346.414062 L 301.1875 346.613281 L 301.570312 346.816406 L 301.957031 347.015625 L 302.339844 347.214844 L 302.722656 347.410156 L 303.109375 347.609375 L 303.492188 347.804688 L 303.878906 348 L 304.261719 348.195312 L 304.644531 348.386719 L 305.03125 348.578125 L 305.414062 348.773438 L 305.800781 348.960938 L 306.566406 349.34375 L 306.953125 349.53125 L 307.335938 349.71875 L 307.722656 349.90625 L 308.105469 350.089844 L 308.488281 350.277344 L 308.875 350.460938 L 309.257812 350.644531 L 309.644531 350.828125 L 310.027344 351.007812 L 310.410156 351.191406 L 310.796875 351.371094 L 311.179688 351.550781 L 311.566406 351.730469 L 311.949219 351.90625 L 312.332031 352.085938 L 312.71875 352.261719 L 313.101562 352.4375 L 313.488281 352.613281 L 313.871094 352.785156 L 314.253906 352.960938 L 314.640625 353.132812 L 315.023438 353.304688 L 315.410156 353.476562 L 315.792969 353.644531 L 316.179688 353.816406 L 316.945312 354.152344 L 317.332031 354.320312 L 317.714844 354.488281 L 318.101562 354.652344 L 318.484375 354.820312 L 318.867188 354.984375 L 319.253906 355.148438 L 319.636719 355.3125 L 320.023438 355.476562 L 320.789062 355.796875 L 321.175781 355.960938 L 321.558594 356.117188 L 321.945312 356.277344 L 322.328125 356.4375 L 322.710938 356.59375 L 323.097656 356.753906 L 323.480469 356.910156 L 323.867188 357.066406 L 324.25 357.21875 L 324.632812 357.375 L 325.019531 357.53125 L 325.402344 357.683594 L 325.789062 357.835938 L 326.554688 358.140625 L 326.941406 358.289062 L 327.324219 358.441406 L 327.710938 358.589844 L 328.476562 358.886719 L 328.863281 359.035156 L 329.246094 359.183594 L 329.632812 359.328125 L 330.015625 359.476562 L 330.398438 359.621094 L 330.785156 359.765625 L 331.167969 359.910156 L 331.554688 360.054688 L 331.9375 360.195312 L 332.320312 360.339844 L 332.707031 360.480469 L 333.089844 360.621094 L 333.476562 360.761719 L 334.242188 361.042969 L 334.628906 361.179688 L 335.011719 361.320312 L 335.398438 361.457031 L 336.164062 361.730469 L 336.550781 361.867188 L 336.933594 362.003906 L 337.320312 362.136719 L 337.703125 362.273438 L 338.085938 362.40625 L 338.472656 362.539062 L 338.855469 362.671875 L 339.242188 362.804688 L 340.007812 363.070312 L 340.394531 363.199219 L 340.777344 363.332031 L 341.164062 363.460938 L 341.929688 363.71875 L 342.316406 363.847656 L 342.699219 363.972656 L 343.085938 364.101562 L 343.46875 364.226562 L 343.851562 364.355469 L 344.238281 364.480469 L 344.621094 364.605469 L 345.007812 364.730469 L 345.390625 364.855469 L 345.773438 364.976562 L 346.160156 365.101562 L 346.542969 365.222656 L 346.929688 365.347656 L 347.3125 365.46875 L 347.699219 365.589844 L 348.464844 365.832031 L 348.851562 365.949219 L 349.234375 366.070312 L 349.621094 366.191406 L 350.386719 366.425781 L 350.773438 366.542969 L 351.15625 366.660156 L 351.542969 366.777344 L 352.308594 367.011719 L 352.695312 367.125 L 353.078125 367.238281 L 353.464844 367.355469 L 354.230469 367.582031 L 354.617188 367.695312 L 355 367.808594 L 355.386719 367.921875 L 355.769531 368.03125 L 356.152344 368.144531 L 356.539062 368.253906 L 356.921875 368.367188 L 357.308594 368.476562 L 358.074219 368.695312 L 358.460938 368.804688 L 358.84375 368.914062 L 359.230469 369.019531 L 359.613281 369.128906 L 359.996094 369.234375 L 360.382812 369.34375 L 360.765625 369.449219 L 361.152344 369.554688 L 361.917969 369.765625 L 362.304688 369.871094 L 362.6875 369.976562 L 363.074219 370.082031 L 363.457031 370.183594 L 363.839844 370.289062 L 364.226562 370.390625 L 364.609375 370.492188 L 364.996094 370.59375 L 365.761719 370.796875 L 366.148438 370.898438 L 366.53125 371 L 366.917969 371.101562 L 367.300781 371.199219 L 367.683594 371.300781 L 368.070312 371.398438 L 368.453125 371.5 L 368.839844 371.597656 L 369.605469 371.792969 L 369.992188 371.890625 L 370.375 371.988281 L 370.761719 372.085938 L 371.144531 372.179688 L 371.527344 372.277344 L 371.914062 372.371094 L 372.296875 372.46875 L 372.683594 372.5625 L 373.449219 372.75 L 373.835938 372.847656 L 374.21875 372.941406 L 374.605469 373.03125 L 375.371094 373.21875 L 375.757812 373.3125 L 376.140625 373.402344 L 376.527344 373.496094 L 377.292969 373.675781 L 377.679688 373.765625 L 378.0625 373.859375 L 378.449219 373.949219 L 378.832031 374.039062 L 379.21875 374.128906 L 379.601562 374.214844 L 379.984375 374.304688 L 380.371094 374.394531 L 380.753906 374.480469 L 381.140625 374.570312 L 381.90625 374.742188 L 382.292969 374.832031 L 382.675781 374.917969 L 383.0625 375.003906 L 383.828125 375.175781 L 384.214844 375.261719 L 384.597656 375.347656 L 384.984375 375.429688 L 385.75 375.601562 L 386.136719 375.683594 L 386.519531 375.765625 L 386.90625 375.851562 L 387.671875 376.015625 L 388.058594 376.097656 L 388.441406 376.179688 L 388.828125 376.261719 L 389.59375 376.425781 L 389.980469 376.507812 L 390.363281 376.589844 L 390.75 376.667969 L 391.132812 376.75 L 391.515625 376.828125 L 391.902344 376.910156 L 392.285156 376.988281 L 392.671875 377.066406 L 393.054688 377.144531 L 393.4375 377.226562 L 393.824219 377.304688 L 394.207031 377.382812 L 394.59375 377.460938 L 394.976562 377.535156 L 395.359375 377.613281 L 395.746094 377.691406 L 396.128906 377.769531 L 396.515625 377.84375 L 396.898438 377.921875 L 397.28125 377.996094 L 397.667969 378.074219 L 398.050781 378.148438 L 398.4375 378.222656 L 398.820312 378.296875 L 399.203125 378.375 L 399.589844 378.449219 L 399.972656 378.523438 L 400.359375 378.597656 L 400.742188 378.671875 L 401.125 378.742188 L 401.511719 378.816406 L 401.894531 378.890625 L 402.28125 378.964844 L 402.664062 379.035156 L 403.046875 379.109375 L 403.433594 379.179688 L 403.816406 379.253906 L 404.203125 379.324219 L 404.96875 379.464844 L 405.355469 379.539062 L 405.738281 379.609375 L 406.125 379.679688 L 406.890625 379.820312 L 407.277344 379.890625 L 407.660156 379.957031 L 408.046875 380.027344 L 408.429688 380.097656 L 408.8125 380.164062 L 409.199219 380.234375 L 409.582031 380.304688 L 409.96875 380.371094 L 410.351562 380.441406 L 410.738281 380.507812 L 411.503906 380.640625 L 411.890625 380.710938 L 412.273438 380.777344 L 412.660156 380.84375 L 413.425781 380.976562 L 413.8125 381.042969 L 414.195312 381.109375 L 414.582031 381.175781 L 414.964844 381.238281 L 415.347656 381.304688 L 415.734375 381.371094 L 416.117188 381.433594 L 416.503906 381.5 L 416.886719 381.5625 L 417.269531 381.628906 L 417.65625 381.691406 L 418.039062 381.757812 L 418.425781 381.820312 L 419.191406 381.945312 L 419.578125 382.007812 L 419.960938 382.074219 L 420.347656 382.136719 L 421.113281 382.261719 L 421.5 382.320312 L 421.882812 382.382812 L 422.269531 382.445312 L 423.035156 382.570312 L 423.421875 382.628906 L 423.804688 382.691406 L 424.191406 382.75 L 424.574219 382.8125 L 424.957031 382.871094 L 425.34375 382.933594 L 425.726562 382.992188 L 426.113281 383.054688 L 426.878906 383.171875 L 427.265625 383.230469 L 427.648438 383.289062 L 428.035156 383.347656 L 428.417969 383.410156 L 428.800781 383.46875 L 429.1875 383.523438 L 429.570312 383.582031 L 429.957031 383.640625 L 430.722656 383.757812 L 431.109375 383.816406 L 431.492188 383.871094 L 431.878906 383.929688 L 432.261719 383.988281 L 432.644531 384.042969 L 433.03125 384.101562 L 433.414062 384.15625 L 433.800781 384.214844 L 434.566406 384.324219 L 434.953125 384.382812 L 435.335938 384.4375 L 435.722656 384.492188 L 436.488281 384.601562 L 436.875 384.660156 L 437.257812 384.714844 L 437.644531 384.769531 L 438.027344 384.824219 L 438.410156 384.875 L 438.796875 384.929688 L 439.179688 384.984375 L 439.566406 385.039062 L 440.332031 385.148438 L 440.71875 385.199219 L 441.101562 385.253906 L 441.488281 385.304688 L 442.253906 385.414062 L 442.640625 385.464844 L 443.023438 385.519531 L 443.410156 385.570312 L 443.792969 385.621094 L 444.179688 385.675781 L 444.945312 385.777344 L 445.332031 385.828125 L 445.714844 385.882812 L 446.101562 385.933594 L 446.867188 386.035156 L 447.253906 386.085938 L 447.636719 386.136719 L 448.023438 386.1875 L 448.789062 386.289062 L 449.175781 386.339844 L 449.558594 386.386719 L 449.945312 386.4375 L 450.710938 386.539062 L 451.097656 386.585938 L 451.480469 386.636719 L 451.867188 386.6875 L 452.25 386.734375 L 452.632812 386.785156 L 453.019531 386.832031 L 453.402344 386.882812 L 453.789062 386.929688 L 454.171875 386.976562 L 454.554688 387.027344 L 454.941406 387.074219 L 455.324219 387.121094 L 455.710938 387.171875 L 456.476562 387.265625 L 456.863281 387.3125 L 457.246094 387.359375 L 457.632812 387.40625 L 458.015625 387.457031 L 458.398438 387.503906 \"/>\n",
       "<path style=\"fill:none;stroke-width:0.75;stroke-linecap:round;stroke-linejoin:round;stroke:rgb(0%,0%,0%);stroke-opacity:1;stroke-miterlimit:10;\" d=\"M 74.398438 430.558594 L 458.398438 430.558594 \"/>\n",
       "<path style=\"fill:none;stroke-width:0.75;stroke-linecap:round;stroke-linejoin:round;stroke:rgb(0%,0%,0%);stroke-opacity:1;stroke-miterlimit:10;\" d=\"M 74.398438 430.558594 L 74.398438 437.761719 \"/>\n",
       "<path style=\"fill:none;stroke-width:0.75;stroke-linecap:round;stroke-linejoin:round;stroke:rgb(0%,0%,0%);stroke-opacity:1;stroke-miterlimit:10;\" d=\"M 151.199219 430.558594 L 151.199219 437.761719 \"/>\n",
       "<path style=\"fill:none;stroke-width:0.75;stroke-linecap:round;stroke-linejoin:round;stroke:rgb(0%,0%,0%);stroke-opacity:1;stroke-miterlimit:10;\" d=\"M 228 430.558594 L 228 437.761719 \"/>\n",
       "<path style=\"fill:none;stroke-width:0.75;stroke-linecap:round;stroke-linejoin:round;stroke:rgb(0%,0%,0%);stroke-opacity:1;stroke-miterlimit:10;\" d=\"M 304.800781 430.558594 L 304.800781 437.761719 \"/>\n",
       "<path style=\"fill:none;stroke-width:0.75;stroke-linecap:round;stroke-linejoin:round;stroke:rgb(0%,0%,0%);stroke-opacity:1;stroke-miterlimit:10;\" d=\"M 381.601562 430.558594 L 381.601562 437.761719 \"/>\n",
       "<path style=\"fill:none;stroke-width:0.75;stroke-linecap:round;stroke-linejoin:round;stroke:rgb(0%,0%,0%);stroke-opacity:1;stroke-miterlimit:10;\" d=\"M 458.398438 430.558594 L 458.398438 437.761719 \"/>\n",
       "<g style=\"fill:rgb(0%,0%,0%);fill-opacity:1;\">\n",
       "  <use xlink:href=\"#glyph0-1\" x=\"71.0625\" y=\"456.480469\"/>\n",
       "</g>\n",
       "<g style=\"fill:rgb(0%,0%,0%);fill-opacity:1;\">\n",
       "  <use xlink:href=\"#glyph0-2\" x=\"147.863281\" y=\"456.480469\"/>\n",
       "</g>\n",
       "<g style=\"fill:rgb(0%,0%,0%);fill-opacity:1;\">\n",
       "  <use xlink:href=\"#glyph0-3\" x=\"224.664062\" y=\"456.480469\"/>\n",
       "</g>\n",
       "<g style=\"fill:rgb(0%,0%,0%);fill-opacity:1;\">\n",
       "  <use xlink:href=\"#glyph0-4\" x=\"301.464844\" y=\"456.480469\"/>\n",
       "</g>\n",
       "<g style=\"fill:rgb(0%,0%,0%);fill-opacity:1;\">\n",
       "  <use xlink:href=\"#glyph0-5\" x=\"378.265625\" y=\"456.480469\"/>\n",
       "</g>\n",
       "<g style=\"fill:rgb(0%,0%,0%);fill-opacity:1;\">\n",
       "  <use xlink:href=\"#glyph0-6\" x=\"451.726562\" y=\"456.480469\"/>\n",
       "  <use xlink:href=\"#glyph0-1\" x=\"458.400391\" y=\"456.480469\"/>\n",
       "</g>\n",
       "<path style=\"fill:none;stroke-width:0.75;stroke-linecap:round;stroke-linejoin:round;stroke:rgb(0%,0%,0%);stroke-opacity:1;stroke-miterlimit:10;\" d=\"M 59.039062 416.800781 L 59.039062 142.894531 \"/>\n",
       "<path style=\"fill:none;stroke-width:0.75;stroke-linecap:round;stroke-linejoin:round;stroke:rgb(0%,0%,0%);stroke-opacity:1;stroke-miterlimit:10;\" d=\"M 59.039062 416.800781 L 51.839844 416.800781 \"/>\n",
       "<path style=\"fill:none;stroke-width:0.75;stroke-linecap:round;stroke-linejoin:round;stroke:rgb(0%,0%,0%);stroke-opacity:1;stroke-miterlimit:10;\" d=\"M 59.039062 325.496094 L 51.839844 325.496094 \"/>\n",
       "<path style=\"fill:none;stroke-width:0.75;stroke-linecap:round;stroke-linejoin:round;stroke:rgb(0%,0%,0%);stroke-opacity:1;stroke-miterlimit:10;\" d=\"M 59.039062 234.195312 L 51.839844 234.195312 \"/>\n",
       "<path style=\"fill:none;stroke-width:0.75;stroke-linecap:round;stroke-linejoin:round;stroke:rgb(0%,0%,0%);stroke-opacity:1;stroke-miterlimit:10;\" d=\"M 59.039062 142.894531 L 51.839844 142.894531 \"/>\n",
       "<g style=\"fill:rgb(0%,0%,0%);fill-opacity:1;\">\n",
       "  <use xlink:href=\"#glyph1-1\" x=\"41.761719\" y=\"428.480469\"/>\n",
       "  <use xlink:href=\"#glyph1-2\" x=\"41.761719\" y=\"421.806641\"/>\n",
       "  <use xlink:href=\"#glyph1-1\" x=\"41.761719\" y=\"418.472656\"/>\n",
       "  <use xlink:href=\"#glyph1-1\" x=\"41.761719\" y=\"411.798828\"/>\n",
       "</g>\n",
       "<g style=\"fill:rgb(0%,0%,0%);fill-opacity:1;\">\n",
       "  <use xlink:href=\"#glyph1-1\" x=\"41.761719\" y=\"337.175781\"/>\n",
       "  <use xlink:href=\"#glyph1-2\" x=\"41.761719\" y=\"330.501953\"/>\n",
       "  <use xlink:href=\"#glyph1-1\" x=\"41.761719\" y=\"327.167969\"/>\n",
       "  <use xlink:href=\"#glyph1-3\" x=\"41.761719\" y=\"320.494141\"/>\n",
       "</g>\n",
       "<g style=\"fill:rgb(0%,0%,0%);fill-opacity:1;\">\n",
       "  <use xlink:href=\"#glyph1-1\" x=\"41.761719\" y=\"245.875\"/>\n",
       "  <use xlink:href=\"#glyph1-2\" x=\"41.761719\" y=\"239.201172\"/>\n",
       "  <use xlink:href=\"#glyph1-4\" x=\"41.761719\" y=\"235.867188\"/>\n",
       "  <use xlink:href=\"#glyph1-1\" x=\"41.761719\" y=\"229.193359\"/>\n",
       "</g>\n",
       "<g style=\"fill:rgb(0%,0%,0%);fill-opacity:1;\">\n",
       "  <use xlink:href=\"#glyph1-1\" x=\"41.761719\" y=\"154.574219\"/>\n",
       "  <use xlink:href=\"#glyph1-2\" x=\"41.761719\" y=\"147.900391\"/>\n",
       "  <use xlink:href=\"#glyph1-4\" x=\"41.761719\" y=\"144.566406\"/>\n",
       "  <use xlink:href=\"#glyph1-3\" x=\"41.761719\" y=\"137.892578\"/>\n",
       "</g>\n",
       "<path style=\"fill:none;stroke-width:0.75;stroke-linecap:round;stroke-linejoin:round;stroke:rgb(0%,0%,0%);stroke-opacity:1;stroke-miterlimit:10;\" d=\"M 59.039062 430.558594 L 473.761719 430.558594 L 473.761719 59.039062 L 59.039062 59.039062 L 59.039062 430.558594 \"/>\n",
       "<g style=\"fill:rgb(0%,0%,0%);fill-opacity:1;\">\n",
       "  <use xlink:href=\"#glyph2-1\" x=\"262.398438\" y=\"485.28125\"/>\n",
       "</g>\n",
       "<g style=\"fill:rgb(0%,0%,0%);fill-opacity:1;\">\n",
       "  <use xlink:href=\"#glyph0-7\" x=\"263.585938\" y=\"479.964844\"/>\n",
       "</g>\n",
       "<g style=\"fill:rgb(0%,0%,0%);fill-opacity:1;\">\n",
       "  <use xlink:href=\"#glyph3-1\" x=\"9.960938\" y=\"257.296875\"/>\n",
       "</g>\n",
       "<g style=\"fill:rgb(0%,0%,0%);fill-opacity:1;\">\n",
       "  <use xlink:href=\"#glyph4-1\" x=\"9.960938\" y=\"250.296875\"/>\n",
       "</g>\n",
       "<g style=\"fill:rgb(0%,0%,0%);fill-opacity:1;\">\n",
       "  <use xlink:href=\"#glyph3-2\" x=\"9.960938\" y=\"245.300781\"/>\n",
       "</g>\n",
       "<g style=\"fill:rgb(0%,0%,0%);fill-opacity:1;\">\n",
       "  <use xlink:href=\"#glyph1-5\" x=\"4.644531\" y=\"244.117188\"/>\n",
       "</g>\n",
       "<g style=\"fill:rgb(0%,0%,0%);fill-opacity:1;\">\n",
       "  <use xlink:href=\"#glyph4-2\" x=\"9.960938\" y=\"237.300781\"/>\n",
       "</g>\n",
       "</g>\n",
       "</svg>\n"
      ],
      "text/plain": [
       "plot without title"
      ]
     },
     "metadata": {
      "image/svg+xml": {
       "isolated": true
      }
     },
     "output_type": "display_data"
    }
   ],
   "source": [
    "# Book shape plot\n",
    "curve(rhovn(.5)(x),from=.0,to=10,col=\"red\",xlab=expression(hat(Delta)),ylab=expression(rho(hat(Delta))),n=1000);"
   ]
  },
  {
   "cell_type": "markdown",
   "metadata": {
    "slideshow": {
     "slide_type": "fragment"
    }
   },
   "source": [
    "The red line is a plot of the order density $\\rho(\\hat \\Delta)$ from HW2\n",
    "corresponding to a Student-t rain distribution with 0.5 degrees of\n",
    "freedom."
   ]
  },
  {
   "cell_type": "markdown",
   "metadata": {
    "slideshow": {
     "slide_type": "slide"
    }
   },
   "source": [
    "### Virtual price impact"
   ]
  },
  {
   "cell_type": "code",
   "execution_count": 3,
   "metadata": {
    "collapsed": true,
    "slideshow": {
     "slide_type": "fragment"
    }
   },
   "outputs": [],
   "source": [
    "# Cumulative order density computation\n",
    "cumrho <- function(delhat,mu){\n",
    "return(integrate(rhov(mu),lower = 0, upper = delhat)$value);\n",
    "}\n",
    "\n",
    "cumrhov <- function(delhat,mu){sapply(delhat,function(u){cumrho(u,mu)})}\n",
    "\n",
    "# Compute vector\n",
    "y <- (0:1000)/100;\n",
    "x <- cumrhov(y,.5);"
   ]
  },
  {
   "cell_type": "code",
   "execution_count": 4,
   "metadata": {
    "collapsed": false,
    "slideshow": {
     "slide_type": "subslide"
    }
   },
   "outputs": [
    {
     "data": {
      "image/png": "[encoded data removed]",
      "image/svg+xml": [
       "<?xml version=\"1.0\" encoding=\"UTF-8\"?>\n",
       "<svg xmlns=\"http://www.w3.org/2000/svg\" xmlns:xlink=\"http://www.w3.org/1999/xlink\" width=\"504pt\" height=\"504pt\" viewBox=\"0 0 504 504\" version=\"1.1\">\n",
       "<defs>\n",
       "<g>\n",
       "<symbol overflow=\"visible\" id=\"glyph0-0\">\n",
       "<path style=\"stroke:none;\" d=\"M 0 -0.390625 L -8.609375 -0.390625 L -8.609375 -7.21875 L 0 -7.21875 Z M -1.078125 -6.140625 L -7.53125 -6.140625 L -7.53125 -1.46875 L -1.078125 -1.46875 Z M -1.078125 -6.140625 \"/>\n",
       "</symbol>\n",
       "<symbol overflow=\"visible\" id=\"glyph0-1\">\n",
       "<path style=\"stroke:none;\" d=\"M -8.390625 -3.25 C -8.390625 -4.332031 -7.941406 -5.117188 -7.046875 -5.609375 C -6.359375 -5.984375 -5.410156 -6.171875 -4.203125 -6.171875 C -3.066406 -6.171875 -2.125 -6 -1.375 -5.65625 C -0.300781 -5.164062 0.234375 -4.359375 0.234375 -3.234375 C 0.234375 -2.234375 -0.203125 -1.484375 -1.078125 -0.984375 C -1.816406 -0.578125 -2.800781 -0.375 -4.03125 -0.375 C -4.976562 -0.375 -5.796875 -0.5 -6.484375 -0.75 C -7.753906 -1.207031 -8.390625 -2.039062 -8.390625 -3.25 Z M -0.734375 -3.234375 C -0.734375 -3.785156 -0.972656 -4.222656 -1.453125 -4.546875 C -1.941406 -4.867188 -2.847656 -5.03125 -4.171875 -5.03125 C -5.117188 -5.03125 -5.898438 -4.910156 -6.515625 -4.671875 C -7.128906 -4.441406 -7.4375 -3.988281 -7.4375 -3.3125 C -7.4375 -2.6875 -7.144531 -2.226562 -6.5625 -1.9375 C -5.976562 -1.65625 -5.117188 -1.515625 -3.984375 -1.515625 C -3.128906 -1.515625 -2.441406 -1.609375 -1.921875 -1.796875 C -1.128906 -2.078125 -0.734375 -2.554688 -0.734375 -3.234375 Z M -0.734375 -3.234375 \"/>\n",
       "</symbol>\n",
       "<symbol overflow=\"visible\" id=\"glyph0-2\">\n",
       "<path style=\"stroke:none;\" d=\"M 0 -0.375 C -0.71875 -0.414062 -1.34375 -0.566406 -1.875 -0.828125 C -2.414062 -1.085938 -2.90625 -1.59375 -3.34375 -2.34375 L -4 -3.46875 C -4.289062 -3.96875 -4.539062 -4.320312 -4.75 -4.53125 C -5.070312 -4.851562 -5.441406 -5.015625 -5.859375 -5.015625 C -6.347656 -5.015625 -6.734375 -4.863281 -7.015625 -4.5625 C -7.304688 -4.269531 -7.453125 -3.882812 -7.453125 -3.40625 C -7.453125 -2.675781 -7.179688 -2.175781 -6.640625 -1.90625 C -6.335938 -1.75 -5.929688 -1.664062 -5.421875 -1.65625 L -5.421875 -0.578125 C -6.148438 -0.585938 -6.742188 -0.722656 -7.203125 -0.984375 C -8.015625 -1.441406 -8.421875 -2.25 -8.421875 -3.40625 C -8.421875 -4.363281 -8.160156 -5.0625 -7.640625 -5.5 C -7.117188 -5.945312 -6.539062 -6.171875 -5.90625 -6.171875 C -5.238281 -6.171875 -4.664062 -5.9375 -4.1875 -5.46875 C -3.90625 -5.195312 -3.566406 -4.707031 -3.171875 -4 L -2.734375 -3.1875 C -2.523438 -2.8125 -2.320312 -2.515625 -2.125 -2.296875 C -1.789062 -1.898438 -1.414062 -1.648438 -1 -1.546875 L -1 -6.140625 L 0 -6.140625 Z M 0 -0.375 \"/>\n",
       "</symbol>\n",
       "<symbol overflow=\"visible\" id=\"glyph0-3\">\n",
       "<path style=\"stroke:none;\" d=\"M -2.96875 -3.96875 L -6.78125 -3.96875 L -2.96875 -1.28125 Z M 0 -3.984375 L -2.046875 -3.984375 L -2.046875 -0.3125 L -3.078125 -0.3125 L -8.421875 -4.15625 L -8.421875 -5.046875 L -2.96875 -5.046875 L -2.96875 -6.28125 L -2.046875 -6.28125 L -2.046875 -5.046875 L 0 -5.046875 Z M 0 -3.984375 \"/>\n",
       "</symbol>\n",
       "<symbol overflow=\"visible\" id=\"glyph0-4\">\n",
       "<path style=\"stroke:none;\" d=\"M -8.421875 -3.515625 C -8.421875 -4.453125 -8.175781 -5.101562 -7.6875 -5.46875 C -7.207031 -5.84375 -6.707031 -6.03125 -6.1875 -6.03125 L -6.1875 -4.984375 C -6.519531 -4.921875 -6.78125 -4.820312 -6.96875 -4.6875 C -7.320312 -4.425781 -7.5 -4.039062 -7.5 -3.53125 C -7.5 -2.9375 -7.222656 -2.460938 -6.671875 -2.109375 C -6.128906 -1.765625 -5.351562 -1.578125 -4.34375 -1.546875 C -4.695312 -1.785156 -4.960938 -2.085938 -5.140625 -2.453125 C -5.296875 -2.785156 -5.375 -3.160156 -5.375 -3.578125 C -5.375 -4.285156 -5.148438 -4.898438 -4.703125 -5.421875 C -4.253906 -5.941406 -3.582031 -6.203125 -2.6875 -6.203125 C -1.925781 -6.203125 -1.25 -5.953125 -0.65625 -5.453125 C -0.0703125 -4.960938 0.21875 -4.257812 0.21875 -3.34375 C 0.21875 -2.550781 -0.078125 -1.867188 -0.671875 -1.296875 C -1.273438 -0.734375 -2.28125 -0.453125 -3.6875 -0.453125 C -4.726562 -0.453125 -5.613281 -0.578125 -6.34375 -0.828125 C -7.726562 -1.316406 -8.421875 -2.210938 -8.421875 -3.515625 Z M -0.71875 -3.4375 C -0.71875 -3.988281 -0.90625 -4.398438 -1.28125 -4.671875 C -1.65625 -4.953125 -2.097656 -5.09375 -2.609375 -5.09375 C -3.035156 -5.09375 -3.441406 -4.96875 -3.828125 -4.71875 C -4.210938 -4.476562 -4.40625 -4.03125 -4.40625 -3.375 C -4.40625 -2.925781 -4.253906 -2.53125 -3.953125 -2.1875 C -3.660156 -1.84375 -3.210938 -1.671875 -2.609375 -1.671875 C -2.078125 -1.671875 -1.628906 -1.828125 -1.265625 -2.140625 C -0.898438 -2.453125 -0.71875 -2.882812 -0.71875 -3.4375 Z M -0.71875 -3.4375 \"/>\n",
       "</symbol>\n",
       "<symbol overflow=\"visible\" id=\"glyph0-5\">\n",
       "<path style=\"stroke:none;\" d=\"M -4.875 -3.265625 C -4.875 -3.734375 -5.003906 -4.097656 -5.265625 -4.359375 C -5.523438 -4.617188 -5.832031 -4.75 -6.1875 -4.75 C -6.5 -4.75 -6.785156 -4.625 -7.046875 -4.375 C -7.316406 -4.125 -7.453125 -3.742188 -7.453125 -3.234375 C -7.453125 -2.722656 -7.316406 -2.351562 -7.046875 -2.125 C -6.785156 -1.894531 -6.484375 -1.78125 -6.140625 -1.78125 C -5.742188 -1.78125 -5.429688 -1.925781 -5.203125 -2.21875 C -4.984375 -2.519531 -4.875 -2.867188 -4.875 -3.265625 Z M -0.71875 -3.328125 C -0.71875 -3.816406 -0.847656 -4.222656 -1.109375 -4.546875 C -1.378906 -4.867188 -1.773438 -5.03125 -2.296875 -5.03125 C -2.835938 -5.03125 -3.25 -4.863281 -3.53125 -4.53125 C -3.8125 -4.195312 -3.953125 -3.769531 -3.953125 -3.25 C -3.953125 -2.75 -3.804688 -2.335938 -3.515625 -2.015625 C -3.234375 -1.703125 -2.835938 -1.546875 -2.328125 -1.546875 C -1.890625 -1.546875 -1.507812 -1.691406 -1.1875 -1.984375 C -0.875 -2.273438 -0.71875 -2.722656 -0.71875 -3.328125 Z M -4.46875 -1.828125 C -4.59375 -1.535156 -4.738281 -1.304688 -4.90625 -1.140625 C -5.21875 -0.835938 -5.625 -0.6875 -6.125 -0.6875 C -6.75 -0.6875 -7.285156 -0.910156 -7.734375 -1.359375 C -8.191406 -1.816406 -8.421875 -2.457031 -8.421875 -3.28125 C -8.421875 -4.09375 -8.207031 -4.722656 -7.78125 -5.171875 C -7.351562 -5.628906 -6.859375 -5.859375 -6.296875 -5.859375 C -5.773438 -5.859375 -5.347656 -5.726562 -5.015625 -5.46875 C -4.835938 -5.320312 -4.660156 -5.09375 -4.484375 -4.78125 C -4.328125 -5.125 -4.144531 -5.394531 -3.9375 -5.59375 C -3.539062 -5.96875 -3.03125 -6.15625 -2.40625 -6.15625 C -1.664062 -6.15625 -1.039062 -5.90625 -0.53125 -5.40625 C -0.0195312 -4.914062 0.234375 -4.21875 0.234375 -3.3125 C 0.234375 -2.488281 0.015625 -1.796875 -0.421875 -1.234375 C -0.867188 -0.671875 -1.515625 -0.390625 -2.359375 -0.390625 C -2.847656 -0.390625 -3.273438 -0.507812 -3.640625 -0.75 C -4.003906 -0.988281 -4.28125 -1.347656 -4.46875 -1.828125 Z M -4.46875 -1.828125 \"/>\n",
       "</symbol>\n",
       "<symbol overflow=\"visible\" id=\"glyph0-6\">\n",
       "<path style=\"stroke:none;\" d=\"M -5.9375 -1.15625 L -6.75 -1.15625 C -6.820312 -1.914062 -6.945312 -2.441406 -7.125 -2.734375 C -7.300781 -3.035156 -7.710938 -3.265625 -8.359375 -3.421875 L -8.359375 -4.25 L 0 -4.25 L 0 -3.125 L -5.9375 -3.125 Z M -5.9375 -1.15625 \"/>\n",
       "</symbol>\n",
       "<symbol overflow=\"visible\" id=\"glyph0-7\">\n",
       "<path style=\"stroke:none;\" d=\"M -8.609375 -1.03125 L -8.609375 -4.90625 C -8.609375 -5.664062 -8.390625 -6.28125 -7.953125 -6.75 C -7.523438 -7.21875 -6.921875 -7.453125 -6.140625 -7.453125 C -5.472656 -7.453125 -4.890625 -7.242188 -4.390625 -6.828125 C -3.890625 -6.410156 -3.640625 -5.769531 -3.640625 -4.90625 L -3.640625 -2.1875 L 0 -2.1875 L 0 -1.03125 Z M -6.140625 -6.28125 C -6.765625 -6.28125 -7.191406 -6.046875 -7.421875 -5.578125 C -7.546875 -5.316406 -7.609375 -4.960938 -7.609375 -4.515625 L -7.609375 -2.1875 L -4.625 -2.1875 L -4.625 -4.515625 C -4.625 -5.035156 -4.734375 -5.457031 -4.953125 -5.78125 C -5.179688 -6.113281 -5.578125 -6.28125 -6.140625 -6.28125 Z M -6.140625 -6.28125 \"/>\n",
       "</symbol>\n",
       "<symbol overflow=\"visible\" id=\"glyph0-8\">\n",
       "<path style=\"stroke:none;\" d=\"M -6.28125 -0.796875 L -6.28125 -1.8125 L -5.1875 -1.8125 C -5.40625 -1.882812 -5.664062 -2.082031 -5.96875 -2.40625 C -6.269531 -2.726562 -6.421875 -3.097656 -6.421875 -3.515625 C -6.421875 -3.535156 -6.414062 -3.566406 -6.40625 -3.609375 C -6.40625 -3.660156 -6.398438 -3.742188 -6.390625 -3.859375 L -5.28125 -3.859375 C -5.289062 -3.796875 -5.296875 -3.738281 -5.296875 -3.6875 C -5.296875 -3.632812 -5.296875 -3.578125 -5.296875 -3.515625 C -5.296875 -2.984375 -5.125 -2.570312 -4.78125 -2.28125 C -4.445312 -2 -4.054688 -1.859375 -3.609375 -1.859375 L 0 -1.859375 L 0 -0.796875 Z M -6.28125 -0.796875 \"/>\n",
       "</symbol>\n",
       "<symbol overflow=\"visible\" id=\"glyph0-9\">\n",
       "<path style=\"stroke:none;\" d=\"M -6.25 -0.78125 L -6.25 -1.84375 L 0 -1.84375 L 0 -0.78125 Z M -8.609375 -0.78125 L -8.609375 -1.84375 L -7.40625 -1.84375 L -7.40625 -0.78125 Z M -8.609375 -0.78125 \"/>\n",
       "</symbol>\n",
       "<symbol overflow=\"visible\" id=\"glyph0-10\">\n",
       "<path style=\"stroke:none;\" d=\"M -6.453125 -3.1875 C -6.453125 -3.894531 -6.28125 -4.46875 -5.9375 -4.90625 C -5.59375 -5.351562 -5.003906 -5.625 -4.171875 -5.71875 L -4.171875 -4.6875 C -4.554688 -4.625 -4.875 -4.484375 -5.125 -4.265625 C -5.382812 -4.046875 -5.515625 -3.6875 -5.515625 -3.1875 C -5.515625 -2.519531 -5.1875 -2.039062 -4.53125 -1.75 C -4.101562 -1.5625 -3.578125 -1.46875 -2.953125 -1.46875 C -2.328125 -1.46875 -1.796875 -1.597656 -1.359375 -1.859375 C -0.929688 -2.128906 -0.71875 -2.550781 -0.71875 -3.125 C -0.71875 -3.5625 -0.851562 -3.90625 -1.125 -4.15625 C -1.394531 -4.414062 -1.757812 -4.59375 -2.21875 -4.6875 L -2.21875 -5.71875 C -1.382812 -5.601562 -0.773438 -5.3125 -0.390625 -4.84375 C -0.00390625 -4.375 0.1875 -3.773438 0.1875 -3.046875 C 0.1875 -2.222656 -0.113281 -1.566406 -0.71875 -1.078125 C -1.320312 -0.585938 -2.070312 -0.34375 -2.96875 -0.34375 C -4.070312 -0.34375 -4.925781 -0.609375 -5.53125 -1.140625 C -6.144531 -1.679688 -6.453125 -2.363281 -6.453125 -3.1875 Z M -6.421875 -3.03125 Z M -6.421875 -3.03125 \"/>\n",
       "</symbol>\n",
       "<symbol overflow=\"visible\" id=\"glyph0-11\">\n",
       "<path style=\"stroke:none;\" d=\"M -6.421875 -3.390625 C -6.421875 -3.835938 -6.316406 -4.269531 -6.109375 -4.6875 C -5.898438 -5.101562 -5.628906 -5.421875 -5.296875 -5.640625 C -4.972656 -5.847656 -4.601562 -5.988281 -4.1875 -6.0625 C -3.894531 -6.125 -3.429688 -6.15625 -2.796875 -6.15625 L -2.796875 -1.546875 C -2.160156 -1.566406 -1.648438 -1.71875 -1.265625 -2 C -0.878906 -2.28125 -0.6875 -2.71875 -0.6875 -3.3125 C -0.6875 -3.863281 -0.867188 -4.300781 -1.234375 -4.625 C -1.441406 -4.8125 -1.6875 -4.945312 -1.96875 -5.03125 L -1.96875 -6.0625 C -1.738281 -6.039062 -1.484375 -5.953125 -1.203125 -5.796875 C -0.921875 -5.640625 -0.6875 -5.46875 -0.5 -5.28125 C -0.1875 -4.957031 0.0195312 -4.554688 0.125 -4.078125 C 0.1875 -3.828125 0.21875 -3.539062 0.21875 -3.21875 C 0.21875 -2.4375 -0.0625 -1.773438 -0.625 -1.234375 C -1.195312 -0.691406 -1.992188 -0.421875 -3.015625 -0.421875 C -4.023438 -0.421875 -4.84375 -0.691406 -5.46875 -1.234375 C -6.101562 -1.785156 -6.421875 -2.503906 -6.421875 -3.390625 Z M -3.640625 -5.0625 C -4.097656 -5.019531 -4.460938 -4.921875 -4.734375 -4.765625 C -5.242188 -4.484375 -5.5 -4.003906 -5.5 -3.328125 C -5.5 -2.835938 -5.320312 -2.425781 -4.96875 -2.09375 C -4.625 -1.769531 -4.179688 -1.597656 -3.640625 -1.578125 Z M -6.421875 -3.28125 Z M -6.421875 -3.28125 \"/>\n",
       "</symbol>\n",
       "<symbol overflow=\"visible\" id=\"glyph0-12\">\n",
       "<path style=\"stroke:none;\" d=\"\"/>\n",
       "</symbol>\n",
       "<symbol overflow=\"visible\" id=\"glyph0-13\">\n",
       "<path style=\"stroke:none;\" d=\"M -6.28125 -0.78125 L -6.28125 -1.8125 L -5.390625 -1.8125 C -5.691406 -2.0625 -5.914062 -2.289062 -6.0625 -2.5 C -6.300781 -2.84375 -6.421875 -3.238281 -6.421875 -3.6875 C -6.421875 -4.1875 -6.296875 -4.585938 -6.046875 -4.890625 C -5.910156 -5.054688 -5.703125 -5.210938 -5.421875 -5.359375 C -5.765625 -5.585938 -6.015625 -5.859375 -6.171875 -6.171875 C -6.335938 -6.492188 -6.421875 -6.851562 -6.421875 -7.25 C -6.421875 -8.09375 -6.113281 -8.664062 -5.5 -8.96875 C -5.175781 -9.132812 -4.734375 -9.21875 -4.171875 -9.21875 L 0 -9.21875 L 0 -8.125 L -4.359375 -8.125 C -4.773438 -8.125 -5.0625 -8.019531 -5.21875 -7.8125 C -5.375 -7.601562 -5.453125 -7.347656 -5.453125 -7.046875 C -5.453125 -6.628906 -5.3125 -6.269531 -5.03125 -5.96875 C -4.757812 -5.675781 -4.300781 -5.53125 -3.65625 -5.53125 L 0 -5.53125 L 0 -4.453125 L -4.09375 -4.453125 C -4.519531 -4.453125 -4.832031 -4.398438 -5.03125 -4.296875 C -5.320312 -4.140625 -5.46875 -3.84375 -5.46875 -3.40625 C -5.46875 -3.007812 -5.3125 -2.644531 -5 -2.3125 C -4.695312 -1.988281 -4.140625 -1.828125 -3.328125 -1.828125 L 0 -1.828125 L 0 -0.78125 Z M -6.28125 -0.78125 \"/>\n",
       "</symbol>\n",
       "<symbol overflow=\"visible\" id=\"glyph0-14\">\n",
       "<path style=\"stroke:none;\" d=\"M -0.703125 -3.421875 C -0.703125 -3.910156 -0.910156 -4.316406 -1.328125 -4.640625 C -1.742188 -4.972656 -2.359375 -5.140625 -3.171875 -5.140625 C -3.671875 -5.140625 -4.101562 -5.066406 -4.46875 -4.921875 C -5.15625 -4.648438 -5.5 -4.148438 -5.5 -3.421875 C -5.5 -2.691406 -5.132812 -2.191406 -4.40625 -1.921875 C -4.019531 -1.773438 -3.523438 -1.703125 -2.921875 -1.703125 C -2.429688 -1.703125 -2.019531 -1.773438 -1.6875 -1.921875 C -1.03125 -2.191406 -0.703125 -2.691406 -0.703125 -3.421875 Z M -6.25 -0.6875 L -6.25 -1.71875 L -5.421875 -1.71875 C -5.703125 -1.925781 -5.921875 -2.15625 -6.078125 -2.40625 C -6.304688 -2.757812 -6.421875 -3.175781 -6.421875 -3.65625 C -6.421875 -4.375 -6.148438 -4.976562 -5.609375 -5.46875 C -5.066406 -5.96875 -4.289062 -6.21875 -3.28125 -6.21875 C -1.90625 -6.21875 -0.925781 -5.859375 -0.34375 -5.140625 C 0.03125 -4.691406 0.21875 -4.164062 0.21875 -3.5625 C 0.21875 -3.09375 0.113281 -2.695312 -0.09375 -2.375 C -0.21875 -2.1875 -0.421875 -1.976562 -0.703125 -1.75 L 2.5 -1.75 L 2.5 -0.6875 Z M -6.25 -0.6875 \"/>\n",
       "</symbol>\n",
       "<symbol overflow=\"visible\" id=\"glyph0-15\">\n",
       "<path style=\"stroke:none;\" d=\"M -1.671875 -1.578125 C -1.367188 -1.578125 -1.128906 -1.6875 -0.953125 -1.90625 C -0.773438 -2.132812 -0.6875 -2.398438 -0.6875 -2.703125 C -0.6875 -3.078125 -0.769531 -3.4375 -0.9375 -3.78125 C -1.226562 -4.375 -1.695312 -4.671875 -2.34375 -4.671875 L -3.1875 -4.671875 C -3.113281 -4.535156 -3.046875 -4.363281 -2.984375 -4.15625 C -2.929688 -3.957031 -2.894531 -3.757812 -2.875 -3.5625 L -2.796875 -2.9375 C -2.742188 -2.550781 -2.660156 -2.257812 -2.546875 -2.0625 C -2.367188 -1.738281 -2.078125 -1.578125 -1.671875 -1.578125 Z M -3.796875 -4.140625 C -3.828125 -4.378906 -3.929688 -4.539062 -4.109375 -4.625 C -4.203125 -4.664062 -4.335938 -4.6875 -4.515625 -4.6875 C -4.867188 -4.6875 -5.125 -4.554688 -5.28125 -4.296875 C -5.445312 -4.046875 -5.53125 -3.6875 -5.53125 -3.21875 C -5.53125 -2.664062 -5.382812 -2.273438 -5.09375 -2.046875 C -4.925781 -1.910156 -4.679688 -1.820312 -4.359375 -1.78125 L -4.359375 -0.796875 C -5.128906 -0.816406 -5.664062 -1.066406 -5.96875 -1.546875 C -6.269531 -2.035156 -6.421875 -2.597656 -6.421875 -3.234375 C -6.421875 -3.972656 -6.28125 -4.570312 -6 -5.03125 C -5.71875 -5.488281 -5.28125 -5.71875 -4.6875 -5.71875 L -1.078125 -5.71875 C -0.972656 -5.71875 -0.882812 -5.738281 -0.8125 -5.78125 C -0.75 -5.832031 -0.71875 -5.929688 -0.71875 -6.078125 C -0.71875 -6.117188 -0.71875 -6.164062 -0.71875 -6.21875 C -0.726562 -6.28125 -0.738281 -6.347656 -0.75 -6.421875 L 0.03125 -6.421875 C 0.0703125 -6.253906 0.0976562 -6.125 0.109375 -6.03125 C 0.128906 -5.945312 0.140625 -5.832031 0.140625 -5.6875 C 0.140625 -5.320312 0.0078125 -5.0625 -0.25 -4.90625 C -0.382812 -4.8125 -0.578125 -4.75 -0.828125 -4.71875 C -0.546875 -4.5 -0.300781 -4.1875 -0.09375 -3.78125 C 0.113281 -3.382812 0.21875 -2.945312 0.21875 -2.46875 C 0.21875 -1.882812 0.0390625 -1.40625 -0.3125 -1.03125 C -0.664062 -0.664062 -1.109375 -0.484375 -1.640625 -0.484375 C -2.222656 -0.484375 -2.675781 -0.664062 -3 -1.03125 C -3.320312 -1.394531 -3.519531 -1.867188 -3.59375 -2.453125 Z M -6.421875 -3.265625 Z M -6.421875 -3.265625 \"/>\n",
       "</symbol>\n",
       "<symbol overflow=\"visible\" id=\"glyph0-16\">\n",
       "<path style=\"stroke:none;\" d=\"M -8.03125 -0.984375 L -8.03125 -2.046875 L -6.28125 -2.046875 L -6.28125 -3.046875 L -5.421875 -3.046875 L -5.421875 -2.046875 L -1.3125 -2.046875 C -1.09375 -2.046875 -0.945312 -2.125 -0.875 -2.28125 C -0.832031 -2.351562 -0.8125 -2.488281 -0.8125 -2.6875 C -0.8125 -2.738281 -0.8125 -2.789062 -0.8125 -2.84375 C -0.820312 -2.90625 -0.828125 -2.972656 -0.828125 -3.046875 L 0 -3.046875 C 0.03125 -2.929688 0.0507812 -2.804688 0.0625 -2.671875 C 0.0820312 -2.546875 0.09375 -2.40625 0.09375 -2.25 C 0.09375 -1.757812 -0.03125 -1.425781 -0.28125 -1.25 C -0.53125 -1.070312 -0.859375 -0.984375 -1.265625 -0.984375 L -5.421875 -0.984375 L -5.421875 -0.140625 L -6.28125 -0.140625 L -6.28125 -0.984375 Z M -8.03125 -0.984375 \"/>\n",
       "</symbol>\n",
       "<symbol overflow=\"visible\" id=\"glyph0-17\">\n",
       "<path style=\"stroke:none;\" d=\"M -6.1875 -1.328125 L -6.1875 -2.5625 L -4.921875 -2.5625 L -4.921875 -1.328125 Z M -1.28125 -1.328125 L -1.28125 -2.5625 L 0 -2.5625 L 0 -1.328125 Z M -1.28125 -1.328125 \"/>\n",
       "</symbol>\n",
       "<symbol overflow=\"visible\" id=\"glyph0-18\">\n",
       "<path style=\"stroke:none;\" d=\"M -8.609375 -3.65625 L -3.546875 -5.734375 L -3.546875 -4.78125 L -7.4375 -3.21875 L -3.546875 -1.671875 L -3.546875 -0.703125 L -8.609375 -2.765625 Z M -8.609375 -3.65625 \"/>\n",
       "</symbol>\n",
       "<symbol overflow=\"visible\" id=\"glyph1-0\">\n",
       "<path style=\"stroke:none;\" d=\"M 0.390625 0 L 0.390625 -8.609375 L 7.21875 -8.609375 L 7.21875 0 Z M 6.140625 -1.078125 L 6.140625 -7.53125 L 1.46875 -7.53125 L 1.46875 -1.078125 Z M 6.140625 -1.078125 \"/>\n",
       "</symbol>\n",
       "<symbol overflow=\"visible\" id=\"glyph1-1\">\n",
       "<path style=\"stroke:none;\" d=\"M 8.796875 -0.03125 L 8.203125 0.6875 L 6.875 -0.328125 C 6.550781 -0.148438 6.203125 -0.0078125 5.828125 0.09375 C 5.460938 0.195312 5.054688 0.25 4.609375 0.25 C 3.273438 0.25 2.226562 -0.1875 1.46875 -1.0625 C 0.800781 -1.914062 0.46875 -2.984375 0.46875 -4.265625 C 0.46875 -5.421875 0.757812 -6.414062 1.34375 -7.25 C 2.082031 -8.3125 3.175781 -8.84375 4.625 -8.84375 C 6.144531 -8.84375 7.269531 -8.351562 8 -7.375 C 8.570312 -6.613281 8.859375 -5.640625 8.859375 -4.453125 C 8.859375 -3.898438 8.789062 -3.367188 8.65625 -2.859375 C 8.445312 -2.078125 8.097656 -1.4375 7.609375 -0.9375 Z M 4.75 -0.796875 C 4.988281 -0.796875 5.210938 -0.8125 5.421875 -0.84375 C 5.640625 -0.875 5.828125 -0.9375 5.984375 -1.03125 L 5.046875 -1.78125 L 5.625 -2.5 L 6.75 -1.625 C 7.101562 -2.03125 7.34375 -2.484375 7.46875 -2.984375 C 7.601562 -3.492188 7.671875 -3.976562 7.671875 -4.4375 C 7.671875 -5.445312 7.40625 -6.257812 6.875 -6.875 C 6.34375 -7.5 5.617188 -7.8125 4.703125 -7.8125 C 3.773438 -7.8125 3.035156 -7.515625 2.484375 -6.921875 C 1.941406 -6.328125 1.671875 -5.414062 1.671875 -4.1875 C 1.671875 -3.144531 1.929688 -2.316406 2.453125 -1.703125 C 2.972656 -1.097656 3.738281 -0.796875 4.75 -0.796875 Z M 4.75 -0.796875 \"/>\n",
       "</symbol>\n",
       "<symbol overflow=\"visible\" id=\"glyph1-2\">\n",
       "<path style=\"stroke:none;\" d=\"M 1.828125 -6.28125 L 1.828125 -2.109375 C 1.828125 -1.785156 1.878906 -1.523438 1.984375 -1.328125 C 2.171875 -0.953125 2.519531 -0.765625 3.03125 -0.765625 C 3.757812 -0.765625 4.257812 -1.09375 4.53125 -1.75 C 4.675781 -2.101562 4.75 -2.582031 4.75 -3.1875 L 4.75 -6.28125 L 5.796875 -6.28125 L 5.796875 0 L 4.8125 0 L 4.8125 -0.921875 C 4.675781 -0.679688 4.507812 -0.484375 4.3125 -0.328125 C 3.90625 0.00390625 3.414062 0.171875 2.84375 0.171875 C 1.945312 0.171875 1.335938 -0.128906 1.015625 -0.734375 C 0.835938 -1.046875 0.75 -1.472656 0.75 -2.015625 L 0.75 -6.28125 Z M 3.28125 -6.421875 Z M 3.28125 -6.421875 \"/>\n",
       "</symbol>\n",
       "<symbol overflow=\"visible\" id=\"glyph1-3\">\n",
       "<path style=\"stroke:none;\" d=\"M 1.578125 -1.671875 C 1.578125 -1.367188 1.6875 -1.128906 1.90625 -0.953125 C 2.132812 -0.773438 2.398438 -0.6875 2.703125 -0.6875 C 3.078125 -0.6875 3.4375 -0.769531 3.78125 -0.9375 C 4.375 -1.226562 4.671875 -1.695312 4.671875 -2.34375 L 4.671875 -3.1875 C 4.535156 -3.113281 4.363281 -3.046875 4.15625 -2.984375 C 3.957031 -2.929688 3.757812 -2.894531 3.5625 -2.875 L 2.9375 -2.796875 C 2.550781 -2.742188 2.257812 -2.660156 2.0625 -2.546875 C 1.738281 -2.367188 1.578125 -2.078125 1.578125 -1.671875 Z M 4.140625 -3.796875 C 4.378906 -3.828125 4.539062 -3.929688 4.625 -4.109375 C 4.664062 -4.203125 4.6875 -4.335938 4.6875 -4.515625 C 4.6875 -4.867188 4.554688 -5.125 4.296875 -5.28125 C 4.046875 -5.445312 3.6875 -5.53125 3.21875 -5.53125 C 2.664062 -5.53125 2.273438 -5.382812 2.046875 -5.09375 C 1.910156 -4.925781 1.820312 -4.679688 1.78125 -4.359375 L 0.796875 -4.359375 C 0.816406 -5.128906 1.066406 -5.664062 1.546875 -5.96875 C 2.035156 -6.269531 2.597656 -6.421875 3.234375 -6.421875 C 3.972656 -6.421875 4.570312 -6.28125 5.03125 -6 C 5.488281 -5.71875 5.71875 -5.28125 5.71875 -4.6875 L 5.71875 -1.078125 C 5.71875 -0.972656 5.738281 -0.882812 5.78125 -0.8125 C 5.832031 -0.75 5.929688 -0.71875 6.078125 -0.71875 C 6.117188 -0.71875 6.164062 -0.71875 6.21875 -0.71875 C 6.28125 -0.726562 6.347656 -0.738281 6.421875 -0.75 L 6.421875 0.03125 C 6.253906 0.0703125 6.125 0.0976562 6.03125 0.109375 C 5.945312 0.128906 5.832031 0.140625 5.6875 0.140625 C 5.320312 0.140625 5.0625 0.0078125 4.90625 -0.25 C 4.8125 -0.382812 4.75 -0.578125 4.71875 -0.828125 C 4.5 -0.546875 4.1875 -0.300781 3.78125 -0.09375 C 3.382812 0.113281 2.945312 0.21875 2.46875 0.21875 C 1.882812 0.21875 1.40625 0.0390625 1.03125 -0.3125 C 0.664062 -0.664062 0.484375 -1.109375 0.484375 -1.640625 C 0.484375 -2.222656 0.664062 -2.675781 1.03125 -3 C 1.394531 -3.320312 1.867188 -3.519531 2.453125 -3.59375 Z M 3.265625 -6.421875 Z M 3.265625 -6.421875 \"/>\n",
       "</symbol>\n",
       "<symbol overflow=\"visible\" id=\"glyph1-4\">\n",
       "<path style=\"stroke:none;\" d=\"M 0.78125 -6.28125 L 1.78125 -6.28125 L 1.78125 -5.390625 C 2.070312 -5.753906 2.382812 -6.015625 2.71875 -6.171875 C 3.050781 -6.335938 3.421875 -6.421875 3.828125 -6.421875 C 4.710938 -6.421875 5.3125 -6.109375 5.625 -5.484375 C 5.800781 -5.140625 5.890625 -4.65625 5.890625 -4.03125 L 5.890625 0 L 4.8125 0 L 4.8125 -3.953125 C 4.8125 -4.335938 4.753906 -4.644531 4.640625 -4.875 C 4.453125 -5.269531 4.113281 -5.46875 3.625 -5.46875 C 3.375 -5.46875 3.171875 -5.441406 3.015625 -5.390625 C 2.722656 -5.304688 2.46875 -5.132812 2.25 -4.875 C 2.070312 -4.664062 1.957031 -4.453125 1.90625 -4.234375 C 1.851562 -4.015625 1.828125 -3.695312 1.828125 -3.28125 L 1.828125 0 L 0.78125 0 Z M 3.25 -6.421875 Z M 3.25 -6.421875 \"/>\n",
       "</symbol>\n",
       "<symbol overflow=\"visible\" id=\"glyph1-5\">\n",
       "<path style=\"stroke:none;\" d=\"M 0.984375 -8.03125 L 2.046875 -8.03125 L 2.046875 -6.28125 L 3.046875 -6.28125 L 3.046875 -5.421875 L 2.046875 -5.421875 L 2.046875 -1.3125 C 2.046875 -1.09375 2.125 -0.945312 2.28125 -0.875 C 2.351562 -0.832031 2.488281 -0.8125 2.6875 -0.8125 C 2.738281 -0.8125 2.789062 -0.8125 2.84375 -0.8125 C 2.90625 -0.820312 2.972656 -0.828125 3.046875 -0.828125 L 3.046875 0 C 2.929688 0.03125 2.804688 0.0507812 2.671875 0.0625 C 2.546875 0.0820312 2.40625 0.09375 2.25 0.09375 C 1.757812 0.09375 1.425781 -0.03125 1.25 -0.28125 C 1.070312 -0.53125 0.984375 -0.859375 0.984375 -1.265625 L 0.984375 -5.421875 L 0.140625 -5.421875 L 0.140625 -6.28125 L 0.984375 -6.28125 Z M 0.984375 -8.03125 \"/>\n",
       "</symbol>\n",
       "<symbol overflow=\"visible\" id=\"glyph1-6\">\n",
       "<path style=\"stroke:none;\" d=\"M 0.78125 -6.25 L 1.84375 -6.25 L 1.84375 0 L 0.78125 0 Z M 0.78125 -8.609375 L 1.84375 -8.609375 L 1.84375 -7.40625 L 0.78125 -7.40625 Z M 0.78125 -8.609375 \"/>\n",
       "</symbol>\n",
       "<symbol overflow=\"visible\" id=\"glyph1-7\">\n",
       "<path style=\"stroke:none;\" d=\"M 4.6875 -6.28125 L 5.859375 -6.28125 C 5.710938 -5.875 5.382812 -4.953125 4.875 -3.515625 C 4.488281 -2.441406 4.164062 -1.566406 3.90625 -0.890625 C 3.300781 0.710938 2.875 1.691406 2.625 2.046875 C 2.375 2.398438 1.941406 2.578125 1.328125 2.578125 C 1.179688 2.578125 1.066406 2.566406 0.984375 2.546875 C 0.910156 2.535156 0.8125 2.515625 0.6875 2.484375 L 0.6875 1.53125 C 0.875 1.582031 1.007812 1.613281 1.09375 1.625 C 1.175781 1.632812 1.25 1.640625 1.3125 1.640625 C 1.5 1.640625 1.640625 1.609375 1.734375 1.546875 C 1.828125 1.484375 1.90625 1.40625 1.96875 1.3125 C 1.988281 1.28125 2.054688 1.117188 2.171875 0.828125 C 2.296875 0.535156 2.382812 0.320312 2.4375 0.1875 L 0.125 -6.28125 L 1.3125 -6.28125 L 3 -1.171875 Z M 3 -6.421875 Z M 3 -6.421875 \"/>\n",
       "</symbol>\n",
       "<symbol overflow=\"visible\" id=\"glyph1-8\">\n",
       "<path style=\"stroke:none;\" d=\"M 1.328125 -6.1875 L 2.5625 -6.1875 L 2.5625 -4.921875 L 1.328125 -4.921875 Z M 1.328125 -1.28125 L 2.5625 -1.28125 L 2.5625 0 L 1.328125 0 Z M 1.328125 -1.28125 \"/>\n",
       "</symbol>\n",
       "<symbol overflow=\"visible\" id=\"glyph1-9\">\n",
       "<path style=\"stroke:none;\" d=\"\"/>\n",
       "</symbol>\n",
       "<symbol overflow=\"visible\" id=\"glyph1-10\">\n",
       "<path style=\"stroke:none;\" d=\"M 1.4375 -3.0625 C 1.4375 -2.394531 1.578125 -1.832031 1.859375 -1.375 C 2.148438 -0.925781 2.609375 -0.703125 3.234375 -0.703125 C 3.722656 -0.703125 4.125 -0.910156 4.4375 -1.328125 C 4.757812 -1.742188 4.921875 -2.347656 4.921875 -3.140625 C 4.921875 -3.929688 4.753906 -4.515625 4.421875 -4.890625 C 4.097656 -5.273438 3.703125 -5.46875 3.234375 -5.46875 C 2.703125 -5.46875 2.269531 -5.265625 1.9375 -4.859375 C 1.601562 -4.453125 1.4375 -3.851562 1.4375 -3.0625 Z M 3.03125 -6.390625 C 3.507812 -6.390625 3.910156 -6.285156 4.234375 -6.078125 C 4.421875 -5.960938 4.632812 -5.757812 4.875 -5.46875 L 4.875 -8.640625 L 5.890625 -8.640625 L 5.890625 0 L 4.9375 0 L 4.9375 -0.875 C 4.695312 -0.488281 4.40625 -0.207031 4.0625 -0.03125 C 3.726562 0.132812 3.34375 0.21875 2.90625 0.21875 C 2.207031 0.21875 1.601562 -0.0703125 1.09375 -0.65625 C 0.582031 -1.25 0.328125 -2.03125 0.328125 -3 C 0.328125 -3.914062 0.5625 -4.707031 1.03125 -5.375 C 1.5 -6.050781 2.164062 -6.390625 3.03125 -6.390625 Z M 3.03125 -6.390625 \"/>\n",
       "</symbol>\n",
       "<symbol overflow=\"visible\" id=\"glyph2-0\">\n",
       "<path style=\"stroke:none;\" d=\"M 0.59375 2.125 L 0.59375 -8.46875 L 6.59375 -8.46875 L 6.59375 2.125 Z M 1.265625 1.453125 L 5.9375 1.453125 L 5.9375 -7.78125 L 1.265625 -7.78125 Z M 1.265625 1.453125 \"/>\n",
       "</symbol>\n",
       "<symbol overflow=\"visible\" id=\"glyph2-1\">\n",
       "<path style=\"stroke:none;\" d=\"M 3.484375 1.21875 C 3.484375 -2.507812 3.695312 -5.160156 4.125 -6.734375 C 4.550781 -8.304688 5.253906 -9.09375 6.234375 -9.09375 C 6.566406 -9.09375 6.832031 -9.003906 7.03125 -8.828125 C 7.226562 -8.660156 7.328125 -8.441406 7.328125 -8.171875 C 7.328125 -7.953125 7.253906 -7.769531 7.109375 -7.625 C 6.960938 -7.476562 6.773438 -7.40625 6.546875 -7.40625 C 6.328125 -7.40625 6.15625 -7.460938 6.03125 -7.578125 C 5.914062 -7.703125 5.859375 -7.890625 5.859375 -8.140625 L 5.859375 -8.25 C 5.859375 -8.34375 5.84375 -8.410156 5.8125 -8.453125 C 5.789062 -8.492188 5.75 -8.515625 5.6875 -8.515625 C 5.332031 -8.515625 5.078125 -7.757812 4.921875 -6.25 C 4.765625 -4.738281 4.6875 -2.21875 4.6875 1.3125 L 4.6875 2.828125 L 3.484375 2.828125 Z M 3.484375 1.21875 \"/>\n",
       "</symbol>\n",
       "<symbol overflow=\"visible\" id=\"glyph2-2\">\n",
       "<path style=\"stroke:none;\" d=\"M 4.6875 -7.5625 C 4.6875 -3.832031 4.472656 -1.179688 4.046875 0.390625 C 3.617188 1.972656 2.914062 2.765625 1.9375 2.765625 C 1.601562 2.765625 1.335938 2.675781 1.140625 2.5 C 0.941406 2.332031 0.84375 2.109375 0.84375 1.828125 C 0.84375 1.609375 0.914062 1.425781 1.0625 1.28125 C 1.207031 1.132812 1.394531 1.0625 1.625 1.0625 C 1.851562 1.0625 2.019531 1.125 2.125 1.25 C 2.238281 1.375 2.296875 1.5625 2.296875 1.8125 L 2.296875 1.9375 C 2.296875 2.019531 2.3125 2.082031 2.34375 2.125 C 2.375 2.164062 2.421875 2.1875 2.484375 2.1875 C 2.835938 2.1875 3.09375 1.429688 3.25 -0.078125 C 3.40625 -1.585938 3.484375 -4.109375 3.484375 -7.640625 L 3.484375 -9.171875 L 4.6875 -9.171875 Z M 4.6875 -7.5625 \"/>\n",
       "</symbol>\n",
       "<symbol overflow=\"visible\" id=\"glyph2-3\">\n",
       "<path style=\"stroke:none;\" d=\"M 0.734375 -2.8125 C 0.734375 -3.75 0.972656 -4.484375 1.453125 -5.015625 C 1.941406 -5.546875 2.601562 -5.8125 3.4375 -5.8125 C 4.207031 -5.8125 4.820312 -5.546875 5.28125 -5.015625 C 5.75 -4.492188 5.984375 -3.789062 5.984375 -2.90625 C 5.984375 -2.007812 5.742188 -1.273438 5.265625 -0.703125 C 4.785156 -0.140625 4.1875 0.140625 3.46875 0.140625 C 3.144531 0.140625 2.828125 0.0703125 2.515625 -0.0625 C 2.210938 -0.207031 1.957031 -0.40625 1.75 -0.65625 L 1.75 2.671875 L 0.734375 2.671875 Z M 3.21875 -5.484375 C 2.769531 -5.484375 2.421875 -5.285156 2.171875 -4.890625 C 1.921875 -4.503906 1.796875 -3.953125 1.796875 -3.234375 C 1.796875 -2.335938 1.953125 -1.609375 2.265625 -1.046875 C 2.585938 -0.492188 2.992188 -0.21875 3.484375 -0.21875 C 3.960938 -0.21875 4.316406 -0.394531 4.546875 -0.75 C 4.785156 -1.113281 4.90625 -1.664062 4.90625 -2.40625 C 4.90625 -3.332031 4.75 -4.078125 4.4375 -4.640625 C 4.125 -5.203125 3.71875 -5.484375 3.21875 -5.484375 Z M 3.21875 -5.484375 \"/>\n",
       "</symbol>\n",
       "<symbol overflow=\"visible\" id=\"glyph3-0\">\n",
       "<path style=\"stroke:none;\" d=\"M 0.265625 0 L 0.265625 -6.03125 L 5.0625 -6.03125 L 5.0625 0 Z M 4.296875 -0.75 L 4.296875 -5.28125 L 1.03125 -5.28125 L 1.03125 -0.75 Z M 4.296875 -0.75 \"/>\n",
       "</symbol>\n",
       "<symbol overflow=\"visible\" id=\"glyph3-1\">\n",
       "<path style=\"stroke:none;\" d=\"M 2.28125 -5.875 C 3.039062 -5.875 3.585938 -5.5625 3.921875 -4.9375 C 4.179688 -4.457031 4.3125 -3.796875 4.3125 -2.953125 C 4.3125 -2.148438 4.195312 -1.488281 3.96875 -0.96875 C 3.613281 -0.21875 3.046875 0.15625 2.265625 0.15625 C 1.554688 0.15625 1.03125 -0.148438 0.6875 -0.765625 C 0.40625 -1.273438 0.265625 -1.957031 0.265625 -2.8125 C 0.265625 -3.488281 0.347656 -4.066406 0.515625 -4.546875 C 0.835938 -5.429688 1.425781 -5.875 2.28125 -5.875 Z M 2.265625 -0.515625 C 2.648438 -0.515625 2.953125 -0.679688 3.171875 -1.015625 C 3.398438 -1.359375 3.515625 -1.992188 3.515625 -2.921875 C 3.515625 -3.585938 3.429688 -4.132812 3.265625 -4.5625 C 3.109375 -5 2.789062 -5.21875 2.3125 -5.21875 C 1.882812 -5.21875 1.566406 -5.007812 1.359375 -4.59375 C 1.160156 -4.1875 1.0625 -3.585938 1.0625 -2.796875 C 1.0625 -2.191406 1.125 -1.707031 1.25 -1.34375 C 1.445312 -0.789062 1.785156 -0.515625 2.265625 -0.515625 Z M 2.265625 -0.515625 \"/>\n",
       "</symbol>\n",
       "<symbol overflow=\"visible\" id=\"glyph3-2\">\n",
       "<path style=\"stroke:none;\" d=\"M 2.5625 -6.03125 L 4.015625 -2.484375 L 3.34375 -2.484375 L 2.25 -5.203125 L 1.171875 -2.484375 L 0.5 -2.484375 L 1.9375 -6.03125 Z M 2.5625 -6.03125 \"/>\n",
       "</symbol>\n",
       "<symbol overflow=\"visible\" id=\"glyph4-0\">\n",
       "<path style=\"stroke:none;\" d=\"M 0.421875 1.484375 L 0.421875 -5.921875 L 4.625 -5.921875 L 4.625 1.484375 Z M 0.890625 1.015625 L 4.15625 1.015625 L 4.15625 -5.453125 L 0.890625 -5.453125 Z M 0.890625 1.015625 \"/>\n",
       "</symbol>\n",
       "<symbol overflow=\"visible\" id=\"glyph4-1\">\n",
       "<path style=\"stroke:none;\" d=\"M 0.765625 -0.375 L 3.90625 -0.375 L 2.34375 -4.234375 Z M 5 0 L 0.171875 0 L 2.5 -5.640625 L 2.6875 -5.640625 Z M 5 0 \"/>\n",
       "</symbol>\n",
       "<symbol overflow=\"visible\" id=\"glyph5-0\">\n",
       "<path style=\"stroke:none;\" d=\"M 0.75 2.65625 L 0.75 -10.578125 L 8.25 -10.578125 L 8.25 2.65625 Z M 1.59375 1.8125 L 7.40625 1.8125 L 7.40625 -9.734375 L 1.59375 -9.734375 Z M 1.59375 1.8125 \"/>\n",
       "</symbol>\n",
       "<symbol overflow=\"visible\" id=\"glyph5-1\">\n",
       "<path style=\"stroke:none;\" d=\"M 4.296875 -10.546875 C 3.460938 -9.796875 2.867188 -8.925781 2.515625 -7.9375 C 2.171875 -6.945312 2 -5.617188 2 -3.953125 C 2 -2.273438 2.171875 -0.945312 2.515625 0.03125 C 2.867188 1.019531 3.460938 1.890625 4.296875 2.640625 L 3.984375 2.953125 C 2.953125 2.191406 2.144531 1.203125 1.5625 -0.015625 C 0.976562 -1.234375 0.6875 -2.546875 0.6875 -3.953125 C 0.6875 -5.359375 0.976562 -6.671875 1.5625 -7.890625 C 2.15625 -9.117188 2.960938 -10.109375 3.984375 -10.859375 Z M 4.296875 -10.546875 \"/>\n",
       "</symbol>\n",
       "<symbol overflow=\"visible\" id=\"glyph5-2\">\n",
       "<path style=\"stroke:none;\" d=\"M 0.703125 -10.546875 L 0.984375 -10.859375 C 2.023438 -10.109375 2.835938 -9.117188 3.421875 -7.890625 C 4.015625 -6.660156 4.3125 -5.347656 4.3125 -3.953125 C 4.3125 -2.546875 4.015625 -1.234375 3.421875 -0.015625 C 2.835938 1.203125 2.023438 2.191406 0.984375 2.953125 L 0.703125 2.640625 C 1.535156 1.898438 2.125 1.035156 2.46875 0.046875 C 2.820312 -0.929688 3 -2.265625 3 -3.953125 C 3 -5.628906 2.820312 -6.957031 2.46875 -7.9375 C 2.125 -8.925781 1.535156 -9.796875 0.703125 -10.546875 Z M 0.703125 -10.546875 \"/>\n",
       "</symbol>\n",
       "<symbol overflow=\"visible\" id=\"glyph6-0\">\n",
       "<path style=\"stroke:none;\" d=\"M 2.125 -0.59375 L -8.46875 -0.59375 L -8.46875 -6.59375 L 2.125 -6.59375 Z M 1.453125 -1.265625 L 1.453125 -5.9375 L -7.78125 -5.9375 L -7.78125 -1.265625 Z M 1.453125 -1.265625 \"/>\n",
       "</symbol>\n",
       "<symbol overflow=\"visible\" id=\"glyph6-1\">\n",
       "<path style=\"stroke:none;\" d=\"M -0.546875 -1.109375 L -0.546875 -5.578125 L -6.046875 -3.34375 Z M 0 -7.140625 L 0 -0.25 L -8.0625 -3.5625 L -8.0625 -3.828125 Z M 0 -7.140625 \"/>\n",
       "</symbol>\n",
       "</g>\n",
       "</defs>\n",
       "<g id=\"surface6\">\n",
       "<rect x=\"0\" y=\"0\" width=\"504\" height=\"504\" style=\"fill:rgb(100%,100%,100%);fill-opacity:1;stroke:none;\"/>\n",
       "<path style=\"fill:none;stroke-width:0.75;stroke-linecap:round;stroke-linejoin:round;stroke:rgb(100%,0%,0%);stroke-opacity:1;stroke-miterlimit:10;\" d=\"M 74.398438 416.800781 L 74.414062 416.457031 L 74.449219 416.113281 L 74.511719 415.769531 L 74.597656 415.425781 L 74.710938 415.078125 L 74.84375 414.734375 L 75 414.390625 L 75.179688 414.046875 L 75.378906 413.703125 L 75.601562 413.359375 L 75.84375 413.015625 L 76.109375 412.671875 L 76.394531 412.328125 L 76.699219 411.984375 L 77.023438 411.640625 L 77.371094 411.296875 L 77.730469 410.953125 L 78.113281 410.609375 L 78.511719 410.265625 L 78.929688 409.921875 L 79.367188 409.574219 L 79.816406 409.230469 L 80.285156 408.886719 L 80.773438 408.542969 L 81.273438 408.199219 L 81.789062 407.855469 L 82.320312 407.511719 L 82.867188 407.167969 L 83.429688 406.824219 L 84.003906 406.480469 L 84.59375 406.136719 L 85.199219 405.792969 L 85.816406 405.449219 L 86.445312 405.105469 L 87.085938 404.761719 L 87.742188 404.414062 L 88.410156 404.070312 L 89.085938 403.726562 L 89.777344 403.382812 L 90.480469 403.039062 L 91.191406 402.695312 L 91.914062 402.351562 L 92.648438 402.007812 L 93.390625 401.664062 L 94.144531 401.320312 L 94.90625 400.976562 L 95.679688 400.632812 L 96.460938 400.289062 L 97.25 399.945312 L 98.046875 399.601562 L 98.855469 399.257812 L 99.671875 398.910156 L 100.492188 398.566406 L 101.324219 398.222656 L 102.164062 397.878906 L 103.007812 397.535156 L 103.859375 397.191406 L 104.71875 396.847656 L 105.585938 396.503906 L 106.457031 396.160156 L 107.332031 395.816406 L 109.105469 395.128906 L 110.902344 394.441406 L 111.808594 394.097656 L 112.71875 393.753906 L 113.636719 393.40625 L 114.554688 393.0625 L 115.480469 392.71875 L 116.410156 392.375 L 117.34375 392.03125 L 119.21875 391.34375 L 120.164062 391 L 121.113281 390.65625 L 123.019531 389.96875 L 123.976562 389.625 L 124.9375 389.28125 L 126.867188 388.59375 L 127.835938 388.246094 L 129.78125 387.558594 L 131.734375 386.871094 L 134.675781 385.839844 L 135.660156 385.496094 L 140.601562 383.777344 L 142.585938 383.089844 L 143.582031 382.742188 L 145.566406 382.054688 L 148.554688 381.023438 L 149.546875 380.679688 L 155.523438 378.617188 L 156.515625 378.273438 L 157.511719 377.929688 L 158.503906 377.585938 L 159.496094 377.238281 L 160.492188 376.894531 L 161.484375 376.550781 L 162.472656 376.207031 L 163.464844 375.863281 L 167.417969 374.488281 L 170.371094 373.457031 L 173.3125 372.425781 L 174.289062 372.078125 L 176.242188 371.390625 L 179.160156 370.359375 L 180.128906 370.015625 L 183.023438 368.984375 L 184.945312 368.296875 L 186.859375 367.609375 L 188.765625 366.921875 L 189.71875 366.574219 L 190.664062 366.230469 L 191.613281 365.886719 L 192.554688 365.542969 L 193.5 365.199219 L 196.3125 364.167969 L 197.246094 363.824219 L 199.105469 363.136719 L 200.957031 362.449219 L 201.878906 362.105469 L 202.796875 361.761719 L 203.714844 361.414062 L 205.542969 360.726562 L 207.363281 360.039062 L 210.070312 359.007812 L 210.96875 358.664062 L 211.863281 358.320312 L 214.535156 357.289062 L 216.300781 356.601562 L 217.179688 356.257812 L 218.058594 355.910156 L 218.933594 355.566406 L 220.675781 354.878906 L 221.542969 354.535156 L 223.269531 353.847656 L 224.128906 353.503906 L 224.984375 353.160156 L 226.6875 352.472656 L 228.382812 351.785156 L 229.226562 351.441406 L 230.066406 351.097656 L 230.902344 350.753906 L 231.738281 350.40625 L 232.570312 350.0625 L 234.226562 349.375 L 235.046875 349.03125 L 235.871094 348.6875 L 237.503906 348 L 238.316406 347.65625 L 239.933594 346.96875 L 240.738281 346.625 L 242.339844 345.9375 L 243.136719 345.59375 L 243.929688 345.246094 L 244.722656 344.902344 L 247.078125 343.871094 L 249.410156 342.839844 L 250.949219 342.152344 L 252.480469 341.464844 L 253.238281 341.121094 L 254 340.777344 L 255.507812 340.089844 L 256.257812 339.742188 L 257.003906 339.398438 L 259.230469 338.367188 L 260.699219 337.679688 L 261.429688 337.335938 L 262.882812 336.648438 L 264.328125 335.960938 L 266.472656 334.929688 L 267.179688 334.585938 L 267.886719 334.238281 L 268.59375 333.894531 L 270.691406 332.863281 L 272.074219 332.175781 L 273.449219 331.488281 L 274.132812 331.144531 L 275.492188 330.457031 L 276.167969 330.113281 L 277.511719 329.425781 L 278.179688 329.078125 L 279.507812 328.390625 L 280.167969 328.046875 L 281.480469 327.359375 L 282.785156 326.671875 L 283.429688 326.328125 L 284.078125 325.984375 L 285.359375 325.296875 L 286.632812 324.609375 L 287.265625 324.265625 L 287.894531 323.921875 L 288.523438 323.574219 L 289.773438 322.886719 L 290.394531 322.542969 L 291.628906 321.855469 L 292.242188 321.511719 L 293.460938 320.824219 L 294.671875 320.136719 L 295.875 319.449219 L 296.46875 319.105469 L 297.066406 318.761719 L 297.65625 318.414062 L 298.835938 317.726562 L 299.421875 317.382812 L 300.585938 316.695312 L 301.164062 316.351562 L 302.886719 315.320312 L 303.457031 314.976562 L 304.589844 314.289062 L 305.152344 313.945312 L 306.269531 313.257812 L 306.828125 312.910156 L 307.382812 312.566406 L 308.484375 311.878906 L 309.578125 311.191406 L 310.121094 310.847656 L 310.660156 310.503906 L 311.203125 310.160156 L 312.273438 309.472656 L 313.867188 308.441406 L 314.394531 308.097656 L 314.917969 307.753906 L 315.441406 307.40625 L 316.480469 306.71875 L 317.511719 306.03125 L 318.535156 305.34375 L 319.042969 305 L 319.546875 304.65625 L 320.054688 304.3125 L 321.554688 303.28125 L 322.546875 302.59375 L 323.039062 302.246094 L 323.53125 301.902344 L 324.507812 301.214844 L 325.476562 300.527344 L 326.4375 299.839844 L 327.390625 299.152344 L 328.335938 298.464844 L 329.742188 297.433594 L 330.207031 297.089844 L 330.667969 296.742188 L 331.132812 296.398438 L 332.960938 295.023438 L 333.410156 294.679688 L 333.863281 294.335938 L 334.3125 293.992188 L 335.648438 292.960938 L 336.53125 292.273438 L 337.40625 291.585938 L 337.84375 291.238281 L 338.277344 290.894531 L 338.707031 290.550781 L 339.140625 290.207031 L 339.566406 289.863281 L 339.996094 289.519531 L 340.421875 289.175781 L 341.6875 288.144531 L 342.941406 287.113281 L 343.769531 286.425781 L 344.179688 286.078125 L 344.589844 285.734375 L 344.996094 285.390625 L 345.40625 285.046875 L 345.808594 284.703125 L 346.214844 284.359375 L 346.617188 284.015625 L 347.8125 282.984375 L 348.996094 281.953125 L 350.167969 280.921875 L 350.554688 280.574219 L 350.941406 280.230469 L 352.089844 279.199219 L 353.226562 278.167969 L 353.976562 277.480469 L 354.347656 277.136719 L 354.722656 276.792969 L 355.089844 276.449219 L 355.460938 276.105469 L 355.828125 275.761719 L 356.195312 275.414062 L 357.648438 274.039062 L 358.007812 273.695312 L 358.363281 273.351562 L 358.722656 273.007812 L 359.433594 272.320312 L 360.839844 270.945312 L 361.1875 270.601562 L 362.566406 269.222656 L 362.90625 268.878906 L 363.25 268.535156 L 363.589844 268.191406 L 364.933594 266.816406 L 365.265625 266.472656 L 365.601562 266.128906 L 365.929688 265.785156 L 366.261719 265.441406 L 366.917969 264.753906 L 367.242188 264.40625 L 367.570312 264.0625 L 367.894531 263.71875 L 368.214844 263.375 L 368.539062 263.03125 L 369.179688 262.34375 L 370.445312 260.96875 L 371.695312 259.59375 L 372.003906 259.246094 L 372.621094 258.558594 L 373.839844 257.183594 L 374.140625 256.839844 L 374.445312 256.496094 L 374.742188 256.152344 L 375.042969 255.808594 L 376.230469 254.433594 L 376.523438 254.089844 L 376.816406 253.742188 L 377.109375 253.398438 L 377.398438 253.054688 L 377.691406 252.710938 L 377.980469 252.367188 L 378.265625 252.023438 L 378.554688 251.679688 L 379.695312 250.304688 L 380.539062 249.273438 L 380.816406 248.929688 L 381.097656 248.585938 L 381.375 248.238281 L 381.652344 247.894531 L 381.925781 247.550781 L 382.203125 247.207031 L 382.75 246.519531 L 383.019531 246.175781 L 383.292969 245.832031 L 384.101562 244.800781 L 384.367188 244.457031 L 384.636719 244.113281 L 385.167969 243.425781 L 385.429688 243.078125 L 385.695312 242.734375 L 386.480469 241.703125 L 386.738281 241.359375 L 387 241.015625 L 387.773438 239.984375 L 388.28125 239.296875 L 388.539062 238.953125 L 388.789062 238.609375 L 389.296875 237.921875 L 389.546875 237.574219 L 390.046875 236.886719 L 390.292969 236.542969 L 390.542969 236.199219 L 391.527344 234.824219 L 392.980469 232.761719 L 393.21875 232.414062 L 393.933594 231.382812 L 394.167969 231.039062 L 394.40625 230.695312 L 394.875 230.007812 L 395.105469 229.664062 L 395.574219 228.976562 L 396.265625 227.945312 L 396.492188 227.601562 L 396.722656 227.257812 L 396.949219 226.910156 L 397.179688 226.566406 L 397.40625 226.222656 L 397.628906 225.878906 L 398.082031 225.191406 L 398.972656 223.816406 L 399.191406 223.472656 L 399.414062 223.128906 L 400.289062 221.753906 L 400.507812 221.40625 L 401.796875 219.34375 L 402.007812 219 L 402.222656 218.65625 L 402.855469 217.625 L 403.0625 217.28125 L 403.273438 216.9375 L 403.480469 216.59375 L 403.691406 216.246094 L 404.105469 215.558594 L 404.308594 215.214844 L 404.515625 214.871094 L 404.71875 214.527344 L 404.925781 214.183594 L 405.738281 212.808594 L 405.9375 212.464844 L 406.140625 212.121094 L 406.738281 211.089844 L 406.9375 210.742188 L 407.136719 210.398438 L 407.332031 210.054688 L 407.53125 209.710938 L 408.507812 207.992188 L 408.699219 207.648438 L 408.894531 207.304688 L 409.851562 205.585938 L 410.039062 205.238281 L 410.230469 204.894531 L 410.605469 204.207031 L 410.796875 203.863281 L 410.984375 203.519531 L 411.167969 203.175781 L 411.542969 202.488281 L 411.910156 201.800781 L 412.097656 201.457031 L 412.464844 200.769531 L 412.644531 200.425781 L 412.828125 200.078125 L 413.011719 199.734375 L 413.371094 199.046875 L 413.554688 198.703125 L 413.914062 198.015625 L 414.089844 197.671875 L 414.449219 196.984375 L 414.800781 196.296875 L 414.980469 195.953125 L 415.507812 194.921875 L 415.679688 194.574219 L 416.03125 193.886719 L 417.234375 191.480469 L 417.402344 191.136719 L 417.574219 190.792969 L 417.742188 190.449219 L 417.914062 190.105469 L 418.082031 189.761719 L 418.25 189.414062 L 418.585938 188.726562 L 418.75 188.382812 L 418.917969 188.039062 L 419.082031 187.695312 L 419.25 187.351562 L 420.234375 185.289062 L 420.394531 184.945312 L 420.558594 184.601562 L 420.71875 184.257812 L 420.882812 183.910156 L 421.84375 181.847656 L 422 181.503906 L 422.160156 181.160156 L 422.316406 180.816406 L 422.476562 180.472656 L 423.257812 178.753906 L 423.410156 178.40625 L 423.722656 177.71875 L 424.027344 177.03125 L 424.183594 176.6875 L 424.792969 175.3125 L 424.941406 174.96875 L 425.246094 174.28125 L 425.394531 173.9375 L 425.546875 173.59375 L 425.695312 173.246094 L 426.734375 170.839844 L 426.878906 170.496094 L 427.027344 170.152344 L 427.171875 169.808594 L 427.320312 169.464844 L 427.898438 168.089844 L 428.042969 167.742188 L 428.332031 167.054688 L 428.472656 166.710938 L 428.617188 166.367188 L 428.757812 166.023438 L 428.902344 165.679688 L 429.183594 164.992188 L 429.328125 164.648438 L 429.75 163.617188 L 429.886719 163.273438 L 430.167969 162.585938 L 430.304688 162.238281 L 430.445312 161.894531 L 430.582031 161.550781 L 430.722656 161.207031 L 431.816406 158.457031 L 431.949219 158.113281 L 432.085938 157.769531 L 432.21875 157.425781 L 432.355469 157.078125 L 433.683594 153.640625 L 433.8125 153.296875 L 433.945312 152.953125 L 434.203125 152.265625 L 434.335938 151.921875 L 434.464844 151.574219 L 435.367188 149.167969 L 435.492188 148.824219 L 435.621094 148.480469 L 435.746094 148.136719 L 435.875 147.792969 L 436.125 147.105469 L 436.253906 146.761719 L 436.378906 146.414062 L 437.128906 144.351562 L 437.25 144.007812 L 437.375 143.664062 L 437.496094 143.320312 L 437.621094 142.976562 L 437.742188 142.632812 L 437.867188 142.289062 L 438.230469 141.257812 L 438.355469 140.910156 L 438.71875 139.878906 L 438.835938 139.535156 L 439.199219 138.503906 L 439.316406 138.160156 L 439.4375 137.816406 L 439.554688 137.472656 L 439.675781 137.128906 L 439.910156 136.441406 L 440.03125 136.097656 L 440.148438 135.753906 L 440.265625 135.40625 L 440.851562 133.6875 L 440.964844 133.34375 L 441.199219 132.65625 L 441.3125 132.3125 L 441.429688 131.96875 L 441.542969 131.625 L 441.660156 131.28125 L 441.886719 130.59375 L 442 130.246094 L 442.117188 129.902344 L 442.683594 128.183594 L 442.792969 127.839844 L 443.132812 126.808594 L 443.242188 126.464844 L 443.355469 126.121094 L 443.464844 125.777344 L 443.578125 125.433594 L 443.6875 125.089844 L 443.796875 124.742188 L 443.910156 124.398438 L 444.894531 121.304688 L 445 120.960938 L 445.21875 120.273438 L 445.324219 119.929688 L 445.433594 119.585938 L 445.539062 119.238281 L 445.648438 118.894531 L 445.859375 118.207031 L 445.96875 117.863281 L 447.023438 114.425781 L 447.125 114.078125 L 447.335938 113.390625 L 447.4375 113.046875 L 447.542969 112.703125 L 447.644531 112.359375 L 447.75 112.015625 L 448.054688 110.984375 L 448.160156 110.640625 L 448.667969 108.921875 L 448.769531 108.574219 L 449.074219 107.542969 L 449.171875 107.199219 L 449.375 106.511719 L 449.472656 106.167969 L 449.574219 105.824219 L 449.671875 105.480469 L 449.773438 105.136719 L 449.871094 104.792969 L 449.972656 104.449219 L 450.167969 103.761719 L 450.269531 103.414062 L 451.246094 99.976562 L 451.339844 99.632812 L 451.535156 98.945312 L 451.628906 98.601562 L 451.726562 98.257812 L 451.820312 97.910156 L 451.917969 97.566406 L 452.011719 97.222656 L 452.109375 96.878906 L 452.203125 96.535156 L 452.300781 96.191406 L 452.675781 94.816406 L 452.773438 94.472656 L 453.242188 92.753906 L 453.332031 92.40625 L 453.707031 91.03125 L 453.796875 90.6875 L 453.890625 90.34375 L 453.980469 90 L 454.167969 89.3125 L 454.347656 88.625 L 454.441406 88.28125 L 454.53125 87.9375 L 454.625 87.59375 L 454.714844 87.246094 L 455.074219 85.871094 L 455.167969 85.527344 L 455.527344 84.152344 L 455.613281 83.808594 L 455.972656 82.433594 L 456.058594 82.089844 L 456.148438 81.742188 L 456.238281 81.398438 L 456.324219 81.054688 L 456.414062 80.710938 L 456.5 80.367188 L 456.589844 80.023438 L 456.675781 79.679688 L 456.765625 79.335938 L 456.9375 78.648438 L 457.027344 78.304688 L 457.457031 76.585938 L 457.546875 76.238281 L 457.890625 74.863281 L 457.972656 74.519531 L 458.316406 73.144531 L 458.398438 72.800781 \"/>\n",
       "<path style=\"fill:none;stroke-width:0.75;stroke-linecap:round;stroke-linejoin:round;stroke:rgb(0%,0%,0%);stroke-opacity:1;stroke-miterlimit:10;\" d=\"M 59.039062 416.800781 L 59.039062 72.800781 \"/>\n",
       "<path style=\"fill:none;stroke-width:0.75;stroke-linecap:round;stroke-linejoin:round;stroke:rgb(0%,0%,0%);stroke-opacity:1;stroke-miterlimit:10;\" d=\"M 59.039062 416.800781 L 51.839844 416.800781 \"/>\n",
       "<path style=\"fill:none;stroke-width:0.75;stroke-linecap:round;stroke-linejoin:round;stroke:rgb(0%,0%,0%);stroke-opacity:1;stroke-miterlimit:10;\" d=\"M 59.039062 348 L 51.839844 348 \"/>\n",
       "<path style=\"fill:none;stroke-width:0.75;stroke-linecap:round;stroke-linejoin:round;stroke:rgb(0%,0%,0%);stroke-opacity:1;stroke-miterlimit:10;\" d=\"M 59.039062 279.199219 L 51.839844 279.199219 \"/>\n",
       "<path style=\"fill:none;stroke-width:0.75;stroke-linecap:round;stroke-linejoin:round;stroke:rgb(0%,0%,0%);stroke-opacity:1;stroke-miterlimit:10;\" d=\"M 59.039062 210.398438 L 51.839844 210.398438 \"/>\n",
       "<path style=\"fill:none;stroke-width:0.75;stroke-linecap:round;stroke-linejoin:round;stroke:rgb(0%,0%,0%);stroke-opacity:1;stroke-miterlimit:10;\" d=\"M 59.039062 141.601562 L 51.839844 141.601562 \"/>\n",
       "<path style=\"fill:none;stroke-width:0.75;stroke-linecap:round;stroke-linejoin:round;stroke:rgb(0%,0%,0%);stroke-opacity:1;stroke-miterlimit:10;\" d=\"M 59.039062 72.800781 L 51.839844 72.800781 \"/>\n",
       "<g style=\"fill:rgb(0%,0%,0%);fill-opacity:1;\">\n",
       "  <use xlink:href=\"#glyph0-1\" x=\"41.761719\" y=\"420.136719\"/>\n",
       "</g>\n",
       "<g style=\"fill:rgb(0%,0%,0%);fill-opacity:1;\">\n",
       "  <use xlink:href=\"#glyph0-2\" x=\"41.761719\" y=\"351.335938\"/>\n",
       "</g>\n",
       "<g style=\"fill:rgb(0%,0%,0%);fill-opacity:1;\">\n",
       "  <use xlink:href=\"#glyph0-3\" x=\"41.761719\" y=\"282.535156\"/>\n",
       "</g>\n",
       "<g style=\"fill:rgb(0%,0%,0%);fill-opacity:1;\">\n",
       "  <use xlink:href=\"#glyph0-4\" x=\"41.761719\" y=\"213.734375\"/>\n",
       "</g>\n",
       "<g style=\"fill:rgb(0%,0%,0%);fill-opacity:1;\">\n",
       "  <use xlink:href=\"#glyph0-5\" x=\"41.761719\" y=\"144.9375\"/>\n",
       "</g>\n",
       "<g style=\"fill:rgb(0%,0%,0%);fill-opacity:1;\">\n",
       "  <use xlink:href=\"#glyph0-6\" x=\"41.761719\" y=\"79.472656\"/>\n",
       "  <use xlink:href=\"#glyph0-1\" x=\"41.761719\" y=\"72.798828\"/>\n",
       "</g>\n",
       "<path style=\"fill:none;stroke-width:0.75;stroke-linecap:round;stroke-linejoin:round;stroke:rgb(0%,0%,0%);stroke-opacity:1;stroke-miterlimit:10;\" d=\"M 59.039062 430.558594 L 473.761719 430.558594 L 473.761719 59.039062 L 59.039062 59.039062 L 59.039062 430.558594 \"/>\n",
       "<g style=\"fill:rgb(0%,0%,0%);fill-opacity:1;\">\n",
       "  <use xlink:href=\"#glyph1-1\" x=\"214.8125\" y=\"470.457031\"/>\n",
       "  <use xlink:href=\"#glyph1-2\" x=\"224.146484\" y=\"470.457031\"/>\n",
       "  <use xlink:href=\"#glyph1-3\" x=\"230.820312\" y=\"470.457031\"/>\n",
       "  <use xlink:href=\"#glyph1-4\" x=\"237.494141\" y=\"470.457031\"/>\n",
       "  <use xlink:href=\"#glyph1-5\" x=\"244.167969\" y=\"470.457031\"/>\n",
       "  <use xlink:href=\"#glyph1-6\" x=\"247.501953\" y=\"470.457031\"/>\n",
       "  <use xlink:href=\"#glyph1-5\" x=\"250.167969\" y=\"470.457031\"/>\n",
       "  <use xlink:href=\"#glyph1-7\" x=\"253.501953\" y=\"470.457031\"/>\n",
       "  <use xlink:href=\"#glyph1-8\" x=\"259.501953\" y=\"470.457031\"/>\n",
       "  <use xlink:href=\"#glyph1-9\" x=\"262.835938\" y=\"470.457031\"/>\n",
       "</g>\n",
       "<g style=\"fill:rgb(0%,0%,0%);fill-opacity:1;\">\n",
       "  <use xlink:href=\"#glyph2-1\" x=\"266.167969\" y=\"463.433594\"/>\n",
       "</g>\n",
       "<g style=\"fill:rgb(0%,0%,0%);fill-opacity:1;\">\n",
       "  <use xlink:href=\"#glyph2-2\" x=\"266.167969\" y=\"480.265625\"/>\n",
       "</g>\n",
       "<g style=\"fill:rgb(0%,0%,0%);fill-opacity:1;\">\n",
       "  <use xlink:href=\"#glyph3-1\" x=\"271.835938\" y=\"485.125\"/>\n",
       "</g>\n",
       "<g style=\"fill:rgb(0%,0%,0%);fill-opacity:1;\">\n",
       "  <use xlink:href=\"#glyph4-1\" x=\"275.835938\" y=\"457.328125\"/>\n",
       "</g>\n",
       "<g style=\"fill:rgb(0%,0%,0%);fill-opacity:1;\">\n",
       "  <use xlink:href=\"#glyph3-2\" x=\"276.433594\" y=\"453.570312\"/>\n",
       "</g>\n",
       "<g style=\"fill:rgb(0%,0%,0%);fill-opacity:1;\">\n",
       "  <use xlink:href=\"#glyph2-3\" x=\"280.976562\" y=\"470.457031\"/>\n",
       "</g>\n",
       "<g style=\"fill:rgb(0%,0%,0%);fill-opacity:1;\">\n",
       "  <use xlink:href=\"#glyph5-1\" x=\"287.976562\" y=\"470.457031\"/>\n",
       "</g>\n",
       "<g style=\"fill:rgb(0%,0%,0%);fill-opacity:1;\">\n",
       "  <use xlink:href=\"#glyph1-2\" x=\"292.972656\" y=\"470.457031\"/>\n",
       "</g>\n",
       "<g style=\"fill:rgb(0%,0%,0%);fill-opacity:1;\">\n",
       "  <use xlink:href=\"#glyph5-2\" x=\"299.644531\" y=\"470.457031\"/>\n",
       "</g>\n",
       "<g style=\"fill:rgb(0%,0%,0%);fill-opacity:1;\">\n",
       "  <use xlink:href=\"#glyph1-10\" x=\"304.640625\" y=\"470.457031\"/>\n",
       "</g>\n",
       "<g style=\"fill:rgb(0%,0%,0%);fill-opacity:1;\">\n",
       "  <use xlink:href=\"#glyph1-2\" x=\"311.316406\" y=\"470.457031\"/>\n",
       "</g>\n",
       "<g style=\"fill:rgb(0%,0%,0%);fill-opacity:1;\">\n",
       "  <use xlink:href=\"#glyph0-7\" x=\"10.460938\" y=\"285.144531\"/>\n",
       "  <use xlink:href=\"#glyph0-8\" x=\"10.460938\" y=\"277.140625\"/>\n",
       "  <use xlink:href=\"#glyph0-9\" x=\"10.460938\" y=\"273.144531\"/>\n",
       "  <use xlink:href=\"#glyph0-10\" x=\"10.460938\" y=\"270.478516\"/>\n",
       "  <use xlink:href=\"#glyph0-11\" x=\"10.460938\" y=\"264.478516\"/>\n",
       "  <use xlink:href=\"#glyph0-12\" x=\"10.460938\" y=\"257.804688\"/>\n",
       "  <use xlink:href=\"#glyph0-9\" x=\"10.460938\" y=\"254.470703\"/>\n",
       "  <use xlink:href=\"#glyph0-13\" x=\"10.460938\" y=\"251.804688\"/>\n",
       "  <use xlink:href=\"#glyph0-14\" x=\"10.460938\" y=\"241.808594\"/>\n",
       "  <use xlink:href=\"#glyph0-15\" x=\"10.460938\" y=\"235.134766\"/>\n",
       "  <use xlink:href=\"#glyph0-10\" x=\"10.460938\" y=\"228.460938\"/>\n",
       "  <use xlink:href=\"#glyph0-16\" x=\"10.460938\" y=\"222.460938\"/>\n",
       "  <use xlink:href=\"#glyph0-17\" x=\"10.460938\" y=\"219.126953\"/>\n",
       "  <use xlink:href=\"#glyph0-12\" x=\"10.460938\" y=\"215.792969\"/>\n",
       "</g>\n",
       "<g style=\"fill:rgb(0%,0%,0%);fill-opacity:1;\">\n",
       "  <use xlink:href=\"#glyph6-1\" x=\"10.460938\" y=\"212.457031\"/>\n",
       "</g>\n",
       "<g style=\"fill:rgb(0%,0%,0%);fill-opacity:1;\">\n",
       "  <use xlink:href=\"#glyph0-18\" x=\"5.144531\" y=\"211.273438\"/>\n",
       "</g>\n",
       "</g>\n",
       "</svg>\n"
      ],
      "text/plain": [
       "plot without title"
      ]
     },
     "metadata": {
      "image/svg+xml": {
       "isolated": true
      }
     },
     "output_type": "display_data"
    }
   ],
   "source": [
    "# Virtual impact plot\n",
    "plot(x,y,col=\"red\",type=\"l\",ylab = expression(paste(\"Price impact: \",hat(Delta))),\n",
    "xlab = expression(paste(\"Quantity: \",integral(rho(u)*du,0,hat(Delta)))),\n",
    "xaxt=\"n\"\n",
    ")"
   ]
  },
  {
   "cell_type": "markdown",
   "metadata": {
    "slideshow": {
     "slide_type": "slide"
    }
   },
   "source": [
    "### Impact for high trading rates\n",
    "\n",
    "-   <span> You can’t trade more than the total depth of the book so\n",
    "    price impact increases without limit as $n \\rightarrow n_{max}$.\n",
    "    </span>\n",
    "\n",
    "\n",
    "-   <span>For a sufficiently large trading rate $v$, it can be shown\n",
    "    that $$f(v) \\sim \\frac{1}{(1-v/v_{max})^{1/\\mu}}$$</span>\n",
    "\n",
    "\n",
    "-   <span> Setting $v = v_{max}\\,(1-\\epsilon)$ and taking the limit\n",
    "    $\\epsilon \\to 0$,\n",
    "    $$f(v) \\sim \\frac{1}{\\epsilon^{1/\\mu}} \\textrm{ as } \\epsilon \\to 0.$$</span>\n",
    "\n",
    "\n",
    "-   <span>Imagine we accumulate stock at a rate close to $v_{max}:=1$\n",
    "    and liquidate at some (lower) rate $v$.</span>\n",
    "\n",
    "    -   <span>This is the pump and dump strategy!</span>\n",
    "\n"
   ]
  },
  {
   "cell_type": "markdown",
   "metadata": {
    "slideshow": {
     "slide_type": "subslide"
    }
   },
   "source": [
    "\n",
    "-   Substituting into condition [(11)](#eq:fconstraint) gives\n",
    "$$\n",
    "\\begin{eqnarray*}\n",
    "&&\\frac{1}{\\epsilon^{1/\\mu}} \\, \\left\\{(1-\\epsilon)\\,{v}^{1-\\gamma} -(1-\\epsilon + v)^{2-\\gamma}+{(1-\\epsilon)}^{2-\\gamma}+{v}^{2-\\gamma}\\right\\} + f\\left(v\\right)\\,{(1-\\epsilon)}^{2 - \\gamma }\n",
    "     \\geq 0\\end{eqnarray*}\n",
    "$$\n",
    "\n",
    "-  We observe that price manipulation is possible only if\n",
    "\n",
    "    $$h(v,\\,\\gamma):={v}^{1-\\gamma} -(1 + v)^{2-\\gamma}+1+{v}^{2-\\gamma} < 0.$$\n",
    "\n"
   ]
  },
  {
   "cell_type": "markdown",
   "metadata": {
    "slideshow": {
     "slide_type": "slide"
    }
   },
   "source": [
    "### Graphical illustration\n",
    "\n",
    "<h2><img src=\"http://mfe.baruch.cuny.edu/wp-content/uploads/2015/04/Liquidity2008largev.png\" align = \"center\" width=500></h2>"
   ]
  },
  {
   "cell_type": "markdown",
   "metadata": {
    "slideshow": {
     "slide_type": "subslide"
    }
   },
   "source": [
    "-   <span>We see from the picture that $h(v,\\gamma)<0$ is equivalent to\n",
    "    $$\\gamma < \\gamma^*:=2-\\frac{\\log 3}{\\log 2}\\approx 0.415$$ </span>\n",
    "\n",
    "-   <span>So if $\\gamma>\\gamma^*$, there is no arbitrage.</span>"
   ]
  },
  {
   "cell_type": "markdown",
   "metadata": {
    "slideshow": {
     "slide_type": "slide"
    }
   },
   "source": [
    "### More on high trading rates\n",
    "\n",
    "-   <span>Also, $h(v,\\,\\gamma)$ decreases as $v \\to v_{max}(=1)$ so the\n",
    "    arbitrage is maximized near $v = v_{max}$.</span>\n",
    "\n",
    "    -   <span>However, we already know that there is no arbitrage when\n",
    "        trading in and out at the same rate.</span>\n",
    "\n",
    "\n",
    "-   <span>A careful limiting argument nevertheless shows that arbitrage\n",
    "    is still possible in principle for every $\\gamma < \\gamma^*$.\n",
    "    </span>"
   ]
  },
  {
   "cell_type": "markdown",
   "metadata": {
    "slideshow": {
     "slide_type": "subslide"
    }
   },
   "source": [
    "-   We deduce that, *independent* of the particular exponent $\\mu$ in\n",
    "    the power law of limit order arrivals, the no-arbitrage condition\n",
    "    is:\n",
    "\n",
    "<font color=\"red\">\n",
    "#### <span>Large size no arbitrage condition</span>\n",
    "\n",
    "$$\\gamma > \\gamma^* =2-\\frac{\\log 3}{\\log 2}$$"
   ]
  },
  {
   "cell_type": "markdown",
   "metadata": {
    "slideshow": {
     "slide_type": "slide"
    }
   },
   "source": [
    "### Summary\n",
    "\n",
    "-   Assuming a price process of the form\n",
    "    $$S_t=S_0+\\int_0^t\\,f(\\dot{x}_s)\\,G(t-s)\\,ds+\\int_0^t\\,\\sigma\\,dZ_s$$  \n",
    "    and imposing the principle of no price manipulation we showed that\n",
    "    if the instantaneous market impact functions $f(\\cdot)$ is\n",
    "    nonlinear, the decay kernel $G(\\cdot)$ must be singular at the\n",
    "    origin.\n",
    "\n",
    "\n",
    "-  In particular, if $f(v) \\propto v^\\delta$ and $G(\\tau) \\sim \\tau^{-\\gamma}$, we must have\n",
    "    $$\\gamma +\\delta \\geq 1.$$"
   ]
  },
  {
   "cell_type": "markdown",
   "metadata": {
    "slideshow": {
     "slide_type": "subslide"
    }
   },
   "source": [
    "-   <span> By considering the tails of the limit-order book, we deduce\n",
    "    that\n",
    "    $$\\gamma \\geq \\gamma^* := 2- \\frac{\\log{3}}{\\log{2}}\\approx 0.415.$$\n",
    "    </span>\n",
    "\n",
    "\n",
    "\n",
    "-   <span>We then observe that if the average cost of a (not-too-large)\n",
    "    VWAP execution is roughly independent of duration, the exponent\n",
    "    $\\delta$ of the power law of market impact should satisfy:\n",
    "    $$\\delta+\\gamma \\approx 1$$ </span>\n",
    "\n",
    "\n",
    "-   <span>Finally, we note that empirical estimates are\n",
    "    $\\gamma \\approx 0.4$ (Bouchaud et al.) and $\\delta \\approx 0.6$\n",
    "    (Algren et al.)</span>\n",
    "\n",
    "\n",
    "-   <span>Our no price manipulation principle links these\n",
    "    observations!</span>\n",
    "\n"
   ]
  },
  {
   "cell_type": "markdown",
   "metadata": {
    "slideshow": {
     "slide_type": "slide"
    }
   },
   "source": [
    "### Schematic presentation of results\n",
    "\n",
    "<h2><img src=\"http://mfe.baruch.cuny.edu/wp-content/uploads/2015/04/Liquidity2008summary.png\" align = \"center\" width=500></h2>"
   ]
  },
  {
   "cell_type": "markdown",
   "metadata": {
    "slideshow": {
     "slide_type": "slide"
    }
   },
   "source": [
    "### FGLW vs Bouchaud\n",
    "\n",
    "-   The empirical findings of [Bershova and Rakhlin]<sup id=\"cite_ref-Bershova\" class=\"reference\"><a href=\"#cite_note-Bershova\"><span>[</span>2<span>]</span></a></sup> suggest that the FGLW\n",
    "    model is closer to reality than the Bouchaud model, thus\n",
    "    invalidating [(4)](#eq:process) as a good model for the evolution of the stock price\n",
    "    during execution of a metaorder.\n",
    "\n",
    "\n",
    "-   However the FGLW model obviously violates the principle of no price\n",
    "    manipulation.\n",
    "\n",
    "    -   Assuming a power-law distribution of order sizes, permanent\n",
    "        impact is also power-law and certainly nonlinear in the FGLW\n",
    "        model."
   ]
  },
  {
   "cell_type": "markdown",
   "metadata": {
    "slideshow": {
     "slide_type": "subslide"
    }
   },
   "source": [
    "\n",
    "-   More recent empirical work by [Waelbroeck and Gomes]<sup id=\"cite_ref-WaelbroeckGomes\" class=\"reference\"><a href=\"#cite_note-WaelbroeckGomes\"><span>[</span>6<span>]</span></a></sup> suggests that only\n",
    "    informed orders have permanent impact.\n",
    "\n",
    "    -   This offers another potential way to eliminate price manipulation\n",
    "        in the FGLW model.\n",
    "\n",
    "\n",
    "-   Yet more recent work by [Donier and Bonart]<sup id=\"cite_ref-DonierBonart\" class=\"reference\"><a href=\"#cite_note-DonierBonart\"><span>[</span>4<span>]</span></a></sup> argues convincingly that the market responds only to global order flow and not to individual metaorders.\n",
    "    - Thus \"informed\" metaorders that are correlated with background order flow appear to generate permanent impact.\n",
    "    - The Bouchaud picture is strongly preferred over the FGLW picture.  There is no \"mechanical\" permanent market impact."
   ]
  },
  {
   "cell_type": "markdown",
   "metadata": {
    "slideshow": {
     "slide_type": "slide"
    }
   },
   "source": [
    "### References\n",
    "\n",
    "<br />\n",
    "\n",
    "<div class=\"reflist\" style=\"list-style-type: decimal;\">\n",
    "\n",
    "<ol>\n",
    "\n",
    "  <li id=\"cite_note-Almgren\"><span class=\"mw-cite-backlink\"><b><a href=\"#cite_ref-Almgren\">^</a></b></span>Robert Almgren, Chee Thum, Emmanuel Hauptmann, and Hong Li, Equity\n",
    "market impact, <span>*Risk*</span> July 2005, 57–62.\n",
    "  </li>\n",
    "\n",
    "  <li id=\"cite_note-Bershova\"><span class=\"mw-cite-backlink\"><b><a href=\"#cite_ref-Bershova\">^</a></b></span>Nataliya Bershova and Dmitry Rakhlin, The Non-Linear Market Impact of\n",
    "Large Trades: Evidence from Buy-Side Order Flow, <span>*Quantitative\n",
    "Finance*</span> <span>**13**</span>(11) 1759–1778 (2013).\n",
    "  </li>\n",
    "  \n",
    "  <li id=\"cite_note-BMP\"><span class=\"mw-cite-backlink\"><b><a href=\"#cite_ref-BMP\">^</a></b></span>Jean-Philippe Bouchaud, Marc Mézard and Marc Potters, Statistical\n",
    "properties of stock order books: empirical results and models,\n",
    "<span>*Quantitative Finance*</span> <span>**2**</span>(4) 251–256\n",
    "(2002).\n",
    "  </li>\n",
    "  \n",
    "  <li id=\"cite_note-DonierBonart\"><span class=\"mw-cite-backlink\"><b><a href=\"#cite_ref-DonierBonart\">^</a></b></span>Jonathan Donier and Julius Bonart, A million metaorder analysis of market impact on the Bitcoin, <span>*Microstructure and Liquidity*</span> 1550008 (2014).\n",
    "  </li>\n",
    "  \n",
    "  <li id=\"cite_note-LLOB\"><span class=\"mw-cite-backlink\"><b><a href=\"#cite_ref-LLOB\">^</a></b></span>Jonathan Donier, Julius Bonart, Iacopo Mastromatteo, and Jean-Philippe Bouchaud, A fully consistent, minimal model for non-linear market impact, *Quantitative Finance* **15**(7) 1109-1121 (2015).\n",
    "  </li>\n",
    "  \n",
    "  \n",
    "  \n",
    "  <li id=\"cite_note-FGLW\"><span class=\"mw-cite-backlink\"><b><a href=\"#cite_ref-FGLW\">^</a></b></span>J Doyne Farmer, Austin Gerig, Fabrizio Lillo, and Henri Waelbroeck, How\n",
    "efficiency shapes market impact, <span>*Quantitative\n",
    "Finance*</span> <span>**13**</span>(11) 1743–1758 (2013).\n",
    "  </li>\n",
    "  \n",
    "  <li id=\"cite_note-Gatheral\"><span class=\"mw-cite-backlink\"><b><a href=\"#cite_ref-Gatheral\">^</a></b></span>Jim Gatheral, No-dynamic-arbitrage and market impact,\n",
    "<span>*Quantitative Finance*</span> <span>**10**</span>(7) 749–759\n",
    "(2010).\n",
    "  </li>\n",
    "\n",
    "  <li id=\"cite_note-GSS\"><span class=\"mw-cite-backlink\"><b><a href=\"#cite_ref-GSS\">^</a></b></span>Jim Gatheral, Alexander Schied, and Alla Slynko, Exponential resilience\n",
    "and decay of market impact, in <span>*Econophysics of Order-driven\n",
    "Markets*</span>, Springer, 225–236, (2011).\n",
    "  </li>\n",
    "  \n",
    "\n",
    "  \n",
    "  <li id=\"cite_note-Moro\"><span class=\"mw-cite-backlink\"><b><a href=\"#cite_ref-Moro\">^</a></b></span>Esteban Moro, Javier Vicente, Luis G Moyano, Austin Gerig, J. Doyne\n",
    "Farmer, Gabriella Vaglica, Fabrizio Lillo, and Rosario N Mantegna,\n",
    "Market impact and trading profile of meta orders in stock markets,\n",
    "<span>*Physical Review E*</span> <span>**80**</span>(6) 066102 (2009).\n",
    "  </li>\n",
    "  \n",
    "  <li id=\"cite_note-ObizhaevaWang\"><span class=\"mw-cite-backlink\"><b><a href=\"#cite_ref-ObizhaevaWang\">^</a></b></span>Anna Obizhaeva and Jiang Wang, Optimal trading strategy and\n",
    "supply/demand dynamics <span>*Journal of Financial Markets*</span>\n",
    "<span>**16**</span>(1) 1–32 (2013).\n",
    "  </li>\n",
    "  \n",
    "\n",
    "  \n",
    "  <li id=\"cite_note-Toth\"><span class=\"mw-cite-backlink\"><b><a href=\"#cite_ref-Toth\">^</a></b></span>Bence Tóth, Yves Lempérière, Cyril Deremble, Joachim de Lataillade,\n",
    "Julien Kockelkoren, and Jean-Philippe Bouchaud, Anomalous price impact\n",
    "and the critical nature of liquidity in financial markets,\n",
    "<span>*Physical Review X*</span> 021006, 1-11(2011).\n",
    "  </li>\n",
    "  \n",
    "  <li id=\"cite_note-WaelbroeckGomes\"><span class=\"mw-cite-backlink\"><b><a href=\"#cite_ref-WaelbroeckGomes\">^</a></b></span>Henri Waelbroeck and Carla Gomes, Is Market Impact a Measure of the\n",
    "Information Value of Trades? Market Response to Liquidity vs. Informed\n",
    "Trades, <span>*Quantitative Finance*</span> <span>**15**</span>(5)\n",
    "773-793 (2015). \n",
    "  </li>\n",
    "\n",
    "</ol>"
   ]
  }
 ],
 "metadata": {
  "celltoolbar": "Slideshow",
  "kernelspec": {
   "display_name": "R",
   "language": "R",
   "name": "ir"
  },
  "language_info": {
   "codemirror_mode": "r",
   "file_extension": ".r",
   "mimetype": "text/x-r-source",
   "name": "R",
   "pygments_lexer": "r",
   "version": "3.2.2"
  }
 },
 "nbformat": 4,
 "nbformat_minor": 0
}
