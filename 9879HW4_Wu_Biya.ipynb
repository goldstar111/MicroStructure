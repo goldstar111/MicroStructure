{
 "cells": [
  {
   "cell_type": "markdown",
   "metadata": {},
   "source": [
    "# MTH9879 Homework 4\n",
    "\n",
    "Assigned: March 8, 2016.\n",
    "Due: March 22, 2016 by 6pm. \n",
    "\n",
    "Late homework **will not be accepted**.\n",
    "\n",
    "$$\n",
    "\\newcommand{\\underbar}{\\underline}\n",
    "\\newcommand{\\supp}{\\mathrm{supp}}\n",
    "\\newcommand{\\E}{\\mathbb{E}}\n",
    "\\newcommand{\\EE}{\\mathbb{E}}\n",
    "\\newcommand{\\Eof}[1]{\\mathbb{E}\\left[ #1 \\right]}\n",
    "\\def\\Cov{{ \\mbox{Cov} }}\n",
    "\\def\\Var{{ \\mbox{Var} }}\n",
    "\\newcommand{\\1}{\\mathbf{1} }\n",
    "\\newcommand{\\PP}{\\mathbb{P} }\n",
    "%\\newcommand{\\Pr}{\\mathrm{Pr} }\n",
    "\\newcommand{\\QQ}{\\mathbb{Q} }\n",
    "\\newcommand{\\RR}{\\mathbb{R} }\n",
    "\\newcommand{\\DD}{\\mathbb{D} }\n",
    "\\newcommand{\\HH}{\\mathbb{H} }\n",
    "\\newcommand{\\spn}{\\mathrm{span} }\n",
    "\\newcommand{\\cov}{\\mathrm{cov} }\n",
    "\\newcommand{\\sgn}{\\mathrm{sgn} }\n",
    "\\newcommand{\\HS}{\\mathcal{L}_{\\mathrm{HS}} }\n",
    "%\\newcommand{\\HS}{\\mathrm{HS} }\n",
    "\\newcommand{\\trace}{\\mathrm{trace} }\n",
    "\\newcommand{\\LL}{\\mathcal{L} }\n",
    "%\\newcommand{\\LL}{\\mathrm{L} }\n",
    "\\newcommand{\\s}{\\mathcal{S} }\n",
    "\\newcommand{\\ee}{\\mathcal{E} }\n",
    "\\newcommand{\\ff}{\\mathcal{F} }\n",
    "\\newcommand{\\hh}{\\mathcal{H} }\n",
    "\\newcommand{\\bb}{\\mathcal{B} }\n",
    "\\newcommand{\\dd}{\\mathcal{D} }\n",
    "\\newcommand{\\g}{\\mathcal{G} }\n",
    "\\newcommand{\\p}{\\partial}\n",
    "\\newcommand{\\half}{\\frac{1}{2} }\n",
    "\\newcommand{\\T}{\\mathcal{T} }\n",
    "\\newcommand{\\bi}{\\begin{itemize}}\n",
    "\\newcommand{\\ei}{\\end{itemize}}\n",
    "\\newcommand{\\beq}{\\begin{equation}}\n",
    "\\newcommand{\\eeq}{\\end{equation}}\n",
    "\\newcommand{\\beas}{\\begin{eqnarray*}}\n",
    "\\newcommand{\\eeas}{\\end{eqnarray*}}\n",
    "\\newcommand{\\cO}{\\mathcal{O}}\n",
    "\\newcommand{\\cF}{\\mathcal{F}}\n",
    "\\newcommand{\\cL}{\\mathcal{L}}\n",
    "\\newcommand{\\BS}{\\text{BS}}\n",
    "$$"
   ]
  },
  {
   "cell_type": "markdown",
   "metadata": {},
   "source": [
    "# Biya Wu"
   ]
  },
  {
   "cell_type": "markdown",
   "metadata": {},
   "source": [
    "### 0. (0 points) \n",
    "Read Chapter 5 and 6 of Hasbrouck and Chapters 2 and 3 of Foucault, Pagano and R&ouml;ell. \n"
   ]
  },
  {
   "cell_type": "markdown",
   "metadata": {},
   "source": [
    "## Glosten and Milgrom"
   ]
  },
  {
   "cell_type": "markdown",
   "metadata": {},
   "source": [
    "### 1. (8 points) \n",
    "\n",
    "(Adapted from Hasbrouck 5.2 but please note that the setup in (3) in the slides is different from Hasbrouck's in Figure 5.1 of his book.) Consider a variant of the Glosten and Milgrom model where there is informed trading only in the low state $V=\\underline V$.\n",
    "\n",
    "(a) Show that the learned probability after one step that the true price is $\\bar V$ is given by\n",
    "\n",
    "$$\n",
    "\\delta_1(Buy)=\\Pr(\\bar V|Buy)=\\frac{\\delta}{1-\\mu\\,(1-\\delta)};\\quad \\delta_1(Sell)=\\Pr(\\bar V|Sell)=\\frac{\\delta}{1+\\mu\\,(1-\\delta)}\n",
    "$$\n",
    "\n",
    "and that\n",
    "\n",
    "$$\n",
    "A=\\frac{\\underline V\\,{(1-\\delta)\\,(1-\\mu)}+\\bar V\\,{\\delta}}{{1-\\mu\\,(1-\\delta)}};\\quad B=\\frac{\\underline V\\,{(1-\\delta)\\,(1+\\mu)}+\\bar V\\,{\\delta}}{1+\\mu\\,(1-\\delta)}\n",
    "$$\n"
   ]
  },
  {
   "cell_type": "markdown",
   "metadata": {},
   "source": [
    "#### Answer\n",
    "\n",
    "$\\Pr(Buy) = \\frac 1 2\\delta + \\frac 1 2 (1-\\delta)(1-\\mu) $\n",
    "\n",
    "$ \\Pr(Sell) = \\frac 1 2\\delta + (1-\\delta)(\\mu + \\frac 1 2 (1-\\mu)) $\n",
    "\n",
    "$\\delta_1(Buy)=\\Pr(\\bar V|Buy)= \\frac{\\Pr(\\bar V \\cap Buy)}{\\Pr(Buy)} = \\frac {\\frac 1 2 \\delta}{\\frac 1 2\\delta + \\frac 1 2 (1-\\delta)(1-\\mu)} = \\frac{\\delta}{1-\\mu(1-\\delta)}$\n",
    "\n",
    "$\\delta_1(Sell)=\\Pr(\\bar V|Sell)= \\frac{\\Pr(\\bar V \\cap Sell)}{\\Pr(Sell)}= \\frac{\\frac 1 2 \\delta}{ \\frac 1 2\\delta + (1-\\delta)(\\mu + \\frac 1 2 (1-\\mu)) } =   \\frac{\\delta}{1+\\mu(1-\\delta)}$\n",
    "\n",
    "$A=\\E [V|Buy] ={\\bar V\\,\\Pr(\\bar V|Buy)+\\underline V\\,\\Pr(\\underline V|Buy)} =\\frac{\\bar V\\Pr(\\bar V \\cap Buy)+\\underline V\\Pr(\\underline V \\cap Buy)}{\\Pr(Buy)} = \\frac{\\frac 1 2 \\bar V\\delta + \\frac 1 2 \\underline V{(1-\\delta)(1-\\mu)}}{\\frac 1 2 (1-\\mu(1-\\delta))} = \\frac{\\underline V{(1-\\delta)(1-\\mu)}+\\bar V{\\delta}}{{1-\\mu(1-\\delta)}}$\n",
    "\n",
    "$B=\\E [V|Sell] ={\\bar V\\,\\Pr(\\bar V|Sell)+\\underline V\\,\\Pr(\\underline V|Sell)}=\\frac{\\bar V\\Pr(\\bar V \\cap Sell)+\\underline V\\Pr(\\underline V \\cap Sell)}{\\Pr(Sell)}= \\frac{\\frac 1 2 \\bar V\\delta + \\frac 1 2 \\underline V{(1-\\delta)(1+\\mu)}}{\\frac 1 2 (1+\\mu(1-\\delta))}= \\frac{\\underline V{(1-\\delta)(1+\\mu)}+\\bar V\\delta}{1+\\mu(1-\\delta)}$"
   ]
  },
  {
   "cell_type": "markdown",
   "metadata": {},
   "source": [
    "\n",
    "(b) Deduce an expression for the spread $s=A-B$.\n"
   ]
  },
  {
   "cell_type": "markdown",
   "metadata": {},
   "source": [
    "#### Answer\n",
    "\n",
    "$ s =\\frac{\\underline V{(1-\\delta)(1-\\mu)}+\\bar V{\\delta}}{{1-\\mu(1-\\delta)}} - \\frac{\\underline V{(1-\\delta)(1+\\mu)}+\\bar V\\delta}{1+\\mu(1-\\delta)}= \\frac{2\\mu\\sigma(1-\\sigma)(\\bar V - \\underline V)}{1-\\mu^2(1-\\sigma)^2} $"
   ]
  },
  {
   "cell_type": "markdown",
   "metadata": {},
   "source": [
    "\n",
    "(c) Explain the sensitivities of the spread to the parameters of the model to a non-expert.\n"
   ]
  },
  {
   "cell_type": "markdown",
   "metadata": {},
   "source": [
    "#### Answer\n",
    "\n",
    "- $\\mu$ is positively related to spread, which means the more informed trader, the bigger the spread\n",
    "- The maximum spread is at $\\delta \\approx \\frac 1 2$ when uncertainty on $V$ is maximized. The closer $\\delta$ is to $1$ or $0$, the smaller the spread."
   ]
  },
  {
   "cell_type": "markdown",
   "metadata": {},
   "source": [
    "### Load data and R packages for the next questions"
   ]
  },
  {
   "cell_type": "code",
   "execution_count": 1,
   "metadata": {
    "collapsed": false
   },
   "outputs": [],
   "source": [
    "download.file(url=\"http://mfe.baruch.cuny.edu/wp-content/uploads/2015/02/tq.zip\", destfile=\"tq.zip\")\n",
    "unzip(zipfile=\"tq.zip\")"
   ]
  },
  {
   "cell_type": "code",
   "execution_count": 3,
   "metadata": {
    "collapsed": false
   },
   "outputs": [],
   "source": [
    "load('tq.rData')\n",
    "library(highfrequency)\n",
    "library(xts)"
   ]
  },
  {
   "cell_type": "markdown",
   "metadata": {},
   "source": [
    "## The Lee and Ready tick test"
   ]
  },
  {
   "cell_type": "markdown",
   "metadata": {},
   "source": [
    "### 2. (10 points) \n",
    "\n",
    "In the following use the trades and quotes object *tqBAC* in the loaded data *tq.rData*.  Denote trade prices by $p_t$ and mid-quotes by $m_t$.\n",
    "\n",
    "(a) Compute the time series of trade signs $\\epsilon_t$ according to $\\epsilon_t=+1$ if $p_t>m_t$ and  $\\epsilon_t=-1$ otherwise, using the Lee-Ready rule for trades at mid.  Name this series *tradeSigns*. (Note this was already done in the lecture.)\n",
    "\n",
    "(b) Compute the Lee-Ready trade-sign indicator time series (as if you didn't have quotes and so no mid-prices).\n",
    "\n",
    "(c) Compute the correlation of these two indicators.\n",
    "\n",
    "(d) Assume the rule in part (a) is 100% accurate.  What percentage of trades are correctly signed by the Lee-Ready test?\n",
    "\n",
    "(e) Explain the relationship between your answers in (c) and (d).\n"
   ]
  },
  {
   "cell_type": "code",
   "execution_count": 34,
   "metadata": {
    "collapsed": false
   },
   "outputs": [
    {
     "name": "stdout",
     "output_type": "stream",
     "text": [
      "the correlation is  0.6618357 \n",
      "the correct ratio is  0.8297026 \n",
      "the two number are positively related, which means the higher the correlation, the higher the correct ratio"
     ]
    }
   ],
   "source": [
    "# (a)\n",
    "tradeSigns = getTradeDirection(tqBAC) \n",
    "\n",
    "# (b)\n",
    "price = as.numeric(tqBAC$PRICE)\n",
    "len = length(price)\n",
    "indicator = rep(0,len)\n",
    "indicator[1] = 1\n",
    "\n",
    "for(i in 2:len){\n",
    "    if (price[i] > price[i-1])\n",
    "        indicator[i] = 1\n",
    "    else if (ts_price[i] < price[i-1])\n",
    "        indicator[i] = -1\n",
    "    else\n",
    "        indicator[i] = indicator[i-1]   \n",
    "}\n",
    "\n",
    "# (c)\n",
    "cat(\"the correlation is \", cor(tradeSigns[-1], indicator[-1]),'\\n')\n",
    "        \n",
    "# (d)\n",
    "cat(\"the correct ratio is \" ,length(which(tradeSigns[-1]== indicator[-1]))/(len-1),'\\n')\n",
    "        \n",
    "# (e)\n",
    "cat(\"the two number are positively related, which means the higher the correlation, the higher the correct ratio\")        \n"
   ]
  },
  {
   "cell_type": "markdown",
   "metadata": {},
   "source": [
    "## Realized spread by exchange"
   ]
  },
  {
   "cell_type": "markdown",
   "metadata": {},
   "source": [
    "### 3. (8 points)\n",
    "\n",
    "(a) Reproduce Figure 6 from the lecture slides, making sure to get the aesthetics right.\n",
    "\n",
    "(b) Explain why the realized spread profile varies by exchange.\n",
    "\n",
    "(c) Redo the picture adjusting for the following (assumed) take fees:\n",
    "\n",
    "** Exchange ** | ** Take fee ** \n",
    "--- | --- \n",
    "| (**cents**)\n",
    "D | 0.10 \n",
    "B | -0.04\n",
    "Z | 0.29\n",
    "Y | 0.00\n",
    "P | 0.25\n",
    "\n",
    "(d) Based on your results, where would you advise sending a small market order?  How about a large one?\n"
   ]
  },
  {
   "cell_type": "markdown",
   "metadata": {},
   "source": [
    "## Predicting trade signs"
   ]
  },
  {
   "cell_type": "markdown",
   "metadata": {},
   "source": [
    "### 4. (6 points) \n",
    "\n",
    "The following require the *tradeSigns* series from Problem 2.\n",
    "\n",
    "(a) Denote the probability of a sign reversal by $\\pi$.  Derive an expression in terms of $\\pi$ for the conditional expectation $\\E[\\epsilon_t|\\epsilon_{t-1}]$.\n",
    "\n",
    "(b) Assume zero expectation of the trading signs, fit an AR(1) model to the series *tradeSigns*.  What is the coefficient returned by this model?  Explain how  this coefficient relates to $\\pi$?\n"
   ]
  },
  {
   "cell_type": "markdown",
   "metadata": {},
   "source": [
    "## The MRR model"
   ]
  },
  {
   "cell_type": "markdown",
   "metadata": {},
   "source": [
    "### 5. (6 points)\n",
    "Using the estimate of $\\rho$ (the coefficient obtained from fitting to an AR(1) model) from Problem 4 and equation (11) from the lecture slides:\n",
    "\n",
    "$$\n",
    "\\Delta p_t=(\\phi+\\lambda)\\,\\epsilon_t-(\\phi+\\rho\\,\\lambda)\\,\\epsilon_{t-1}+e_t+\\Delta \\xi_t\n",
    "$$\n",
    "\n",
    "estimate by linear regression the MRR parameters $\\phi$ (transaction cost) and $\\lambda$ (adverse selection or \"Kyle lambda\") from  *tqBAC*.  This amounts to ignoring the autocorrelation of the $\\Delta \\xi_t$.\n",
    "<br>\n",
    "\n",
    "Hint: Use the R function *lm*  to perform the linear regressions."
   ]
  }
 ],
 "metadata": {
  "kernelspec": {
   "display_name": "R",
   "language": "R",
   "name": "ir"
  },
  "language_info": {
   "codemirror_mode": "r",
   "file_extension": ".r",
   "mimetype": "text/x-r-source",
   "name": "R",
   "pygments_lexer": "r",
   "version": "3.2.2"
  }
 },
 "nbformat": 4,
 "nbformat_minor": 0
}
